{
 "cells": [
  {
   "cell_type": "code",
   "execution_count": 1,
   "id": "6283f92b",
   "metadata": {},
   "outputs": [
    {
     "name": "stdout",
     "output_type": "stream",
     "text": [
      "/Users/ashish1610dhiman/data_projects/fall22_hw/RoboChef/notebooks/recommendation\r\n"
     ]
    }
   ],
   "source": [
    "!pwd"
   ]
  },
  {
   "cell_type": "code",
   "execution_count": 9,
   "id": "a6091ce7",
   "metadata": {},
   "outputs": [],
   "source": [
    "import pandas as pd\n",
    "from surprise import Dataset\n",
    "from surprise import Reader\n",
    "\n",
    "from surprise import accuracy, Dataset, SVD\n",
    "from surprise.model_selection import train_test_split as train_test_split_surprise\n",
    "from surprise import Dataset, SVD\n",
    "from surprise.model_selection import cross_validate, GridSearchCV\n",
    "from sklearn.model_selection import train_test_split\n",
    "\n",
    "import numpy as np"
   ]
  },
  {
   "cell_type": "markdown",
   "id": "5ca95b2b",
   "metadata": {},
   "source": [
    "### Read Provided Train Test validation"
   ]
  },
  {
   "cell_type": "code",
   "execution_count": 3,
   "id": "a5cb1521",
   "metadata": {},
   "outputs": [
    {
     "data": {
      "text/plain": [
       "((698901, 6), (12455, 6), (7023, 6))"
      ]
     },
     "execution_count": 3,
     "metadata": {},
     "output_type": "execute_result"
    }
   ],
   "source": [
    "train_set = pd.read_csv(\"../../data/recommendation/interactions_train.csv\")\n",
    "test_set = pd.read_csv(\"../../data/recommendation/interactions_test.csv\")\n",
    "validation_set = pd.read_csv(\"../../data/recommendation/interactions_validation.csv\")\n",
    "train_set.shape, test_set.shape, validation_set.shape"
   ]
  },
  {
   "cell_type": "code",
   "execution_count": 4,
   "id": "067269a6",
   "metadata": {},
   "outputs": [
    {
     "data": {
      "text/plain": [
       "718379"
      ]
     },
     "execution_count": 4,
     "metadata": {},
     "output_type": "execute_result"
    }
   ],
   "source": [
    "698901+12455+7023"
   ]
  },
  {
   "cell_type": "code",
   "execution_count": 6,
   "id": "b67caae9",
   "metadata": {},
   "outputs": [
    {
     "data": {
      "text/plain": [
       "(1132367, 5)"
      ]
     },
     "execution_count": 6,
     "metadata": {},
     "output_type": "execute_result"
    }
   ],
   "source": [
    "raw_interactions = pd.read_csv(\"../../data/recommendation/RAW_interactions.csv\")\n",
    "raw_interactions.shape"
   ]
  },
  {
   "cell_type": "markdown",
   "id": "9c45f880",
   "metadata": {},
   "source": [
    "### Create Train/Test/validation from raw"
   ]
  },
  {
   "cell_type": "code",
   "execution_count": 13,
   "id": "21e4c6f8",
   "metadata": {},
   "outputs": [],
   "source": [
    "TRAIN__Validation_SIZE = 0.8\n",
    "TEST_SIZE = 0.2"
   ]
  },
  {
   "cell_type": "code",
   "execution_count": 42,
   "id": "87b76310",
   "metadata": {},
   "outputs": [
    {
     "data": {
      "text/plain": [
       "((905893, 5), (226474, 5))"
      ]
     },
     "execution_count": 42,
     "metadata": {},
     "output_type": "execute_result"
    }
   ],
   "source": [
    "train_validation, test_set = train_test_split(raw_interactions, test_size=TEST_SIZE)\n",
    "train_validation.shape, test_set.shape"
   ]
  },
  {
   "cell_type": "code",
   "execution_count": 43,
   "id": "beedf5fe",
   "metadata": {},
   "outputs": [
    {
     "data": {
      "text/plain": [
       "1132367"
      ]
     },
     "execution_count": 43,
     "metadata": {},
     "output_type": "execute_result"
    }
   ],
   "source": [
    "905893 + 226474"
   ]
  },
  {
   "cell_type": "markdown",
   "id": "364df5b7",
   "metadata": {},
   "source": [
    "### Train SVD matrix Factorisation"
   ]
  },
  {
   "cell_type": "code",
   "execution_count": 50,
   "id": "0fa451d0",
   "metadata": {},
   "outputs": [],
   "source": [
    "reader = Reader(rating_scale=(1, 5))\n",
    "cv_data = Dataset.load_from_df(train_validation[[\"user_id\", \"recipe_id\", \"rating\"\\\n",
    "                                                                           ]], reader)"
   ]
  },
  {
   "cell_type": "code",
   "execution_count": 58,
   "id": "dcb6694d",
   "metadata": {},
   "outputs": [
    {
     "name": "stdout",
     "output_type": "stream",
     "text": [
      "1.218094140876164\n",
      "{'n_factors': 20, 'n_epochs': 15, 'lr_all': 0.005}\n",
      "{'n_factors': 20, 'n_epochs': 15, 'lr_all': 0.005}\n"
     ]
    }
   ],
   "source": [
    "param_grid = {\"n_factors\":[20, 50] ,\"n_epochs\": [10, 15], \"lr_all\": [0.002, 0.005]}\n",
    "gs = GridSearchCV(SVD, param_grid, measures=[\"rmse\", \"mae\"], cv=5, n_jobs = -2)\n",
    "\n",
    "gs.fit(cv_data)\n",
    "\n",
    "# best RMSE score\n",
    "print(gs.best_score[\"rmse\"])\n",
    "\n",
    "# combination of parameters that gave the best RMSE score\n",
    "print(gs.best_params[\"rmse\"])\n",
    "\n",
    "print(gs.best_params[\"mae\"])"
   ]
  },
  {
   "cell_type": "code",
   "execution_count": 59,
   "id": "e39d2500",
   "metadata": {},
   "outputs": [
    {
     "data": {
      "text/html": [
       "<div>\n",
       "<style scoped>\n",
       "    .dataframe tbody tr th:only-of-type {\n",
       "        vertical-align: middle;\n",
       "    }\n",
       "\n",
       "    .dataframe tbody tr th {\n",
       "        vertical-align: top;\n",
       "    }\n",
       "\n",
       "    .dataframe thead th {\n",
       "        text-align: right;\n",
       "    }\n",
       "</style>\n",
       "<table border=\"1\" class=\"dataframe\">\n",
       "  <thead>\n",
       "    <tr style=\"text-align: right;\">\n",
       "      <th></th>\n",
       "      <th>split0_test_rmse</th>\n",
       "      <th>split1_test_rmse</th>\n",
       "      <th>split2_test_rmse</th>\n",
       "      <th>split3_test_rmse</th>\n",
       "      <th>split4_test_rmse</th>\n",
       "      <th>mean_test_rmse</th>\n",
       "      <th>std_test_rmse</th>\n",
       "      <th>rank_test_rmse</th>\n",
       "      <th>split0_test_mae</th>\n",
       "      <th>split1_test_mae</th>\n",
       "      <th>...</th>\n",
       "      <th>std_test_mae</th>\n",
       "      <th>rank_test_mae</th>\n",
       "      <th>mean_fit_time</th>\n",
       "      <th>std_fit_time</th>\n",
       "      <th>mean_test_time</th>\n",
       "      <th>std_test_time</th>\n",
       "      <th>params</th>\n",
       "      <th>param_n_factors</th>\n",
       "      <th>param_n_epochs</th>\n",
       "      <th>param_lr_all</th>\n",
       "    </tr>\n",
       "  </thead>\n",
       "  <tbody>\n",
       "    <tr>\n",
       "      <th>0</th>\n",
       "      <td>1.228697</td>\n",
       "      <td>1.222297</td>\n",
       "      <td>1.223658</td>\n",
       "      <td>1.224391</td>\n",
       "      <td>1.227176</td>\n",
       "      <td>1.225244</td>\n",
       "      <td>0.002349</td>\n",
       "      <td>7</td>\n",
       "      <td>0.753424</td>\n",
       "      <td>0.750137</td>\n",
       "      <td>...</td>\n",
       "      <td>0.001077</td>\n",
       "      <td>7</td>\n",
       "      <td>3.104795</td>\n",
       "      <td>0.285593</td>\n",
       "      <td>2.142331</td>\n",
       "      <td>0.043642</td>\n",
       "      <td>{'n_factors': 20, 'n_epochs': 10, 'lr_all': 0....</td>\n",
       "      <td>20</td>\n",
       "      <td>10</td>\n",
       "      <td>0.002</td>\n",
       "    </tr>\n",
       "    <tr>\n",
       "      <th>1</th>\n",
       "      <td>1.222545</td>\n",
       "      <td>1.216202</td>\n",
       "      <td>1.217771</td>\n",
       "      <td>1.218116</td>\n",
       "      <td>1.220700</td>\n",
       "      <td>1.219067</td>\n",
       "      <td>0.002261</td>\n",
       "      <td>2</td>\n",
       "      <td>0.745213</td>\n",
       "      <td>0.742198</td>\n",
       "      <td>...</td>\n",
       "      <td>0.001041</td>\n",
       "      <td>3</td>\n",
       "      <td>3.418055</td>\n",
       "      <td>0.057300</td>\n",
       "      <td>2.247503</td>\n",
       "      <td>0.112610</td>\n",
       "      <td>{'n_factors': 20, 'n_epochs': 10, 'lr_all': 0....</td>\n",
       "      <td>20</td>\n",
       "      <td>10</td>\n",
       "      <td>0.005</td>\n",
       "    </tr>\n",
       "    <tr>\n",
       "      <th>2</th>\n",
       "      <td>1.225618</td>\n",
       "      <td>1.219103</td>\n",
       "      <td>1.220609</td>\n",
       "      <td>1.221104</td>\n",
       "      <td>1.223918</td>\n",
       "      <td>1.222070</td>\n",
       "      <td>0.002361</td>\n",
       "      <td>5</td>\n",
       "      <td>0.748299</td>\n",
       "      <td>0.744931</td>\n",
       "      <td>...</td>\n",
       "      <td>0.001136</td>\n",
       "      <td>5</td>\n",
       "      <td>5.038678</td>\n",
       "      <td>0.246600</td>\n",
       "      <td>2.584927</td>\n",
       "      <td>0.124022</td>\n",
       "      <td>{'n_factors': 20, 'n_epochs': 15, 'lr_all': 0....</td>\n",
       "      <td>20</td>\n",
       "      <td>15</td>\n",
       "      <td>0.002</td>\n",
       "    </tr>\n",
       "    <tr>\n",
       "      <th>3</th>\n",
       "      <td>1.221387</td>\n",
       "      <td>1.215518</td>\n",
       "      <td>1.216680</td>\n",
       "      <td>1.217148</td>\n",
       "      <td>1.219737</td>\n",
       "      <td>1.218094</td>\n",
       "      <td>0.002148</td>\n",
       "      <td>1</td>\n",
       "      <td>0.742132</td>\n",
       "      <td>0.739437</td>\n",
       "      <td>...</td>\n",
       "      <td>0.000949</td>\n",
       "      <td>1</td>\n",
       "      <td>5.407024</td>\n",
       "      <td>0.045598</td>\n",
       "      <td>2.592297</td>\n",
       "      <td>0.112011</td>\n",
       "      <td>{'n_factors': 20, 'n_epochs': 15, 'lr_all': 0....</td>\n",
       "      <td>20</td>\n",
       "      <td>15</td>\n",
       "      <td>0.005</td>\n",
       "    </tr>\n",
       "    <tr>\n",
       "      <th>4</th>\n",
       "      <td>1.229484</td>\n",
       "      <td>1.223111</td>\n",
       "      <td>1.224706</td>\n",
       "      <td>1.225294</td>\n",
       "      <td>1.227844</td>\n",
       "      <td>1.226088</td>\n",
       "      <td>0.002281</td>\n",
       "      <td>8</td>\n",
       "      <td>0.753773</td>\n",
       "      <td>0.750606</td>\n",
       "      <td>...</td>\n",
       "      <td>0.001036</td>\n",
       "      <td>8</td>\n",
       "      <td>5.595094</td>\n",
       "      <td>0.050464</td>\n",
       "      <td>2.665056</td>\n",
       "      <td>0.189076</td>\n",
       "      <td>{'n_factors': 50, 'n_epochs': 10, 'lr_all': 0....</td>\n",
       "      <td>50</td>\n",
       "      <td>10</td>\n",
       "      <td>0.002</td>\n",
       "    </tr>\n",
       "    <tr>\n",
       "      <th>5</th>\n",
       "      <td>1.223622</td>\n",
       "      <td>1.217173</td>\n",
       "      <td>1.219072</td>\n",
       "      <td>1.219182</td>\n",
       "      <td>1.221810</td>\n",
       "      <td>1.220172</td>\n",
       "      <td>0.002270</td>\n",
       "      <td>4</td>\n",
       "      <td>0.745916</td>\n",
       "      <td>0.742958</td>\n",
       "      <td>...</td>\n",
       "      <td>0.001079</td>\n",
       "      <td>4</td>\n",
       "      <td>5.840886</td>\n",
       "      <td>0.037470</td>\n",
       "      <td>2.945850</td>\n",
       "      <td>0.388703</td>\n",
       "      <td>{'n_factors': 50, 'n_epochs': 10, 'lr_all': 0....</td>\n",
       "      <td>50</td>\n",
       "      <td>10</td>\n",
       "      <td>0.005</td>\n",
       "    </tr>\n",
       "    <tr>\n",
       "      <th>6</th>\n",
       "      <td>1.226369</td>\n",
       "      <td>1.220202</td>\n",
       "      <td>1.221285</td>\n",
       "      <td>1.221693</td>\n",
       "      <td>1.224812</td>\n",
       "      <td>1.222872</td>\n",
       "      <td>0.002325</td>\n",
       "      <td>6</td>\n",
       "      <td>0.748669</td>\n",
       "      <td>0.745687</td>\n",
       "      <td>...</td>\n",
       "      <td>0.001095</td>\n",
       "      <td>6</td>\n",
       "      <td>9.108575</td>\n",
       "      <td>0.297556</td>\n",
       "      <td>2.598949</td>\n",
       "      <td>0.253296</td>\n",
       "      <td>{'n_factors': 50, 'n_epochs': 15, 'lr_all': 0....</td>\n",
       "      <td>50</td>\n",
       "      <td>15</td>\n",
       "      <td>0.002</td>\n",
       "    </tr>\n",
       "    <tr>\n",
       "      <th>7</th>\n",
       "      <td>1.222967</td>\n",
       "      <td>1.216686</td>\n",
       "      <td>1.218197</td>\n",
       "      <td>1.218461</td>\n",
       "      <td>1.220920</td>\n",
       "      <td>1.219446</td>\n",
       "      <td>0.002223</td>\n",
       "      <td>3</td>\n",
       "      <td>0.743177</td>\n",
       "      <td>0.740046</td>\n",
       "      <td>...</td>\n",
       "      <td>0.001130</td>\n",
       "      <td>2</td>\n",
       "      <td>7.053559</td>\n",
       "      <td>0.782029</td>\n",
       "      <td>1.927421</td>\n",
       "      <td>0.273523</td>\n",
       "      <td>{'n_factors': 50, 'n_epochs': 15, 'lr_all': 0....</td>\n",
       "      <td>50</td>\n",
       "      <td>15</td>\n",
       "      <td>0.005</td>\n",
       "    </tr>\n",
       "  </tbody>\n",
       "</table>\n",
       "<p>8 rows × 24 columns</p>\n",
       "</div>"
      ],
      "text/plain": [
       "   split0_test_rmse  split1_test_rmse  split2_test_rmse  split3_test_rmse  \\\n",
       "0          1.228697          1.222297          1.223658          1.224391   \n",
       "1          1.222545          1.216202          1.217771          1.218116   \n",
       "2          1.225618          1.219103          1.220609          1.221104   \n",
       "3          1.221387          1.215518          1.216680          1.217148   \n",
       "4          1.229484          1.223111          1.224706          1.225294   \n",
       "5          1.223622          1.217173          1.219072          1.219182   \n",
       "6          1.226369          1.220202          1.221285          1.221693   \n",
       "7          1.222967          1.216686          1.218197          1.218461   \n",
       "\n",
       "   split4_test_rmse  mean_test_rmse  std_test_rmse  rank_test_rmse  \\\n",
       "0          1.227176        1.225244       0.002349               7   \n",
       "1          1.220700        1.219067       0.002261               2   \n",
       "2          1.223918        1.222070       0.002361               5   \n",
       "3          1.219737        1.218094       0.002148               1   \n",
       "4          1.227844        1.226088       0.002281               8   \n",
       "5          1.221810        1.220172       0.002270               4   \n",
       "6          1.224812        1.222872       0.002325               6   \n",
       "7          1.220920        1.219446       0.002223               3   \n",
       "\n",
       "   split0_test_mae  split1_test_mae  ...  std_test_mae  rank_test_mae  \\\n",
       "0         0.753424         0.750137  ...      0.001077              7   \n",
       "1         0.745213         0.742198  ...      0.001041              3   \n",
       "2         0.748299         0.744931  ...      0.001136              5   \n",
       "3         0.742132         0.739437  ...      0.000949              1   \n",
       "4         0.753773         0.750606  ...      0.001036              8   \n",
       "5         0.745916         0.742958  ...      0.001079              4   \n",
       "6         0.748669         0.745687  ...      0.001095              6   \n",
       "7         0.743177         0.740046  ...      0.001130              2   \n",
       "\n",
       "   mean_fit_time  std_fit_time  mean_test_time  std_test_time  \\\n",
       "0       3.104795      0.285593        2.142331       0.043642   \n",
       "1       3.418055      0.057300        2.247503       0.112610   \n",
       "2       5.038678      0.246600        2.584927       0.124022   \n",
       "3       5.407024      0.045598        2.592297       0.112011   \n",
       "4       5.595094      0.050464        2.665056       0.189076   \n",
       "5       5.840886      0.037470        2.945850       0.388703   \n",
       "6       9.108575      0.297556        2.598949       0.253296   \n",
       "7       7.053559      0.782029        1.927421       0.273523   \n",
       "\n",
       "                                              params  param_n_factors  \\\n",
       "0  {'n_factors': 20, 'n_epochs': 10, 'lr_all': 0....               20   \n",
       "1  {'n_factors': 20, 'n_epochs': 10, 'lr_all': 0....               20   \n",
       "2  {'n_factors': 20, 'n_epochs': 15, 'lr_all': 0....               20   \n",
       "3  {'n_factors': 20, 'n_epochs': 15, 'lr_all': 0....               20   \n",
       "4  {'n_factors': 50, 'n_epochs': 10, 'lr_all': 0....               50   \n",
       "5  {'n_factors': 50, 'n_epochs': 10, 'lr_all': 0....               50   \n",
       "6  {'n_factors': 50, 'n_epochs': 15, 'lr_all': 0....               50   \n",
       "7  {'n_factors': 50, 'n_epochs': 15, 'lr_all': 0....               50   \n",
       "\n",
       "   param_n_epochs  param_lr_all  \n",
       "0              10         0.002  \n",
       "1              10         0.005  \n",
       "2              15         0.002  \n",
       "3              15         0.005  \n",
       "4              10         0.002  \n",
       "5              10         0.005  \n",
       "6              15         0.002  \n",
       "7              15         0.005  \n",
       "\n",
       "[8 rows x 24 columns]"
      ]
     },
     "execution_count": 59,
     "metadata": {},
     "output_type": "execute_result"
    }
   ],
   "source": [
    "cv_results_df = pd.DataFrame.from_dict(gs.cv_results)\n",
    "cv_results_df"
   ]
  },
  {
   "cell_type": "markdown",
   "id": "42df904d",
   "metadata": {},
   "source": [
    "### Test RMSE"
   ]
  },
  {
   "cell_type": "code",
   "execution_count": 60,
   "id": "8354e4a3",
   "metadata": {},
   "outputs": [
    {
     "data": {
      "text/plain": [
       "<surprise.prediction_algorithms.matrix_factorization.SVD at 0x1c7f21d00>"
      ]
     },
     "execution_count": 60,
     "metadata": {},
     "output_type": "execute_result"
    }
   ],
   "source": [
    "#Build model on full cv set\n",
    "algo = gs.best_estimator[\"rmse\"]\n",
    "algo.fit(cv_data.build_full_trainset())"
   ]
  },
  {
   "cell_type": "code",
   "execution_count": 67,
   "id": "7339cea7",
   "metadata": {},
   "outputs": [],
   "source": [
    "test_set_surprise = Dataset.load_from_df(test_set[[\"user_id\", \"recipe_id\", \"rating\"]], reader)\n",
    "_, test_set_surprise = train_test_split_surprise(test_set_surprise, test_size=1.0)"
   ]
  },
  {
   "cell_type": "code",
   "execution_count": 68,
   "id": "77f1e791",
   "metadata": {},
   "outputs": [
    {
     "data": {
      "text/plain": [
       "226474"
      ]
     },
     "execution_count": 68,
     "metadata": {},
     "output_type": "execute_result"
    }
   ],
   "source": [
    "len(test_set_surprise)"
   ]
  },
  {
   "cell_type": "code",
   "execution_count": 111,
   "id": "0fb350e6",
   "metadata": {},
   "outputs": [
    {
     "data": {
      "text/plain": [
       "[(1165172, 288612, 5.0),\n",
       " (1208812, 321647, 5.0),\n",
       " (72428, 56564, 5.0),\n",
       " (279833, 88413, 5.0),\n",
       " (56251, 142909, 5.0)]"
      ]
     },
     "execution_count": 111,
     "metadata": {},
     "output_type": "execute_result"
    }
   ],
   "source": [
    "test_set_surprise[:5]"
   ]
  },
  {
   "cell_type": "code",
   "execution_count": 69,
   "id": "5be1728f",
   "metadata": {},
   "outputs": [
    {
     "name": "stdout",
     "output_type": "stream",
     "text": [
      "RMSE: 1.2117\n"
     ]
    },
    {
     "data": {
      "text/plain": [
       "1.2117454568213044"
      ]
     },
     "execution_count": 69,
     "metadata": {},
     "output_type": "execute_result"
    }
   ],
   "source": [
    "predictions = algo.test(test_set_surprise)\n",
    "accuracy.rmse(predictions, verbose=True)"
   ]
  },
  {
   "cell_type": "markdown",
   "id": "e07bba90",
   "metadata": {},
   "source": [
    "### Analyse the latent features"
   ]
  },
  {
   "cell_type": "code",
   "execution_count": 83,
   "id": "2714bf3f",
   "metadata": {},
   "outputs": [
    {
     "data": {
      "text/plain": [
       "(192203, 211175)"
      ]
     },
     "execution_count": 83,
     "metadata": {},
     "output_type": "execute_result"
    }
   ],
   "source": [
    "algo.trainset.n_users, algo.trainset.n_items"
   ]
  },
  {
   "cell_type": "code",
   "execution_count": 79,
   "id": "ba1ec99f",
   "metadata": {},
   "outputs": [
    {
     "data": {
      "text/plain": [
       "(192203, 20)"
      ]
     },
     "execution_count": 79,
     "metadata": {},
     "output_type": "execute_result"
    }
   ],
   "source": [
    "user_matrix = algo.pu\n",
    "user_matrix.shape"
   ]
  },
  {
   "cell_type": "code",
   "execution_count": 80,
   "id": "7874618b",
   "metadata": {},
   "outputs": [
    {
     "data": {
      "text/plain": [
       "(211175, 20)"
      ]
     },
     "execution_count": 80,
     "metadata": {},
     "output_type": "execute_result"
    }
   ],
   "source": [
    "movie_matrix = algo.qi\n",
    "movie_matrix.shape"
   ]
  },
  {
   "cell_type": "code",
   "execution_count": 85,
   "id": "ad3bfe6d",
   "metadata": {},
   "outputs": [
    {
     "data": {
      "text/plain": [
       "array([[ 0.09524442, -0.1510456 ,  0.14623887, ...,  0.11218057,\n",
       "        -0.29064038, -0.22301917],\n",
       "       [ 0.11689985,  0.10760133,  0.01638914, ...,  0.14484605,\n",
       "         0.01570842, -0.12526542],\n",
       "       [ 0.1346034 , -0.02673584, -0.12403986, ...,  0.07421647,\n",
       "         0.10532164, -0.05564857],\n",
       "       ...,\n",
       "       [-0.02843258, -0.08129328,  0.0061126 , ..., -0.05580581,\n",
       "        -0.05151654, -0.07984464],\n",
       "       [-0.01450603, -0.07436843,  0.11941567, ...,  0.01273909,\n",
       "         0.09906085,  0.04247613],\n",
       "       [ 0.16088051,  0.31459155,  0.11845598, ..., -0.06658918,\n",
       "         0.00126287, -0.09816173]])"
      ]
     },
     "execution_count": 85,
     "metadata": {},
     "output_type": "execute_result"
    }
   ],
   "source": [
    "movie_matrix"
   ]
  },
  {
   "cell_type": "code",
   "execution_count": 112,
   "id": "22ae4c44",
   "metadata": {},
   "outputs": [
    {
     "data": {
      "text/plain": [
       "<surprise.dataset.DatasetAutoFolds at 0x10ed1b940>"
      ]
     },
     "execution_count": 112,
     "metadata": {},
     "output_type": "execute_result"
    }
   ],
   "source": [
    "cv_data"
   ]
  },
  {
   "cell_type": "code",
   "execution_count": 126,
   "id": "4c4d2a47",
   "metadata": {},
   "outputs": [],
   "source": [
    "movie_mat_df = pd.DataFrame(movie_matrix)\n",
    "movie_mat_df.columns = [f\"latent_{i+1}\" for i in range(len(movie_mat_df.columns))]\n",
    "movie_mat_df[\"recipe_id\"] = cv_data.df.recipe_id"
   ]
  },
  {
   "cell_type": "code",
   "execution_count": 127,
   "id": "8256d5de",
   "metadata": {},
   "outputs": [
    {
     "data": {
      "text/plain": [
       "(231637, 12)"
      ]
     },
     "execution_count": 127,
     "metadata": {},
     "output_type": "execute_result"
    }
   ],
   "source": [
    "recipe_metadata = pd.read_csv(\"../../data/recommendation/RAW_recipes.csv\")\n",
    "recipe_metadata.shape"
   ]
  },
  {
   "cell_type": "code",
   "execution_count": 128,
   "id": "18ef2a68",
   "metadata": {},
   "outputs": [
    {
     "data": {
      "text/html": [
       "<div>\n",
       "<style scoped>\n",
       "    .dataframe tbody tr th:only-of-type {\n",
       "        vertical-align: middle;\n",
       "    }\n",
       "\n",
       "    .dataframe tbody tr th {\n",
       "        vertical-align: top;\n",
       "    }\n",
       "\n",
       "    .dataframe thead th {\n",
       "        text-align: right;\n",
       "    }\n",
       "</style>\n",
       "<table border=\"1\" class=\"dataframe\">\n",
       "  <thead>\n",
       "    <tr style=\"text-align: right;\">\n",
       "      <th></th>\n",
       "      <th>name</th>\n",
       "      <th>id</th>\n",
       "      <th>minutes</th>\n",
       "      <th>contributor_id</th>\n",
       "      <th>submitted</th>\n",
       "      <th>tags</th>\n",
       "      <th>nutrition</th>\n",
       "      <th>n_steps</th>\n",
       "      <th>steps</th>\n",
       "      <th>description</th>\n",
       "      <th>ingredients</th>\n",
       "      <th>n_ingredients</th>\n",
       "    </tr>\n",
       "  </thead>\n",
       "  <tbody>\n",
       "    <tr>\n",
       "      <th>0</th>\n",
       "      <td>arriba   baked winter squash mexican style</td>\n",
       "      <td>137739</td>\n",
       "      <td>55</td>\n",
       "      <td>47892</td>\n",
       "      <td>2005-09-16</td>\n",
       "      <td>['60-minutes-or-less', 'time-to-make', 'course...</td>\n",
       "      <td>[51.5, 0.0, 13.0, 0.0, 2.0, 0.0, 4.0]</td>\n",
       "      <td>11</td>\n",
       "      <td>['make a choice and proceed with recipe', 'dep...</td>\n",
       "      <td>autumn is my favorite time of year to cook! th...</td>\n",
       "      <td>['winter squash', 'mexican seasoning', 'mixed ...</td>\n",
       "      <td>7</td>\n",
       "    </tr>\n",
       "    <tr>\n",
       "      <th>1</th>\n",
       "      <td>a bit different  breakfast pizza</td>\n",
       "      <td>31490</td>\n",
       "      <td>30</td>\n",
       "      <td>26278</td>\n",
       "      <td>2002-06-17</td>\n",
       "      <td>['30-minutes-or-less', 'time-to-make', 'course...</td>\n",
       "      <td>[173.4, 18.0, 0.0, 17.0, 22.0, 35.0, 1.0]</td>\n",
       "      <td>9</td>\n",
       "      <td>['preheat oven to 425 degrees f', 'press dough...</td>\n",
       "      <td>this recipe calls for the crust to be prebaked...</td>\n",
       "      <td>['prepared pizza crust', 'sausage patty', 'egg...</td>\n",
       "      <td>6</td>\n",
       "    </tr>\n",
       "    <tr>\n",
       "      <th>2</th>\n",
       "      <td>all in the kitchen  chili</td>\n",
       "      <td>112140</td>\n",
       "      <td>130</td>\n",
       "      <td>196586</td>\n",
       "      <td>2005-02-25</td>\n",
       "      <td>['time-to-make', 'course', 'preparation', 'mai...</td>\n",
       "      <td>[269.8, 22.0, 32.0, 48.0, 39.0, 27.0, 5.0]</td>\n",
       "      <td>6</td>\n",
       "      <td>['brown ground beef in large pot', 'add choppe...</td>\n",
       "      <td>this modified version of 'mom's' chili was a h...</td>\n",
       "      <td>['ground beef', 'yellow onions', 'diced tomato...</td>\n",
       "      <td>13</td>\n",
       "    </tr>\n",
       "    <tr>\n",
       "      <th>3</th>\n",
       "      <td>alouette  potatoes</td>\n",
       "      <td>59389</td>\n",
       "      <td>45</td>\n",
       "      <td>68585</td>\n",
       "      <td>2003-04-14</td>\n",
       "      <td>['60-minutes-or-less', 'time-to-make', 'course...</td>\n",
       "      <td>[368.1, 17.0, 10.0, 2.0, 14.0, 8.0, 20.0]</td>\n",
       "      <td>11</td>\n",
       "      <td>['place potatoes in a large pot of lightly sal...</td>\n",
       "      <td>this is a super easy, great tasting, make ahea...</td>\n",
       "      <td>['spreadable cheese with garlic and herbs', 'n...</td>\n",
       "      <td>11</td>\n",
       "    </tr>\n",
       "    <tr>\n",
       "      <th>4</th>\n",
       "      <td>amish  tomato ketchup  for canning</td>\n",
       "      <td>44061</td>\n",
       "      <td>190</td>\n",
       "      <td>41706</td>\n",
       "      <td>2002-10-25</td>\n",
       "      <td>['weeknight', 'time-to-make', 'course', 'main-...</td>\n",
       "      <td>[352.9, 1.0, 337.0, 23.0, 3.0, 0.0, 28.0]</td>\n",
       "      <td>5</td>\n",
       "      <td>['mix all ingredients&amp; boil for 2 1 / 2 hours ...</td>\n",
       "      <td>my dh's amish mother raised him on this recipe...</td>\n",
       "      <td>['tomato juice', 'apple cider vinegar', 'sugar...</td>\n",
       "      <td>8</td>\n",
       "    </tr>\n",
       "  </tbody>\n",
       "</table>\n",
       "</div>"
      ],
      "text/plain": [
       "                                         name      id  minutes  \\\n",
       "0  arriba   baked winter squash mexican style  137739       55   \n",
       "1            a bit different  breakfast pizza   31490       30   \n",
       "2                   all in the kitchen  chili  112140      130   \n",
       "3                          alouette  potatoes   59389       45   \n",
       "4          amish  tomato ketchup  for canning   44061      190   \n",
       "\n",
       "   contributor_id   submitted  \\\n",
       "0           47892  2005-09-16   \n",
       "1           26278  2002-06-17   \n",
       "2          196586  2005-02-25   \n",
       "3           68585  2003-04-14   \n",
       "4           41706  2002-10-25   \n",
       "\n",
       "                                                tags  \\\n",
       "0  ['60-minutes-or-less', 'time-to-make', 'course...   \n",
       "1  ['30-minutes-or-less', 'time-to-make', 'course...   \n",
       "2  ['time-to-make', 'course', 'preparation', 'mai...   \n",
       "3  ['60-minutes-or-less', 'time-to-make', 'course...   \n",
       "4  ['weeknight', 'time-to-make', 'course', 'main-...   \n",
       "\n",
       "                                    nutrition  n_steps  \\\n",
       "0       [51.5, 0.0, 13.0, 0.0, 2.0, 0.0, 4.0]       11   \n",
       "1   [173.4, 18.0, 0.0, 17.0, 22.0, 35.0, 1.0]        9   \n",
       "2  [269.8, 22.0, 32.0, 48.0, 39.0, 27.0, 5.0]        6   \n",
       "3   [368.1, 17.0, 10.0, 2.0, 14.0, 8.0, 20.0]       11   \n",
       "4   [352.9, 1.0, 337.0, 23.0, 3.0, 0.0, 28.0]        5   \n",
       "\n",
       "                                               steps  \\\n",
       "0  ['make a choice and proceed with recipe', 'dep...   \n",
       "1  ['preheat oven to 425 degrees f', 'press dough...   \n",
       "2  ['brown ground beef in large pot', 'add choppe...   \n",
       "3  ['place potatoes in a large pot of lightly sal...   \n",
       "4  ['mix all ingredients& boil for 2 1 / 2 hours ...   \n",
       "\n",
       "                                         description  \\\n",
       "0  autumn is my favorite time of year to cook! th...   \n",
       "1  this recipe calls for the crust to be prebaked...   \n",
       "2  this modified version of 'mom's' chili was a h...   \n",
       "3  this is a super easy, great tasting, make ahea...   \n",
       "4  my dh's amish mother raised him on this recipe...   \n",
       "\n",
       "                                         ingredients  n_ingredients  \n",
       "0  ['winter squash', 'mexican seasoning', 'mixed ...              7  \n",
       "1  ['prepared pizza crust', 'sausage patty', 'egg...              6  \n",
       "2  ['ground beef', 'yellow onions', 'diced tomato...             13  \n",
       "3  ['spreadable cheese with garlic and herbs', 'n...             11  \n",
       "4  ['tomato juice', 'apple cider vinegar', 'sugar...              8  "
      ]
     },
     "execution_count": 128,
     "metadata": {},
     "output_type": "execute_result"
    }
   ],
   "source": [
    "recipe_metadata.head()"
   ]
  },
  {
   "cell_type": "code",
   "execution_count": 129,
   "id": "b51d7b3e",
   "metadata": {},
   "outputs": [
    {
     "data": {
      "text/plain": [
       "(168969, 33)"
      ]
     },
     "execution_count": 129,
     "metadata": {},
     "output_type": "execute_result"
    }
   ],
   "source": [
    "movie_mat_join_recipe_meta = recipe_metadata.merge(movie_mat_df,left_on = \"id\",\\\n",
    "                                                 right_on = \"recipe_id\")\n",
    "movie_mat_join_recipe_meta.shape"
   ]
  },
  {
   "cell_type": "code",
   "execution_count": 132,
   "id": "e285348b",
   "metadata": {},
   "outputs": [
    {
     "data": {
      "text/plain": [
       "['latent_1',\n",
       " 'latent_2',\n",
       " 'latent_3',\n",
       " 'latent_4',\n",
       " 'latent_5',\n",
       " 'latent_6',\n",
       " 'latent_7',\n",
       " 'latent_8',\n",
       " 'latent_9',\n",
       " 'latent_10',\n",
       " 'latent_11',\n",
       " 'latent_12',\n",
       " 'latent_13',\n",
       " 'latent_14',\n",
       " 'latent_15',\n",
       " 'latent_16',\n",
       " 'latent_17',\n",
       " 'latent_18',\n",
       " 'latent_19',\n",
       " 'latent_20']"
      ]
     },
     "execution_count": 132,
     "metadata": {},
     "output_type": "execute_result"
    }
   ],
   "source": [
    "latent_cols = [x for x in movie_mat_join_recipe_meta.columns if \"latent\" in x]\n",
    "latent_cols"
   ]
  },
  {
   "cell_type": "code",
   "execution_count": 139,
   "id": "97975d70",
   "metadata": {},
   "outputs": [
    {
     "data": {
      "image/png": "[encoded data removed]",
      "text/plain": [
       "<Figure size 480x480 with 1 Axes>"
      ]
     },
     "metadata": {},
     "output_type": "display_data"
    }
   ],
   "source": [
    "import matplotlib.pyplot as plt\n",
    "\n",
    "plt.matshow(movie_mat_join_recipe_meta[latent_cols].corr())\n",
    "plt.show()"
   ]
  },
  {
   "cell_type": "code",
   "execution_count": 153,
   "id": "af402912",
   "metadata": {},
   "outputs": [],
   "source": [
    "def _my_corr(x):\n",
    "    df_corr = movie_mat_join_recipe_meta[[x,\"minutes\",\"n_ingredients\",\"n_steps\"]].corr()\n",
    "    df_corr = df_corr.drop(columns = [x]).iloc[:1]\n",
    "    return (df_corr)"
   ]
  },
  {
   "cell_type": "code",
   "execution_count": 159,
   "id": "496cfc1a",
   "metadata": {},
   "outputs": [
    {
     "data": {
      "text/html": [
       "<div>\n",
       "<style scoped>\n",
       "    .dataframe tbody tr th:only-of-type {\n",
       "        vertical-align: middle;\n",
       "    }\n",
       "\n",
       "    .dataframe tbody tr th {\n",
       "        vertical-align: top;\n",
       "    }\n",
       "\n",
       "    .dataframe thead th {\n",
       "        text-align: right;\n",
       "    }\n",
       "</style>\n",
       "<table border=\"1\" class=\"dataframe\">\n",
       "  <thead>\n",
       "    <tr style=\"text-align: right;\">\n",
       "      <th></th>\n",
       "      <th>minutes</th>\n",
       "      <th>n_ingredients</th>\n",
       "      <th>n_steps</th>\n",
       "    </tr>\n",
       "  </thead>\n",
       "  <tbody>\n",
       "    <tr>\n",
       "      <th>latent_20</th>\n",
       "      <td>-0.000754</td>\n",
       "      <td>-0.001033</td>\n",
       "      <td>0.00078</td>\n",
       "    </tr>\n",
       "  </tbody>\n",
       "</table>\n",
       "</div>"
      ],
      "text/plain": [
       "            minutes  n_ingredients  n_steps\n",
       "latent_20 -0.000754      -0.001033  0.00078"
      ]
     },
     "execution_count": 159,
     "metadata": {},
     "output_type": "execute_result"
    }
   ],
   "source": [
    "_my_corr(latent_i)"
   ]
  },
  {
   "cell_type": "code",
   "execution_count": 161,
   "id": "578a10ce",
   "metadata": {},
   "outputs": [],
   "source": [
    "corr_result = pd.DataFrame()\n",
    "for latent_i in latent_cols:\n",
    "    corr_result = pd.concat([corr_result,_my_corr(latent_i)],axis=0)"
   ]
  },
  {
   "cell_type": "code",
   "execution_count": 164,
   "id": "64368027",
   "metadata": {},
   "outputs": [
    {
     "data": {
      "image/png": "[encoded data removed]",
      "text/plain": [
       "<Figure size 1600x240 with 2 Axes>"
      ]
     },
     "metadata": {},
     "output_type": "display_data"
    }
   ],
   "source": [
    "plt.matshow(corr_result.T)\n",
    "cb = plt.colorbar()\n",
    "plt.show()"
   ]
  },
  {
   "cell_type": "code",
   "execution_count": 165,
   "id": "3eab2315",
   "metadata": {},
   "outputs": [
    {
     "name": "stderr",
     "output_type": "stream",
     "text": [
      "/Users/ashish1610dhiman/opt/anaconda3/envs/ml_project_env/lib/python3.9/site-packages/sklearn/manifold/_t_sne.py:780: FutureWarning: The default initialization in TSNE will change from 'random' to 'pca' in 1.2.\n",
      "  warnings.warn(\n",
      "/Users/ashish1610dhiman/opt/anaconda3/envs/ml_project_env/lib/python3.9/site-packages/sklearn/manifold/_t_sne.py:790: FutureWarning: The default learning rate in TSNE will change from 200.0 to 'auto' in 1.2.\n",
      "  warnings.warn(\n"
     ]
    },
    {
     "name": "stdout",
     "output_type": "stream",
     "text": [
      "[t-SNE] Computing 91 nearest neighbors...\n",
      "[t-SNE] Indexed 211175 samples in 0.003s...\n",
      "[t-SNE] Computed neighbors for 211175 samples in 915.317s...\n",
      "[t-SNE] Computed conditional probabilities for sample 1000 / 211175\n",
      "[t-SNE] Computed conditional probabilities for sample 2000 / 211175\n",
      "[t-SNE] Computed conditional probabilities for sample 3000 / 211175\n",
      "[t-SNE] Computed conditional probabilities for sample 4000 / 211175\n",
      "[t-SNE] Computed conditional probabilities for sample 5000 / 211175\n",
      "[t-SNE] Computed conditional probabilities for sample 6000 / 211175\n",
      "[t-SNE] Computed conditional probabilities for sample 7000 / 211175\n",
      "[t-SNE] Computed conditional probabilities for sample 8000 / 211175\n",
      "[t-SNE] Computed conditional probabilities for sample 9000 / 211175\n",
      "[t-SNE] Computed conditional probabilities for sample 10000 / 211175\n",
      "[t-SNE] Computed conditional probabilities for sample 11000 / 211175\n",
      "[t-SNE] Computed conditional probabilities for sample 12000 / 211175\n",
      "[t-SNE] Computed conditional probabilities for sample 13000 / 211175\n",
      "[t-SNE] Computed conditional probabilities for sample 14000 / 211175\n",
      "[t-SNE] Computed conditional probabilities for sample 15000 / 211175\n",
      "[t-SNE] Computed conditional probabilities for sample 16000 / 211175\n",
      "[t-SNE] Computed conditional probabilities for sample 17000 / 211175\n",
      "[t-SNE] Computed conditional probabilities for sample 18000 / 211175\n",
      "[t-SNE] Computed conditional probabilities for sample 19000 / 211175\n",
      "[t-SNE] Computed conditional probabilities for sample 20000 / 211175\n",
      "[t-SNE] Computed conditional probabilities for sample 21000 / 211175\n",
      "[t-SNE] Computed conditional probabilities for sample 22000 / 211175\n",
      "[t-SNE] Computed conditional probabilities for sample 23000 / 211175\n",
      "[t-SNE] Computed conditional probabilities for sample 24000 / 211175\n",
      "[t-SNE] Computed conditional probabilities for sample 25000 / 211175\n",
      "[t-SNE] Computed conditional probabilities for sample 26000 / 211175\n",
      "[t-SNE] Computed conditional probabilities for sample 27000 / 211175\n",
      "[t-SNE] Computed conditional probabilities for sample 28000 / 211175\n",
      "[t-SNE] Computed conditional probabilities for sample 29000 / 211175\n",
      "[t-SNE] Computed conditional probabilities for sample 30000 / 211175\n",
      "[t-SNE] Computed conditional probabilities for sample 31000 / 211175\n",
      "[t-SNE] Computed conditional probabilities for sample 32000 / 211175\n",
      "[t-SNE] Computed conditional probabilities for sample 33000 / 211175\n",
      "[t-SNE] Computed conditional probabilities for sample 34000 / 211175\n",
      "[t-SNE] Computed conditional probabilities for sample 35000 / 211175\n",
      "[t-SNE] Computed conditional probabilities for sample 36000 / 211175\n",
      "[t-SNE] Computed conditional probabilities for sample 37000 / 211175\n",
      "[t-SNE] Computed conditional probabilities for sample 38000 / 211175\n",
      "[t-SNE] Computed conditional probabilities for sample 39000 / 211175\n",
      "[t-SNE] Computed conditional probabilities for sample 40000 / 211175\n",
      "[t-SNE] Computed conditional probabilities for sample 41000 / 211175\n",
      "[t-SNE] Computed conditional probabilities for sample 42000 / 211175\n",
      "[t-SNE] Computed conditional probabilities for sample 43000 / 211175\n",
      "[t-SNE] Computed conditional probabilities for sample 44000 / 211175\n",
      "[t-SNE] Computed conditional probabilities for sample 45000 / 211175\n",
      "[t-SNE] Computed conditional probabilities for sample 46000 / 211175\n",
      "[t-SNE] Computed conditional probabilities for sample 47000 / 211175\n",
      "[t-SNE] Computed conditional probabilities for sample 48000 / 211175\n",
      "[t-SNE] Computed conditional probabilities for sample 49000 / 211175\n",
      "[t-SNE] Computed conditional probabilities for sample 50000 / 211175\n",
      "[t-SNE] Computed conditional probabilities for sample 51000 / 211175\n",
      "[t-SNE] Computed conditional probabilities for sample 52000 / 211175\n",
      "[t-SNE] Computed conditional probabilities for sample 53000 / 211175\n",
      "[t-SNE] Computed conditional probabilities for sample 54000 / 211175\n",
      "[t-SNE] Computed conditional probabilities for sample 55000 / 211175\n",
      "[t-SNE] Computed conditional probabilities for sample 56000 / 211175\n",
      "[t-SNE] Computed conditional probabilities for sample 57000 / 211175\n",
      "[t-SNE] Computed conditional probabilities for sample 58000 / 211175\n",
      "[t-SNE] Computed conditional probabilities for sample 59000 / 211175\n",
      "[t-SNE] Computed conditional probabilities for sample 60000 / 211175\n",
      "[t-SNE] Computed conditional probabilities for sample 61000 / 211175\n",
      "[t-SNE] Computed conditional probabilities for sample 62000 / 211175\n",
      "[t-SNE] Computed conditional probabilities for sample 63000 / 211175\n",
      "[t-SNE] Computed conditional probabilities for sample 64000 / 211175\n",
      "[t-SNE] Computed conditional probabilities for sample 65000 / 211175\n",
      "[t-SNE] Computed conditional probabilities for sample 66000 / 211175\n",
      "[t-SNE] Computed conditional probabilities for sample 67000 / 211175\n",
      "[t-SNE] Computed conditional probabilities for sample 68000 / 211175\n",
      "[t-SNE] Computed conditional probabilities for sample 69000 / 211175\n",
      "[t-SNE] Computed conditional probabilities for sample 70000 / 211175\n",
      "[t-SNE] Computed conditional probabilities for sample 71000 / 211175\n",
      "[t-SNE] Computed conditional probabilities for sample 72000 / 211175\n",
      "[t-SNE] Computed conditional probabilities for sample 73000 / 211175\n",
      "[t-SNE] Computed conditional probabilities for sample 74000 / 211175\n",
      "[t-SNE] Computed conditional probabilities for sample 75000 / 211175\n",
      "[t-SNE] Computed conditional probabilities for sample 76000 / 211175\n",
      "[t-SNE] Computed conditional probabilities for sample 77000 / 211175\n",
      "[t-SNE] Computed conditional probabilities for sample 78000 / 211175\n",
      "[t-SNE] Computed conditional probabilities for sample 79000 / 211175\n",
      "[t-SNE] Computed conditional probabilities for sample 80000 / 211175\n",
      "[t-SNE] Computed conditional probabilities for sample 81000 / 211175\n",
      "[t-SNE] Computed conditional probabilities for sample 82000 / 211175\n",
      "[t-SNE] Computed conditional probabilities for sample 83000 / 211175\n",
      "[t-SNE] Computed conditional probabilities for sample 84000 / 211175\n",
      "[t-SNE] Computed conditional probabilities for sample 85000 / 211175\n",
      "[t-SNE] Computed conditional probabilities for sample 86000 / 211175\n",
      "[t-SNE] Computed conditional probabilities for sample 87000 / 211175\n",
      "[t-SNE] Computed conditional probabilities for sample 88000 / 211175\n",
      "[t-SNE] Computed conditional probabilities for sample 89000 / 211175\n",
      "[t-SNE] Computed conditional probabilities for sample 90000 / 211175\n",
      "[t-SNE] Computed conditional probabilities for sample 91000 / 211175\n",
      "[t-SNE] Computed conditional probabilities for sample 92000 / 211175\n",
      "[t-SNE] Computed conditional probabilities for sample 93000 / 211175\n",
      "[t-SNE] Computed conditional probabilities for sample 94000 / 211175\n",
      "[t-SNE] Computed conditional probabilities for sample 95000 / 211175\n",
      "[t-SNE] Computed conditional probabilities for sample 96000 / 211175\n",
      "[t-SNE] Computed conditional probabilities for sample 97000 / 211175\n",
      "[t-SNE] Computed conditional probabilities for sample 98000 / 211175\n",
      "[t-SNE] Computed conditional probabilities for sample 99000 / 211175\n",
      "[t-SNE] Computed conditional probabilities for sample 100000 / 211175\n",
      "[t-SNE] Computed conditional probabilities for sample 101000 / 211175\n",
      "[t-SNE] Computed conditional probabilities for sample 102000 / 211175\n",
      "[t-SNE] Computed conditional probabilities for sample 103000 / 211175\n",
      "[t-SNE] Computed conditional probabilities for sample 104000 / 211175\n",
      "[t-SNE] Computed conditional probabilities for sample 105000 / 211175\n",
      "[t-SNE] Computed conditional probabilities for sample 106000 / 211175\n",
      "[t-SNE] Computed conditional probabilities for sample 107000 / 211175\n",
      "[t-SNE] Computed conditional probabilities for sample 108000 / 211175\n",
      "[t-SNE] Computed conditional probabilities for sample 109000 / 211175\n",
      "[t-SNE] Computed conditional probabilities for sample 110000 / 211175\n",
      "[t-SNE] Computed conditional probabilities for sample 111000 / 211175\n",
      "[t-SNE] Computed conditional probabilities for sample 112000 / 211175\n",
      "[t-SNE] Computed conditional probabilities for sample 113000 / 211175\n",
      "[t-SNE] Computed conditional probabilities for sample 114000 / 211175\n",
      "[t-SNE] Computed conditional probabilities for sample 115000 / 211175\n",
      "[t-SNE] Computed conditional probabilities for sample 116000 / 211175\n",
      "[t-SNE] Computed conditional probabilities for sample 117000 / 211175\n",
      "[t-SNE] Computed conditional probabilities for sample 118000 / 211175\n",
      "[t-SNE] Computed conditional probabilities for sample 119000 / 211175\n",
      "[t-SNE] Computed conditional probabilities for sample 120000 / 211175\n",
      "[t-SNE] Computed conditional probabilities for sample 121000 / 211175\n",
      "[t-SNE] Computed conditional probabilities for sample 122000 / 211175\n",
      "[t-SNE] Computed conditional probabilities for sample 123000 / 211175\n",
      "[t-SNE] Computed conditional probabilities for sample 124000 / 211175\n",
      "[t-SNE] Computed conditional probabilities for sample 125000 / 211175\n",
      "[t-SNE] Computed conditional probabilities for sample 126000 / 211175\n"
     ]
    },
    {
     "name": "stdout",
     "output_type": "stream",
     "text": [
      "[t-SNE] Computed conditional probabilities for sample 127000 / 211175\n",
      "[t-SNE] Computed conditional probabilities for sample 128000 / 211175\n",
      "[t-SNE] Computed conditional probabilities for sample 129000 / 211175\n",
      "[t-SNE] Computed conditional probabilities for sample 130000 / 211175\n",
      "[t-SNE] Computed conditional probabilities for sample 131000 / 211175\n",
      "[t-SNE] Computed conditional probabilities for sample 132000 / 211175\n",
      "[t-SNE] Computed conditional probabilities for sample 133000 / 211175\n",
      "[t-SNE] Computed conditional probabilities for sample 134000 / 211175\n",
      "[t-SNE] Computed conditional probabilities for sample 135000 / 211175\n",
      "[t-SNE] Computed conditional probabilities for sample 136000 / 211175\n",
      "[t-SNE] Computed conditional probabilities for sample 137000 / 211175\n",
      "[t-SNE] Computed conditional probabilities for sample 138000 / 211175\n",
      "[t-SNE] Computed conditional probabilities for sample 139000 / 211175\n",
      "[t-SNE] Computed conditional probabilities for sample 140000 / 211175\n",
      "[t-SNE] Computed conditional probabilities for sample 141000 / 211175\n",
      "[t-SNE] Computed conditional probabilities for sample 142000 / 211175\n",
      "[t-SNE] Computed conditional probabilities for sample 143000 / 211175\n",
      "[t-SNE] Computed conditional probabilities for sample 144000 / 211175\n",
      "[t-SNE] Computed conditional probabilities for sample 145000 / 211175\n",
      "[t-SNE] Computed conditional probabilities for sample 146000 / 211175\n",
      "[t-SNE] Computed conditional probabilities for sample 147000 / 211175\n",
      "[t-SNE] Computed conditional probabilities for sample 148000 / 211175\n",
      "[t-SNE] Computed conditional probabilities for sample 149000 / 211175\n",
      "[t-SNE] Computed conditional probabilities for sample 150000 / 211175\n",
      "[t-SNE] Computed conditional probabilities for sample 151000 / 211175\n",
      "[t-SNE] Computed conditional probabilities for sample 152000 / 211175\n",
      "[t-SNE] Computed conditional probabilities for sample 153000 / 211175\n",
      "[t-SNE] Computed conditional probabilities for sample 154000 / 211175\n",
      "[t-SNE] Computed conditional probabilities for sample 155000 / 211175\n",
      "[t-SNE] Computed conditional probabilities for sample 156000 / 211175\n",
      "[t-SNE] Computed conditional probabilities for sample 157000 / 211175\n",
      "[t-SNE] Computed conditional probabilities for sample 158000 / 211175\n",
      "[t-SNE] Computed conditional probabilities for sample 159000 / 211175\n",
      "[t-SNE] Computed conditional probabilities for sample 160000 / 211175\n",
      "[t-SNE] Computed conditional probabilities for sample 161000 / 211175\n",
      "[t-SNE] Computed conditional probabilities for sample 162000 / 211175\n",
      "[t-SNE] Computed conditional probabilities for sample 163000 / 211175\n",
      "[t-SNE] Computed conditional probabilities for sample 164000 / 211175\n",
      "[t-SNE] Computed conditional probabilities for sample 165000 / 211175\n",
      "[t-SNE] Computed conditional probabilities for sample 166000 / 211175\n",
      "[t-SNE] Computed conditional probabilities for sample 167000 / 211175\n",
      "[t-SNE] Computed conditional probabilities for sample 168000 / 211175\n",
      "[t-SNE] Computed conditional probabilities for sample 169000 / 211175\n",
      "[t-SNE] Computed conditional probabilities for sample 170000 / 211175\n",
      "[t-SNE] Computed conditional probabilities for sample 171000 / 211175\n",
      "[t-SNE] Computed conditional probabilities for sample 172000 / 211175\n",
      "[t-SNE] Computed conditional probabilities for sample 173000 / 211175\n",
      "[t-SNE] Computed conditional probabilities for sample 174000 / 211175\n",
      "[t-SNE] Computed conditional probabilities for sample 175000 / 211175\n",
      "[t-SNE] Computed conditional probabilities for sample 176000 / 211175\n",
      "[t-SNE] Computed conditional probabilities for sample 177000 / 211175\n",
      "[t-SNE] Computed conditional probabilities for sample 178000 / 211175\n",
      "[t-SNE] Computed conditional probabilities for sample 179000 / 211175\n",
      "[t-SNE] Computed conditional probabilities for sample 180000 / 211175\n",
      "[t-SNE] Computed conditional probabilities for sample 181000 / 211175\n",
      "[t-SNE] Computed conditional probabilities for sample 182000 / 211175\n",
      "[t-SNE] Computed conditional probabilities for sample 183000 / 211175\n",
      "[t-SNE] Computed conditional probabilities for sample 184000 / 211175\n",
      "[t-SNE] Computed conditional probabilities for sample 185000 / 211175\n",
      "[t-SNE] Computed conditional probabilities for sample 186000 / 211175\n",
      "[t-SNE] Computed conditional probabilities for sample 187000 / 211175\n",
      "[t-SNE] Computed conditional probabilities for sample 188000 / 211175\n",
      "[t-SNE] Computed conditional probabilities for sample 189000 / 211175\n",
      "[t-SNE] Computed conditional probabilities for sample 190000 / 211175\n",
      "[t-SNE] Computed conditional probabilities for sample 191000 / 211175\n",
      "[t-SNE] Computed conditional probabilities for sample 192000 / 211175\n",
      "[t-SNE] Computed conditional probabilities for sample 193000 / 211175\n",
      "[t-SNE] Computed conditional probabilities for sample 194000 / 211175\n",
      "[t-SNE] Computed conditional probabilities for sample 195000 / 211175\n",
      "[t-SNE] Computed conditional probabilities for sample 196000 / 211175\n",
      "[t-SNE] Computed conditional probabilities for sample 197000 / 211175\n",
      "[t-SNE] Computed conditional probabilities for sample 198000 / 211175\n",
      "[t-SNE] Computed conditional probabilities for sample 199000 / 211175\n",
      "[t-SNE] Computed conditional probabilities for sample 200000 / 211175\n",
      "[t-SNE] Computed conditional probabilities for sample 201000 / 211175\n",
      "[t-SNE] Computed conditional probabilities for sample 202000 / 211175\n",
      "[t-SNE] Computed conditional probabilities for sample 203000 / 211175\n",
      "[t-SNE] Computed conditional probabilities for sample 204000 / 211175\n",
      "[t-SNE] Computed conditional probabilities for sample 205000 / 211175\n",
      "[t-SNE] Computed conditional probabilities for sample 206000 / 211175\n",
      "[t-SNE] Computed conditional probabilities for sample 207000 / 211175\n",
      "[t-SNE] Computed conditional probabilities for sample 208000 / 211175\n",
      "[t-SNE] Computed conditional probabilities for sample 209000 / 211175\n",
      "[t-SNE] Computed conditional probabilities for sample 210000 / 211175\n",
      "[t-SNE] Computed conditional probabilities for sample 211000 / 211175\n",
      "[t-SNE] Computed conditional probabilities for sample 211175 / 211175\n",
      "[t-SNE] Mean sigma: 0.100387\n",
      "[t-SNE] Computed conditional probabilities in 6.234s\n",
      "[t-SNE] Iteration 50: error = 131.4436340, gradient norm = 0.0000000 (50 iterations in 62.805s)\n",
      "[t-SNE] Iteration 50: gradient norm 0.000000. Finished.\n",
      "[t-SNE] KL divergence after 50 iterations with early exaggeration: 131.443634\n",
      "[t-SNE] Iteration 100: error = 8.4598532, gradient norm = 0.0000000 (50 iterations in 60.360s)\n",
      "[t-SNE] Iteration 100: gradient norm 0.000000. Finished.\n",
      "[t-SNE] KL divergence after 100 iterations: 8.459853\n"
     ]
    }
   ],
   "source": [
    "from sklearn.manifold import TSNE\n",
    "tsne = TSNE(n_components=2, n_iter=500, verbose=3, random_state=1)\n",
    "recipe_embedding = tsne.fit_transform(movie_matrix)\n",
    "projection = pd.DataFrame(columns=['x', 'y'], data=recipe_embedding)\n",
    "# projection['title'] = books_metadata['original_title']"
   ]
  },
  {
   "cell_type": "code",
   "execution_count": 171,
   "id": "918811d9",
   "metadata": {},
   "outputs": [
    {
     "data": {
      "text/html": [
       "<div>\n",
       "<style scoped>\n",
       "    .dataframe tbody tr th:only-of-type {\n",
       "        vertical-align: middle;\n",
       "    }\n",
       "\n",
       "    .dataframe tbody tr th {\n",
       "        vertical-align: top;\n",
       "    }\n",
       "\n",
       "    .dataframe thead th {\n",
       "        text-align: right;\n",
       "    }\n",
       "</style>\n",
       "<table border=\"1\" class=\"dataframe\">\n",
       "  <thead>\n",
       "    <tr style=\"text-align: right;\">\n",
       "      <th></th>\n",
       "      <th>x</th>\n",
       "      <th>y</th>\n",
       "    </tr>\n",
       "  </thead>\n",
       "  <tbody>\n",
       "    <tr>\n",
       "      <th>0</th>\n",
       "      <td>4.540770e-07</td>\n",
       "      <td>-1.228143e-06</td>\n",
       "    </tr>\n",
       "    <tr>\n",
       "      <th>1</th>\n",
       "      <td>1.107355e-06</td>\n",
       "      <td>8.735510e-07</td>\n",
       "    </tr>\n",
       "    <tr>\n",
       "      <th>2</th>\n",
       "      <td>-4.192752e-07</td>\n",
       "      <td>4.332632e-07</td>\n",
       "    </tr>\n",
       "    <tr>\n",
       "      <th>3</th>\n",
       "      <td>7.956787e-07</td>\n",
       "      <td>5.327870e-07</td>\n",
       "    </tr>\n",
       "    <tr>\n",
       "      <th>4</th>\n",
       "      <td>4.981666e-06</td>\n",
       "      <td>2.388648e-06</td>\n",
       "    </tr>\n",
       "  </tbody>\n",
       "</table>\n",
       "</div>"
      ],
      "text/plain": [
       "              x             y\n",
       "0  4.540770e-07 -1.228143e-06\n",
       "1  1.107355e-06  8.735510e-07\n",
       "2 -4.192752e-07  4.332632e-07\n",
       "3  7.956787e-07  5.327870e-07\n",
       "4  4.981666e-06  2.388648e-06"
      ]
     },
     "execution_count": 171,
     "metadata": {},
     "output_type": "execute_result"
    }
   ],
   "source": [
    "projection.head()"
   ]
  },
  {
   "cell_type": "code",
   "execution_count": 176,
   "id": "d36cffe5",
   "metadata": {},
   "outputs": [
    {
     "data": {
      "text/plain": [
       "<matplotlib.collections.PathCollection at 0x1d4a21fd0>"
      ]
     },
     "execution_count": 176,
     "metadata": {},
     "output_type": "execute_result"
    },
    {
     "data": {
      "image/png": "[encoded data removed]",
      "text/plain": [
       "<Figure size 640x480 with 1 Axes>"
      ]
     },
     "metadata": {},
     "output_type": "display_data"
    }
   ],
   "source": [
    "plt.scatter(projection[\"x\"],projection[\"y\"],alpha = 0.25)"
   ]
  },
  {
   "cell_type": "code",
   "execution_count": null,
   "id": "b8ff4ab6",
   "metadata": {},
   "outputs": [],
   "source": []
  },
  {
   "cell_type": "code",
   "execution_count": null,
   "id": "9a1ed428",
   "metadata": {},
   "outputs": [],
   "source": []
  },
  {
   "cell_type": "code",
   "execution_count": null,
   "id": "5e87c74f",
   "metadata": {},
   "outputs": [],
   "source": []
  },
  {
   "cell_type": "code",
   "execution_count": null,
   "id": "90b197ec",
   "metadata": {},
   "outputs": [],
   "source": []
  },
  {
   "cell_type": "markdown",
   "id": "4602748e",
   "metadata": {},
   "source": [
    "train_validation, test_set = train_test_split_surprise(full_data, test_size=0.15)"
   ]
  },
  {
   "cell_type": "markdown",
   "id": "a90772f3",
   "metadata": {},
   "source": [
    "train_validation.n_ratings, len(test_set), train_validation.n_ratings + len(test_set)"
   ]
  },
  {
   "cell_type": "markdown",
   "id": "105729b0",
   "metadata": {},
   "source": [
    "train_validation.n_items, train_validation.n_users"
   ]
  },
  {
   "cell_type": "markdown",
   "id": "a8453d7f",
   "metadata": {},
   "source": [
    "### Build SVD Matrix Factorisation"
   ]
  },
  {
   "cell_type": "markdown",
   "id": "b0ffbbc9",
   "metadata": {},
   "source": [
    "svd = SVD(verbose=True, n_epochs=10)\n",
    "cross_validate(svd, train_validation, measures=['RMSE', 'MAE'], cv=10, verbose=True)"
   ]
  },
  {
   "cell_type": "markdown",
   "id": "1464bee5",
   "metadata": {},
   "source": []
  },
  {
   "cell_type": "markdown",
   "id": "3d393549",
   "metadata": {},
   "source": [
    "dir(train_validation)"
   ]
  }
 ],
 "metadata": {
  "kernelspec": {
   "display_name": "ml_project_env",
   "language": "python",
   "name": "ml_project_env"
  },
  "language_info": {
   "codemirror_mode": {
    "name": "ipython",
    "version": 3
   },
   "file_extension": ".py",
   "mimetype": "text/x-python",
   "name": "python",
   "nbconvert_exporter": "python",
   "pygments_lexer": "ipython3",
   "version": "3.9.13"
  }
 },
 "nbformat": 4,
 "nbformat_minor": 5
}
