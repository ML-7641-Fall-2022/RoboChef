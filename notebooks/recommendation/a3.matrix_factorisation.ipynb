{
 "cells": [
  {
   "cell_type": "code",
   "execution_count": 1,
   "id": "1a4d141f",
   "metadata": {},
   "outputs": [
    {
     "name": "stdout",
     "output_type": "stream",
     "text": [
      "/Users/ashish1610dhiman/data_projects/fall22_hw/RoboChef/notebooks/recommendation\r\n"
     ]
    }
   ],
   "source": [
    "!pwd"
   ]
  },
  {
   "cell_type": "code",
   "execution_count": 9,
   "id": "fa247168",
   "metadata": {},
   "outputs": [],
   "source": [
    "import pandas as pd\n",
    "from surprise import Dataset\n",
    "from surprise import Reader\n",
    "\n",
    "from surprise import accuracy, Dataset, SVD\n",
    "from surprise.model_selection import train_test_split as train_test_split_surprise\n",
    "from surprise import Dataset, SVD\n",
    "from surprise.model_selection import cross_validate, GridSearchCV\n",
    "from sklearn.model_selection import train_test_split\n",
    "\n",
    "import numpy as np"
   ]
  },
  {
   "cell_type": "markdown",
   "id": "21444ef0",
   "metadata": {},
   "source": [
    "### Read Provided Train Test validation"
   ]
  },
  {
   "cell_type": "code",
   "execution_count": 3,
   "id": "70cc7540",
   "metadata": {},
   "outputs": [
    {
     "data": {
      "text/plain": [
       "((698901, 6), (12455, 6), (7023, 6))"
      ]
     },
     "execution_count": 3,
     "metadata": {},
     "output_type": "execute_result"
    }
   ],
   "source": [
    "train_set = pd.read_csv(\"../../data/recommendation/interactions_train.csv\")\n",
    "test_set = pd.read_csv(\"../../data/recommendation/interactions_test.csv\")\n",
    "validation_set = pd.read_csv(\"../../data/recommendation/interactions_validation.csv\")\n",
    "train_set.shape, test_set.shape, validation_set.shape"
   ]
  },
  {
   "cell_type": "code",
   "execution_count": 4,
   "id": "ed0df3c1",
   "metadata": {},
   "outputs": [
    {
     "data": {
      "text/plain": [
       "718379"
      ]
     },
     "execution_count": 4,
     "metadata": {},
     "output_type": "execute_result"
    }
   ],
   "source": [
    "698901+12455+7023"
   ]
  },
  {
   "cell_type": "code",
   "execution_count": 6,
   "id": "3bcfca49",
   "metadata": {},
   "outputs": [
    {
     "data": {
      "text/plain": [
       "(1132367, 5)"
      ]
     },
     "execution_count": 6,
     "metadata": {},
     "output_type": "execute_result"
    }
   ],
   "source": [
    "raw_interactions = pd.read_csv(\"../../data/recommendation/RAW_interactions.csv\")\n",
    "raw_interactions.shape"
   ]
  },
  {
   "cell_type": "markdown",
   "id": "703d9491",
   "metadata": {},
   "source": [
    "### Create Train/Test/validation from raw"
   ]
  },
  {
   "cell_type": "code",
   "execution_count": 13,
   "id": "c9aa6e57",
   "metadata": {},
   "outputs": [],
   "source": [
    "TRAIN__Validation_SIZE = 0.8\n",
    "TEST_SIZE = 0.2"
   ]
  },
  {
   "cell_type": "code",
   "execution_count": 42,
   "id": "ae01a66c",
   "metadata": {},
   "outputs": [
    {
     "data": {
      "text/plain": [
       "((905893, 5), (226474, 5))"
      ]
     },
     "execution_count": 42,
     "metadata": {},
     "output_type": "execute_result"
    }
   ],
   "source": [
    "train_validation, test_set = train_test_split(raw_interactions, test_size=TEST_SIZE)\n",
    "train_validation.shape, test_set.shape"
   ]
  },
  {
   "cell_type": "code",
   "execution_count": 43,
   "id": "b2f5a618",
   "metadata": {},
   "outputs": [
    {
     "data": {
      "text/plain": [
       "1132367"
      ]
     },
     "execution_count": 43,
     "metadata": {},
     "output_type": "execute_result"
    }
   ],
   "source": [
    "905893 + 226474"
   ]
  },
  {
   "cell_type": "markdown",
   "id": "e9d1510d",
   "metadata": {},
   "source": [
    "### Train SVD matrix Factorisation"
   ]
  },
  {
   "cell_type": "code",
   "execution_count": 50,
   "id": "aa73d961",
   "metadata": {},
   "outputs": [],
   "source": [
    "reader = Reader(rating_scale=(1, 5))\n",
    "cv_data = Dataset.load_from_df(train_validation[[\"user_id\", \"recipe_id\", \"rating\"\\\n",
    "                                                                           ]], reader)"
   ]
  },
  {
   "cell_type": "code",
   "execution_count": 58,
   "id": "069f9a74",
   "metadata": {},
   "outputs": [
    {
     "name": "stdout",
     "output_type": "stream",
     "text": [
      "1.218094140876164\n",
      "{'n_factors': 20, 'n_epochs': 15, 'lr_all': 0.005}\n",
      "{'n_factors': 20, 'n_epochs': 15, 'lr_all': 0.005}\n"
     ]
    }
   ],
   "source": [
    "param_grid = {\"n_factors\":[20, 50] ,\"n_epochs\": [10, 15], \"lr_all\": [0.002, 0.005]}\n",
    "gs = GridSearchCV(SVD, param_grid, measures=[\"rmse\", \"mae\"], cv=5, n_jobs = -2)\n",
    "\n",
    "gs.fit(cv_data)\n",
    "\n",
    "# best RMSE score\n",
    "print(gs.best_score[\"rmse\"])\n",
    "\n",
    "# combination of parameters that gave the best RMSE score\n",
    "print(gs.best_params[\"rmse\"])\n",
    "\n",
    "print(gs.best_params[\"mae\"])"
   ]
  },
  {
   "cell_type": "code",
   "execution_count": 59,
   "id": "50d3d2c2",
   "metadata": {},
   "outputs": [
    {
     "data": {
      "text/html": [
       "<div>\n",
       "<style scoped>\n",
       "    .dataframe tbody tr th:only-of-type {\n",
       "        vertical-align: middle;\n",
       "    }\n",
       "\n",
       "    .dataframe tbody tr th {\n",
       "        vertical-align: top;\n",
       "    }\n",
       "\n",
       "    .dataframe thead th {\n",
       "        text-align: right;\n",
       "    }\n",
       "</style>\n",
       "<table border=\"1\" class=\"dataframe\">\n",
       "  <thead>\n",
       "    <tr style=\"text-align: right;\">\n",
       "      <th></th>\n",
       "      <th>split0_test_rmse</th>\n",
       "      <th>split1_test_rmse</th>\n",
       "      <th>split2_test_rmse</th>\n",
       "      <th>split3_test_rmse</th>\n",
       "      <th>split4_test_rmse</th>\n",
       "      <th>mean_test_rmse</th>\n",
       "      <th>std_test_rmse</th>\n",
       "      <th>rank_test_rmse</th>\n",
       "      <th>split0_test_mae</th>\n",
       "      <th>split1_test_mae</th>\n",
       "      <th>...</th>\n",
       "      <th>std_test_mae</th>\n",
       "      <th>rank_test_mae</th>\n",
       "      <th>mean_fit_time</th>\n",
       "      <th>std_fit_time</th>\n",
       "      <th>mean_test_time</th>\n",
       "      <th>std_test_time</th>\n",
       "      <th>params</th>\n",
       "      <th>param_n_factors</th>\n",
       "      <th>param_n_epochs</th>\n",
       "      <th>param_lr_all</th>\n",
       "    </tr>\n",
       "  </thead>\n",
       "  <tbody>\n",
       "    <tr>\n",
       "      <th>0</th>\n",
       "      <td>1.228697</td>\n",
       "      <td>1.222297</td>\n",
       "      <td>1.223658</td>\n",
       "      <td>1.224391</td>\n",
       "      <td>1.227176</td>\n",
       "      <td>1.225244</td>\n",
       "      <td>0.002349</td>\n",
       "      <td>7</td>\n",
       "      <td>0.753424</td>\n",
       "      <td>0.750137</td>\n",
       "      <td>...</td>\n",
       "      <td>0.001077</td>\n",
       "      <td>7</td>\n",
       "      <td>3.104795</td>\n",
       "      <td>0.285593</td>\n",
       "      <td>2.142331</td>\n",
       "      <td>0.043642</td>\n",
       "      <td>{'n_factors': 20, 'n_epochs': 10, 'lr_all': 0....</td>\n",
       "      <td>20</td>\n",
       "      <td>10</td>\n",
       "      <td>0.002</td>\n",
       "    </tr>\n",
       "    <tr>\n",
       "      <th>1</th>\n",
       "      <td>1.222545</td>\n",
       "      <td>1.216202</td>\n",
       "      <td>1.217771</td>\n",
       "      <td>1.218116</td>\n",
       "      <td>1.220700</td>\n",
       "      <td>1.219067</td>\n",
       "      <td>0.002261</td>\n",
       "      <td>2</td>\n",
       "      <td>0.745213</td>\n",
       "      <td>0.742198</td>\n",
       "      <td>...</td>\n",
       "      <td>0.001041</td>\n",
       "      <td>3</td>\n",
       "      <td>3.418055</td>\n",
       "      <td>0.057300</td>\n",
       "      <td>2.247503</td>\n",
       "      <td>0.112610</td>\n",
       "      <td>{'n_factors': 20, 'n_epochs': 10, 'lr_all': 0....</td>\n",
       "      <td>20</td>\n",
       "      <td>10</td>\n",
       "      <td>0.005</td>\n",
       "    </tr>\n",
       "    <tr>\n",
       "      <th>2</th>\n",
       "      <td>1.225618</td>\n",
       "      <td>1.219103</td>\n",
       "      <td>1.220609</td>\n",
       "      <td>1.221104</td>\n",
       "      <td>1.223918</td>\n",
       "      <td>1.222070</td>\n",
       "      <td>0.002361</td>\n",
       "      <td>5</td>\n",
       "      <td>0.748299</td>\n",
       "      <td>0.744931</td>\n",
       "      <td>...</td>\n",
       "      <td>0.001136</td>\n",
       "      <td>5</td>\n",
       "      <td>5.038678</td>\n",
       "      <td>0.246600</td>\n",
       "      <td>2.584927</td>\n",
       "      <td>0.124022</td>\n",
       "      <td>{'n_factors': 20, 'n_epochs': 15, 'lr_all': 0....</td>\n",
       "      <td>20</td>\n",
       "      <td>15</td>\n",
       "      <td>0.002</td>\n",
       "    </tr>\n",
       "    <tr>\n",
       "      <th>3</th>\n",
       "      <td>1.221387</td>\n",
       "      <td>1.215518</td>\n",
       "      <td>1.216680</td>\n",
       "      <td>1.217148</td>\n",
       "      <td>1.219737</td>\n",
       "      <td>1.218094</td>\n",
       "      <td>0.002148</td>\n",
       "      <td>1</td>\n",
       "      <td>0.742132</td>\n",
       "      <td>0.739437</td>\n",
       "      <td>...</td>\n",
       "      <td>0.000949</td>\n",
       "      <td>1</td>\n",
       "      <td>5.407024</td>\n",
       "      <td>0.045598</td>\n",
       "      <td>2.592297</td>\n",
       "      <td>0.112011</td>\n",
       "      <td>{'n_factors': 20, 'n_epochs': 15, 'lr_all': 0....</td>\n",
       "      <td>20</td>\n",
       "      <td>15</td>\n",
       "      <td>0.005</td>\n",
       "    </tr>\n",
       "    <tr>\n",
       "      <th>4</th>\n",
       "      <td>1.229484</td>\n",
       "      <td>1.223111</td>\n",
       "      <td>1.224706</td>\n",
       "      <td>1.225294</td>\n",
       "      <td>1.227844</td>\n",
       "      <td>1.226088</td>\n",
       "      <td>0.002281</td>\n",
       "      <td>8</td>\n",
       "      <td>0.753773</td>\n",
       "      <td>0.750606</td>\n",
       "      <td>...</td>\n",
       "      <td>0.001036</td>\n",
       "      <td>8</td>\n",
       "      <td>5.595094</td>\n",
       "      <td>0.050464</td>\n",
       "      <td>2.665056</td>\n",
       "      <td>0.189076</td>\n",
       "      <td>{'n_factors': 50, 'n_epochs': 10, 'lr_all': 0....</td>\n",
       "      <td>50</td>\n",
       "      <td>10</td>\n",
       "      <td>0.002</td>\n",
       "    </tr>\n",
       "    <tr>\n",
       "      <th>5</th>\n",
       "      <td>1.223622</td>\n",
       "      <td>1.217173</td>\n",
       "      <td>1.219072</td>\n",
       "      <td>1.219182</td>\n",
       "      <td>1.221810</td>\n",
       "      <td>1.220172</td>\n",
       "      <td>0.002270</td>\n",
       "      <td>4</td>\n",
       "      <td>0.745916</td>\n",
       "      <td>0.742958</td>\n",
       "      <td>...</td>\n",
       "      <td>0.001079</td>\n",
       "      <td>4</td>\n",
       "      <td>5.840886</td>\n",
       "      <td>0.037470</td>\n",
       "      <td>2.945850</td>\n",
       "      <td>0.388703</td>\n",
       "      <td>{'n_factors': 50, 'n_epochs': 10, 'lr_all': 0....</td>\n",
       "      <td>50</td>\n",
       "      <td>10</td>\n",
       "      <td>0.005</td>\n",
       "    </tr>\n",
       "    <tr>\n",
       "      <th>6</th>\n",
       "      <td>1.226369</td>\n",
       "      <td>1.220202</td>\n",
       "      <td>1.221285</td>\n",
       "      <td>1.221693</td>\n",
       "      <td>1.224812</td>\n",
       "      <td>1.222872</td>\n",
       "      <td>0.002325</td>\n",
       "      <td>6</td>\n",
       "      <td>0.748669</td>\n",
       "      <td>0.745687</td>\n",
       "      <td>...</td>\n",
       "      <td>0.001095</td>\n",
       "      <td>6</td>\n",
       "      <td>9.108575</td>\n",
       "      <td>0.297556</td>\n",
       "      <td>2.598949</td>\n",
       "      <td>0.253296</td>\n",
       "      <td>{'n_factors': 50, 'n_epochs': 15, 'lr_all': 0....</td>\n",
       "      <td>50</td>\n",
       "      <td>15</td>\n",
       "      <td>0.002</td>\n",
       "    </tr>\n",
       "    <tr>\n",
       "      <th>7</th>\n",
       "      <td>1.222967</td>\n",
       "      <td>1.216686</td>\n",
       "      <td>1.218197</td>\n",
       "      <td>1.218461</td>\n",
       "      <td>1.220920</td>\n",
       "      <td>1.219446</td>\n",
       "      <td>0.002223</td>\n",
       "      <td>3</td>\n",
       "      <td>0.743177</td>\n",
       "      <td>0.740046</td>\n",
       "      <td>...</td>\n",
       "      <td>0.001130</td>\n",
       "      <td>2</td>\n",
       "      <td>7.053559</td>\n",
       "      <td>0.782029</td>\n",
       "      <td>1.927421</td>\n",
       "      <td>0.273523</td>\n",
       "      <td>{'n_factors': 50, 'n_epochs': 15, 'lr_all': 0....</td>\n",
       "      <td>50</td>\n",
       "      <td>15</td>\n",
       "      <td>0.005</td>\n",
       "    </tr>\n",
       "  </tbody>\n",
       "</table>\n",
       "<p>8 rows × 24 columns</p>\n",
       "</div>"
      ],
      "text/plain": [
       "   split0_test_rmse  split1_test_rmse  split2_test_rmse  split3_test_rmse  \\\n",
       "0          1.228697          1.222297          1.223658          1.224391   \n",
       "1          1.222545          1.216202          1.217771          1.218116   \n",
       "2          1.225618          1.219103          1.220609          1.221104   \n",
       "3          1.221387          1.215518          1.216680          1.217148   \n",
       "4          1.229484          1.223111          1.224706          1.225294   \n",
       "5          1.223622          1.217173          1.219072          1.219182   \n",
       "6          1.226369          1.220202          1.221285          1.221693   \n",
       "7          1.222967          1.216686          1.218197          1.218461   \n",
       "\n",
       "   split4_test_rmse  mean_test_rmse  std_test_rmse  rank_test_rmse  \\\n",
       "0          1.227176        1.225244       0.002349               7   \n",
       "1          1.220700        1.219067       0.002261               2   \n",
       "2          1.223918        1.222070       0.002361               5   \n",
       "3          1.219737        1.218094       0.002148               1   \n",
       "4          1.227844        1.226088       0.002281               8   \n",
       "5          1.221810        1.220172       0.002270               4   \n",
       "6          1.224812        1.222872       0.002325               6   \n",
       "7          1.220920        1.219446       0.002223               3   \n",
       "\n",
       "   split0_test_mae  split1_test_mae  ...  std_test_mae  rank_test_mae  \\\n",
       "0         0.753424         0.750137  ...      0.001077              7   \n",
       "1         0.745213         0.742198  ...      0.001041              3   \n",
       "2         0.748299         0.744931  ...      0.001136              5   \n",
       "3         0.742132         0.739437  ...      0.000949              1   \n",
       "4         0.753773         0.750606  ...      0.001036              8   \n",
       "5         0.745916         0.742958  ...      0.001079              4   \n",
       "6         0.748669         0.745687  ...      0.001095              6   \n",
       "7         0.743177         0.740046  ...      0.001130              2   \n",
       "\n",
       "   mean_fit_time  std_fit_time  mean_test_time  std_test_time  \\\n",
       "0       3.104795      0.285593        2.142331       0.043642   \n",
       "1       3.418055      0.057300        2.247503       0.112610   \n",
       "2       5.038678      0.246600        2.584927       0.124022   \n",
       "3       5.407024      0.045598        2.592297       0.112011   \n",
       "4       5.595094      0.050464        2.665056       0.189076   \n",
       "5       5.840886      0.037470        2.945850       0.388703   \n",
       "6       9.108575      0.297556        2.598949       0.253296   \n",
       "7       7.053559      0.782029        1.927421       0.273523   \n",
       "\n",
       "                                              params  param_n_factors  \\\n",
       "0  {'n_factors': 20, 'n_epochs': 10, 'lr_all': 0....               20   \n",
       "1  {'n_factors': 20, 'n_epochs': 10, 'lr_all': 0....               20   \n",
       "2  {'n_factors': 20, 'n_epochs': 15, 'lr_all': 0....               20   \n",
       "3  {'n_factors': 20, 'n_epochs': 15, 'lr_all': 0....               20   \n",
       "4  {'n_factors': 50, 'n_epochs': 10, 'lr_all': 0....               50   \n",
       "5  {'n_factors': 50, 'n_epochs': 10, 'lr_all': 0....               50   \n",
       "6  {'n_factors': 50, 'n_epochs': 15, 'lr_all': 0....               50   \n",
       "7  {'n_factors': 50, 'n_epochs': 15, 'lr_all': 0....               50   \n",
       "\n",
       "   param_n_epochs  param_lr_all  \n",
       "0              10         0.002  \n",
       "1              10         0.005  \n",
       "2              15         0.002  \n",
       "3              15         0.005  \n",
       "4              10         0.002  \n",
       "5              10         0.005  \n",
       "6              15         0.002  \n",
       "7              15         0.005  \n",
       "\n",
       "[8 rows x 24 columns]"
      ]
     },
     "execution_count": 59,
     "metadata": {},
     "output_type": "execute_result"
    }
   ],
   "source": [
    "cv_results_df = pd.DataFrame.from_dict(gs.cv_results)\n",
    "cv_results_df"
   ]
  },
  {
   "cell_type": "markdown",
   "id": "45793605",
   "metadata": {},
   "source": [
    "### Test RMSE"
   ]
  },
  {
   "cell_type": "code",
   "execution_count": 60,
   "id": "17def0f9",
   "metadata": {},
   "outputs": [
    {
     "data": {
      "text/plain": [
       "<surprise.prediction_algorithms.matrix_factorization.SVD at 0x1c7f21d00>"
      ]
     },
     "execution_count": 60,
     "metadata": {},
     "output_type": "execute_result"
    }
   ],
   "source": [
    "#Build model on full cv set\n",
    "algo = gs.best_estimator[\"rmse\"]\n",
    "algo.fit(cv_data.build_full_trainset())"
   ]
  },
  {
   "cell_type": "code",
   "execution_count": 67,
   "id": "f42b12ab",
   "metadata": {},
   "outputs": [],
   "source": [
    "test_set_surprise = Dataset.load_from_df(test_set[[\"user_id\", \"recipe_id\", \"rating\"]], reader)\n",
    "_, test_set_surprise = train_test_split_surprise(test_set_surprise, test_size=1.0)"
   ]
  },
  {
   "cell_type": "code",
   "execution_count": 68,
   "id": "037b474f",
   "metadata": {},
   "outputs": [
    {
     "data": {
      "text/plain": [
       "226474"
      ]
     },
     "execution_count": 68,
     "metadata": {},
     "output_type": "execute_result"
    }
   ],
   "source": [
    "len(test_set_surprise)"
   ]
  },
  {
   "cell_type": "code",
   "execution_count": 69,
   "id": "aa3f96c8",
   "metadata": {},
   "outputs": [
    {
     "name": "stdout",
     "output_type": "stream",
     "text": [
      "RMSE: 1.2117\n"
     ]
    },
    {
     "data": {
      "text/plain": [
       "1.2117454568213044"
      ]
     },
     "execution_count": 69,
     "metadata": {},
     "output_type": "execute_result"
    }
   ],
   "source": [
    "predictions = algo.test(test_set_surprise)\n",
    "accuracy.rmse(predictions, verbose=True)"
   ]
  },
  {
   "cell_type": "markdown",
   "id": "8cdd5c24",
   "metadata": {},
   "source": [
    "### Analyse with Metadata"
   ]
  },
  {
   "cell_type": "code",
   "execution_count": null,
   "id": "4b1436c6",
   "metadata": {},
   "outputs": [],
   "source": [
    "recipe_metadata = "
   ]
  },
  {
   "cell_type": "code",
   "execution_count": null,
   "id": "abdce3a3",
   "metadata": {},
   "outputs": [],
   "source": []
  },
  {
   "cell_type": "code",
   "execution_count": null,
   "id": "20ec6309",
   "metadata": {},
   "outputs": [],
   "source": []
  },
  {
   "cell_type": "code",
   "execution_count": null,
   "id": "559b593d",
   "metadata": {},
   "outputs": [],
   "source": []
  },
  {
   "cell_type": "code",
   "execution_count": null,
   "id": "f1651f95",
   "metadata": {},
   "outputs": [],
   "source": []
  },
  {
   "cell_type": "markdown",
   "id": "ebc7bb2f",
   "metadata": {},
   "source": [
    "train_validation, test_set = train_test_split_surprise(full_data, test_size=0.15)"
   ]
  },
  {
   "cell_type": "markdown",
   "id": "9e0b0e69",
   "metadata": {},
   "source": [
    "train_validation.n_ratings, len(test_set), train_validation.n_ratings + len(test_set)"
   ]
  },
  {
   "cell_type": "markdown",
   "id": "7b814a5f",
   "metadata": {},
   "source": [
    "train_validation.n_items, train_validation.n_users"
   ]
  },
  {
   "cell_type": "markdown",
   "id": "24ef51e8",
   "metadata": {},
   "source": [
    "### Build SVD Matrix Factorisation"
   ]
  },
  {
   "cell_type": "markdown",
   "id": "60ce8a94",
   "metadata": {},
   "source": [
    "svd = SVD(verbose=True, n_epochs=10)\n",
    "cross_validate(svd, train_validation, measures=['RMSE', 'MAE'], cv=10, verbose=True)"
   ]
  },
  {
   "cell_type": "markdown",
   "id": "ee0a0bb4",
   "metadata": {},
   "source": []
  },
  {
   "cell_type": "markdown",
   "id": "df71e015",
   "metadata": {},
   "source": [
    "dir(train_validation)"
   ]
  }
 ],
 "metadata": {
  "kernelspec": {
   "display_name": "ml_project_env",
   "language": "python",
   "name": "ml_project_env"
  },
  "language_info": {
   "codemirror_mode": {
    "name": "ipython",
    "version": 3
   },
   "file_extension": ".py",
   "mimetype": "text/x-python",
   "name": "python",
   "nbconvert_exporter": "python",
   "pygments_lexer": "ipython3",
   "version": "3.9.13"
  }
 },
 "nbformat": 4,
 "nbformat_minor": 5
}
