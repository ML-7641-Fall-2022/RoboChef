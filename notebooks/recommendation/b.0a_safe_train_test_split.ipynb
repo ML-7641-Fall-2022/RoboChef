{
 "cells": [
  {
   "cell_type": "code",
   "execution_count": 1,
   "id": "030cd36d",
   "metadata": {},
   "outputs": [
    {
     "name": "stdout",
     "output_type": "stream",
     "text": [
      "/Users/ashish1610dhiman/data_projects/fall22_hw/RoboChef/notebooks/recommendation\r\n"
     ]
    }
   ],
   "source": [
    "!pwd"
   ]
  },
  {
   "cell_type": "code",
   "execution_count": 63,
   "id": "24550df0",
   "metadata": {},
   "outputs": [],
   "source": [
    "import pandas as pd\n",
    "import numpy as np\n",
    "import random\n",
    "import random\n",
    "\n",
    "from sklearn.model_selection import train_test_split\n",
    "from tqdm.notebook import tqdm"
   ]
  },
  {
   "cell_type": "code",
   "execution_count": 3,
   "id": "e18a04ec",
   "metadata": {},
   "outputs": [],
   "source": [
    "TRAIN__Validation_SIZE = 0.8\n",
    "TEST_SIZE = 0.2"
   ]
  },
  {
   "cell_type": "code",
   "execution_count": 4,
   "id": "43d15285",
   "metadata": {},
   "outputs": [
    {
     "data": {
      "text/plain": [
       "(1132367, 5)"
      ]
     },
     "execution_count": 4,
     "metadata": {},
     "output_type": "execute_result"
    }
   ],
   "source": [
    "raw_interactions = pd.read_csv(\"../../data/recommendation/RAW_interactions.csv\")\n",
    "raw_interactions.shape"
   ]
  },
  {
   "cell_type": "markdown",
   "id": "c7113a90",
   "metadata": {},
   "source": [
    "### Create Safe Train Test Split"
   ]
  },
  {
   "cell_type": "code",
   "execution_count": 11,
   "id": "9048e7b2",
   "metadata": {},
   "outputs": [],
   "source": [
    "random.seed(77)"
   ]
  },
  {
   "cell_type": "code",
   "execution_count": 12,
   "id": "b62c3e25",
   "metadata": {},
   "outputs": [
    {
     "data": {
      "text/plain": [
       "Index(['user_id', 'recipe_id', 'date', 'rating', 'review'], dtype='object')"
      ]
     },
     "execution_count": 12,
     "metadata": {},
     "output_type": "execute_result"
    }
   ],
   "source": [
    "raw_interactions.columns"
   ]
  },
  {
   "cell_type": "code",
   "execution_count": 14,
   "id": "9554b76f",
   "metadata": {},
   "outputs": [
    {
     "data": {
      "text/html": [
       "<div>\n",
       "<style scoped>\n",
       "    .dataframe tbody tr th:only-of-type {\n",
       "        vertical-align: middle;\n",
       "    }\n",
       "\n",
       "    .dataframe tbody tr th {\n",
       "        vertical-align: top;\n",
       "    }\n",
       "\n",
       "    .dataframe thead th {\n",
       "        text-align: right;\n",
       "    }\n",
       "</style>\n",
       "<table border=\"1\" class=\"dataframe\">\n",
       "  <thead>\n",
       "    <tr style=\"text-align: right;\">\n",
       "      <th></th>\n",
       "      <th>user_id</th>\n",
       "      <th>recipe_id</th>\n",
       "      <th>date</th>\n",
       "      <th>rating</th>\n",
       "      <th>review</th>\n",
       "    </tr>\n",
       "  </thead>\n",
       "  <tbody>\n",
       "    <tr>\n",
       "      <th>0</th>\n",
       "      <td>38094</td>\n",
       "      <td>40893</td>\n",
       "      <td>2003-02-17</td>\n",
       "      <td>4</td>\n",
       "      <td>Great with a salad. Cooked on top of stove for...</td>\n",
       "    </tr>\n",
       "    <tr>\n",
       "      <th>1</th>\n",
       "      <td>1293707</td>\n",
       "      <td>40893</td>\n",
       "      <td>2011-12-21</td>\n",
       "      <td>5</td>\n",
       "      <td>So simple, so delicious! Great for chilly fall...</td>\n",
       "    </tr>\n",
       "    <tr>\n",
       "      <th>2</th>\n",
       "      <td>8937</td>\n",
       "      <td>44394</td>\n",
       "      <td>2002-12-01</td>\n",
       "      <td>4</td>\n",
       "      <td>This worked very well and is EASY.  I used not...</td>\n",
       "    </tr>\n",
       "    <tr>\n",
       "      <th>3</th>\n",
       "      <td>126440</td>\n",
       "      <td>85009</td>\n",
       "      <td>2010-02-27</td>\n",
       "      <td>5</td>\n",
       "      <td>I made the Mexican topping and took it to bunk...</td>\n",
       "    </tr>\n",
       "    <tr>\n",
       "      <th>4</th>\n",
       "      <td>57222</td>\n",
       "      <td>85009</td>\n",
       "      <td>2011-10-01</td>\n",
       "      <td>5</td>\n",
       "      <td>Made the cheddar bacon topping, adding a sprin...</td>\n",
       "    </tr>\n",
       "  </tbody>\n",
       "</table>\n",
       "</div>"
      ],
      "text/plain": [
       "   user_id  recipe_id        date  rating  \\\n",
       "0    38094      40893  2003-02-17       4   \n",
       "1  1293707      40893  2011-12-21       5   \n",
       "2     8937      44394  2002-12-01       4   \n",
       "3   126440      85009  2010-02-27       5   \n",
       "4    57222      85009  2011-10-01       5   \n",
       "\n",
       "                                              review  \n",
       "0  Great with a salad. Cooked on top of stove for...  \n",
       "1  So simple, so delicious! Great for chilly fall...  \n",
       "2  This worked very well and is EASY.  I used not...  \n",
       "3  I made the Mexican topping and took it to bunk...  \n",
       "4  Made the cheddar bacon topping, adding a sprin...  "
      ]
     },
     "execution_count": 14,
     "metadata": {},
     "output_type": "execute_result"
    }
   ],
   "source": [
    "raw_interactions.head()"
   ]
  },
  {
   "cell_type": "code",
   "execution_count": 79,
   "id": "f7e663c2",
   "metadata": {},
   "outputs": [
    {
     "data": {
      "text/plain": [
       "83"
      ]
     },
     "execution_count": 79,
     "metadata": {},
     "output_type": "execute_result"
    }
   ],
   "source": [
    "mask_user = (raw_interactions[\"user_id\"]==38094) | (raw_interactions[\"user_id\"]==1293707)\n",
    "df_user = raw_interactions.loc[mask_user]\n",
    "mask_user.sum()"
   ]
  },
  {
   "cell_type": "code",
   "execution_count": 80,
   "id": "4ec14380",
   "metadata": {},
   "outputs": [],
   "source": [
    "df_user = df_user.sample(frac=1)"
   ]
  },
  {
   "cell_type": "code",
   "execution_count": 82,
   "id": "d458ae09",
   "metadata": {},
   "outputs": [
    {
     "data": {
      "text/html": [
       "<div>\n",
       "<style scoped>\n",
       "    .dataframe tbody tr th:only-of-type {\n",
       "        vertical-align: middle;\n",
       "    }\n",
       "\n",
       "    .dataframe tbody tr th {\n",
       "        vertical-align: top;\n",
       "    }\n",
       "\n",
       "    .dataframe thead th {\n",
       "        text-align: right;\n",
       "    }\n",
       "</style>\n",
       "<table border=\"1\" class=\"dataframe\">\n",
       "  <thead>\n",
       "    <tr style=\"text-align: right;\">\n",
       "      <th></th>\n",
       "      <th>user_id</th>\n",
       "      <th>recipe_id</th>\n",
       "      <th>date</th>\n",
       "      <th>rating</th>\n",
       "      <th>review</th>\n",
       "    </tr>\n",
       "  </thead>\n",
       "  <tbody>\n",
       "    <tr>\n",
       "      <th>471103</th>\n",
       "      <td>38094</td>\n",
       "      <td>49387</td>\n",
       "      <td>2003-12-08</td>\n",
       "      <td>5</td>\n",
       "      <td>Add me to the list of fans!  Lots of flavor - ...</td>\n",
       "    </tr>\n",
       "    <tr>\n",
       "      <th>533572</th>\n",
       "      <td>38094</td>\n",
       "      <td>71569</td>\n",
       "      <td>2003-11-11</td>\n",
       "      <td>5</td>\n",
       "      <td>I thought this might be bland but was pleasant...</td>\n",
       "    </tr>\n",
       "    <tr>\n",
       "      <th>961288</th>\n",
       "      <td>1293707</td>\n",
       "      <td>167066</td>\n",
       "      <td>2011-02-11</td>\n",
       "      <td>5</td>\n",
       "      <td>Very unusual, and absolutely delicious. Looks ...</td>\n",
       "    </tr>\n",
       "    <tr>\n",
       "      <th>567899</th>\n",
       "      <td>38094</td>\n",
       "      <td>81845</td>\n",
       "      <td>2004-01-23</td>\n",
       "      <td>5</td>\n",
       "      <td>I have the same recipe and I agree this is a g...</td>\n",
       "    </tr>\n",
       "    <tr>\n",
       "      <th>879785</th>\n",
       "      <td>1293707</td>\n",
       "      <td>7404</td>\n",
       "      <td>2011-11-07</td>\n",
       "      <td>5</td>\n",
       "      <td>Delicious! I have been craving baked apples. M...</td>\n",
       "    </tr>\n",
       "    <tr>\n",
       "      <th>...</th>\n",
       "      <td>...</td>\n",
       "      <td>...</td>\n",
       "      <td>...</td>\n",
       "      <td>...</td>\n",
       "      <td>...</td>\n",
       "    </tr>\n",
       "    <tr>\n",
       "      <th>643096</th>\n",
       "      <td>38094</td>\n",
       "      <td>40852</td>\n",
       "      <td>2002-09-23</td>\n",
       "      <td>5</td>\n",
       "      <td>Inez says this is good for a dinner party.  Th...</td>\n",
       "    </tr>\n",
       "    <tr>\n",
       "      <th>999230</th>\n",
       "      <td>1293707</td>\n",
       "      <td>29398</td>\n",
       "      <td>2011-01-05</td>\n",
       "      <td>5</td>\n",
       "      <td>This was fabulous! Super easy, delicious, amaz...</td>\n",
       "    </tr>\n",
       "    <tr>\n",
       "      <th>489683</th>\n",
       "      <td>1293707</td>\n",
       "      <td>150898</td>\n",
       "      <td>2011-01-04</td>\n",
       "      <td>5</td>\n",
       "      <td>Delicious! And so very easy. I used fresh rose...</td>\n",
       "    </tr>\n",
       "    <tr>\n",
       "      <th>1109802</th>\n",
       "      <td>38094</td>\n",
       "      <td>35302</td>\n",
       "      <td>2002-08-02</td>\n",
       "      <td>5</td>\n",
       "      <td>Just had this for the second time - obvious th...</td>\n",
       "    </tr>\n",
       "    <tr>\n",
       "      <th>298947</th>\n",
       "      <td>38094</td>\n",
       "      <td>39907</td>\n",
       "      <td>2002-09-12</td>\n",
       "      <td>4</td>\n",
       "      <td>This was my vegetarian dinner tonight.  I used...</td>\n",
       "    </tr>\n",
       "  </tbody>\n",
       "</table>\n",
       "<p>83 rows × 5 columns</p>\n",
       "</div>"
      ],
      "text/plain": [
       "         user_id  recipe_id        date  rating  \\\n",
       "471103     38094      49387  2003-12-08       5   \n",
       "533572     38094      71569  2003-11-11       5   \n",
       "961288   1293707     167066  2011-02-11       5   \n",
       "567899     38094      81845  2004-01-23       5   \n",
       "879785   1293707       7404  2011-11-07       5   \n",
       "...          ...        ...         ...     ...   \n",
       "643096     38094      40852  2002-09-23       5   \n",
       "999230   1293707      29398  2011-01-05       5   \n",
       "489683   1293707     150898  2011-01-04       5   \n",
       "1109802    38094      35302  2002-08-02       5   \n",
       "298947     38094      39907  2002-09-12       4   \n",
       "\n",
       "                                                    review  \n",
       "471103   Add me to the list of fans!  Lots of flavor - ...  \n",
       "533572   I thought this might be bland but was pleasant...  \n",
       "961288   Very unusual, and absolutely delicious. Looks ...  \n",
       "567899   I have the same recipe and I agree this is a g...  \n",
       "879785   Delicious! I have been craving baked apples. M...  \n",
       "...                                                    ...  \n",
       "643096   Inez says this is good for a dinner party.  Th...  \n",
       "999230   This was fabulous! Super easy, delicious, amaz...  \n",
       "489683   Delicious! And so very easy. I used fresh rose...  \n",
       "1109802  Just had this for the second time - obvious th...  \n",
       "298947   This was my vegetarian dinner tonight.  I used...  \n",
       "\n",
       "[83 rows x 5 columns]"
      ]
     },
     "execution_count": 82,
     "metadata": {},
     "output_type": "execute_result"
    }
   ],
   "source": [
    "df_user"
   ]
  },
  {
   "cell_type": "code",
   "execution_count": 83,
   "id": "de026f4a",
   "metadata": {},
   "outputs": [],
   "source": [
    "df_train_user,df_test_user  = train_test_split(df_user, test_size=TEST_SIZE)"
   ]
  },
  {
   "cell_type": "code",
   "execution_count": 84,
   "id": "8cf697fa",
   "metadata": {},
   "outputs": [
    {
     "data": {
      "text/plain": [
       "((66, 5), (17, 5))"
      ]
     },
     "execution_count": 84,
     "metadata": {},
     "output_type": "execute_result"
    }
   ],
   "source": [
    "df_train_user.shape,df_test_user.shape"
   ]
  },
  {
   "cell_type": "code",
   "execution_count": 88,
   "id": "271de784",
   "metadata": {},
   "outputs": [
    {
     "data": {
      "text/plain": [
       "1293707    38\n",
       "38094      28\n",
       "Name: user_id, dtype: int64"
      ]
     },
     "execution_count": 88,
     "metadata": {},
     "output_type": "execute_result"
    }
   ],
   "source": [
    "df_train_user.user_id.value_counts()"
   ]
  },
  {
   "cell_type": "code",
   "execution_count": 90,
   "id": "476fb1ad",
   "metadata": {},
   "outputs": [
    {
     "data": {
      "text/plain": [
       "0.2631578947368421"
      ]
     },
     "execution_count": 90,
     "metadata": {},
     "output_type": "execute_result"
    }
   ],
   "source": [
    "10/38"
   ]
  },
  {
   "cell_type": "code",
   "execution_count": 91,
   "id": "89174e67",
   "metadata": {},
   "outputs": [
    {
     "data": {
      "text/plain": [
       "0.25"
      ]
     },
     "execution_count": 91,
     "metadata": {},
     "output_type": "execute_result"
    }
   ],
   "source": [
    "7/28"
   ]
  },
  {
   "cell_type": "code",
   "execution_count": 89,
   "id": "0dd7f384",
   "metadata": {},
   "outputs": [
    {
     "data": {
      "text/plain": [
       "1293707    10\n",
       "38094       7\n",
       "Name: user_id, dtype: int64"
      ]
     },
     "execution_count": 89,
     "metadata": {},
     "output_type": "execute_result"
    }
   ],
   "source": [
    "df_test_user.user_id.value_counts()"
   ]
  },
  {
   "cell_type": "code",
   "execution_count": 109,
   "id": "e3d70377",
   "metadata": {},
   "outputs": [
    {
     "data": {
      "text/html": [
       "<div>\n",
       "<style scoped>\n",
       "    .dataframe tbody tr th:only-of-type {\n",
       "        vertical-align: middle;\n",
       "    }\n",
       "\n",
       "    .dataframe tbody tr th {\n",
       "        vertical-align: top;\n",
       "    }\n",
       "\n",
       "    .dataframe thead th {\n",
       "        text-align: right;\n",
       "    }\n",
       "</style>\n",
       "<table border=\"1\" class=\"dataframe\">\n",
       "  <thead>\n",
       "    <tr style=\"text-align: right;\">\n",
       "      <th></th>\n",
       "      <th>user_id</th>\n",
       "      <th>recipe_id</th>\n",
       "      <th>date</th>\n",
       "      <th>rating</th>\n",
       "      <th>review</th>\n",
       "    </tr>\n",
       "  </thead>\n",
       "  <tbody>\n",
       "    <tr>\n",
       "      <th>471103</th>\n",
       "      <td>38094</td>\n",
       "      <td>49387</td>\n",
       "      <td>2003-12-08</td>\n",
       "      <td>5</td>\n",
       "      <td>Add me to the list of fans!  Lots of flavor - ...</td>\n",
       "    </tr>\n",
       "    <tr>\n",
       "      <th>533572</th>\n",
       "      <td>38094</td>\n",
       "      <td>71569</td>\n",
       "      <td>2003-11-11</td>\n",
       "      <td>5</td>\n",
       "      <td>I thought this might be bland but was pleasant...</td>\n",
       "    </tr>\n",
       "    <tr>\n",
       "      <th>961288</th>\n",
       "      <td>1293707</td>\n",
       "      <td>167066</td>\n",
       "      <td>2011-02-11</td>\n",
       "      <td>5</td>\n",
       "      <td>Very unusual, and absolutely delicious. Looks ...</td>\n",
       "    </tr>\n",
       "    <tr>\n",
       "      <th>567899</th>\n",
       "      <td>38094</td>\n",
       "      <td>81845</td>\n",
       "      <td>2004-01-23</td>\n",
       "      <td>5</td>\n",
       "      <td>I have the same recipe and I agree this is a g...</td>\n",
       "    </tr>\n",
       "    <tr>\n",
       "      <th>879785</th>\n",
       "      <td>1293707</td>\n",
       "      <td>7404</td>\n",
       "      <td>2011-11-07</td>\n",
       "      <td>5</td>\n",
       "      <td>Delicious! I have been craving baked apples. M...</td>\n",
       "    </tr>\n",
       "    <tr>\n",
       "      <th>...</th>\n",
       "      <td>...</td>\n",
       "      <td>...</td>\n",
       "      <td>...</td>\n",
       "      <td>...</td>\n",
       "      <td>...</td>\n",
       "    </tr>\n",
       "    <tr>\n",
       "      <th>643096</th>\n",
       "      <td>38094</td>\n",
       "      <td>40852</td>\n",
       "      <td>2002-09-23</td>\n",
       "      <td>5</td>\n",
       "      <td>Inez says this is good for a dinner party.  Th...</td>\n",
       "    </tr>\n",
       "    <tr>\n",
       "      <th>999230</th>\n",
       "      <td>1293707</td>\n",
       "      <td>29398</td>\n",
       "      <td>2011-01-05</td>\n",
       "      <td>5</td>\n",
       "      <td>This was fabulous! Super easy, delicious, amaz...</td>\n",
       "    </tr>\n",
       "    <tr>\n",
       "      <th>489683</th>\n",
       "      <td>1293707</td>\n",
       "      <td>150898</td>\n",
       "      <td>2011-01-04</td>\n",
       "      <td>5</td>\n",
       "      <td>Delicious! And so very easy. I used fresh rose...</td>\n",
       "    </tr>\n",
       "    <tr>\n",
       "      <th>1109802</th>\n",
       "      <td>38094</td>\n",
       "      <td>35302</td>\n",
       "      <td>2002-08-02</td>\n",
       "      <td>5</td>\n",
       "      <td>Just had this for the second time - obvious th...</td>\n",
       "    </tr>\n",
       "    <tr>\n",
       "      <th>298947</th>\n",
       "      <td>38094</td>\n",
       "      <td>39907</td>\n",
       "      <td>2002-09-12</td>\n",
       "      <td>4</td>\n",
       "      <td>This was my vegetarian dinner tonight.  I used...</td>\n",
       "    </tr>\n",
       "  </tbody>\n",
       "</table>\n",
       "<p>83 rows × 5 columns</p>\n",
       "</div>"
      ],
      "text/plain": [
       "         user_id  recipe_id        date  rating  \\\n",
       "471103     38094      49387  2003-12-08       5   \n",
       "533572     38094      71569  2003-11-11       5   \n",
       "961288   1293707     167066  2011-02-11       5   \n",
       "567899     38094      81845  2004-01-23       5   \n",
       "879785   1293707       7404  2011-11-07       5   \n",
       "...          ...        ...         ...     ...   \n",
       "643096     38094      40852  2002-09-23       5   \n",
       "999230   1293707      29398  2011-01-05       5   \n",
       "489683   1293707     150898  2011-01-04       5   \n",
       "1109802    38094      35302  2002-08-02       5   \n",
       "298947     38094      39907  2002-09-12       4   \n",
       "\n",
       "                                                    review  \n",
       "471103   Add me to the list of fans!  Lots of flavor - ...  \n",
       "533572   I thought this might be bland but was pleasant...  \n",
       "961288   Very unusual, and absolutely delicious. Looks ...  \n",
       "567899   I have the same recipe and I agree this is a g...  \n",
       "879785   Delicious! I have been craving baked apples. M...  \n",
       "...                                                    ...  \n",
       "643096   Inez says this is good for a dinner party.  Th...  \n",
       "999230   This was fabulous! Super easy, delicious, amaz...  \n",
       "489683   Delicious! And so very easy. I used fresh rose...  \n",
       "1109802  Just had this for the second time - obvious th...  \n",
       "298947   This was my vegetarian dinner tonight.  I used...  \n",
       "\n",
       "[83 rows x 5 columns]"
      ]
     },
     "execution_count": 109,
     "metadata": {},
     "output_type": "execute_result"
    }
   ],
   "source": [
    "df_user"
   ]
  },
  {
   "cell_type": "code",
   "execution_count": 110,
   "id": "215d6cb6",
   "metadata": {},
   "outputs": [
    {
     "data": {
      "text/html": [
       "<div>\n",
       "<style scoped>\n",
       "    .dataframe tbody tr th:only-of-type {\n",
       "        vertical-align: middle;\n",
       "    }\n",
       "\n",
       "    .dataframe tbody tr th {\n",
       "        vertical-align: top;\n",
       "    }\n",
       "\n",
       "    .dataframe thead th {\n",
       "        text-align: right;\n",
       "    }\n",
       "</style>\n",
       "<table border=\"1\" class=\"dataframe\">\n",
       "  <thead>\n",
       "    <tr style=\"text-align: right;\">\n",
       "      <th></th>\n",
       "      <th>user_id</th>\n",
       "      <th>recipe_id</th>\n",
       "      <th>date</th>\n",
       "      <th>rating</th>\n",
       "      <th>review</th>\n",
       "    </tr>\n",
       "  </thead>\n",
       "  <tbody>\n",
       "    <tr>\n",
       "      <th>471103</th>\n",
       "      <td>38094</td>\n",
       "      <td>49387</td>\n",
       "      <td>2003-12-08</td>\n",
       "      <td>5</td>\n",
       "      <td>Add me to the list of fans!  Lots of flavor - ...</td>\n",
       "    </tr>\n",
       "    <tr>\n",
       "      <th>533572</th>\n",
       "      <td>38094</td>\n",
       "      <td>71569</td>\n",
       "      <td>2003-11-11</td>\n",
       "      <td>5</td>\n",
       "      <td>I thought this might be bland but was pleasant...</td>\n",
       "    </tr>\n",
       "    <tr>\n",
       "      <th>961288</th>\n",
       "      <td>1293707</td>\n",
       "      <td>167066</td>\n",
       "      <td>2011-02-11</td>\n",
       "      <td>5</td>\n",
       "      <td>Very unusual, and absolutely delicious. Looks ...</td>\n",
       "    </tr>\n",
       "    <tr>\n",
       "      <th>567899</th>\n",
       "      <td>38094</td>\n",
       "      <td>81845</td>\n",
       "      <td>2004-01-23</td>\n",
       "      <td>5</td>\n",
       "      <td>I have the same recipe and I agree this is a g...</td>\n",
       "    </tr>\n",
       "    <tr>\n",
       "      <th>879785</th>\n",
       "      <td>1293707</td>\n",
       "      <td>7404</td>\n",
       "      <td>2011-11-07</td>\n",
       "      <td>5</td>\n",
       "      <td>Delicious! I have been craving baked apples. M...</td>\n",
       "    </tr>\n",
       "    <tr>\n",
       "      <th>...</th>\n",
       "      <td>...</td>\n",
       "      <td>...</td>\n",
       "      <td>...</td>\n",
       "      <td>...</td>\n",
       "      <td>...</td>\n",
       "    </tr>\n",
       "    <tr>\n",
       "      <th>842358</th>\n",
       "      <td>1293707</td>\n",
       "      <td>94598</td>\n",
       "      <td>2011-07-17</td>\n",
       "      <td>5</td>\n",
       "      <td>Absolutely delicious, and just the perfect mea...</td>\n",
       "    </tr>\n",
       "    <tr>\n",
       "      <th>643096</th>\n",
       "      <td>38094</td>\n",
       "      <td>40852</td>\n",
       "      <td>2002-09-23</td>\n",
       "      <td>5</td>\n",
       "      <td>Inez says this is good for a dinner party.  Th...</td>\n",
       "    </tr>\n",
       "    <tr>\n",
       "      <th>999230</th>\n",
       "      <td>1293707</td>\n",
       "      <td>29398</td>\n",
       "      <td>2011-01-05</td>\n",
       "      <td>5</td>\n",
       "      <td>This was fabulous! Super easy, delicious, amaz...</td>\n",
       "    </tr>\n",
       "    <tr>\n",
       "      <th>489683</th>\n",
       "      <td>1293707</td>\n",
       "      <td>150898</td>\n",
       "      <td>2011-01-04</td>\n",
       "      <td>5</td>\n",
       "      <td>Delicious! And so very easy. I used fresh rose...</td>\n",
       "    </tr>\n",
       "    <tr>\n",
       "      <th>1109802</th>\n",
       "      <td>38094</td>\n",
       "      <td>35302</td>\n",
       "      <td>2002-08-02</td>\n",
       "      <td>5</td>\n",
       "      <td>Just had this for the second time - obvious th...</td>\n",
       "    </tr>\n",
       "  </tbody>\n",
       "</table>\n",
       "<p>82 rows × 5 columns</p>\n",
       "</div>"
      ],
      "text/plain": [
       "         user_id  recipe_id        date  rating  \\\n",
       "471103     38094      49387  2003-12-08       5   \n",
       "533572     38094      71569  2003-11-11       5   \n",
       "961288   1293707     167066  2011-02-11       5   \n",
       "567899     38094      81845  2004-01-23       5   \n",
       "879785   1293707       7404  2011-11-07       5   \n",
       "...          ...        ...         ...     ...   \n",
       "842358   1293707      94598  2011-07-17       5   \n",
       "643096     38094      40852  2002-09-23       5   \n",
       "999230   1293707      29398  2011-01-05       5   \n",
       "489683   1293707     150898  2011-01-04       5   \n",
       "1109802    38094      35302  2002-08-02       5   \n",
       "\n",
       "                                                    review  \n",
       "471103   Add me to the list of fans!  Lots of flavor - ...  \n",
       "533572   I thought this might be bland but was pleasant...  \n",
       "961288   Very unusual, and absolutely delicious. Looks ...  \n",
       "567899   I have the same recipe and I agree this is a g...  \n",
       "879785   Delicious! I have been craving baked apples. M...  \n",
       "...                                                    ...  \n",
       "842358   Absolutely delicious, and just the perfect mea...  \n",
       "643096   Inez says this is good for a dinner party.  Th...  \n",
       "999230   This was fabulous! Super easy, delicious, amaz...  \n",
       "489683   Delicious! And so very easy. I used fresh rose...  \n",
       "1109802  Just had this for the second time - obvious th...  \n",
       "\n",
       "[82 rows x 5 columns]"
      ]
     },
     "execution_count": 110,
     "metadata": {},
     "output_type": "execute_result"
    }
   ],
   "source": [
    "df_user.iloc[:-1]"
   ]
  },
  {
   "cell_type": "code",
   "execution_count": 118,
   "id": "77b3226e",
   "metadata": {},
   "outputs": [
    {
     "data": {
      "text/html": [
       "<div>\n",
       "<style scoped>\n",
       "    .dataframe tbody tr th:only-of-type {\n",
       "        vertical-align: middle;\n",
       "    }\n",
       "\n",
       "    .dataframe tbody tr th {\n",
       "        vertical-align: top;\n",
       "    }\n",
       "\n",
       "    .dataframe thead th {\n",
       "        text-align: right;\n",
       "    }\n",
       "</style>\n",
       "<table border=\"1\" class=\"dataframe\">\n",
       "  <thead>\n",
       "    <tr style=\"text-align: right;\">\n",
       "      <th></th>\n",
       "      <th>user_id</th>\n",
       "      <th>recipe_id</th>\n",
       "      <th>date</th>\n",
       "      <th>rating</th>\n",
       "      <th>review</th>\n",
       "    </tr>\n",
       "  </thead>\n",
       "  <tbody>\n",
       "    <tr>\n",
       "      <th>298947</th>\n",
       "      <td>38094</td>\n",
       "      <td>39907</td>\n",
       "      <td>2002-09-12</td>\n",
       "      <td>4</td>\n",
       "      <td>This was my vegetarian dinner tonight.  I used...</td>\n",
       "    </tr>\n",
       "  </tbody>\n",
       "</table>\n",
       "</div>"
      ],
      "text/plain": [
       "        user_id  recipe_id        date  rating  \\\n",
       "298947    38094      39907  2002-09-12       4   \n",
       "\n",
       "                                                   review  \n",
       "298947  This was my vegetarian dinner tonight.  I used...  "
      ]
     },
     "execution_count": 118,
     "metadata": {},
     "output_type": "execute_result"
    }
   ],
   "source": [
    "df_user.iloc[-1:]"
   ]
  },
  {
   "cell_type": "code",
   "execution_count": 119,
   "id": "47fd3c86",
   "metadata": {},
   "outputs": [],
   "source": [
    "def ad_train_test_split(df, test_size):\n",
    "    df_train = pd.DataFrame()\n",
    "    df_test = pd.DataFrame()\n",
    "    \n",
    "    user_normal_list=[]\n",
    "#     user_single = []\n",
    "    \n",
    "    users_unique = df[\"user_id\"].unique()\n",
    "    for user in tqdm(users_unique):\n",
    "        mask_user = df[\"user_id\"]==user\n",
    "        n_interactions_user = mask_user.sum()\n",
    "        df_user = df.loc[mask_user]\n",
    "        if n_interactions_user < int(1/test_size):\n",
    "            df_user = df_user.sample(frac=1) #shuffle rows\n",
    "            if n_interactions_user>1:\n",
    "                df_train_user = df_user.iloc[:-1]\n",
    "                df_test_user = df_user.iloc[-1:]\n",
    "                df_train = pd.concat([df_train,df_train_user])\n",
    "                df_test = pd.concat([df_test,df_test_user])\n",
    "            else: #if  only one interaction pull in train\n",
    "                user_normal_list.append(user)\n",
    "        else: #if obs>= split size\n",
    "            user_normal_list.append(user)\n",
    "    \n",
    "    #split normal by sklearn\n",
    "    df_normal = df[df[\"user_id\"].isin(user_normal_list)]\n",
    "    df_train_normal,df_test_normal  = train_test_split(df_normal, test_size=TEST_SIZE)\n",
    "    \n",
    "    #append all\n",
    "    df_train = pd.concat([df_train,df_train_normal])\n",
    "    df_test = pd.concat([df_test,df_test_normal])\n",
    "    return (df_train,df_test)"
   ]
  },
  {
   "cell_type": "code",
   "execution_count": 120,
   "id": "9966149e",
   "metadata": {},
   "outputs": [
    {
     "data": {
      "application/vnd.jupyter.widget-view+json": {
       "model_id": "5f7bd30b08664d2dbf0439ee47270a9c",
       "version_major": 2,
       "version_minor": 0
      },
      "text/plain": [
       "  0%|          | 0/226570 [00:00<?, ?it/s]"
      ]
     },
     "metadata": {},
     "output_type": "display_data"
    },
    {
     "data": {
      "text/plain": [
       "((887483, 5), (244884, 5))"
      ]
     },
     "execution_count": 120,
     "metadata": {},
     "output_type": "execute_result"
    }
   ],
   "source": [
    "train_validation, test_set = ad_train_test_split(raw_interactions, test_size=TEST_SIZE)\n",
    "train_validation.shape, test_set.shape"
   ]
  },
  {
   "cell_type": "code",
   "execution_count": 122,
   "id": "4d86790f",
   "metadata": {},
   "outputs": [
    {
     "data": {
      "text/plain": [
       "3.6240954901096027"
      ]
     },
     "execution_count": 122,
     "metadata": {},
     "output_type": "execute_result"
    }
   ],
   "source": [
    "887483/244884"
   ]
  },
  {
   "cell_type": "code",
   "execution_count": 123,
   "id": "f592fc39",
   "metadata": {},
   "outputs": [
    {
     "data": {
      "text/plain": [
       "0"
      ]
     },
     "execution_count": 123,
     "metadata": {},
     "output_type": "execute_result"
    }
   ],
   "source": [
    "(887483+244884)-1132367"
   ]
  },
  {
   "cell_type": "markdown",
   "id": "66115df8",
   "metadata": {},
   "source": [
    "### Smell test"
   ]
  },
  {
   "cell_type": "code",
   "execution_count": 124,
   "id": "d5ae8c66",
   "metadata": {},
   "outputs": [],
   "source": [
    "train_users = set(train_validation[\"user_id\"])\n",
    "test_users = set(test_set[\"user_id\"])"
   ]
  },
  {
   "cell_type": "code",
   "execution_count": 125,
   "id": "1c675071",
   "metadata": {},
   "outputs": [
    {
     "data": {
      "text/plain": [
       "135740"
      ]
     },
     "execution_count": 125,
     "metadata": {},
     "output_type": "execute_result"
    }
   ],
   "source": [
    "len(train_users-test_users)"
   ]
  },
  {
   "cell_type": "code",
   "execution_count": 126,
   "id": "05d48982",
   "metadata": {},
   "outputs": [
    {
     "data": {
      "text/plain": [
       "33554"
      ]
     },
     "execution_count": 126,
     "metadata": {},
     "output_type": "execute_result"
    }
   ],
   "source": [
    "len(test_users-train_users)"
   ]
  },
  {
   "cell_type": "code",
   "execution_count": 127,
   "id": "b1956451",
   "metadata": {},
   "outputs": [],
   "source": [
    "only_test_users = len(test_users-train_users)"
   ]
  },
  {
   "cell_type": "code",
   "execution_count": 129,
   "id": "dc2528bf",
   "metadata": {},
   "outputs": [],
   "source": [
    "only_test_df = raw_interactions[raw_interactions['user_id'].isin(list(test_users-train_users))]"
   ]
  },
  {
   "cell_type": "code",
   "execution_count": 135,
   "id": "77fd11ac",
   "metadata": {},
   "outputs": [
    {
     "data": {
      "text/plain": [
       "1    33553\n",
       "5        1\n",
       "Name: user_id, dtype: int64"
      ]
     },
     "execution_count": 135,
     "metadata": {},
     "output_type": "execute_result"
    }
   ],
   "source": [
    "only_test_df[\"user_id\"].value_counts().value_counts()"
   ]
  },
  {
   "cell_type": "markdown",
   "id": "b4368b88",
   "metadata": {},
   "source": [
    "### Write to Train/Test"
   ]
  },
  {
   "cell_type": "code",
   "execution_count": 136,
   "id": "14d91b24",
   "metadata": {},
   "outputs": [],
   "source": [
    "train_validation.to_csv(\"../../data/recommendation/ad_interaction_train.csv\",index=False)\n",
    "test_set.to_csv(\"../../data/recommendation/ad_interaction_test.csv\",index=False)"
   ]
  },
  {
   "cell_type": "code",
   "execution_count": null,
   "id": "06027145",
   "metadata": {},
   "outputs": [],
   "source": []
  }
 ],
 "metadata": {
  "kernelspec": {
   "display_name": "Python 3 (ipykernel)",
   "language": "python",
   "name": "python3"
  },
  "language_info": {
   "codemirror_mode": {
    "name": "ipython",
    "version": 3
   },
   "file_extension": ".py",
   "mimetype": "text/x-python",
   "name": "python",
   "nbconvert_exporter": "python",
   "pygments_lexer": "ipython3",
   "version": "3.9.13"
  }
 },
 "nbformat": 4,
 "nbformat_minor": 5
}
