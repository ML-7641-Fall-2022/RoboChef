{
 "cells": [
  {
   "cell_type": "code",
   "execution_count": 1,
   "id": "6283f92b",
   "metadata": {},
   "outputs": [
    {
     "name": "stdout",
     "output_type": "stream",
     "text": [
      "/Users/ashish1610dhiman/data_projects/fall22_hw/RoboChef/notebooks/recommendation\r\n"
     ]
    }
   ],
   "source": [
    "!pwd"
   ]
  },
  {
   "cell_type": "code",
   "execution_count": 2,
   "id": "a6091ce7",
   "metadata": {},
   "outputs": [],
   "source": [
    "import pandas as pd\n",
    "from surprise import Dataset\n",
    "from surprise import Reader\n",
    "\n",
    "from surprise import accuracy, Dataset, SVD\n",
    "from surprise.model_selection import train_test_split as train_test_split_surprise\n",
    "from surprise import Dataset, SVD\n",
    "from surprise.model_selection import cross_validate, GridSearchCV\n",
    "from sklearn.model_selection import train_test_split\n",
    "\n",
    "import numpy as np"
   ]
  },
  {
   "cell_type": "code",
   "execution_count": 3,
   "id": "b67caae9",
   "metadata": {},
   "outputs": [
    {
     "data": {
      "text/plain": [
       "(1132367, 5)"
      ]
     },
     "execution_count": 3,
     "metadata": {},
     "output_type": "execute_result"
    }
   ],
   "source": [
    "raw_interactions = pd.read_csv(\"../../data/recommendation/RAW_interactions.csv\")\n",
    "raw_interactions.shape"
   ]
  },
  {
   "cell_type": "markdown",
   "id": "9c45f880",
   "metadata": {},
   "source": [
    "### Create Train/Test/validation from raw"
   ]
  },
  {
   "cell_type": "code",
   "execution_count": 4,
   "id": "21e4c6f8",
   "metadata": {},
   "outputs": [],
   "source": [
    "TRAIN__Validation_SIZE = 0.8\n",
    "TEST_SIZE = 0.2"
   ]
  },
  {
   "cell_type": "code",
   "execution_count": 5,
   "id": "87b76310",
   "metadata": {},
   "outputs": [
    {
     "data": {
      "text/plain": [
       "((905893, 5), (226474, 5))"
      ]
     },
     "execution_count": 5,
     "metadata": {},
     "output_type": "execute_result"
    }
   ],
   "source": [
    "train_validation, test_set = train_test_split(raw_interactions, test_size=TEST_SIZE)\n",
    "train_validation.shape, test_set.shape"
   ]
  },
  {
   "cell_type": "code",
   "execution_count": 6,
   "id": "ac232389",
   "metadata": {},
   "outputs": [],
   "source": [
    "train_validation.to_csv(\"../../data/recommendation/ad_interaction_train.csv\")\n",
    "test_set.to_csv(\"../../data/recommendation/ad_interaction_test.csv\")"
   ]
  },
  {
   "cell_type": "code",
   "execution_count": 7,
   "id": "71c4995d",
   "metadata": {},
   "outputs": [
    {
     "data": {
      "text/plain": [
       "(80212, 4)"
      ]
     },
     "execution_count": 7,
     "metadata": {},
     "output_type": "execute_result"
    }
   ],
   "source": [
    "abhinav_test = pd.read_csv(\"../../data/recommendation/df_collaborative_test.csv\")\n",
    "abhinav_test.shape"
   ]
  },
  {
   "cell_type": "code",
   "execution_count": 8,
   "id": "ce0cda71",
   "metadata": {},
   "outputs": [
    {
     "data": {
      "text/plain": [
       "Index(['Unnamed: 0', 'rating', 'user_id', 'recipe_id'], dtype='object')"
      ]
     },
     "execution_count": 8,
     "metadata": {},
     "output_type": "execute_result"
    }
   ],
   "source": [
    "abhinav_test.columns"
   ]
  },
  {
   "cell_type": "code",
   "execution_count": 9,
   "id": "2d160072",
   "metadata": {},
   "outputs": [
    {
     "data": {
      "text/plain": [
       "Unnamed: 0    int64\n",
       "rating        int64\n",
       "user_id       int64\n",
       "recipe_id     int64\n",
       "dtype: object"
      ]
     },
     "execution_count": 9,
     "metadata": {},
     "output_type": "execute_result"
    }
   ],
   "source": [
    "abhinav_test.dtypes"
   ]
  },
  {
   "cell_type": "code",
   "execution_count": 23,
   "id": "5820e396",
   "metadata": {},
   "outputs": [
    {
     "data": {
      "text/plain": [
       "user_id       int64\n",
       "recipe_id     int64\n",
       "date         object\n",
       "rating        int64\n",
       "review       object\n",
       "dtype: object"
      ]
     },
     "execution_count": 23,
     "metadata": {},
     "output_type": "execute_result"
    }
   ],
   "source": [
    "test_set.dtypes"
   ]
  },
  {
   "cell_type": "code",
   "execution_count": 10,
   "id": "608f181f",
   "metadata": {},
   "outputs": [
    {
     "data": {
      "text/plain": [
       "10512"
      ]
     },
     "execution_count": 10,
     "metadata": {},
     "output_type": "execute_result"
    }
   ],
   "source": [
    "len(set(abhinav_test.user_id)-set(train_validation.user_id))"
   ]
  },
  {
   "cell_type": "code",
   "execution_count": 11,
   "id": "f1cc33bd",
   "metadata": {},
   "outputs": [
    {
     "data": {
      "text/plain": [
       "{1535,\n",
       " 1581,\n",
       " 1634,\n",
       " 1676,\n",
       " 1755,\n",
       " 1773,\n",
       " 1792,\n",
       " 1891,\n",
       " 1938,\n",
       " 1962,\n",
       " 1986,\n",
       " 2008,\n",
       " 2054,\n",
       " 2059,\n",
       " 2070,\n",
       " 2073,\n",
       " 2095,\n",
       " 2148,\n",
       " 2178,\n",
       " 2205,\n",
       " 2246,\n",
       " 2310,\n",
       " 2312,\n",
       " 2378,\n",
       " 2447,\n",
       " 2525,\n",
       " 2536,\n",
       " 2555,\n",
       " 2557,\n",
       " 2585,\n",
       " 2586,\n",
       " 2595,\n",
       " 2611,\n",
       " 2625,\n",
       " 2693,\n",
       " 2695,\n",
       " 2703,\n",
       " 2781,\n",
       " 2811,\n",
       " 2848,\n",
       " 2957,\n",
       " 2962,\n",
       " 2971,\n",
       " 2985,\n",
       " 2998,\n",
       " 2999,\n",
       " 3090,\n",
       " 3101,\n",
       " 3111,\n",
       " 3114,\n",
       " 3153,\n",
       " 3187,\n",
       " 3198,\n",
       " 3201,\n",
       " 3205,\n",
       " 3228,\n",
       " 3248,\n",
       " 3253,\n",
       " 3288,\n",
       " 3292,\n",
       " 3307,\n",
       " 3337,\n",
       " 3385,\n",
       " 3420,\n",
       " 3460,\n",
       " 3484,\n",
       " 3504,\n",
       " 3505,\n",
       " 3514,\n",
       " 3518,\n",
       " 3525,\n",
       " 3539,\n",
       " 3566,\n",
       " 3572,\n",
       " 3575,\n",
       " 3577,\n",
       " 3607,\n",
       " 3619,\n",
       " 3622,\n",
       " 3627,\n",
       " 3634,\n",
       " 3652,\n",
       " 3657,\n",
       " 3672,\n",
       " 3674,\n",
       " 3678,\n",
       " 3682,\n",
       " 3731,\n",
       " 3735,\n",
       " 3775,\n",
       " 3793,\n",
       " 3794,\n",
       " 3807,\n",
       " 3810,\n",
       " 3813,\n",
       " 3820,\n",
       " 3824,\n",
       " 3844,\n",
       " 3858,\n",
       " 3861,\n",
       " 3895,\n",
       " 3934,\n",
       " 3962,\n",
       " 3980,\n",
       " 3981,\n",
       " 3989,\n",
       " 4005,\n",
       " 4039,\n",
       " 4043,\n",
       " 4046,\n",
       " 4073,\n",
       " 4074,\n",
       " 4093,\n",
       " 4096,\n",
       " 4098,\n",
       " 4099,\n",
       " 4105,\n",
       " 4120,\n",
       " 4141,\n",
       " 4142,\n",
       " 4149,\n",
       " 4150,\n",
       " 4151,\n",
       " 4155,\n",
       " 4166,\n",
       " 4174,\n",
       " 4177,\n",
       " 4203,\n",
       " 4241,\n",
       " 4242,\n",
       " 4262,\n",
       " 4272,\n",
       " 4287,\n",
       " 4291,\n",
       " 4309,\n",
       " 4312,\n",
       " 4317,\n",
       " 4322,\n",
       " 4335,\n",
       " 4337,\n",
       " 4340,\n",
       " 4347,\n",
       " 4353,\n",
       " 4379,\n",
       " 4395,\n",
       " 4399,\n",
       " 4402,\n",
       " 4411,\n",
       " 4433,\n",
       " 4439,\n",
       " 4442,\n",
       " 4445,\n",
       " 4453,\n",
       " 4464,\n",
       " 4470,\n",
       " 4487,\n",
       " 4500,\n",
       " 4524,\n",
       " 4535,\n",
       " 4543,\n",
       " 4564,\n",
       " 4601,\n",
       " 4608,\n",
       " 4610,\n",
       " 4627,\n",
       " 4642,\n",
       " 4657,\n",
       " 4667,\n",
       " 4669,\n",
       " 4684,\n",
       " 4722,\n",
       " 4740,\n",
       " 4753,\n",
       " 4769,\n",
       " 4796,\n",
       " 4828,\n",
       " 4861,\n",
       " 4862,\n",
       " 4867,\n",
       " 4891,\n",
       " 4910,\n",
       " 4932,\n",
       " 4938,\n",
       " 5009,\n",
       " 5012,\n",
       " 5049,\n",
       " 5060,\n",
       " 5061,\n",
       " 5076,\n",
       " 5087,\n",
       " 5090,\n",
       " 5135,\n",
       " 5147,\n",
       " 5148,\n",
       " 5186,\n",
       " 5190,\n",
       " 5197,\n",
       " 5199,\n",
       " 5203,\n",
       " 5227,\n",
       " 5232,\n",
       " 5264,\n",
       " 5265,\n",
       " 5280,\n",
       " 5285,\n",
       " 5287,\n",
       " 5300,\n",
       " 5307,\n",
       " 5328,\n",
       " 5355,\n",
       " 5357,\n",
       " 5362,\n",
       " 5408,\n",
       " 5420,\n",
       " 5421,\n",
       " 5427,\n",
       " 5465,\n",
       " 5471,\n",
       " 5484,\n",
       " 5495,\n",
       " 5503,\n",
       " 5568,\n",
       " 5581,\n",
       " 5585,\n",
       " 5633,\n",
       " 5644,\n",
       " 5659,\n",
       " 5662,\n",
       " 5672,\n",
       " 5681,\n",
       " 5683,\n",
       " 5684,\n",
       " 5686,\n",
       " 5689,\n",
       " 5695,\n",
       " 5699,\n",
       " 5714,\n",
       " 5743,\n",
       " 5745,\n",
       " 5748,\n",
       " 5751,\n",
       " 5766,\n",
       " 5788,\n",
       " 5793,\n",
       " 5815,\n",
       " 5830,\n",
       " 5842,\n",
       " 5888,\n",
       " 5896,\n",
       " 5898,\n",
       " 5907,\n",
       " 5920,\n",
       " 5936,\n",
       " 5946,\n",
       " 5951,\n",
       " 5953,\n",
       " 5964,\n",
       " 5965,\n",
       " 5974,\n",
       " 5975,\n",
       " 5978,\n",
       " 5979,\n",
       " 5988,\n",
       " 5999,\n",
       " 6007,\n",
       " 6010,\n",
       " 6013,\n",
       " 6014,\n",
       " 6037,\n",
       " 6075,\n",
       " 6101,\n",
       " 6111,\n",
       " 6123,\n",
       " 6125,\n",
       " 6127,\n",
       " 6134,\n",
       " 6143,\n",
       " 6144,\n",
       " 6164,\n",
       " 6181,\n",
       " 6183,\n",
       " 6199,\n",
       " 6234,\n",
       " 6245,\n",
       " 6258,\n",
       " 6271,\n",
       " 6303,\n",
       " 6313,\n",
       " 6323,\n",
       " 6331,\n",
       " 6338,\n",
       " 6357,\n",
       " 6358,\n",
       " 6359,\n",
       " 6389,\n",
       " 6390,\n",
       " 6406,\n",
       " 6408,\n",
       " 6412,\n",
       " 6415,\n",
       " 6417,\n",
       " 6418,\n",
       " 6427,\n",
       " 6434,\n",
       " 6512,\n",
       " 6520,\n",
       " 6536,\n",
       " 6545,\n",
       " 6550,\n",
       " 6563,\n",
       " 6584,\n",
       " 6600,\n",
       " 6614,\n",
       " 6651,\n",
       " 6660,\n",
       " 6664,\n",
       " 6688,\n",
       " 6702,\n",
       " 6713,\n",
       " 6719,\n",
       " 6733,\n",
       " 6748,\n",
       " 6755,\n",
       " 6765,\n",
       " 6810,\n",
       " 6826,\n",
       " 6833,\n",
       " 6836,\n",
       " 6863,\n",
       " 6897,\n",
       " 6908,\n",
       " 6923,\n",
       " 6928,\n",
       " 6975,\n",
       " 6976,\n",
       " 6990,\n",
       " 7008,\n",
       " 7066,\n",
       " 7085,\n",
       " 7087,\n",
       " 7093,\n",
       " 7096,\n",
       " 7108,\n",
       " 7119,\n",
       " 7164,\n",
       " 7207,\n",
       " 7209,\n",
       " 7236,\n",
       " 7240,\n",
       " 7261,\n",
       " 7276,\n",
       " 7278,\n",
       " 7279,\n",
       " 7308,\n",
       " 7329,\n",
       " 7332,\n",
       " 7381,\n",
       " 7384,\n",
       " 7396,\n",
       " 7401,\n",
       " 7407,\n",
       " 7416,\n",
       " 7449,\n",
       " 7456,\n",
       " 7504,\n",
       " 7507,\n",
       " 7544,\n",
       " 7562,\n",
       " 7619,\n",
       " 7640,\n",
       " 7643,\n",
       " 7673,\n",
       " 7676,\n",
       " 7683,\n",
       " 7697,\n",
       " 7713,\n",
       " 7745,\n",
       " 7747,\n",
       " 7768,\n",
       " 7770,\n",
       " 7798,\n",
       " 7802,\n",
       " 7804,\n",
       " 7813,\n",
       " 7819,\n",
       " 7890,\n",
       " 7901,\n",
       " 7903,\n",
       " 7920,\n",
       " 7934,\n",
       " 7961,\n",
       " 7978,\n",
       " 7994,\n",
       " 7995,\n",
       " 8005,\n",
       " 8021,\n",
       " 8032,\n",
       " 8061,\n",
       " 8086,\n",
       " 8118,\n",
       " 8172,\n",
       " 8195,\n",
       " 8221,\n",
       " 8229,\n",
       " 8239,\n",
       " 8306,\n",
       " 8310,\n",
       " 8319,\n",
       " 8321,\n",
       " 8342,\n",
       " 8352,\n",
       " 8359,\n",
       " 8367,\n",
       " 8377,\n",
       " 8395,\n",
       " 8398,\n",
       " 8400,\n",
       " 8414,\n",
       " 8418,\n",
       " 8508,\n",
       " 8526,\n",
       " 8560,\n",
       " 8569,\n",
       " 8575,\n",
       " 8580,\n",
       " 8584,\n",
       " 8591,\n",
       " 8606,\n",
       " 8611,\n",
       " 8619,\n",
       " 8625,\n",
       " 8629,\n",
       " 8631,\n",
       " 8639,\n",
       " 8653,\n",
       " 8679,\n",
       " 8681,\n",
       " 8688,\n",
       " 8714,\n",
       " 8728,\n",
       " 8763,\n",
       " 8792,\n",
       " 8797,\n",
       " 8805,\n",
       " 8829,\n",
       " 8836,\n",
       " 8869,\n",
       " 8897,\n",
       " 8908,\n",
       " 8936,\n",
       " 8937,\n",
       " 8938,\n",
       " 8940,\n",
       " 8944,\n",
       " 8967,\n",
       " 8983,\n",
       " 9006,\n",
       " 9007,\n",
       " 9027,\n",
       " 9044,\n",
       " 9045,\n",
       " 9061,\n",
       " 9080,\n",
       " 9082,\n",
       " 9105,\n",
       " 9157,\n",
       " 9158,\n",
       " 9178,\n",
       " 9225,\n",
       " 9235,\n",
       " 9236,\n",
       " 9237,\n",
       " 9244,\n",
       " 9319,\n",
       " 9328,\n",
       " 9333,\n",
       " 9347,\n",
       " 9433,\n",
       " 9441,\n",
       " 9448,\n",
       " 9453,\n",
       " 9462,\n",
       " 9468,\n",
       " 9486,\n",
       " 9516,\n",
       " 9537,\n",
       " 9542,\n",
       " 9579,\n",
       " 9580,\n",
       " 9581,\n",
       " 9590,\n",
       " 9596,\n",
       " 9622,\n",
       " 9624,\n",
       " 9672,\n",
       " 9674,\n",
       " 9679,\n",
       " 9688,\n",
       " 9690,\n",
       " 9717,\n",
       " 9725,\n",
       " 9746,\n",
       " 9748,\n",
       " 9779,\n",
       " 9813,\n",
       " 9841,\n",
       " 9869,\n",
       " 9876,\n",
       " 9926,\n",
       " 10002,\n",
       " 10013,\n",
       " 10028,\n",
       " 10033,\n",
       " 10053,\n",
       " 10054,\n",
       " 10069,\n",
       " 10075,\n",
       " 10113,\n",
       " 10120,\n",
       " 10127,\n",
       " 10129,\n",
       " 10131,\n",
       " 10174,\n",
       " 10175,\n",
       " 10216,\n",
       " 10217,\n",
       " 10226,\n",
       " 10233,\n",
       " 10257,\n",
       " 10260,\n",
       " 10263,\n",
       " 10269,\n",
       " 10271,\n",
       " 10275,\n",
       " 10291,\n",
       " 10302,\n",
       " 10306,\n",
       " 10314,\n",
       " 10332,\n",
       " 10339,\n",
       " 10356,\n",
       " 10371,\n",
       " 10394,\n",
       " 10403,\n",
       " 10404,\n",
       " 10426,\n",
       " 10437,\n",
       " 10445,\n",
       " 10448,\n",
       " 10466,\n",
       " 10486,\n",
       " 10502,\n",
       " 10505,\n",
       " 10511,\n",
       " 10548,\n",
       " 10594,\n",
       " 10623,\n",
       " 10649,\n",
       " 10664,\n",
       " 10675,\n",
       " 10676,\n",
       " 10678,\n",
       " 10693,\n",
       " 10701,\n",
       " 10711,\n",
       " 10715,\n",
       " 10769,\n",
       " 10781,\n",
       " 10797,\n",
       " 10802,\n",
       " 10808,\n",
       " 10814,\n",
       " 10823,\n",
       " 10864,\n",
       " 10881,\n",
       " 10896,\n",
       " 10901,\n",
       " 10902,\n",
       " 10934,\n",
       " 10943,\n",
       " 10951,\n",
       " 10962,\n",
       " 10966,\n",
       " 10979,\n",
       " 10997,\n",
       " 11000,\n",
       " 11032,\n",
       " 11044,\n",
       " 11053,\n",
       " 11061,\n",
       " 11065,\n",
       " 11077,\n",
       " 11109,\n",
       " 11119,\n",
       " 11127,\n",
       " 11176,\n",
       " 11187,\n",
       " 11195,\n",
       " 11221,\n",
       " 11231,\n",
       " 11236,\n",
       " 11285,\n",
       " 11291,\n",
       " 11295,\n",
       " 11297,\n",
       " 11299,\n",
       " 11306,\n",
       " 11368,\n",
       " 11433,\n",
       " 11455,\n",
       " 11461,\n",
       " 11463,\n",
       " 11464,\n",
       " 11498,\n",
       " 11511,\n",
       " 11514,\n",
       " 11543,\n",
       " 11586,\n",
       " 11587,\n",
       " 11589,\n",
       " 11591,\n",
       " 11613,\n",
       " 11674,\n",
       " 11688,\n",
       " 11697,\n",
       " 11702,\n",
       " 11727,\n",
       " 11733,\n",
       " 11739,\n",
       " 11768,\n",
       " 11787,\n",
       " 11800,\n",
       " 11811,\n",
       " 11815,\n",
       " 11842,\n",
       " 11871,\n",
       " 11882,\n",
       " 11905,\n",
       " 11942,\n",
       " 11967,\n",
       " 11984,\n",
       " 11989,\n",
       " 12031,\n",
       " 12069,\n",
       " 12076,\n",
       " 12118,\n",
       " 12120,\n",
       " 12129,\n",
       " 12142,\n",
       " 12153,\n",
       " 12166,\n",
       " 12168,\n",
       " 12192,\n",
       " 12200,\n",
       " 12241,\n",
       " 12246,\n",
       " 12250,\n",
       " 12258,\n",
       " 12265,\n",
       " 12299,\n",
       " 12301,\n",
       " 12307,\n",
       " 12311,\n",
       " 12312,\n",
       " 12330,\n",
       " 12353,\n",
       " 12360,\n",
       " 12383,\n",
       " 12386,\n",
       " 12387,\n",
       " 12392,\n",
       " 12398,\n",
       " 12423,\n",
       " 12439}"
      ]
     },
     "execution_count": 11,
     "metadata": {},
     "output_type": "execute_result"
    }
   ],
   "source": [
    "set(abhinav_test.user_id).intersection(set(train_validation.user_id))"
   ]
  },
  {
   "cell_type": "code",
   "execution_count": 12,
   "id": "b938de84",
   "metadata": {},
   "outputs": [
    {
     "data": {
      "text/plain": [
       "9906"
      ]
     },
     "execution_count": 12,
     "metadata": {},
     "output_type": "execute_result"
    }
   ],
   "source": [
    "len(set(abhinav_test.recipe_id)-set(train_validation.recipe_id))"
   ]
  },
  {
   "cell_type": "code",
   "execution_count": 13,
   "id": "d88e33f4",
   "metadata": {},
   "outputs": [
    {
     "data": {
      "text/html": [
       "<div>\n",
       "<style scoped>\n",
       "    .dataframe tbody tr th:only-of-type {\n",
       "        vertical-align: middle;\n",
       "    }\n",
       "\n",
       "    .dataframe tbody tr th {\n",
       "        vertical-align: top;\n",
       "    }\n",
       "\n",
       "    .dataframe thead th {\n",
       "        text-align: right;\n",
       "    }\n",
       "</style>\n",
       "<table border=\"1\" class=\"dataframe\">\n",
       "  <thead>\n",
       "    <tr style=\"text-align: right;\">\n",
       "      <th></th>\n",
       "      <th>Unnamed: 0</th>\n",
       "      <th>rating</th>\n",
       "      <th>user_id</th>\n",
       "      <th>recipe_id</th>\n",
       "    </tr>\n",
       "  </thead>\n",
       "  <tbody>\n",
       "    <tr>\n",
       "      <th>1675</th>\n",
       "      <td>207547</td>\n",
       "      <td>5</td>\n",
       "      <td>1535</td>\n",
       "      <td>2356</td>\n",
       "    </tr>\n",
       "    <tr>\n",
       "      <th>43470</th>\n",
       "      <td>284632</td>\n",
       "      <td>5</td>\n",
       "      <td>1535</td>\n",
       "      <td>7880</td>\n",
       "    </tr>\n",
       "    <tr>\n",
       "      <th>61671</th>\n",
       "      <td>121423</td>\n",
       "      <td>4</td>\n",
       "      <td>1535</td>\n",
       "      <td>4836</td>\n",
       "    </tr>\n",
       "  </tbody>\n",
       "</table>\n",
       "</div>"
      ],
      "text/plain": [
       "       Unnamed: 0  rating  user_id  recipe_id\n",
       "1675       207547       5     1535       2356\n",
       "43470      284632       5     1535       7880\n",
       "61671      121423       4     1535       4836"
      ]
     },
     "execution_count": 13,
     "metadata": {},
     "output_type": "execute_result"
    }
   ],
   "source": [
    "abhinav_test[abhinav_test.user_id == 1535]"
   ]
  },
  {
   "cell_type": "code",
   "execution_count": 14,
   "id": "b832e8a1",
   "metadata": {},
   "outputs": [
    {
     "data": {
      "text/plain": [
       "(0, 0, 0)"
      ]
     },
     "execution_count": 14,
     "metadata": {},
     "output_type": "execute_result"
    }
   ],
   "source": [
    "sum(train_validation[train_validation.user_id == 1535].recipe_id == 2356),\\\n",
    "sum(train_validation[train_validation.user_id == 1535].recipe_id == 7880),\\\n",
    "sum(train_validation[train_validation.user_id == 1535].recipe_id == 4836)"
   ]
  },
  {
   "cell_type": "code",
   "execution_count": 15,
   "id": "50043159",
   "metadata": {},
   "outputs": [
    {
     "data": {
      "text/plain": [
       "(80212, 8)"
      ]
     },
     "execution_count": 15,
     "metadata": {},
     "output_type": "execute_result"
    }
   ],
   "source": [
    "pure_test = pd.merge(abhinav_test, train_validation, on=['user_id','recipe_id'], how=\"outer\", indicator=True\n",
    "              ).query('_merge==\"left_only\"')\n",
    "pure_test.shape"
   ]
  },
  {
   "cell_type": "code",
   "execution_count": 28,
   "id": "c6f52b74",
   "metadata": {},
   "outputs": [
    {
     "data": {
      "text/html": [
       "<div>\n",
       "<style scoped>\n",
       "    .dataframe tbody tr th:only-of-type {\n",
       "        vertical-align: middle;\n",
       "    }\n",
       "\n",
       "    .dataframe tbody tr th {\n",
       "        vertical-align: top;\n",
       "    }\n",
       "\n",
       "    .dataframe thead th {\n",
       "        text-align: right;\n",
       "    }\n",
       "</style>\n",
       "<table border=\"1\" class=\"dataframe\">\n",
       "  <thead>\n",
       "    <tr style=\"text-align: right;\">\n",
       "      <th></th>\n",
       "      <th>Unnamed: 0</th>\n",
       "      <th>rating_x</th>\n",
       "      <th>user_id</th>\n",
       "      <th>recipe_id</th>\n",
       "      <th>date</th>\n",
       "      <th>rating_y</th>\n",
       "      <th>review</th>\n",
       "      <th>_merge</th>\n",
       "    </tr>\n",
       "  </thead>\n",
       "  <tbody>\n",
       "    <tr>\n",
       "      <th>0</th>\n",
       "      <td>333675.0</td>\n",
       "      <td>5.0</td>\n",
       "      <td>6637</td>\n",
       "      <td>10576</td>\n",
       "      <td>NaN</td>\n",
       "      <td>NaN</td>\n",
       "      <td>NaN</td>\n",
       "      <td>left_only</td>\n",
       "    </tr>\n",
       "    <tr>\n",
       "      <th>1</th>\n",
       "      <td>375418.0</td>\n",
       "      <td>5.0</td>\n",
       "      <td>177</td>\n",
       "      <td>4710</td>\n",
       "      <td>NaN</td>\n",
       "      <td>NaN</td>\n",
       "      <td>NaN</td>\n",
       "      <td>left_only</td>\n",
       "    </tr>\n",
       "    <tr>\n",
       "      <th>2</th>\n",
       "      <td>143241.0</td>\n",
       "      <td>0.0</td>\n",
       "      <td>7440</td>\n",
       "      <td>5722</td>\n",
       "      <td>NaN</td>\n",
       "      <td>NaN</td>\n",
       "      <td>NaN</td>\n",
       "      <td>left_only</td>\n",
       "    </tr>\n",
       "    <tr>\n",
       "      <th>3</th>\n",
       "      <td>58583.0</td>\n",
       "      <td>5.0</td>\n",
       "      <td>3710</td>\n",
       "      <td>13365</td>\n",
       "      <td>NaN</td>\n",
       "      <td>NaN</td>\n",
       "      <td>NaN</td>\n",
       "      <td>left_only</td>\n",
       "    </tr>\n",
       "    <tr>\n",
       "      <th>4</th>\n",
       "      <td>6765.0</td>\n",
       "      <td>5.0</td>\n",
       "      <td>9440</td>\n",
       "      <td>17528</td>\n",
       "      <td>NaN</td>\n",
       "      <td>NaN</td>\n",
       "      <td>NaN</td>\n",
       "      <td>left_only</td>\n",
       "    </tr>\n",
       "    <tr>\n",
       "      <th>...</th>\n",
       "      <td>...</td>\n",
       "      <td>...</td>\n",
       "      <td>...</td>\n",
       "      <td>...</td>\n",
       "      <td>...</td>\n",
       "      <td>...</td>\n",
       "      <td>...</td>\n",
       "      <td>...</td>\n",
       "    </tr>\n",
       "    <tr>\n",
       "      <th>80207</th>\n",
       "      <td>241085.0</td>\n",
       "      <td>4.0</td>\n",
       "      <td>2941</td>\n",
       "      <td>19168</td>\n",
       "      <td>NaN</td>\n",
       "      <td>NaN</td>\n",
       "      <td>NaN</td>\n",
       "      <td>left_only</td>\n",
       "    </tr>\n",
       "    <tr>\n",
       "      <th>80208</th>\n",
       "      <td>87177.0</td>\n",
       "      <td>5.0</td>\n",
       "      <td>11811</td>\n",
       "      <td>20222</td>\n",
       "      <td>NaN</td>\n",
       "      <td>NaN</td>\n",
       "      <td>NaN</td>\n",
       "      <td>left_only</td>\n",
       "    </tr>\n",
       "    <tr>\n",
       "      <th>80209</th>\n",
       "      <td>251194.0</td>\n",
       "      <td>5.0</td>\n",
       "      <td>275</td>\n",
       "      <td>10397</td>\n",
       "      <td>NaN</td>\n",
       "      <td>NaN</td>\n",
       "      <td>NaN</td>\n",
       "      <td>left_only</td>\n",
       "    </tr>\n",
       "    <tr>\n",
       "      <th>80210</th>\n",
       "      <td>107754.0</td>\n",
       "      <td>3.0</td>\n",
       "      <td>10745</td>\n",
       "      <td>2147</td>\n",
       "      <td>NaN</td>\n",
       "      <td>NaN</td>\n",
       "      <td>NaN</td>\n",
       "      <td>left_only</td>\n",
       "    </tr>\n",
       "    <tr>\n",
       "      <th>80211</th>\n",
       "      <td>57066.0</td>\n",
       "      <td>5.0</td>\n",
       "      <td>11242</td>\n",
       "      <td>12585</td>\n",
       "      <td>NaN</td>\n",
       "      <td>NaN</td>\n",
       "      <td>NaN</td>\n",
       "      <td>left_only</td>\n",
       "    </tr>\n",
       "  </tbody>\n",
       "</table>\n",
       "<p>80212 rows × 8 columns</p>\n",
       "</div>"
      ],
      "text/plain": [
       "       Unnamed: 0  rating_x  user_id  recipe_id date  rating_y review  \\\n",
       "0        333675.0       5.0     6637      10576  NaN       NaN    NaN   \n",
       "1        375418.0       5.0      177       4710  NaN       NaN    NaN   \n",
       "2        143241.0       0.0     7440       5722  NaN       NaN    NaN   \n",
       "3         58583.0       5.0     3710      13365  NaN       NaN    NaN   \n",
       "4          6765.0       5.0     9440      17528  NaN       NaN    NaN   \n",
       "...           ...       ...      ...        ...  ...       ...    ...   \n",
       "80207    241085.0       4.0     2941      19168  NaN       NaN    NaN   \n",
       "80208     87177.0       5.0    11811      20222  NaN       NaN    NaN   \n",
       "80209    251194.0       5.0      275      10397  NaN       NaN    NaN   \n",
       "80210    107754.0       3.0    10745       2147  NaN       NaN    NaN   \n",
       "80211     57066.0       5.0    11242      12585  NaN       NaN    NaN   \n",
       "\n",
       "          _merge  \n",
       "0      left_only  \n",
       "1      left_only  \n",
       "2      left_only  \n",
       "3      left_only  \n",
       "4      left_only  \n",
       "...          ...  \n",
       "80207  left_only  \n",
       "80208  left_only  \n",
       "80209  left_only  \n",
       "80210  left_only  \n",
       "80211  left_only  \n",
       "\n",
       "[80212 rows x 8 columns]"
      ]
     },
     "execution_count": 28,
     "metadata": {},
     "output_type": "execute_result"
    }
   ],
   "source": [
    "pure_test"
   ]
  },
  {
   "cell_type": "markdown",
   "id": "364df5b7",
   "metadata": {},
   "source": [
    "### Train SVD matrix Factorisation"
   ]
  },
  {
   "cell_type": "code",
   "execution_count": null,
   "id": "0fa451d0",
   "metadata": {},
   "outputs": [],
   "source": [
    "reader = Reader(rating_scale=(1, 5))\n",
    "cv_data = Dataset.load_from_df(train_validation[[\"user_id\", \"recipe_id\", \"rating\"\\\n",
    "                                                                           ]], reader)"
   ]
  },
  {
   "cell_type": "code",
   "execution_count": null,
   "id": "dcb6694d",
   "metadata": {},
   "outputs": [],
   "source": [
    "param_grid = {\"n_factors\":[20, 50] ,\"n_epochs\": [10, 15], \"lr_all\": [0.002, 0.005]}\n",
    "gs = GridSearchCV(SVD, param_grid, measures=[\"rmse\", \"mae\"], cv=5, n_jobs = -2)\n",
    "\n",
    "gs.fit(cv_data)\n",
    "\n",
    "# best RMSE score\n",
    "print(gs.best_score[\"rmse\"])\n",
    "\n",
    "# combination of parameters that gave the best RMSE score\n",
    "print(gs.best_params[\"rmse\"])\n",
    "\n",
    "print(gs.best_params[\"mae\"])"
   ]
  },
  {
   "cell_type": "code",
   "execution_count": null,
   "id": "e39d2500",
   "metadata": {},
   "outputs": [],
   "source": [
    "cv_results_df = pd.DataFrame.from_dict(gs.cv_results)\n",
    "cv_results_df"
   ]
  },
  {
   "cell_type": "markdown",
   "id": "42df904d",
   "metadata": {},
   "source": [
    "### Test RMSE"
   ]
  },
  {
   "cell_type": "code",
   "execution_count": null,
   "id": "8354e4a3",
   "metadata": {},
   "outputs": [],
   "source": [
    "#Build model on full cv set\n",
    "algo = gs.best_estimator[\"rmse\"]\n",
    "algo.fit(cv_data.build_full_trainset())"
   ]
  },
  {
   "cell_type": "code",
   "execution_count": null,
   "id": "7339cea7",
   "metadata": {},
   "outputs": [],
   "source": [
    "test_set_surprise = Dataset.load_from_df(test_set[[\"user_id\", \"recipe_id\", \"rating\"]], reader)\n",
    "_, test_set_surprise = train_test_split_surprise(test_set_surprise, test_size=1.0)"
   ]
  },
  {
   "cell_type": "code",
   "execution_count": null,
   "id": "77f1e791",
   "metadata": {},
   "outputs": [],
   "source": [
    "len(test_set_surprise)"
   ]
  },
  {
   "cell_type": "code",
   "execution_count": null,
   "id": "0fb350e6",
   "metadata": {},
   "outputs": [],
   "source": [
    "test_set_surprise[:5]"
   ]
  },
  {
   "cell_type": "code",
   "execution_count": null,
   "id": "5be1728f",
   "metadata": {},
   "outputs": [],
   "source": [
    "predictions = algo.test(test_set_surprise)\n",
    "accuracy.rmse(predictions, verbose=True)"
   ]
  },
  {
   "cell_type": "markdown",
   "id": "e07bba90",
   "metadata": {},
   "source": [
    "### Analyse the latent features"
   ]
  },
  {
   "cell_type": "code",
   "execution_count": null,
   "id": "2714bf3f",
   "metadata": {},
   "outputs": [],
   "source": [
    "algo.trainset.n_users, algo.trainset.n_items"
   ]
  },
  {
   "cell_type": "code",
   "execution_count": null,
   "id": "ba1ec99f",
   "metadata": {},
   "outputs": [],
   "source": [
    "user_matrix = algo.pu\n",
    "user_matrix.shape"
   ]
  },
  {
   "cell_type": "code",
   "execution_count": null,
   "id": "7874618b",
   "metadata": {},
   "outputs": [],
   "source": [
    "movie_matrix = algo.qi\n",
    "movie_matrix.shape"
   ]
  },
  {
   "cell_type": "code",
   "execution_count": null,
   "id": "ad3bfe6d",
   "metadata": {},
   "outputs": [],
   "source": [
    "movie_matrix"
   ]
  },
  {
   "cell_type": "code",
   "execution_count": null,
   "id": "22ae4c44",
   "metadata": {},
   "outputs": [],
   "source": [
    "cv_data"
   ]
  },
  {
   "cell_type": "code",
   "execution_count": null,
   "id": "4c4d2a47",
   "metadata": {},
   "outputs": [],
   "source": [
    "movie_mat_df = pd.DataFrame(movie_matrix)\n",
    "movie_mat_df.columns = [f\"latent_{i+1}\" for i in range(len(movie_mat_df.columns))]\n",
    "movie_mat_df[\"recipe_id\"] = cv_data.df.recipe_id"
   ]
  },
  {
   "cell_type": "code",
   "execution_count": null,
   "id": "8256d5de",
   "metadata": {},
   "outputs": [],
   "source": [
    "recipe_metadata = pd.read_csv(\"../../data/recommendation/RAW_recipes.csv\")\n",
    "recipe_metadata.shape"
   ]
  },
  {
   "cell_type": "code",
   "execution_count": null,
   "id": "18ef2a68",
   "metadata": {},
   "outputs": [],
   "source": [
    "recipe_metadata.head()"
   ]
  },
  {
   "cell_type": "code",
   "execution_count": null,
   "id": "b51d7b3e",
   "metadata": {},
   "outputs": [],
   "source": [
    "movie_mat_join_recipe_meta = recipe_metadata.merge(movie_mat_df,left_on = \"id\",\\\n",
    "                                                 right_on = \"recipe_id\")\n",
    "movie_mat_join_recipe_meta.shape"
   ]
  },
  {
   "cell_type": "code",
   "execution_count": null,
   "id": "e285348b",
   "metadata": {},
   "outputs": [],
   "source": [
    "latent_cols = [x for x in movie_mat_join_recipe_meta.columns if \"latent\" in x]\n",
    "latent_cols"
   ]
  },
  {
   "cell_type": "code",
   "execution_count": null,
   "id": "97975d70",
   "metadata": {},
   "outputs": [],
   "source": [
    "import matplotlib.pyplot as plt\n",
    "\n",
    "plt.matshow(movie_mat_join_recipe_meta[latent_cols].corr())\n",
    "plt.show()"
   ]
  },
  {
   "cell_type": "code",
   "execution_count": null,
   "id": "af402912",
   "metadata": {},
   "outputs": [],
   "source": [
    "def _my_corr(x):\n",
    "    df_corr = movie_mat_join_recipe_meta[[x,\"minutes\",\"n_ingredients\",\"n_steps\"]].corr()\n",
    "    df_corr = df_corr.drop(columns = [x]).iloc[:1]\n",
    "    return (df_corr)"
   ]
  },
  {
   "cell_type": "code",
   "execution_count": null,
   "id": "496cfc1a",
   "metadata": {},
   "outputs": [],
   "source": [
    "_my_corr(latent_i)"
   ]
  },
  {
   "cell_type": "code",
   "execution_count": null,
   "id": "578a10ce",
   "metadata": {},
   "outputs": [],
   "source": [
    "corr_result = pd.DataFrame()\n",
    "for latent_i in latent_cols:\n",
    "    corr_result = pd.concat([corr_result,_my_corr(latent_i)],axis=0)"
   ]
  },
  {
   "cell_type": "code",
   "execution_count": null,
   "id": "64368027",
   "metadata": {},
   "outputs": [],
   "source": [
    "plt.matshow(corr_result.T)\n",
    "cb = plt.colorbar()\n",
    "plt.show()"
   ]
  },
  {
   "cell_type": "code",
   "execution_count": null,
   "id": "3eab2315",
   "metadata": {},
   "outputs": [],
   "source": [
    "from sklearn.manifold import TSNE\n",
    "tsne = TSNE(n_components=2, n_iter=500, verbose=3, random_state=1)\n",
    "recipe_embedding = tsne.fit_transform(movie_matrix)\n",
    "projection = pd.DataFrame(columns=['x', 'y'], data=recipe_embedding)\n",
    "# projection['title'] = books_metadata['original_title']"
   ]
  },
  {
   "cell_type": "code",
   "execution_count": null,
   "id": "918811d9",
   "metadata": {},
   "outputs": [],
   "source": [
    "projection.head()"
   ]
  },
  {
   "cell_type": "code",
   "execution_count": null,
   "id": "d36cffe5",
   "metadata": {},
   "outputs": [],
   "source": [
    "plt.scatter(projection[\"x\"],projection[\"y\"],alpha = 0.25)"
   ]
  },
  {
   "cell_type": "code",
   "execution_count": null,
   "id": "b8ff4ab6",
   "metadata": {},
   "outputs": [],
   "source": []
  },
  {
   "cell_type": "code",
   "execution_count": null,
   "id": "9a1ed428",
   "metadata": {},
   "outputs": [],
   "source": []
  },
  {
   "cell_type": "code",
   "execution_count": null,
   "id": "5e87c74f",
   "metadata": {},
   "outputs": [],
   "source": []
  },
  {
   "cell_type": "code",
   "execution_count": null,
   "id": "90b197ec",
   "metadata": {},
   "outputs": [],
   "source": []
  },
  {
   "cell_type": "markdown",
   "id": "4602748e",
   "metadata": {},
   "source": [
    "train_validation, test_set = train_test_split_surprise(full_data, test_size=0.15)"
   ]
  },
  {
   "cell_type": "markdown",
   "id": "a90772f3",
   "metadata": {},
   "source": [
    "train_validation.n_ratings, len(test_set), train_validation.n_ratings + len(test_set)"
   ]
  },
  {
   "cell_type": "markdown",
   "id": "105729b0",
   "metadata": {},
   "source": [
    "train_validation.n_items, train_validation.n_users"
   ]
  },
  {
   "cell_type": "markdown",
   "id": "a8453d7f",
   "metadata": {},
   "source": [
    "### Build SVD Matrix Factorisation"
   ]
  },
  {
   "cell_type": "markdown",
   "id": "b0ffbbc9",
   "metadata": {},
   "source": [
    "svd = SVD(verbose=True, n_epochs=10)\n",
    "cross_validate(svd, train_validation, measures=['RMSE', 'MAE'], cv=10, verbose=True)"
   ]
  },
  {
   "cell_type": "markdown",
   "id": "1464bee5",
   "metadata": {},
   "source": []
  },
  {
   "cell_type": "markdown",
   "id": "3d393549",
   "metadata": {},
   "source": [
    "dir(train_validation)"
   ]
  }
 ],
 "metadata": {
  "kernelspec": {
   "display_name": "ml_project_env",
   "language": "python",
   "name": "ml_project_env"
  },
  "language_info": {
   "codemirror_mode": {
    "name": "ipython",
    "version": 3
   },
   "file_extension": ".py",
   "mimetype": "text/x-python",
   "name": "python",
   "nbconvert_exporter": "python",
   "pygments_lexer": "ipython3",
   "version": "3.9.13"
  }
 },
 "nbformat": 4,
 "nbformat_minor": 5
}
