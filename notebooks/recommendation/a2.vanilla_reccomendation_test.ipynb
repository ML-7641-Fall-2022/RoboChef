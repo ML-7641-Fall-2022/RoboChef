{
 "cells": [
  {
   "cell_type": "code",
   "execution_count": 1,
   "id": "cafb6ecb",
   "metadata": {},
   "outputs": [
    {
     "name": "stdout",
     "output_type": "stream",
     "text": [
      "/Users/ashish1610dhiman/data_projects/fall22_hw/RoboChef/notebooks/recommendation\r\n"
     ]
    }
   ],
   "source": [
    "!pwd"
   ]
  },
  {
   "cell_type": "code",
   "execution_count": 26,
   "id": "f5ce1348",
   "metadata": {},
   "outputs": [],
   "source": [
    "import pandas as pd\n",
    "from surprise import Dataset\n",
    "from surprise import Reader\n",
    "\n",
    "from surprise import accuracy, Dataset, SVD\n",
    "from surprise.model_selection import train_test_split\n",
    "from surprise import Dataset, SVD\n",
    "from surprise.model_selection import cross_validate, GridSearchCV\n",
    "\n",
    "import numpy as np"
   ]
  },
  {
   "cell_type": "markdown",
   "id": "c249b480",
   "metadata": {},
   "source": [
    "### Read the user-recipee dataset"
   ]
  },
  {
   "cell_type": "code",
   "execution_count": 5,
   "id": "c6d956dd",
   "metadata": {},
   "outputs": [
    {
     "data": {
      "text/plain": [
       "(1132367, 5)"
      ]
     },
     "execution_count": 5,
     "metadata": {},
     "output_type": "execute_result"
    }
   ],
   "source": [
    "raw_interactions = pd.read_csv(\"../../data/recommendation/RAW_interactions.csv\")\n",
    "raw_interactions.shape"
   ]
  },
  {
   "cell_type": "code",
   "execution_count": 6,
   "id": "13778eb2",
   "metadata": {},
   "outputs": [
    {
     "data": {
      "text/plain": [
       "Index(['user_id', 'recipe_id', 'date', 'rating', 'review'], dtype='object')"
      ]
     },
     "execution_count": 6,
     "metadata": {},
     "output_type": "execute_result"
    }
   ],
   "source": [
    "#cap ratings to 1 and 5\n",
    "raw_interactions.columns"
   ]
  },
  {
   "cell_type": "code",
   "execution_count": 8,
   "id": "14f81c49",
   "metadata": {},
   "outputs": [
    {
     "data": {
      "text/plain": [
       "count    1.132367e+06\n",
       "mean     4.411016e+00\n",
       "std      1.264752e+00\n",
       "min      0.000000e+00\n",
       "25%      4.000000e+00\n",
       "50%      5.000000e+00\n",
       "75%      5.000000e+00\n",
       "max      5.000000e+00\n",
       "Name: rating, dtype: float64"
      ]
     },
     "execution_count": 8,
     "metadata": {},
     "output_type": "execute_result"
    }
   ],
   "source": [
    "raw_interactions[\"rating\"].describe()"
   ]
  },
  {
   "cell_type": "code",
   "execution_count": 19,
   "id": "2739ef01",
   "metadata": {},
   "outputs": [],
   "source": [
    "reader = Reader(rating_scale=(1, 5))\n",
    "interaction_model = Dataset.load_from_df(raw_interactions[[\"user_id\", \"recipe_id\", \"rating\"]], reader)"
   ]
  },
  {
   "cell_type": "code",
   "execution_count": 14,
   "id": "15ce5ccd",
   "metadata": {},
   "outputs": [
    {
     "data": {
      "text/plain": [
       "0.8235294117647058"
      ]
     },
     "execution_count": 14,
     "metadata": {},
     "output_type": "execute_result"
    }
   ],
   "source": [
    "0.7/0.85"
   ]
  },
  {
   "cell_type": "code",
   "execution_count": 35,
   "id": "3fbe0b13",
   "metadata": {},
   "outputs": [],
   "source": [
    "train_validation_set, test_set = train_test_split(interaction_model, test_size=0.15)"
   ]
  },
  {
   "cell_type": "code",
   "execution_count": 37,
   "id": "65ba2723",
   "metadata": {},
   "outputs": [
    {
     "name": "stdout",
     "output_type": "stream",
     "text": [
      "Evaluating RMSE, MAE of algorithm SVD on 5 split(s).\n",
      "\n",
      "                  Fold 1  Fold 2  Fold 3  Fold 4  Fold 5  Mean    Std     \n",
      "RMSE (testset)    1.2198  1.2212  1.2245  1.2164  1.2202  1.2204  0.0026  \n",
      "MAE (testset)     0.7411  0.7400  0.7426  0.7377  0.7388  0.7400  0.0017  \n",
      "Fit time          15.87   15.91   16.08   15.90   15.95   15.94   0.07    \n",
      "Test time         2.69    2.70    1.47    1.45    2.81    2.22    0.63    \n"
     ]
    },
    {
     "data": {
      "text/plain": [
       "{'test_rmse': array([1.21981654, 1.22117497, 1.22453554, 1.21643379, 1.22024234]),\n",
       " 'test_mae': array([0.74107881, 0.73995385, 0.74256786, 0.73765831, 0.73883264]),\n",
       " 'fit_time': (15.865982055664062,\n",
       "  15.914062976837158,\n",
       "  16.077264070510864,\n",
       "  15.897216081619263,\n",
       "  15.948534965515137),\n",
       " 'test_time': (2.694045066833496,\n",
       "  2.7012999057769775,\n",
       "  1.465512990951538,\n",
       "  1.4543659687042236,\n",
       "  2.806859016418457)}"
      ]
     },
     "execution_count": 37,
     "metadata": {},
     "output_type": "execute_result"
    }
   ],
   "source": [
    "# We'll use the famous SVD algorithm.\n",
    "algo = SVD()\n",
    "\n",
    "# Run 5-fold cross-validation and print results\n",
    "cross_validate(algo, interaction_model, measures=[\"RMSE\", \"MAE\"], cv=5, verbose=True)"
   ]
  },
  {
   "cell_type": "code",
   "execution_count": 33,
   "id": "21e5a919",
   "metadata": {},
   "outputs": [
    {
     "name": "stdout",
     "output_type": "stream",
     "text": [
      "1.217653341202198\n",
      "{'n_epochs': 10, 'lr_all': 0.005, 'reg_all': 0.4}\n"
     ]
    }
   ],
   "source": [
    "param_grid = {\"n_epochs\": [5, 10], \"lr_all\": [0.002, 0.005], \"reg_all\": [0.4, 0.6]}\n",
    "gs = GridSearchCV(SVD, param_grid, measures=[\"rmse\", \"mae\"], cv=5)\n",
    "\n",
    "gs.fit(interaction_model)\n",
    "\n",
    "# best RMSE score\n",
    "print(gs.best_score[\"rmse\"])\n",
    "\n",
    "# combination of parameters that gave the best RMSE score\n",
    "print(gs.best_params[\"rmse\"])"
   ]
  },
  {
   "cell_type": "code",
   "execution_count": 34,
   "id": "5432ae1b",
   "metadata": {},
   "outputs": [
    {
     "name": "stdout",
     "output_type": "stream",
     "text": [
      "{'n_epochs': 10, 'lr_all': 0.005, 'reg_all': 0.4}\n"
     ]
    }
   ],
   "source": [
    "print(gs.best_params[\"mae\"])"
   ]
  }
 ],
 "metadata": {
  "kernelspec": {
   "display_name": "ml_project_env",
   "language": "python",
   "name": "ml_project_env"
  },
  "language_info": {
   "codemirror_mode": {
    "name": "ipython",
    "version": 3
   },
   "file_extension": ".py",
   "mimetype": "text/x-python",
   "name": "python",
   "nbconvert_exporter": "python",
   "pygments_lexer": "ipython3",
   "version": "3.9.13"
  }
 },
 "nbformat": 4,
 "nbformat_minor": 5
}
