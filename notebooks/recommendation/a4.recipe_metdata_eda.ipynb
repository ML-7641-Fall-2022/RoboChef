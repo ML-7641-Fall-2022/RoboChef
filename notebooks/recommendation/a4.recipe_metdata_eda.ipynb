{
 "cells": [
  {
   "cell_type": "code",
   "execution_count": 1,
   "id": "9dd0c82d",
   "metadata": {},
   "outputs": [
    {
     "name": "stdout",
     "output_type": "stream",
     "text": [
      "/Users/ashish1610dhiman/data_projects/fall22_hw/RoboChef/notebooks/recommendation\r\n"
     ]
    }
   ],
   "source": [
    "!pwd"
   ]
  },
  {
   "cell_type": "code",
   "execution_count": 2,
   "id": "efb4ec5f",
   "metadata": {},
   "outputs": [],
   "source": [
    "import pandas as pd\n",
    "import numpy as np\n",
    "import matplotlib.pyplot as plt"
   ]
  },
  {
   "cell_type": "markdown",
   "id": "04b63da4",
   "metadata": {},
   "source": [
    "### EDA"
   ]
  },
  {
   "cell_type": "code",
   "execution_count": 3,
   "id": "097484ac",
   "metadata": {},
   "outputs": [
    {
     "data": {
      "text/plain": [
       "(1132367, 5)"
      ]
     },
     "execution_count": 3,
     "metadata": {},
     "output_type": "execute_result"
    }
   ],
   "source": [
    "raw_interactions = pd.read_csv(\"../../data/recommendation/RAW_interactions.csv\")\n",
    "raw_interactions.shape"
   ]
  },
  {
   "cell_type": "code",
   "execution_count": 4,
   "id": "606252cc",
   "metadata": {},
   "outputs": [
    {
     "data": {
      "text/plain": [
       "(231637, 12)"
      ]
     },
     "execution_count": 4,
     "metadata": {},
     "output_type": "execute_result"
    }
   ],
   "source": [
    "recipe_metadata = pd.read_csv(\"../../data/recommendation/RAW_recipes.csv\")\n",
    "recipe_metadata.shape"
   ]
  },
  {
   "cell_type": "code",
   "execution_count": 6,
   "id": "be521ca9",
   "metadata": {},
   "outputs": [
    {
     "data": {
      "text/html": [
       "<div>\n",
       "<style scoped>\n",
       "    .dataframe tbody tr th:only-of-type {\n",
       "        vertical-align: middle;\n",
       "    }\n",
       "\n",
       "    .dataframe tbody tr th {\n",
       "        vertical-align: top;\n",
       "    }\n",
       "\n",
       "    .dataframe thead th {\n",
       "        text-align: right;\n",
       "    }\n",
       "</style>\n",
       "<table border=\"1\" class=\"dataframe\">\n",
       "  <thead>\n",
       "    <tr style=\"text-align: right;\">\n",
       "      <th></th>\n",
       "      <th>name</th>\n",
       "      <th>id</th>\n",
       "      <th>minutes</th>\n",
       "      <th>contributor_id</th>\n",
       "      <th>submitted</th>\n",
       "      <th>tags</th>\n",
       "      <th>nutrition</th>\n",
       "      <th>n_steps</th>\n",
       "      <th>steps</th>\n",
       "      <th>description</th>\n",
       "      <th>ingredients</th>\n",
       "      <th>n_ingredients</th>\n",
       "    </tr>\n",
       "  </thead>\n",
       "  <tbody>\n",
       "    <tr>\n",
       "      <th>0</th>\n",
       "      <td>arriba   baked winter squash mexican style</td>\n",
       "      <td>137739</td>\n",
       "      <td>55</td>\n",
       "      <td>47892</td>\n",
       "      <td>2005-09-16</td>\n",
       "      <td>['60-minutes-or-less', 'time-to-make', 'course...</td>\n",
       "      <td>[51.5, 0.0, 13.0, 0.0, 2.0, 0.0, 4.0]</td>\n",
       "      <td>11</td>\n",
       "      <td>['make a choice and proceed with recipe', 'dep...</td>\n",
       "      <td>autumn is my favorite time of year to cook! th...</td>\n",
       "      <td>['winter squash', 'mexican seasoning', 'mixed ...</td>\n",
       "      <td>7</td>\n",
       "    </tr>\n",
       "    <tr>\n",
       "      <th>1</th>\n",
       "      <td>a bit different  breakfast pizza</td>\n",
       "      <td>31490</td>\n",
       "      <td>30</td>\n",
       "      <td>26278</td>\n",
       "      <td>2002-06-17</td>\n",
       "      <td>['30-minutes-or-less', 'time-to-make', 'course...</td>\n",
       "      <td>[173.4, 18.0, 0.0, 17.0, 22.0, 35.0, 1.0]</td>\n",
       "      <td>9</td>\n",
       "      <td>['preheat oven to 425 degrees f', 'press dough...</td>\n",
       "      <td>this recipe calls for the crust to be prebaked...</td>\n",
       "      <td>['prepared pizza crust', 'sausage patty', 'egg...</td>\n",
       "      <td>6</td>\n",
       "    </tr>\n",
       "    <tr>\n",
       "      <th>2</th>\n",
       "      <td>all in the kitchen  chili</td>\n",
       "      <td>112140</td>\n",
       "      <td>130</td>\n",
       "      <td>196586</td>\n",
       "      <td>2005-02-25</td>\n",
       "      <td>['time-to-make', 'course', 'preparation', 'mai...</td>\n",
       "      <td>[269.8, 22.0, 32.0, 48.0, 39.0, 27.0, 5.0]</td>\n",
       "      <td>6</td>\n",
       "      <td>['brown ground beef in large pot', 'add choppe...</td>\n",
       "      <td>this modified version of 'mom's' chili was a h...</td>\n",
       "      <td>['ground beef', 'yellow onions', 'diced tomato...</td>\n",
       "      <td>13</td>\n",
       "    </tr>\n",
       "    <tr>\n",
       "      <th>3</th>\n",
       "      <td>alouette  potatoes</td>\n",
       "      <td>59389</td>\n",
       "      <td>45</td>\n",
       "      <td>68585</td>\n",
       "      <td>2003-04-14</td>\n",
       "      <td>['60-minutes-or-less', 'time-to-make', 'course...</td>\n",
       "      <td>[368.1, 17.0, 10.0, 2.0, 14.0, 8.0, 20.0]</td>\n",
       "      <td>11</td>\n",
       "      <td>['place potatoes in a large pot of lightly sal...</td>\n",
       "      <td>this is a super easy, great tasting, make ahea...</td>\n",
       "      <td>['spreadable cheese with garlic and herbs', 'n...</td>\n",
       "      <td>11</td>\n",
       "    </tr>\n",
       "    <tr>\n",
       "      <th>4</th>\n",
       "      <td>amish  tomato ketchup  for canning</td>\n",
       "      <td>44061</td>\n",
       "      <td>190</td>\n",
       "      <td>41706</td>\n",
       "      <td>2002-10-25</td>\n",
       "      <td>['weeknight', 'time-to-make', 'course', 'main-...</td>\n",
       "      <td>[352.9, 1.0, 337.0, 23.0, 3.0, 0.0, 28.0]</td>\n",
       "      <td>5</td>\n",
       "      <td>['mix all ingredients&amp; boil for 2 1 / 2 hours ...</td>\n",
       "      <td>my dh's amish mother raised him on this recipe...</td>\n",
       "      <td>['tomato juice', 'apple cider vinegar', 'sugar...</td>\n",
       "      <td>8</td>\n",
       "    </tr>\n",
       "  </tbody>\n",
       "</table>\n",
       "</div>"
      ],
      "text/plain": [
       "                                         name      id  minutes  \\\n",
       "0  arriba   baked winter squash mexican style  137739       55   \n",
       "1            a bit different  breakfast pizza   31490       30   \n",
       "2                   all in the kitchen  chili  112140      130   \n",
       "3                          alouette  potatoes   59389       45   \n",
       "4          amish  tomato ketchup  for canning   44061      190   \n",
       "\n",
       "   contributor_id   submitted  \\\n",
       "0           47892  2005-09-16   \n",
       "1           26278  2002-06-17   \n",
       "2          196586  2005-02-25   \n",
       "3           68585  2003-04-14   \n",
       "4           41706  2002-10-25   \n",
       "\n",
       "                                                tags  \\\n",
       "0  ['60-minutes-or-less', 'time-to-make', 'course...   \n",
       "1  ['30-minutes-or-less', 'time-to-make', 'course...   \n",
       "2  ['time-to-make', 'course', 'preparation', 'mai...   \n",
       "3  ['60-minutes-or-less', 'time-to-make', 'course...   \n",
       "4  ['weeknight', 'time-to-make', 'course', 'main-...   \n",
       "\n",
       "                                    nutrition  n_steps  \\\n",
       "0       [51.5, 0.0, 13.0, 0.0, 2.0, 0.0, 4.0]       11   \n",
       "1   [173.4, 18.0, 0.0, 17.0, 22.0, 35.0, 1.0]        9   \n",
       "2  [269.8, 22.0, 32.0, 48.0, 39.0, 27.0, 5.0]        6   \n",
       "3   [368.1, 17.0, 10.0, 2.0, 14.0, 8.0, 20.0]       11   \n",
       "4   [352.9, 1.0, 337.0, 23.0, 3.0, 0.0, 28.0]        5   \n",
       "\n",
       "                                               steps  \\\n",
       "0  ['make a choice and proceed with recipe', 'dep...   \n",
       "1  ['preheat oven to 425 degrees f', 'press dough...   \n",
       "2  ['brown ground beef in large pot', 'add choppe...   \n",
       "3  ['place potatoes in a large pot of lightly sal...   \n",
       "4  ['mix all ingredients& boil for 2 1 / 2 hours ...   \n",
       "\n",
       "                                         description  \\\n",
       "0  autumn is my favorite time of year to cook! th...   \n",
       "1  this recipe calls for the crust to be prebaked...   \n",
       "2  this modified version of 'mom's' chili was a h...   \n",
       "3  this is a super easy, great tasting, make ahea...   \n",
       "4  my dh's amish mother raised him on this recipe...   \n",
       "\n",
       "                                         ingredients  n_ingredients  \n",
       "0  ['winter squash', 'mexican seasoning', 'mixed ...              7  \n",
       "1  ['prepared pizza crust', 'sausage patty', 'egg...              6  \n",
       "2  ['ground beef', 'yellow onions', 'diced tomato...             13  \n",
       "3  ['spreadable cheese with garlic and herbs', 'n...             11  \n",
       "4  ['tomato juice', 'apple cider vinegar', 'sugar...              8  "
      ]
     },
     "execution_count": 6,
     "metadata": {},
     "output_type": "execute_result"
    }
   ],
   "source": [
    "recipe_metadata.head()"
   ]
  },
  {
   "cell_type": "code",
   "execution_count": 5,
   "id": "a1c8f7e4",
   "metadata": {},
   "outputs": [
    {
     "data": {
      "text/plain": [
       "user_id       226570\n",
       "recipe_id     231637\n",
       "date            6396\n",
       "rating             6\n",
       "review       1125282\n",
       "dtype: int64"
      ]
     },
     "execution_count": 5,
     "metadata": {},
     "output_type": "execute_result"
    }
   ],
   "source": [
    "raw_interactions.nunique()"
   ]
  },
  {
   "cell_type": "code",
   "execution_count": 11,
   "id": "fd035a2f",
   "metadata": {},
   "outputs": [
    {
     "data": {
      "text/plain": [
       "name              230185\n",
       "id                231637\n",
       "minutes              888\n",
       "contributor_id     27926\n",
       "submitted           5090\n",
       "tags              209115\n",
       "nutrition         229318\n",
       "n_steps               94\n",
       "steps             231074\n",
       "description       222668\n",
       "ingredients       230475\n",
       "n_ingredients         41\n",
       "dtype: int64"
      ]
     },
     "execution_count": 11,
     "metadata": {},
     "output_type": "execute_result"
    }
   ],
   "source": [
    "recipe_metadata.nunique()"
   ]
  },
  {
   "cell_type": "code",
   "execution_count": 13,
   "id": "bf9d935c",
   "metadata": {},
   "outputs": [
    {
     "data": {
      "text/plain": [
       "10149"
      ]
     },
     "execution_count": 13,
     "metadata": {},
     "output_type": "execute_result"
    }
   ],
   "source": [
    "len(set(recipe_metadata.contributor_id)-set(raw_interactions.user_id))"
   ]
  },
  {
   "cell_type": "code",
   "execution_count": 14,
   "id": "2a64f383",
   "metadata": {},
   "outputs": [
    {
     "data": {
      "text/plain": [
       "208793"
      ]
     },
     "execution_count": 14,
     "metadata": {},
     "output_type": "execute_result"
    }
   ],
   "source": [
    "len(set(raw_interactions.user_id)-set(recipe_metadata.contributor_id))"
   ]
  },
  {
   "cell_type": "code",
   "execution_count": 7,
   "id": "4829b37e",
   "metadata": {},
   "outputs": [
    {
     "data": {
      "text/html": [
       "<div>\n",
       "<style scoped>\n",
       "    .dataframe tbody tr th:only-of-type {\n",
       "        vertical-align: middle;\n",
       "    }\n",
       "\n",
       "    .dataframe tbody tr th {\n",
       "        vertical-align: top;\n",
       "    }\n",
       "\n",
       "    .dataframe thead tr th {\n",
       "        text-align: left;\n",
       "    }\n",
       "\n",
       "    .dataframe thead tr:last-of-type th {\n",
       "        text-align: right;\n",
       "    }\n",
       "</style>\n",
       "<table border=\"1\" class=\"dataframe\">\n",
       "  <thead>\n",
       "    <tr>\n",
       "      <th></th>\n",
       "      <th colspan=\"2\" halign=\"left\">user_id</th>\n",
       "      <th>rating</th>\n",
       "    </tr>\n",
       "    <tr>\n",
       "      <th></th>\n",
       "      <th>count</th>\n",
       "      <th>nunique</th>\n",
       "      <th>mean</th>\n",
       "    </tr>\n",
       "    <tr>\n",
       "      <th>recipe_id</th>\n",
       "      <th></th>\n",
       "      <th></th>\n",
       "      <th></th>\n",
       "    </tr>\n",
       "  </thead>\n",
       "  <tbody>\n",
       "    <tr>\n",
       "      <th>38</th>\n",
       "      <td>4</td>\n",
       "      <td>4</td>\n",
       "      <td>4.250000</td>\n",
       "    </tr>\n",
       "    <tr>\n",
       "      <th>39</th>\n",
       "      <td>1</td>\n",
       "      <td>1</td>\n",
       "      <td>3.000000</td>\n",
       "    </tr>\n",
       "    <tr>\n",
       "      <th>40</th>\n",
       "      <td>9</td>\n",
       "      <td>9</td>\n",
       "      <td>4.333333</td>\n",
       "    </tr>\n",
       "    <tr>\n",
       "      <th>41</th>\n",
       "      <td>2</td>\n",
       "      <td>2</td>\n",
       "      <td>4.500000</td>\n",
       "    </tr>\n",
       "    <tr>\n",
       "      <th>43</th>\n",
       "      <td>1</td>\n",
       "      <td>1</td>\n",
       "      <td>1.000000</td>\n",
       "    </tr>\n",
       "  </tbody>\n",
       "</table>\n",
       "</div>"
      ],
      "text/plain": [
       "          user_id            rating\n",
       "            count nunique      mean\n",
       "recipe_id                          \n",
       "38              4       4  4.250000\n",
       "39              1       1  3.000000\n",
       "40              9       9  4.333333\n",
       "41              2       2  4.500000\n",
       "43              1       1  1.000000"
      ]
     },
     "execution_count": 7,
     "metadata": {},
     "output_type": "execute_result"
    }
   ],
   "source": [
    "recipe_grp = raw_interactions.groupby(\"recipe_id\").agg({\"user_id\":[\"count\",\"nunique\"],\\\n",
    "                                                   \"rating\":\"mean\"})\n",
    "recipe_grp.head()"
   ]
  },
  {
   "cell_type": "code",
   "execution_count": 24,
   "id": "b3ba03b6",
   "metadata": {},
   "outputs": [
    {
     "data": {
      "text/plain": [
       "0"
      ]
     },
     "execution_count": 24,
     "metadata": {},
     "output_type": "execute_result"
    }
   ],
   "source": [
    "sum(recipe_grp[(\"user_id\",\"count\")] != recipe_grp[(\"user_id\",\"nunique\")])"
   ]
  },
  {
   "cell_type": "markdown",
   "id": "a941cf7b",
   "metadata": {},
   "source": [
    "### How many users rate the same recipes ?"
   ]
  },
  {
   "cell_type": "code",
   "execution_count": 16,
   "id": "a001025e",
   "metadata": {},
   "outputs": [
    {
     "data": {
      "text/html": [
       "<div>\n",
       "<style scoped>\n",
       "    .dataframe tbody tr th:only-of-type {\n",
       "        vertical-align: middle;\n",
       "    }\n",
       "\n",
       "    .dataframe tbody tr th {\n",
       "        vertical-align: top;\n",
       "    }\n",
       "\n",
       "    .dataframe thead tr th {\n",
       "        text-align: left;\n",
       "    }\n",
       "</style>\n",
       "<table border=\"1\" class=\"dataframe\">\n",
       "  <thead>\n",
       "    <tr>\n",
       "      <th></th>\n",
       "      <th>user_id</th>\n",
       "    </tr>\n",
       "    <tr>\n",
       "      <th></th>\n",
       "      <th>count</th>\n",
       "    </tr>\n",
       "  </thead>\n",
       "  <tbody>\n",
       "    <tr>\n",
       "      <th>0.1</th>\n",
       "      <td>1.0</td>\n",
       "    </tr>\n",
       "    <tr>\n",
       "      <th>0.2</th>\n",
       "      <td>1.0</td>\n",
       "    </tr>\n",
       "    <tr>\n",
       "      <th>0.3</th>\n",
       "      <td>1.0</td>\n",
       "    </tr>\n",
       "    <tr>\n",
       "      <th>0.4</th>\n",
       "      <td>2.0</td>\n",
       "    </tr>\n",
       "    <tr>\n",
       "      <th>0.5</th>\n",
       "      <td>2.0</td>\n",
       "    </tr>\n",
       "    <tr>\n",
       "      <th>0.6</th>\n",
       "      <td>3.0</td>\n",
       "    </tr>\n",
       "    <tr>\n",
       "      <th>0.7</th>\n",
       "      <td>3.0</td>\n",
       "    </tr>\n",
       "    <tr>\n",
       "      <th>0.8</th>\n",
       "      <td>5.0</td>\n",
       "    </tr>\n",
       "    <tr>\n",
       "      <th>0.9</th>\n",
       "      <td>9.0</td>\n",
       "    </tr>\n",
       "    <tr>\n",
       "      <th>1.0</th>\n",
       "      <td>1613.0</td>\n",
       "    </tr>\n",
       "  </tbody>\n",
       "</table>\n",
       "</div>"
      ],
      "text/plain": [
       "    user_id\n",
       "      count\n",
       "0.1     1.0\n",
       "0.2     1.0\n",
       "0.3     1.0\n",
       "0.4     2.0\n",
       "0.5     2.0\n",
       "0.6     3.0\n",
       "0.7     3.0\n",
       "0.8     5.0\n",
       "0.9     9.0\n",
       "1.0  1613.0"
      ]
     },
     "execution_count": 16,
     "metadata": {},
     "output_type": "execute_result"
    }
   ],
   "source": [
    "recipe_grp[[(\"user_id\",\"count\")]].quantile([0.1,0.2,0.3,0.4,0.5,0.6,0.7,0.8,0.9,1])"
   ]
  },
  {
   "cell_type": "markdown",
   "id": "34a5b569",
   "metadata": {},
   "source": [
    "### Distribution of average rating for a recipe"
   ]
  },
  {
   "cell_type": "code",
   "execution_count": 25,
   "id": "b3f28248",
   "metadata": {},
   "outputs": [
    {
     "data": {
      "text/plain": [
       "array([[<AxesSubplot: title={'center': \"('rating', 'mean')\"}>]],\n",
       "      dtype=object)"
      ]
     },
     "execution_count": 25,
     "metadata": {},
     "output_type": "execute_result"
    },
    {
     "data": {
      "image/png": "[encoded data removed]",
      "text/plain": [
       "<Figure size 640x480 with 1 Axes>"
      ]
     },
     "metadata": {},
     "output_type": "display_data"
    }
   ],
   "source": [
    "recipe_grp[[(\"rating\",\"mean\")]].hist()"
   ]
  },
  {
   "cell_type": "markdown",
   "id": "9b44663c",
   "metadata": {},
   "source": [
    "### Join Metadata with Interactions"
   ]
  },
  {
   "cell_type": "code",
   "execution_count": 28,
   "id": "8b1b39f4",
   "metadata": {},
   "outputs": [
    {
     "data": {
      "text/plain": [
       "user_id            226570\n",
       "recipe_id          231637\n",
       "date                 6396\n",
       "rating                  6\n",
       "review            1125282\n",
       "name               230185\n",
       "id                 231637\n",
       "minutes               888\n",
       "contributor_id      27926\n",
       "submitted            5090\n",
       "tags               209115\n",
       "nutrition          229318\n",
       "n_steps                94\n",
       "steps              231074\n",
       "description        222668\n",
       "ingredients        230475\n",
       "n_ingredients          41\n",
       "dtype: int64"
      ]
     },
     "execution_count": 28,
     "metadata": {},
     "output_type": "execute_result"
    }
   ],
   "source": [
    "joined_df = raw_interactions.merge(recipe_metadata,left_on=\"recipe_id\",right_on=\"id\")\n",
    "joined_df.nunique()"
   ]
  },
  {
   "cell_type": "code",
   "execution_count": 29,
   "id": "b23f22a4",
   "metadata": {},
   "outputs": [
    {
     "data": {
      "text/html": [
       "<div>\n",
       "<style scoped>\n",
       "    .dataframe tbody tr th:only-of-type {\n",
       "        vertical-align: middle;\n",
       "    }\n",
       "\n",
       "    .dataframe tbody tr th {\n",
       "        vertical-align: top;\n",
       "    }\n",
       "\n",
       "    .dataframe thead th {\n",
       "        text-align: right;\n",
       "    }\n",
       "</style>\n",
       "<table border=\"1\" class=\"dataframe\">\n",
       "  <thead>\n",
       "    <tr style=\"text-align: right;\">\n",
       "      <th></th>\n",
       "      <th>minutes</th>\n",
       "      <th>n_steps</th>\n",
       "      <th>rating</th>\n",
       "      <th>n_ingredients</th>\n",
       "    </tr>\n",
       "  </thead>\n",
       "  <tbody>\n",
       "    <tr>\n",
       "      <th>minutes</th>\n",
       "      <td>1.000000</td>\n",
       "      <td>-0.000438</td>\n",
       "      <td>0.001053</td>\n",
       "      <td>-0.001059</td>\n",
       "    </tr>\n",
       "    <tr>\n",
       "      <th>n_steps</th>\n",
       "      <td>-0.000438</td>\n",
       "      <td>1.000000</td>\n",
       "      <td>-0.021169</td>\n",
       "      <td>0.380295</td>\n",
       "    </tr>\n",
       "    <tr>\n",
       "      <th>rating</th>\n",
       "      <td>0.001053</td>\n",
       "      <td>-0.021169</td>\n",
       "      <td>1.000000</td>\n",
       "      <td>-0.003529</td>\n",
       "    </tr>\n",
       "    <tr>\n",
       "      <th>n_ingredients</th>\n",
       "      <td>-0.001059</td>\n",
       "      <td>0.380295</td>\n",
       "      <td>-0.003529</td>\n",
       "      <td>1.000000</td>\n",
       "    </tr>\n",
       "  </tbody>\n",
       "</table>\n",
       "</div>"
      ],
      "text/plain": [
       "                minutes   n_steps    rating  n_ingredients\n",
       "minutes        1.000000 -0.000438  0.001053      -0.001059\n",
       "n_steps       -0.000438  1.000000 -0.021169       0.380295\n",
       "rating         0.001053 -0.021169  1.000000      -0.003529\n",
       "n_ingredients -0.001059  0.380295 -0.003529       1.000000"
      ]
     },
     "execution_count": 29,
     "metadata": {},
     "output_type": "execute_result"
    }
   ],
   "source": [
    "joined_df[[\"minutes\",\"n_steps\",\"rating\",\"n_ingredients\"]].corr()"
   ]
  },
  {
   "cell_type": "code",
   "execution_count": 32,
   "id": "abc4d493",
   "metadata": {},
   "outputs": [
    {
     "data": {
      "text/html": [
       "<div>\n",
       "<style scoped>\n",
       "    .dataframe tbody tr th:only-of-type {\n",
       "        vertical-align: middle;\n",
       "    }\n",
       "\n",
       "    .dataframe tbody tr th {\n",
       "        vertical-align: top;\n",
       "    }\n",
       "\n",
       "    .dataframe thead th {\n",
       "        text-align: right;\n",
       "    }\n",
       "</style>\n",
       "<table border=\"1\" class=\"dataframe\">\n",
       "  <thead>\n",
       "    <tr style=\"text-align: right;\">\n",
       "      <th></th>\n",
       "      <th>minutes</th>\n",
       "      <th>n_steps</th>\n",
       "      <th>n_ingredients</th>\n",
       "    </tr>\n",
       "  </thead>\n",
       "  <tbody>\n",
       "    <tr>\n",
       "      <th>0.1</th>\n",
       "      <td>1.000000e+01</td>\n",
       "      <td>4.0</td>\n",
       "      <td>5.0</td>\n",
       "    </tr>\n",
       "    <tr>\n",
       "      <th>0.2</th>\n",
       "      <td>2.000000e+01</td>\n",
       "      <td>5.0</td>\n",
       "      <td>6.0</td>\n",
       "    </tr>\n",
       "    <tr>\n",
       "      <th>0.3</th>\n",
       "      <td>2.500000e+01</td>\n",
       "      <td>6.0</td>\n",
       "      <td>7.0</td>\n",
       "    </tr>\n",
       "    <tr>\n",
       "      <th>0.4</th>\n",
       "      <td>3.000000e+01</td>\n",
       "      <td>7.0</td>\n",
       "      <td>8.0</td>\n",
       "    </tr>\n",
       "    <tr>\n",
       "      <th>0.5</th>\n",
       "      <td>4.000000e+01</td>\n",
       "      <td>8.0</td>\n",
       "      <td>9.0</td>\n",
       "    </tr>\n",
       "    <tr>\n",
       "      <th>0.6</th>\n",
       "      <td>5.000000e+01</td>\n",
       "      <td>10.0</td>\n",
       "      <td>10.0</td>\n",
       "    </tr>\n",
       "    <tr>\n",
       "      <th>0.7</th>\n",
       "      <td>6.000000e+01</td>\n",
       "      <td>11.0</td>\n",
       "      <td>11.0</td>\n",
       "    </tr>\n",
       "    <tr>\n",
       "      <th>0.8</th>\n",
       "      <td>7.500000e+01</td>\n",
       "      <td>13.0</td>\n",
       "      <td>12.0</td>\n",
       "    </tr>\n",
       "    <tr>\n",
       "      <th>0.9</th>\n",
       "      <td>1.500000e+02</td>\n",
       "      <td>17.0</td>\n",
       "      <td>14.0</td>\n",
       "    </tr>\n",
       "    <tr>\n",
       "      <th>1.0</th>\n",
       "      <td>2.147484e+09</td>\n",
       "      <td>145.0</td>\n",
       "      <td>43.0</td>\n",
       "    </tr>\n",
       "  </tbody>\n",
       "</table>\n",
       "</div>"
      ],
      "text/plain": [
       "          minutes  n_steps  n_ingredients\n",
       "0.1  1.000000e+01      4.0            5.0\n",
       "0.2  2.000000e+01      5.0            6.0\n",
       "0.3  2.500000e+01      6.0            7.0\n",
       "0.4  3.000000e+01      7.0            8.0\n",
       "0.5  4.000000e+01      8.0            9.0\n",
       "0.6  5.000000e+01     10.0           10.0\n",
       "0.7  6.000000e+01     11.0           11.0\n",
       "0.8  7.500000e+01     13.0           12.0\n",
       "0.9  1.500000e+02     17.0           14.0\n",
       "1.0  2.147484e+09    145.0           43.0"
      ]
     },
     "execution_count": 32,
     "metadata": {},
     "output_type": "execute_result"
    }
   ],
   "source": [
    "joined_df[[\"minutes\",\"n_steps\",\"n_ingredients\"]].quantile([0.1,0.2,0.3,0.4,0.5,0.6,0.7,0.8,0.9,1])"
   ]
  },
  {
   "cell_type": "code",
   "execution_count": 61,
   "id": "6ef81f60",
   "metadata": {},
   "outputs": [
    {
     "data": {
      "text/html": [
       "<div>\n",
       "<style scoped>\n",
       "    .dataframe tbody tr th:only-of-type {\n",
       "        vertical-align: middle;\n",
       "    }\n",
       "\n",
       "    .dataframe tbody tr th {\n",
       "        vertical-align: top;\n",
       "    }\n",
       "\n",
       "    .dataframe thead th {\n",
       "        text-align: right;\n",
       "    }\n",
       "</style>\n",
       "<table border=\"1\" class=\"dataframe\">\n",
       "  <thead>\n",
       "    <tr style=\"text-align: right;\">\n",
       "      <th></th>\n",
       "      <th>minutes</th>\n",
       "    </tr>\n",
       "  </thead>\n",
       "  <tbody>\n",
       "    <tr>\n",
       "      <th>0.910</th>\n",
       "      <td>2.916667</td>\n",
       "    </tr>\n",
       "    <tr>\n",
       "      <th>0.930</th>\n",
       "      <td>3.500000</td>\n",
       "    </tr>\n",
       "    <tr>\n",
       "      <th>0.950</th>\n",
       "      <td>5.166667</td>\n",
       "    </tr>\n",
       "    <tr>\n",
       "      <th>0.990</th>\n",
       "      <td>15.500000</td>\n",
       "    </tr>\n",
       "    <tr>\n",
       "      <th>0.995</th>\n",
       "      <td>24.500000</td>\n",
       "    </tr>\n",
       "  </tbody>\n",
       "</table>\n",
       "</div>"
      ],
      "text/plain": [
       "         minutes\n",
       "0.910   2.916667\n",
       "0.930   3.500000\n",
       "0.950   5.166667\n",
       "0.990  15.500000\n",
       "0.995  24.500000"
      ]
     },
     "execution_count": 61,
     "metadata": {},
     "output_type": "execute_result"
    }
   ],
   "source": [
    "joined_df[[\"minutes\"]].quantile([0.91,0.93,0.95,0.99,0.995])/60"
   ]
  },
  {
   "cell_type": "code",
   "execution_count": 63,
   "id": "1ad1b7c2",
   "metadata": {},
   "outputs": [],
   "source": [
    "#clean minutes column: cap it\n",
    "joined_df[\"minutes1\"] = np.where(joined_df[\"minutes\"]<=48*60,joined_df[\"minutes\"],48*60) "
   ]
  },
  {
   "cell_type": "markdown",
   "id": "641705ca",
   "metadata": {},
   "source": [
    "### Tukey Test on buckets of minutes and rating"
   ]
  },
  {
   "cell_type": "code",
   "execution_count": 64,
   "id": "1e13bc93",
   "metadata": {},
   "outputs": [
    {
     "data": {
      "text/html": [
       "<div>\n",
       "<style scoped>\n",
       "    .dataframe tbody tr th:only-of-type {\n",
       "        vertical-align: middle;\n",
       "    }\n",
       "\n",
       "    .dataframe tbody tr th {\n",
       "        vertical-align: top;\n",
       "    }\n",
       "\n",
       "    .dataframe thead th {\n",
       "        text-align: right;\n",
       "    }\n",
       "</style>\n",
       "<table border=\"1\" class=\"dataframe\">\n",
       "  <thead>\n",
       "    <tr style=\"text-align: right;\">\n",
       "      <th></th>\n",
       "      <th>n_ingredients</th>\n",
       "      <th>n_steps</th>\n",
       "      <th>rating</th>\n",
       "    </tr>\n",
       "    <tr>\n",
       "      <th>minutes_buckets</th>\n",
       "      <th></th>\n",
       "      <th></th>\n",
       "      <th></th>\n",
       "    </tr>\n",
       "  </thead>\n",
       "  <tbody>\n",
       "    <tr>\n",
       "      <th>a.&lt;=15</th>\n",
       "      <td>6.503086</td>\n",
       "      <td>5.737489</td>\n",
       "      <td>4.469096</td>\n",
       "    </tr>\n",
       "    <tr>\n",
       "      <th>b.&lt;=30</th>\n",
       "      <td>8.597985</td>\n",
       "      <td>8.877021</td>\n",
       "      <td>4.427940</td>\n",
       "    </tr>\n",
       "    <tr>\n",
       "      <th>c.&lt;=60</th>\n",
       "      <td>9.607273</td>\n",
       "      <td>10.610071</td>\n",
       "      <td>4.405543</td>\n",
       "    </tr>\n",
       "    <tr>\n",
       "      <th>d.&lt;=240</th>\n",
       "      <td>10.337944</td>\n",
       "      <td>12.156324</td>\n",
       "      <td>4.383287</td>\n",
       "    </tr>\n",
       "    <tr>\n",
       "      <th>e.&gt;240</th>\n",
       "      <td>9.147623</td>\n",
       "      <td>9.792240</td>\n",
       "      <td>4.310574</td>\n",
       "    </tr>\n",
       "  </tbody>\n",
       "</table>\n",
       "</div>"
      ],
      "text/plain": [
       "                 n_ingredients    n_steps    rating\n",
       "minutes_buckets                                    \n",
       "a.<=15                6.503086   5.737489  4.469096\n",
       "b.<=30                8.597985   8.877021  4.427940\n",
       "c.<=60                9.607273  10.610071  4.405543\n",
       "d.<=240              10.337944  12.156324  4.383287\n",
       "e.>240                9.147623   9.792240  4.310574"
      ]
     },
     "execution_count": 64,
     "metadata": {},
     "output_type": "execute_result"
    }
   ],
   "source": [
    "joined_df[\"minutes_buckets\"] = np.where(joined_df[\"minutes1\"]<=15,\"a.<=15\",\\\n",
    "                                       np.where(joined_df[\"minutes1\"]<=30,\"b.<=30\",\\\n",
    "                                               np.where(joined_df[\"minutes1\"]<=60,\"c.<=60\",\\\n",
    "                                                        np.where(joined_df[\"minutes1\"]<=60*4,\"d.<=240\",\"e.>240\"))))\n",
    "\n",
    "joined_df.pivot_table(index = [\"minutes_buckets\"], values = [\"rating\",\"n_steps\",\"n_ingredients\"])"
   ]
  },
  {
   "cell_type": "code",
   "execution_count": 82,
   "id": "63c480fd",
   "metadata": {},
   "outputs": [
    {
     "data": {
      "text/plain": [
       "<AxesSubplot: xlabel='minutes_buckets'>"
      ]
     },
     "execution_count": 82,
     "metadata": {},
     "output_type": "execute_result"
    },
    {
     "data": {
      "image/png": "[encoded data removed]",
      "text/plain": [
       "<Figure size 640x480 with 1 Axes>"
      ]
     },
     "metadata": {},
     "output_type": "display_data"
    }
   ],
   "source": [
    "joined_df.pivot_table(index = [\"minutes_buckets\"], values = [\"rating\",\"n_steps\",\"n_ingredients\"]).plot(kind=\"bar\")"
   ]
  },
  {
   "cell_type": "markdown",
   "id": "148df8f1",
   "metadata": {},
   "source": [
    "**There is a slight trend vsisble**"
   ]
  },
  {
   "cell_type": "code",
   "execution_count": 65,
   "id": "5c5c7e80",
   "metadata": {},
   "outputs": [
    {
     "data": {
      "text/html": [
       "<div>\n",
       "<style scoped>\n",
       "    .dataframe tbody tr th:only-of-type {\n",
       "        vertical-align: middle;\n",
       "    }\n",
       "\n",
       "    .dataframe tbody tr th {\n",
       "        vertical-align: top;\n",
       "    }\n",
       "\n",
       "    .dataframe thead tr th {\n",
       "        text-align: left;\n",
       "    }\n",
       "\n",
       "    .dataframe thead tr:last-of-type th {\n",
       "        text-align: right;\n",
       "    }\n",
       "</style>\n",
       "<table border=\"1\" class=\"dataframe\">\n",
       "  <thead>\n",
       "    <tr>\n",
       "      <th></th>\n",
       "      <th colspan=\"3\" halign=\"left\">minutes1</th>\n",
       "      <th>rating</th>\n",
       "    </tr>\n",
       "    <tr>\n",
       "      <th></th>\n",
       "      <th>count</th>\n",
       "      <th>min</th>\n",
       "      <th>max</th>\n",
       "      <th>mean</th>\n",
       "    </tr>\n",
       "    <tr>\n",
       "      <th>minutes_buckets</th>\n",
       "      <th></th>\n",
       "      <th></th>\n",
       "      <th></th>\n",
       "      <th></th>\n",
       "    </tr>\n",
       "  </thead>\n",
       "  <tbody>\n",
       "    <tr>\n",
       "      <th>a.&lt;=15</th>\n",
       "      <td>199942</td>\n",
       "      <td>0</td>\n",
       "      <td>15</td>\n",
       "      <td>4.469096</td>\n",
       "    </tr>\n",
       "    <tr>\n",
       "      <th>b.&lt;=30</th>\n",
       "      <td>266965</td>\n",
       "      <td>16</td>\n",
       "      <td>30</td>\n",
       "      <td>4.427940</td>\n",
       "    </tr>\n",
       "    <tr>\n",
       "      <th>c.&lt;=60</th>\n",
       "      <td>343488</td>\n",
       "      <td>31</td>\n",
       "      <td>60</td>\n",
       "      <td>4.405543</td>\n",
       "    </tr>\n",
       "    <tr>\n",
       "      <th>d.&lt;=240</th>\n",
       "      <td>248772</td>\n",
       "      <td>61</td>\n",
       "      <td>240</td>\n",
       "      <td>4.383287</td>\n",
       "    </tr>\n",
       "    <tr>\n",
       "      <th>e.&gt;240</th>\n",
       "      <td>73200</td>\n",
       "      <td>241</td>\n",
       "      <td>2880</td>\n",
       "      <td>4.310574</td>\n",
       "    </tr>\n",
       "  </tbody>\n",
       "</table>\n",
       "</div>"
      ],
      "text/plain": [
       "                minutes1               rating\n",
       "                   count  min   max      mean\n",
       "minutes_buckets                              \n",
       "a.<=15            199942    0    15  4.469096\n",
       "b.<=30            266965   16    30  4.427940\n",
       "c.<=60            343488   31    60  4.405543\n",
       "d.<=240           248772   61   240  4.383287\n",
       "e.>240             73200  241  2880  4.310574"
      ]
     },
     "execution_count": 65,
     "metadata": {},
     "output_type": "execute_result"
    }
   ],
   "source": [
    "joined_df.groupby(\"minutes_buckets\").agg({\"minutes1\":[\"count\",\"min\",\"max\"],\\\n",
    "                                        \"rating\":\"mean\"})"
   ]
  },
  {
   "cell_type": "code",
   "execution_count": 42,
   "id": "ed327322",
   "metadata": {},
   "outputs": [],
   "source": [
    "from statsmodels.stats.multicomp import pairwise_tukeyhsd"
   ]
  },
  {
   "cell_type": "code",
   "execution_count": 75,
   "id": "5a87eb83",
   "metadata": {},
   "outputs": [],
   "source": [
    "def ad_tukey(grp=\"\",reponse=\"\"): \n",
    "    tukey = pairwise_tukeyhsd(endog=joined_df[response],\n",
    "                          groups=joined_df[grp],alpha=0.01)\n",
    "    print (tukey)"
   ]
  },
  {
   "cell_type": "code",
   "execution_count": 76,
   "id": "9db927a6",
   "metadata": {},
   "outputs": [
    {
     "name": "stdout",
     "output_type": "stream",
     "text": [
      "Group Variable: minutes_buckets, Response Variable: rating\n",
      " Multiple Comparison of Means - Tukey HSD, FWER=0.01 \n",
      "=====================================================\n",
      " group1  group2 meandiff p-adj  lower   upper  reject\n",
      "-----------------------------------------------------\n",
      " a.<=15  b.<=30  -0.0412   0.0 -0.0533  -0.029   True\n",
      " a.<=15  c.<=60  -0.0636   0.0 -0.0751  -0.052   True\n",
      " a.<=15 d.<=240  -0.0858   0.0 -0.0982 -0.0735   True\n",
      " a.<=15  e.>240  -0.1585   0.0 -0.1763 -0.1407   True\n",
      " b.<=30  c.<=60  -0.0224   0.0  -0.033 -0.0118   True\n",
      " b.<=30 d.<=240  -0.0447   0.0 -0.0561 -0.0332   True\n",
      " b.<=30  e.>240  -0.1174   0.0 -0.1345 -0.1002   True\n",
      " c.<=60 d.<=240  -0.0223   0.0 -0.0331 -0.0114   True\n",
      " c.<=60  e.>240   -0.095   0.0 -0.1117 -0.0782   True\n",
      "d.<=240  e.>240  -0.0727   0.0   -0.09 -0.0554   True\n",
      "-----------------------------------------------------\n",
      "\n",
      "Group Variable: minutes_buckets, Response Variable: n_ingredients\n",
      " Multiple Comparison of Means - Tukey HSD, FWER=0.01 \n",
      "=====================================================\n",
      " group1  group2 meandiff p-adj  lower   upper  reject\n",
      "-----------------------------------------------------\n",
      " a.<=15  b.<=30   2.0949   0.0  2.0616  2.1282   True\n",
      " a.<=15  c.<=60   3.1042   0.0  3.0725  3.1359   True\n",
      " a.<=15 d.<=240   3.8349   0.0   3.801  3.8687   True\n",
      " a.<=15  e.>240   2.6445   0.0  2.5959  2.6932   True\n",
      " b.<=30  c.<=60   1.0093   0.0  0.9802  1.0383   True\n",
      " b.<=30 d.<=240     1.74   0.0  1.7086  1.7713   True\n",
      " b.<=30  e.>240   0.5496   0.0  0.5027  0.5966   True\n",
      " c.<=60 d.<=240   0.7307   0.0   0.701  0.7603   True\n",
      " c.<=60  e.>240  -0.4597   0.0 -0.5055 -0.4138   True\n",
      "d.<=240  e.>240  -1.1903   0.0 -1.2377  -1.143   True\n",
      "-----------------------------------------------------\n",
      "\n",
      "Group Variable: minutes_buckets, Response Variable: n_steps\n",
      " Multiple Comparison of Means - Tukey HSD, FWER=0.01 \n",
      "=====================================================\n",
      " group1  group2 meandiff p-adj  lower   upper  reject\n",
      "-----------------------------------------------------\n",
      " a.<=15  b.<=30   3.1395   0.0  3.0874  3.1917   True\n",
      " a.<=15  c.<=60   4.8726   0.0   4.823  4.9222   True\n",
      " a.<=15 d.<=240   6.4188   0.0  6.3659  6.4718   True\n",
      " a.<=15  e.>240   4.0548   0.0  3.9786  4.1309   True\n",
      " b.<=30  c.<=60    1.733   0.0  1.6875  1.7786   True\n",
      " b.<=30 d.<=240   3.2793   0.0  3.2302  3.3285   True\n",
      " b.<=30  e.>240   0.9152   0.0  0.8416  0.9888   True\n",
      " c.<=60 d.<=240   1.5463   0.0  1.4998  1.5927   True\n",
      " c.<=60  e.>240  -0.8178   0.0 -0.8896  -0.746   True\n",
      "d.<=240  e.>240  -2.3641   0.0 -2.4382 -2.2899   True\n",
      "-----------------------------------------------------\n",
      "\n"
     ]
    }
   ],
   "source": [
    "# perform Tukey's test\n",
    "grp = \"minutes_buckets\"\n",
    "for response in [\"rating\",\"n_ingredients\", \"n_steps\"]:\n",
    "    print (f\"Group Variable: {grp}, Response Variable: {response}\")\n",
    "    ad_tukey(grp,response)\n",
    "    print()"
   ]
  },
  {
   "cell_type": "markdown",
   "id": "7dce5209",
   "metadata": {},
   "source": [
    "### Tukey Test on buckets of n_steps and rating"
   ]
  },
  {
   "cell_type": "code",
   "execution_count": 84,
   "id": "68afb5cc",
   "metadata": {},
   "outputs": [
    {
     "data": {
      "text/html": [
       "<div>\n",
       "<style scoped>\n",
       "    .dataframe tbody tr th:only-of-type {\n",
       "        vertical-align: middle;\n",
       "    }\n",
       "\n",
       "    .dataframe tbody tr th {\n",
       "        vertical-align: top;\n",
       "    }\n",
       "\n",
       "    .dataframe thead th {\n",
       "        text-align: right;\n",
       "    }\n",
       "</style>\n",
       "<table border=\"1\" class=\"dataframe\">\n",
       "  <thead>\n",
       "    <tr style=\"text-align: right;\">\n",
       "      <th></th>\n",
       "      <th>minutes1</th>\n",
       "      <th>n_ingredients</th>\n",
       "      <th>rating</th>\n",
       "    </tr>\n",
       "    <tr>\n",
       "      <th>steps_buckets</th>\n",
       "      <th></th>\n",
       "      <th></th>\n",
       "      <th></th>\n",
       "    </tr>\n",
       "  </thead>\n",
       "  <tbody>\n",
       "    <tr>\n",
       "      <th>a.&lt;=5</th>\n",
       "      <td>68.958416</td>\n",
       "      <td>7.050548</td>\n",
       "      <td>4.440574</td>\n",
       "    </tr>\n",
       "    <tr>\n",
       "      <th>b.&lt;=10</th>\n",
       "      <td>81.529694</td>\n",
       "      <td>8.591180</td>\n",
       "      <td>4.409932</td>\n",
       "    </tr>\n",
       "    <tr>\n",
       "      <th>c.&lt;=20</th>\n",
       "      <td>88.829776</td>\n",
       "      <td>10.463593</td>\n",
       "      <td>4.400412</td>\n",
       "    </tr>\n",
       "    <tr>\n",
       "      <th>d.&gt;20</th>\n",
       "      <td>167.337884</td>\n",
       "      <td>12.026554</td>\n",
       "      <td>4.340913</td>\n",
       "    </tr>\n",
       "  </tbody>\n",
       "</table>\n",
       "</div>"
      ],
      "text/plain": [
       "                 minutes1  n_ingredients    rating\n",
       "steps_buckets                                     \n",
       "a.<=5           68.958416       7.050548  4.440574\n",
       "b.<=10          81.529694       8.591180  4.409932\n",
       "c.<=20          88.829776      10.463593  4.400412\n",
       "d.>20          167.337884      12.026554  4.340913"
      ]
     },
     "execution_count": 84,
     "metadata": {},
     "output_type": "execute_result"
    }
   ],
   "source": [
    "joined_df[\"steps_buckets\"] = np.where(joined_df[\"n_steps\"]<=5,\"a.<=5\",\\\n",
    "                                       np.where(joined_df[\"n_steps\"]<=10,\"b.<=10\",\\\n",
    "                                               np.where(joined_df[\"n_steps\"]<=20,\"c.<=20\",\"d.>20\")))\n",
    "\n",
    "joined_df.pivot_table(index = [\"steps_buckets\"], values = [\"rating\",\"minutes1\",\"n_ingredients\"])"
   ]
  },
  {
   "cell_type": "code",
   "execution_count": 85,
   "id": "01d62459",
   "metadata": {},
   "outputs": [
    {
     "data": {
      "text/plain": [
       "<AxesSubplot: xlabel='steps_buckets'>"
      ]
     },
     "execution_count": 85,
     "metadata": {},
     "output_type": "execute_result"
    },
    {
     "data": {
      "image/png": "[encoded data removed]",
      "text/plain": [
       "<Figure size 640x480 with 1 Axes>"
      ]
     },
     "metadata": {},
     "output_type": "display_data"
    }
   ],
   "source": [
    "joined_df.pivot_table(index = [\"steps_buckets\"], values = [\"rating\",\"minutes1\",\"n_ingredients\"]).plot(kind=\"bar\")"
   ]
  },
  {
   "cell_type": "code",
   "execution_count": 86,
   "id": "06a5da5d",
   "metadata": {},
   "outputs": [
    {
     "data": {
      "text/html": [
       "<div>\n",
       "<style scoped>\n",
       "    .dataframe tbody tr th:only-of-type {\n",
       "        vertical-align: middle;\n",
       "    }\n",
       "\n",
       "    .dataframe tbody tr th {\n",
       "        vertical-align: top;\n",
       "    }\n",
       "\n",
       "    .dataframe thead tr th {\n",
       "        text-align: left;\n",
       "    }\n",
       "\n",
       "    .dataframe thead tr:last-of-type th {\n",
       "        text-align: right;\n",
       "    }\n",
       "</style>\n",
       "<table border=\"1\" class=\"dataframe\">\n",
       "  <thead>\n",
       "    <tr>\n",
       "      <th></th>\n",
       "      <th colspan=\"3\" halign=\"left\">minutes1</th>\n",
       "      <th>rating</th>\n",
       "      <th>n_ingredients</th>\n",
       "    </tr>\n",
       "    <tr>\n",
       "      <th></th>\n",
       "      <th>count</th>\n",
       "      <th>min</th>\n",
       "      <th>max</th>\n",
       "      <th>mean</th>\n",
       "      <th>mean</th>\n",
       "    </tr>\n",
       "    <tr>\n",
       "      <th>steps_buckets</th>\n",
       "      <th></th>\n",
       "      <th></th>\n",
       "      <th></th>\n",
       "      <th></th>\n",
       "      <th></th>\n",
       "    </tr>\n",
       "  </thead>\n",
       "  <tbody>\n",
       "    <tr>\n",
       "      <th>a.&lt;=5</th>\n",
       "      <td>259811</td>\n",
       "      <td>0</td>\n",
       "      <td>2880</td>\n",
       "      <td>4.440574</td>\n",
       "      <td>7.050548</td>\n",
       "    </tr>\n",
       "    <tr>\n",
       "      <th>b.&lt;=10</th>\n",
       "      <td>482992</td>\n",
       "      <td>0</td>\n",
       "      <td>2880</td>\n",
       "      <td>4.409932</td>\n",
       "      <td>8.591180</td>\n",
       "    </tr>\n",
       "    <tr>\n",
       "      <th>c.&lt;=20</th>\n",
       "      <td>338724</td>\n",
       "      <td>0</td>\n",
       "      <td>2880</td>\n",
       "      <td>4.400412</td>\n",
       "      <td>10.463593</td>\n",
       "    </tr>\n",
       "    <tr>\n",
       "      <th>d.&gt;20</th>\n",
       "      <td>50840</td>\n",
       "      <td>0</td>\n",
       "      <td>2880</td>\n",
       "      <td>4.340913</td>\n",
       "      <td>12.026554</td>\n",
       "    </tr>\n",
       "  </tbody>\n",
       "</table>\n",
       "</div>"
      ],
      "text/plain": [
       "              minutes1              rating n_ingredients\n",
       "                 count min   max      mean          mean\n",
       "steps_buckets                                           \n",
       "a.<=5           259811   0  2880  4.440574      7.050548\n",
       "b.<=10          482992   0  2880  4.409932      8.591180\n",
       "c.<=20          338724   0  2880  4.400412     10.463593\n",
       "d.>20            50840   0  2880  4.340913     12.026554"
      ]
     },
     "execution_count": 86,
     "metadata": {},
     "output_type": "execute_result"
    }
   ],
   "source": [
    "joined_df.groupby(\"steps_buckets\").agg({\"minutes1\":[\"count\",\"min\",\"max\"],\\\n",
    "                                        \"rating\":\"mean\",\"n_ingredients\":\"mean\"})"
   ]
  },
  {
   "cell_type": "code",
   "execution_count": 87,
   "id": "a171ff65",
   "metadata": {},
   "outputs": [
    {
     "name": "stdout",
     "output_type": "stream",
     "text": [
      "Group Variable: steps_buckets, Response Variable: rating\n",
      "Multiple Comparison of Means - Tukey HSD, FWER=0.01 \n",
      "====================================================\n",
      "group1 group2 meandiff p-adj   lower   upper  reject\n",
      "----------------------------------------------------\n",
      " a.<=5 b.<=10  -0.0306    0.0 -0.0402 -0.0211   True\n",
      " a.<=5 c.<=20  -0.0402    0.0 -0.0504 -0.0299   True\n",
      " a.<=5  d.>20  -0.0997    0.0 -0.1188 -0.0806   True\n",
      "b.<=10 c.<=20  -0.0095 0.0043 -0.0183 -0.0007   True\n",
      "b.<=10  d.>20   -0.069    0.0 -0.0874 -0.0507   True\n",
      "c.<=20  d.>20  -0.0595    0.0 -0.0782 -0.0408   True\n",
      "----------------------------------------------------\n",
      "\n",
      "Group Variable: steps_buckets, Response Variable: n_ingredients\n",
      "Multiple Comparison of Means - Tukey HSD, FWER=0.01\n",
      "=================================================\n",
      "group1 group2 meandiff p-adj lower  upper  reject\n",
      "-------------------------------------------------\n",
      " a.<=5 b.<=10   1.5406   0.0 1.5148 1.5665   True\n",
      " a.<=5 c.<=20    3.413   0.0 3.3854 3.4407   True\n",
      " a.<=5  d.>20    4.976   0.0 4.9245 5.0275   True\n",
      "b.<=10 c.<=20   1.8724   0.0 1.8486 1.8962   True\n",
      "b.<=10  d.>20   3.4354   0.0 3.3859 3.4849   True\n",
      "c.<=20  d.>20    1.563   0.0 1.5125 1.6134   True\n",
      "-------------------------------------------------\n",
      "\n",
      "Group Variable: steps_buckets, Response Variable: minutes1\n",
      "Multiple Comparison of Means - Tukey HSD, FWER=0.01\n",
      "===================================================\n",
      "group1 group2 meandiff p-adj  lower   upper  reject\n",
      "---------------------------------------------------\n",
      " a.<=5 b.<=10  12.5713   0.0 11.0148 14.1278   True\n",
      " a.<=5 c.<=20  19.8714   0.0 18.2029 21.5398   True\n",
      " a.<=5  d.>20  98.3795   0.0 95.2769 101.482   True\n",
      "b.<=10 c.<=20   7.3001   0.0  5.8663  8.7339   True\n",
      "b.<=10  d.>20  85.8082   0.0 82.8252 88.7911   True\n",
      "c.<=20  d.>20  78.5081   0.0 75.4653  81.551   True\n",
      "---------------------------------------------------\n",
      "\n"
     ]
    }
   ],
   "source": [
    "# perform Tukey's test\n",
    "grp = \"steps_buckets\"\n",
    "for response in [\"rating\",\"n_ingredients\", \"minutes1\"]:\n",
    "    print (f\"Group Variable: {grp}, Response Variable: {response}\")\n",
    "    ad_tukey(grp,response)\n",
    "    print()"
   ]
  }
 ],
 "metadata": {
  "kernelspec": {
   "display_name": "ml_project_env",
   "language": "python",
   "name": "ml_project_env"
  },
  "language_info": {
   "codemirror_mode": {
    "name": "ipython",
    "version": 3
   },
   "file_extension": ".py",
   "mimetype": "text/x-python",
   "name": "python",
   "nbconvert_exporter": "python",
   "pygments_lexer": "ipython3",
   "version": "3.9.13"
  }
 },
 "nbformat": 4,
 "nbformat_minor": 5
}
