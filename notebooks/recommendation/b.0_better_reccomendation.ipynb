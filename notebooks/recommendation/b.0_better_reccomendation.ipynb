{
 "cells": [
  {
   "cell_type": "code",
   "execution_count": 1,
   "id": "5d8b8601",
   "metadata": {},
   "outputs": [
    {
     "name": "stdout",
     "output_type": "stream",
     "text": [
      "/Users/ashish1610dhiman/data_projects/fall22_hw/RoboChef/notebooks/recommendation\r\n"
     ]
    }
   ],
   "source": [
    "!pwd"
   ]
  },
  {
   "cell_type": "code",
   "execution_count": 2,
   "id": "c900a99f",
   "metadata": {},
   "outputs": [],
   "source": [
    "import pandas as pd\n",
    "from surprise import Dataset\n",
    "from surprise import Reader\n",
    "\n",
    "from surprise import accuracy, Dataset, SVD,SVDpp, NMF \n",
    "from surprise.model_selection import train_test_split as train_test_split_surprise\n",
    "from surprise.model_selection import cross_validate, GridSearchCV\n",
    "from sklearn.model_selection import train_test_split\n",
    "from tqdm.notebook import tqdm\n",
    "\n",
    "import numpy as np\n"
   ]
  },
  {
   "cell_type": "code",
   "execution_count": 3,
   "id": "536156d6",
   "metadata": {},
   "outputs": [],
   "source": [
    "TRAIN__Validation_SIZE = 0.8\n",
    "TEST_SIZE = 0.2"
   ]
  },
  {
   "cell_type": "markdown",
   "id": "c4ce3d09",
   "metadata": {},
   "source": [
    "### Read the Train and Test"
   ]
  },
  {
   "cell_type": "code",
   "execution_count": 4,
   "id": "766a6b1e",
   "metadata": {},
   "outputs": [
    {
     "data": {
      "text/plain": [
       "((905893, 6), (226474, 6))"
      ]
     },
     "execution_count": 4,
     "metadata": {},
     "output_type": "execute_result"
    }
   ],
   "source": [
    "train_validation = pd.read_csv(\"../../data/recommendation/ad_interaction_train.csv\")\n",
    "test_set = pd.read_csv(\"../../data/recommendation/ad_interaction_test.csv\")\n",
    "train_validation.shape,test_set.shape"
   ]
  },
  {
   "cell_type": "markdown",
   "id": "8a2700bb",
   "metadata": {},
   "source": [
    "### Cross validate on multiple Model types"
   ]
  },
  {
   "cell_type": "code",
   "execution_count": 5,
   "id": "9e903d89",
   "metadata": {},
   "outputs": [],
   "source": [
    "reader = Reader(rating_scale=(1, 5))\n",
    "cv_data = Dataset.load_from_df(train_validation[[\"user_id\",\\\n",
    "                                                 \"recipe_id\", \"rating\"]], reader)"
   ]
  },
  {
   "cell_type": "code",
   "execution_count": 6,
   "id": "715ec69f",
   "metadata": {},
   "outputs": [],
   "source": [
    "param_grid = {\"n_factors\":[5, 25] ,\"n_epochs\": [20, 250], \"lr_all\": [0.001, 0.006],\\\n",
    "             \"reg_all\":[0.01,0.08]}\n",
    "param_grid2 = {\"n_factors\":[5, 25] ,\"n_epochs\": [2, 20], \"reg_pu\":[0.01,0.1], \"reg_qi\":[0.01,0.1]}"
   ]
  },
  {
   "cell_type": "markdown",
   "id": "62cd4e75",
   "metadata": {},
   "source": [
    "#### SVD, SVDpp, NMF"
   ]
  },
  {
   "cell_type": "code",
   "execution_count": 7,
   "id": "990e968b",
   "metadata": {},
   "outputs": [],
   "source": [
    "gs_svd = GridSearchCV(SVD, param_grid, measures=[\"rmse\", \"mae\"], cv=5, n_jobs = -2, joblib_verbose=3)\n",
    "# gs_svdpp = GridSearchCV(SVDpp, param_grid, measures=[\"rmse\", \"mae\"], cv=5, n_jobs = -2, joblib_verbose=3)\n",
    "gs_nmf = GridSearchCV(NMF, param_grid2, measures=[\"rmse\", \"mae\"], cv=5, n_jobs = -2, joblib_verbose=3)"
   ]
  },
  {
   "cell_type": "code",
   "execution_count": 8,
   "id": "09e44aa3",
   "metadata": {},
   "outputs": [
    {
     "name": "stderr",
     "output_type": "stream",
     "text": [
      "[Parallel(n_jobs=-2)]: Using backend LokyBackend with 7 concurrent workers.\n",
      "[Parallel(n_jobs=-2)]: Done  18 tasks      | elapsed:   24.6s\n",
      "[Parallel(n_jobs=-2)]: Done  80 out of  80 | elapsed:  3.2min finished\n"
     ]
    }
   ],
   "source": [
    "gs_nmf.fit(cv_data)"
   ]
  },
  {
   "cell_type": "code",
   "execution_count": 9,
   "id": "52b2558a",
   "metadata": {},
   "outputs": [
    {
     "name": "stderr",
     "output_type": "stream",
     "text": [
      "[Parallel(n_jobs=-2)]: Using backend LokyBackend with 7 concurrent workers.\n",
      "[Parallel(n_jobs=-2)]: Done  18 tasks      | elapsed:   31.3s\n",
      "[Parallel(n_jobs=-2)]: Done  80 out of  80 | elapsed:  7.8min finished\n"
     ]
    }
   ],
   "source": [
    "gs_svd.fit(cv_data)"
   ]
  },
  {
   "cell_type": "code",
   "execution_count": 10,
   "id": "66b0abb0",
   "metadata": {},
   "outputs": [],
   "source": [
    "# gs_svdpp.fit(cv_data)"
   ]
  },
  {
   "cell_type": "markdown",
   "id": "76503d48",
   "metadata": {},
   "source": [
    "#### Compare results"
   ]
  },
  {
   "cell_type": "code",
   "execution_count": 17,
   "id": "37cb6cc1",
   "metadata": {},
   "outputs": [
    {
     "data": {
      "text/plain": [
       "1.3048597107504085"
      ]
     },
     "execution_count": 17,
     "metadata": {},
     "output_type": "execute_result"
    }
   ],
   "source": [
    "gs_nmf.best_score[\"rmse\"]"
   ]
  },
  {
   "cell_type": "code",
   "execution_count": 18,
   "id": "d98bb16d",
   "metadata": {},
   "outputs": [],
   "source": [
    "gs_result = {}\n",
    "for algo,gs in {\"svd\":gs_svd,\"nmf\":gs_nmf}.items():\n",
    "    gs_result[algo] = [gs.best_score[\"rmse\"],gs.best_score[\"mae\"]]"
   ]
  },
  {
   "cell_type": "code",
   "execution_count": 19,
   "id": "fb0187bd",
   "metadata": {},
   "outputs": [
    {
     "data": {
      "text/html": [
       "<div>\n",
       "<style scoped>\n",
       "    .dataframe tbody tr th:only-of-type {\n",
       "        vertical-align: middle;\n",
       "    }\n",
       "\n",
       "    .dataframe tbody tr th {\n",
       "        vertical-align: top;\n",
       "    }\n",
       "\n",
       "    .dataframe thead th {\n",
       "        text-align: right;\n",
       "    }\n",
       "</style>\n",
       "<table border=\"1\" class=\"dataframe\">\n",
       "  <thead>\n",
       "    <tr style=\"text-align: right;\">\n",
       "      <th></th>\n",
       "      <th>svd</th>\n",
       "      <th>nmf</th>\n",
       "    </tr>\n",
       "  </thead>\n",
       "  <tbody>\n",
       "    <tr>\n",
       "      <th>rmse</th>\n",
       "      <td>1.217126</td>\n",
       "      <td>1.304860</td>\n",
       "    </tr>\n",
       "    <tr>\n",
       "      <th>mae</th>\n",
       "      <td>0.737252</td>\n",
       "      <td>0.653033</td>\n",
       "    </tr>\n",
       "  </tbody>\n",
       "</table>\n",
       "</div>"
      ],
      "text/plain": [
       "           svd       nmf\n",
       "rmse  1.217126  1.304860\n",
       "mae   0.737252  0.653033"
      ]
     },
     "execution_count": 19,
     "metadata": {},
     "output_type": "execute_result"
    }
   ],
   "source": [
    "gs_result_df = pd.DataFrame.from_dict(gs_result)\n",
    "gs_result_df.index = [\"rmse\",\"mae\"]\n",
    "gs_result_df"
   ]
  },
  {
   "cell_type": "code",
   "execution_count": 20,
   "id": "edb70605",
   "metadata": {},
   "outputs": [
    {
     "data": {
      "text/plain": [
       "{'n_factors': 5, 'n_epochs': 20, 'lr_all': 0.006, 'reg_all': 0.08}"
      ]
     },
     "execution_count": 20,
     "metadata": {},
     "output_type": "execute_result"
    }
   ],
   "source": [
    "gs_svd.best_params[\"rmse\"]"
   ]
  },
  {
   "cell_type": "code",
   "execution_count": 34,
   "id": "d2680a9b",
   "metadata": {},
   "outputs": [
    {
     "data": {
      "text/plain": [
       "{'n_factors': 25, 'n_epochs': 2, 'reg_pu': 0.01, 'reg_qi': 0.01}"
      ]
     },
     "execution_count": 34,
     "metadata": {},
     "output_type": "execute_result"
    }
   ],
   "source": [
    "gs_nmf.best_params[\"mae\"]"
   ]
  },
  {
   "cell_type": "markdown",
   "id": "2bdb8291",
   "metadata": {},
   "source": [
    "#### Build model on full cv set"
   ]
  },
  {
   "cell_type": "code",
   "execution_count": 44,
   "id": "72cd513c",
   "metadata": {},
   "outputs": [
    {
     "data": {
      "text/plain": [
       "<surprise.prediction_algorithms.matrix_factorization.NMF at 0x1a4df7e50>"
      ]
     },
     "execution_count": 44,
     "metadata": {},
     "output_type": "execute_result"
    }
   ],
   "source": [
    "model1 = gs_svd.best_estimator[\"rmse\"]\n",
    "model1.fit(cv_data.build_full_trainset())\n",
    "\n",
    "model2 = gs_nmf.best_estimator[\"mae\"]\n",
    "model2.fit(cv_data.build_full_trainset())"
   ]
  },
  {
   "cell_type": "markdown",
   "id": "63d7fade",
   "metadata": {},
   "source": [
    "#### Write models to pickle"
   ]
  },
  {
   "cell_type": "code",
   "execution_count": 45,
   "id": "ef50dc95",
   "metadata": {},
   "outputs": [],
   "source": [
    "import sys\n",
    "from os.path import dirname\n",
    "sys.path.append(dirname(\"../../\"))"
   ]
  },
  {
   "cell_type": "code",
   "execution_count": 46,
   "id": "a02537f4",
   "metadata": {},
   "outputs": [
    {
     "name": "stdout",
     "output_type": "stream",
     "text": [
      "Pickle Dump Falied\n",
      "Pickle Dump Falied\n"
     ]
    }
   ],
   "source": [
    "from src.utilities import *\n",
    "\n",
    "write_pickle(model1, \"../../models/reccomender_model1_svd.pkl\")\n",
    "write_pickle(model2, \"../../models/reccomender_model2_nmf.pkl\")"
   ]
  },
  {
   "cell_type": "code",
   "execution_count": 47,
   "id": "a967d415",
   "metadata": {},
   "outputs": [],
   "source": [
    "test_set_surprise = Dataset.load_from_df(test_set[[\"user_id\", \"recipe_id\", \"rating\"]], reader)\n",
    "_, test_set_surprise = train_test_split_surprise(test_set_surprise, test_size=1.0)"
   ]
  },
  {
   "cell_type": "code",
   "execution_count": 50,
   "id": "304485a2",
   "metadata": {},
   "outputs": [
    {
     "data": {
      "text/plain": [
       "(1.2106318289575184, 0.7378288018266064)"
      ]
     },
     "execution_count": 50,
     "metadata": {},
     "output_type": "execute_result"
    }
   ],
   "source": [
    "predictions1 = model1.test(test_set_surprise)\n",
    "accuracy.rmse(predictions1, verbose=False), accuracy.mae(predictions1, verbose=False)"
   ]
  },
  {
   "cell_type": "code",
   "execution_count": 51,
   "id": "ea7881a1",
   "metadata": {},
   "outputs": [
    {
     "data": {
      "text/plain": [
       "(1.3171728600922699, 0.64265160294064)"
      ]
     },
     "execution_count": 51,
     "metadata": {},
     "output_type": "execute_result"
    }
   ],
   "source": [
    "predictions2 = model2.test(test_set_surprise)\n",
    "accuracy.rmse(predictions2, verbose=False), accuracy.mae(predictions2, verbose=False)"
   ]
  },
  {
   "cell_type": "code",
   "execution_count": null,
   "id": "51c35a5e",
   "metadata": {},
   "outputs": [],
   "source": []
  }
 ],
 "metadata": {
  "kernelspec": {
   "display_name": "Python 3 (ipykernel)",
   "language": "python",
   "name": "python3"
  },
  "language_info": {
   "codemirror_mode": {
    "name": "ipython",
    "version": 3
   },
   "file_extension": ".py",
   "mimetype": "text/x-python",
   "name": "python",
   "nbconvert_exporter": "python",
   "pygments_lexer": "ipython3",
   "version": "3.9.13"
  }
 },
 "nbformat": 4,
 "nbformat_minor": 5
}
