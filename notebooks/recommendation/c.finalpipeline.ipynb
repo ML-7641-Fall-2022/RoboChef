{
 "cells": [
  {
   "cell_type": "code",
   "execution_count": 50,
   "metadata": {},
   "outputs": [
    {
     "name": "stdout",
     "output_type": "stream",
     "text": [
      "The autoreload extension is already loaded. To reload it, use:\n",
      "  %reload_ext autoreload\n"
     ]
    }
   ],
   "source": [
    "import numpy as np\n",
    "import pandas as pd\n",
    "import matplotlib.pyplot as plt\n",
    "import random\n",
    "import ast\n",
    "import operator\n",
    "\n",
    "from fuzzywuzzy import fuzz\n",
    "from fuzzywuzzy import process\n",
    "\n",
    "%load_ext autoreload\n",
    "%autoreload"
   ]
  },
  {
   "cell_type": "code",
   "execution_count": 63,
   "metadata": {},
   "outputs": [],
   "source": [
    "import sys\n",
    "from os.path import dirname\n",
    "sys.path.append(dirname(\"../../\"))\n",
    "\n",
    "from src.utilities import *\n",
    "from src.reccomendation_util import *"
   ]
  },
  {
   "cell_type": "markdown",
   "metadata": {},
   "source": [
    "Inputs required by the user"
   ]
  },
  {
   "cell_type": "code",
   "execution_count": 54,
   "metadata": {},
   "outputs": [
    {
     "data": {
      "text/plain": [
       "'c:\\\\Users\\\\manoj\\\\OneDrive - Georgia Institute of Technology\\\\2. MSA Fall 22\\\\2. CS 7641\\\\3. Projects\\\\RoboChef\\\\notebooks\\\\recommendation'"
      ]
     },
     "execution_count": 54,
     "metadata": {},
     "output_type": "execute_result"
    }
   ],
   "source": [
    "pwd"
   ]
  },
  {
   "cell_type": "code",
   "execution_count": 43,
   "metadata": {},
   "outputs": [],
   "source": [
    "# Output from CNN. Input for Recommendation\n",
    "PREDICTED_LABEL = \"apple pie\""
   ]
  },
  {
   "cell_type": "markdown",
   "metadata": {},
   "source": [
    "Load the Input Data"
   ]
  },
  {
   "cell_type": "code",
   "execution_count": 44,
   "metadata": {},
   "outputs": [],
   "source": [
    "label_ingr_mapping = pd.read_csv(\"../../data/recommendation/label_ingredients_mapping.csv\")\n",
    "raw_interactions = pd.read_csv(\"../../data/recommendation/RAW_interactions.csv\")\n",
    "recipe_metadata = pd.read_csv(\"../../data/recommendation/RAW_recipes.csv\")\n",
    "recipe_metadata['nutrition_list'] = recipe_metadata['nutrition'].apply(lambda x: ast.literal_eval(x))\n",
    "recipe_metadata['ingredients_list'] = recipe_metadata['ingredients'].apply(lambda x: ast.literal_eval(x))\n",
    "recipe_metadata[['calories', 'fat_dv', \"sugar_dv\", \\\n",
    "                     \"sodium_dv\", \"protein_dv\", \"sat_fat\", \"carbs_dv\"]\\\n",
    "               ] = pd.DataFrame(recipe_metadata.nutrition_list.tolist(), index=recipe_metadata.index)"
   ]
  },
  {
   "cell_type": "markdown",
   "metadata": {},
   "source": [
    "Get ingredients for the label"
   ]
  },
  {
   "cell_type": "code",
   "execution_count": 45,
   "metadata": {},
   "outputs": [],
   "source": [
    "def get_label_ingredients(data, label):\n",
    "    \"\"\"\n",
    "    Function to return ingredients after mapping the label to recipe\n",
    "    Input : data\n",
    "    Output : list of ingredients\n",
    "    \"\"\"\n",
    "    ingredients_list = data[data['label'] == label]['ingredients'][0]\n",
    "    ingredients_list = ast.literal_eval(ingredients_list)\n",
    "    \n",
    "    return ingredients_list"
   ]
  },
  {
   "cell_type": "markdown",
   "metadata": {},
   "source": [
    "Get user_id for the user"
   ]
  },
  {
   "cell_type": "code",
   "execution_count": 46,
   "metadata": {},
   "outputs": [],
   "source": [
    "# Create input user id for recommendation prediction\n",
    "def get_user_id(data):\n",
    "    user_list = data['user_id'].unique().tolist()\n",
    "    input_user_id = random.choice(user_list)\n",
    "    return input_user_id"
   ]
  },
  {
   "cell_type": "code",
   "execution_count": 70,
   "metadata": {},
   "outputs": [],
   "source": [
    "ingredients_list = get_label_ingredients(label_ingr_mapping, PREDICTED_LABEL)\n",
    "input_user_id = get_user_id(raw_interactions)"
   ]
  },
  {
   "cell_type": "code",
   "execution_count": 71,
   "metadata": {},
   "outputs": [
    {
     "name": "stdout",
     "output_type": "stream",
     "text": [
      "1150423\n",
      "['apple juice', 'raw honey', 'whole cloves', 'everclear alcohol', 'ground cinnamon', 'cheesecloth']\n"
     ]
    }
   ],
   "source": [
    "print(input_user_id) \n",
    "print(ingredients_list)"
   ]
  },
  {
   "cell_type": "markdown",
   "metadata": {},
   "source": [
    "Final Recommendation using SVD"
   ]
  },
  {
   "cell_type": "code",
   "execution_count": null,
   "metadata": {},
   "outputs": [],
   "source": [
    "ad_final_reccom(input_user_id,ingredients_list, raw_interactions, recipe_metadata)"
   ]
  }
 ],
 "metadata": {
  "kernelspec": {
   "display_name": "Python 3.9.12 ('base')",
   "language": "python",
   "name": "python3"
  },
  "language_info": {
   "codemirror_mode": {
    "name": "ipython",
    "version": 3
   },
   "file_extension": ".py",
   "mimetype": "text/x-python",
   "name": "python",
   "nbconvert_exporter": "python",
   "pygments_lexer": "ipython3",
   "version": "3.9.12"
  },
  "orig_nbformat": 4,
  "vscode": {
   "interpreter": {
    "hash": "ddf03f41072ea839c1b8366274adabd51c9e5b8a44c435a9dc36156b9fcd3686"
   }
  }
 },
 "nbformat": 4,
 "nbformat_minor": 2
}
