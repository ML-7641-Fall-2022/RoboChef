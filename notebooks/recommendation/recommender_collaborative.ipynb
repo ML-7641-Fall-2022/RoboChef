{
 "cells": [
  {
   "cell_type": "code",
   "execution_count": 1,
   "id": "0f8724d7",
   "metadata": {},
   "outputs": [],
   "source": [
    "import pandas as pd\n",
    "from scipy import stats\n",
    "import numpy as np\n",
    "import matplotlib.pyplot as plt\n",
    "from collections import Counter\n",
    "from sklearn.utils import shuffle\n",
    "from datetime import datetime\n",
    "from sortedcontainers import SortedList"
   ]
  },
  {
   "cell_type": "code",
   "execution_count": 2,
   "id": "a7f07764",
   "metadata": {},
   "outputs": [],
   "source": [
    "df_raw = pd.read_csv(\"archive/RAW_interactions.csv\")"
   ]
  },
  {
   "cell_type": "code",
   "execution_count": 3,
   "id": "95a92884",
   "metadata": {},
   "outputs": [],
   "source": [
    "df_recipes = pd.read_csv(\"archive/RAW_recipes.csv\")\n",
    "\n",
    "df_interaction_train = pd.read_csv(\"archive/interactions_train.csv\")\n",
    "df_interaction_test= pd.read_csv(\"archive/interactions_validation.csv\")"
   ]
  },
  {
   "cell_type": "code",
   "execution_count": 4,
   "id": "477eedf1",
   "metadata": {},
   "outputs": [
    {
     "data": {
      "text/plain": [
       "user_id      1132367\n",
       "recipe_id    1132367\n",
       "rating       1132367\n",
       "dtype: int64"
      ]
     },
     "execution_count": 4,
     "metadata": {},
     "output_type": "execute_result"
    }
   ],
   "source": [
    "df_raw[[\"user_id\",\"recipe_id\",\"rating\"]].count()"
   ]
  },
  {
   "cell_type": "code",
   "execution_count": 5,
   "id": "171bdd1e",
   "metadata": {},
   "outputs": [
    {
     "data": {
      "text/plain": [
       "user_id      1132367\n",
       "recipe_id    1132367\n",
       "rating       1132367\n",
       "dtype: int64"
      ]
     },
     "execution_count": 5,
     "metadata": {},
     "output_type": "execute_result"
    }
   ],
   "source": [
    "df_raw.drop_duplicates(subset=[\"user_id\",\"recipe_id\",\"rating\"],keep=\"last\")[[\"user_id\",\"recipe_id\",\"rating\"]].count()"
   ]
  },
  {
   "cell_type": "markdown",
   "id": "c11bdf97",
   "metadata": {},
   "source": [
    "**Observation** \n",
    "\n",
    "Our raw user-food interaction matrix does not have duplicates and hence we can proceed with 3 columns : user_id , recipe_id and rating"
   ]
  },
  {
   "cell_type": "code",
   "execution_count": 6,
   "id": "22bc9ec0",
   "metadata": {},
   "outputs": [],
   "source": [
    "df_raw=df_raw[[\"user_id\",\"recipe_id\",\"rating\"]]"
   ]
  },
  {
   "cell_type": "code",
   "execution_count": 7,
   "id": "ab772061",
   "metadata": {},
   "outputs": [
    {
     "data": {
      "text/plain": [
       "2002371173"
      ]
     },
     "execution_count": 7,
     "metadata": {},
     "output_type": "execute_result"
    }
   ],
   "source": [
    "df_raw.user_id.max() - df_raw.user_id.min()"
   ]
  },
  {
   "cell_type": "markdown",
   "id": "9b6479d8",
   "metadata": {},
   "source": [
    "## Converting the user_ids and recipe_ids into contiguous value series"
   ]
  },
  {
   "cell_type": "code",
   "execution_count": 8,
   "id": "e3421b80",
   "metadata": {},
   "outputs": [],
   "source": [
    "user_id_set=set(df_raw.user_id.values)\n",
    "user2idx={}\n",
    "i=0\n",
    "for user in user_id_set:\n",
    "    user2idx[user]=i\n",
    "    i+=1"
   ]
  },
  {
   "cell_type": "code",
   "execution_count": 9,
   "id": "86749120",
   "metadata": {},
   "outputs": [],
   "source": [
    "recipe_id_set=set(df_raw.recipe_id.values)\n",
    "recipe2idx={}\n",
    "i=0\n",
    "for recipe in recipe_id_set:\n",
    "    recipe2idx[recipe]=i\n",
    "    i+=1"
   ]
  },
  {
   "cell_type": "code",
   "execution_count": 10,
   "id": "b7136301",
   "metadata": {},
   "outputs": [],
   "source": [
    "df_raw['user_idx'] = df_raw.apply(lambda row: user2idx[row.user_id], axis=1)\n",
    "df_raw['recipe_idx'] = df_raw.apply(lambda row: recipe2idx[row.recipe_id], axis=1)"
   ]
  },
  {
   "cell_type": "code",
   "execution_count": 11,
   "id": "159d65f4",
   "metadata": {},
   "outputs": [],
   "source": [
    "df_raw.drop([\"user_id\",\"recipe_id\"],axis=1,inplace=True)"
   ]
  },
  {
   "cell_type": "code",
   "execution_count": 12,
   "id": "39270f46",
   "metadata": {},
   "outputs": [],
   "source": [
    "N = df_raw.user_idx.max() + 1 # number of users\n",
    "M = df_raw.recipe_idx.max() + 1 # number of recipes"
   ]
  },
  {
   "cell_type": "code",
   "execution_count": 13,
   "id": "20bfef70",
   "metadata": {},
   "outputs": [
    {
     "data": {
      "text/plain": [
       "(226570, 231637)"
      ]
     },
     "execution_count": 13,
     "metadata": {},
     "output_type": "execute_result"
    }
   ],
   "source": [
    "N,M"
   ]
  },
  {
   "cell_type": "code",
   "execution_count": 14,
   "id": "dc5b15b0",
   "metadata": {},
   "outputs": [],
   "source": [
    "user_ids_count = Counter(df_raw.user_idx)\n",
    "recipe_ids_count = Counter(df_raw.recipe_idx)"
   ]
  },
  {
   "cell_type": "code",
   "execution_count": 15,
   "id": "fd563ef6",
   "metadata": {},
   "outputs": [
    {
     "data": {
      "text/html": [
       "<div>\n",
       "<style scoped>\n",
       "    .dataframe tbody tr th:only-of-type {\n",
       "        vertical-align: middle;\n",
       "    }\n",
       "\n",
       "    .dataframe tbody tr th {\n",
       "        vertical-align: top;\n",
       "    }\n",
       "\n",
       "    .dataframe thead th {\n",
       "        text-align: right;\n",
       "    }\n",
       "</style>\n",
       "<table border=\"1\" class=\"dataframe\">\n",
       "  <thead>\n",
       "    <tr style=\"text-align: right;\">\n",
       "      <th></th>\n",
       "      <th>rating</th>\n",
       "      <th>user_idx</th>\n",
       "      <th>recipe_idx</th>\n",
       "    </tr>\n",
       "  </thead>\n",
       "  <tbody>\n",
       "    <tr>\n",
       "      <th>0</th>\n",
       "      <td>4</td>\n",
       "      <td>17890</td>\n",
       "      <td>23485</td>\n",
       "    </tr>\n",
       "    <tr>\n",
       "      <th>1</th>\n",
       "      <td>5</td>\n",
       "      <td>116700</td>\n",
       "      <td>23485</td>\n",
       "    </tr>\n",
       "    <tr>\n",
       "      <th>2</th>\n",
       "      <td>4</td>\n",
       "      <td>3970</td>\n",
       "      <td>25577</td>\n",
       "    </tr>\n",
       "    <tr>\n",
       "      <th>3</th>\n",
       "      <td>5</td>\n",
       "      <td>61790</td>\n",
       "      <td>49480</td>\n",
       "    </tr>\n",
       "    <tr>\n",
       "      <th>4</th>\n",
       "      <td>5</td>\n",
       "      <td>27974</td>\n",
       "      <td>49480</td>\n",
       "    </tr>\n",
       "  </tbody>\n",
       "</table>\n",
       "</div>"
      ],
      "text/plain": [
       "   rating  user_idx  recipe_idx\n",
       "0       4     17890       23485\n",
       "1       5    116700       23485\n",
       "2       4      3970       25577\n",
       "3       5     61790       49480\n",
       "4       5     27974       49480"
      ]
     },
     "execution_count": 15,
     "metadata": {},
     "output_type": "execute_result"
    }
   ],
   "source": [
    "df_raw.head()"
   ]
  },
  {
   "cell_type": "code",
   "execution_count": 16,
   "id": "d32aa9d0",
   "metadata": {},
   "outputs": [],
   "source": [
    "user_ids_keep = [i for (i,j) in user_ids_count.most_common()[::-1] if j>=10]\n",
    "recipe_ids_keep = [i for (i,j) in recipe_ids_count.most_common()[::-1] if j>=10]"
   ]
  },
  {
   "cell_type": "code",
   "execution_count": 17,
   "id": "8ddf029c",
   "metadata": {},
   "outputs": [
    {
     "data": {
      "text/plain": [
       "12486"
      ]
     },
     "execution_count": 17,
     "metadata": {},
     "output_type": "execute_result"
    }
   ],
   "source": [
    "len(user_ids_keep)"
   ]
  },
  {
   "cell_type": "code",
   "execution_count": 18,
   "id": "6162a9b1",
   "metadata": {},
   "outputs": [
    {
     "data": {
      "text/plain": [
       "21399"
      ]
     },
     "execution_count": 18,
     "metadata": {},
     "output_type": "execute_result"
    }
   ],
   "source": [
    "len(recipe_ids_keep)"
   ]
  },
  {
   "cell_type": "code",
   "execution_count": 19,
   "id": "c5fe4cd0",
   "metadata": {},
   "outputs": [],
   "source": [
    "df_small = df_raw[(df_raw.user_idx.isin(user_ids_keep)) & df_raw.recipe_idx.isin(recipe_ids_keep)].reset_index(drop=True).copy()"
   ]
  },
  {
   "cell_type": "code",
   "execution_count": 20,
   "id": "efcbddaa",
   "metadata": {},
   "outputs": [
    {
     "data": {
      "text/html": [
       "<div>\n",
       "<style scoped>\n",
       "    .dataframe tbody tr th:only-of-type {\n",
       "        vertical-align: middle;\n",
       "    }\n",
       "\n",
       "    .dataframe tbody tr th {\n",
       "        vertical-align: top;\n",
       "    }\n",
       "\n",
       "    .dataframe thead th {\n",
       "        text-align: right;\n",
       "    }\n",
       "</style>\n",
       "<table border=\"1\" class=\"dataframe\">\n",
       "  <thead>\n",
       "    <tr style=\"text-align: right;\">\n",
       "      <th></th>\n",
       "      <th>rating</th>\n",
       "      <th>user_idx</th>\n",
       "      <th>recipe_idx</th>\n",
       "    </tr>\n",
       "  </thead>\n",
       "  <tbody>\n",
       "    <tr>\n",
       "      <th>0</th>\n",
       "      <td>5</td>\n",
       "      <td>27684</td>\n",
       "      <td>46168</td>\n",
       "    </tr>\n",
       "    <tr>\n",
       "      <th>1</th>\n",
       "      <td>5</td>\n",
       "      <td>87869</td>\n",
       "      <td>46168</td>\n",
       "    </tr>\n",
       "    <tr>\n",
       "      <th>2</th>\n",
       "      <td>5</td>\n",
       "      <td>49778</td>\n",
       "      <td>46168</td>\n",
       "    </tr>\n",
       "    <tr>\n",
       "      <th>3</th>\n",
       "      <td>4</td>\n",
       "      <td>197797</td>\n",
       "      <td>46168</td>\n",
       "    </tr>\n",
       "    <tr>\n",
       "      <th>4</th>\n",
       "      <td>4</td>\n",
       "      <td>108252</td>\n",
       "      <td>46168</td>\n",
       "    </tr>\n",
       "  </tbody>\n",
       "</table>\n",
       "</div>"
      ],
      "text/plain": [
       "   rating  user_idx  recipe_idx\n",
       "0       5     27684       46168\n",
       "1       5     87869       46168\n",
       "2       5     49778       46168\n",
       "3       4    197797       46168\n",
       "4       4    108252       46168"
      ]
     },
     "execution_count": 20,
     "metadata": {},
     "output_type": "execute_result"
    }
   ],
   "source": [
    "df_small.head()"
   ]
  },
  {
   "cell_type": "code",
   "execution_count": 21,
   "id": "903a5b8e",
   "metadata": {},
   "outputs": [],
   "source": [
    "user_ids=set(df_small.user_idx.values)\n",
    "recipe_ids=set(df_small.recipe_idx.values)"
   ]
  },
  {
   "cell_type": "code",
   "execution_count": 22,
   "id": "1192d1a2",
   "metadata": {},
   "outputs": [],
   "source": [
    "# need to remake user ids and movie ids since they are no longer sequential\n",
    "new_user_id_map = {}\n",
    "i = 0\n",
    "for old in user_ids:\n",
    "  new_user_id_map[old] = i\n",
    "  i += 1\n",
    "#print(\"i:\", i)\n",
    "\n",
    "new_recipe_id_map = {}\n",
    "j = 0\n",
    "for old in recipe_ids:\n",
    "  new_recipe_id_map[old] = j\n",
    "  j += 1\n",
    "#print(\"j:\", j)"
   ]
  },
  {
   "cell_type": "code",
   "execution_count": 23,
   "id": "9e6be0ba",
   "metadata": {},
   "outputs": [],
   "source": [
    "df_small.loc[:, 'user_id'] = df_small.apply(lambda row: new_user_id_map[row.user_idx], axis=1)\n",
    "df_small.loc[:, 'recipe_id'] = df_small.apply(lambda row: new_recipe_id_map[row.recipe_idx], axis=1)"
   ]
  },
  {
   "cell_type": "code",
   "execution_count": 24,
   "id": "f7c5a261",
   "metadata": {},
   "outputs": [],
   "source": [
    "df_small.drop([\"user_idx\",\"recipe_idx\"],axis=1,inplace=True)"
   ]
  },
  {
   "cell_type": "code",
   "execution_count": 25,
   "id": "b43ee356",
   "metadata": {},
   "outputs": [
    {
     "data": {
      "text/html": [
       "<div>\n",
       "<style scoped>\n",
       "    .dataframe tbody tr th:only-of-type {\n",
       "        vertical-align: middle;\n",
       "    }\n",
       "\n",
       "    .dataframe tbody tr th {\n",
       "        vertical-align: top;\n",
       "    }\n",
       "\n",
       "    .dataframe thead th {\n",
       "        text-align: right;\n",
       "    }\n",
       "</style>\n",
       "<table border=\"1\" class=\"dataframe\">\n",
       "  <thead>\n",
       "    <tr style=\"text-align: right;\">\n",
       "      <th></th>\n",
       "      <th>rating</th>\n",
       "      <th>user_id</th>\n",
       "      <th>recipe_id</th>\n",
       "    </tr>\n",
       "  </thead>\n",
       "  <tbody>\n",
       "    <tr>\n",
       "      <th>0</th>\n",
       "      <td>5</td>\n",
       "      <td>10594</td>\n",
       "      <td>10525</td>\n",
       "    </tr>\n",
       "    <tr>\n",
       "      <th>1</th>\n",
       "      <td>5</td>\n",
       "      <td>8624</td>\n",
       "      <td>10525</td>\n",
       "    </tr>\n",
       "    <tr>\n",
       "      <th>2</th>\n",
       "      <td>5</td>\n",
       "      <td>6601</td>\n",
       "      <td>10525</td>\n",
       "    </tr>\n",
       "    <tr>\n",
       "      <th>3</th>\n",
       "      <td>4</td>\n",
       "      <td>507</td>\n",
       "      <td>10525</td>\n",
       "    </tr>\n",
       "    <tr>\n",
       "      <th>4</th>\n",
       "      <td>4</td>\n",
       "      <td>3904</td>\n",
       "      <td>10525</td>\n",
       "    </tr>\n",
       "    <tr>\n",
       "      <th>...</th>\n",
       "      <td>...</td>\n",
       "      <td>...</td>\n",
       "      <td>...</td>\n",
       "    </tr>\n",
       "    <tr>\n",
       "      <th>401052</th>\n",
       "      <td>5</td>\n",
       "      <td>12289</td>\n",
       "      <td>10855</td>\n",
       "    </tr>\n",
       "    <tr>\n",
       "      <th>401053</th>\n",
       "      <td>5</td>\n",
       "      <td>1642</td>\n",
       "      <td>10855</td>\n",
       "    </tr>\n",
       "    <tr>\n",
       "      <th>401054</th>\n",
       "      <td>5</td>\n",
       "      <td>1004</td>\n",
       "      <td>10855</td>\n",
       "    </tr>\n",
       "    <tr>\n",
       "      <th>401055</th>\n",
       "      <td>5</td>\n",
       "      <td>11474</td>\n",
       "      <td>10855</td>\n",
       "    </tr>\n",
       "    <tr>\n",
       "      <th>401056</th>\n",
       "      <td>5</td>\n",
       "      <td>1625</td>\n",
       "      <td>10855</td>\n",
       "    </tr>\n",
       "  </tbody>\n",
       "</table>\n",
       "<p>401057 rows × 3 columns</p>\n",
       "</div>"
      ],
      "text/plain": [
       "        rating  user_id  recipe_id\n",
       "0            5    10594      10525\n",
       "1            5     8624      10525\n",
       "2            5     6601      10525\n",
       "3            4      507      10525\n",
       "4            4     3904      10525\n",
       "...        ...      ...        ...\n",
       "401052       5    12289      10855\n",
       "401053       5     1642      10855\n",
       "401054       5     1004      10855\n",
       "401055       5    11474      10855\n",
       "401056       5     1625      10855\n",
       "\n",
       "[401057 rows x 3 columns]"
      ]
     },
     "execution_count": 25,
     "metadata": {},
     "output_type": "execute_result"
    }
   ],
   "source": [
    "df_small"
   ]
  },
  {
   "cell_type": "code",
   "execution_count": 26,
   "id": "57437322",
   "metadata": {},
   "outputs": [
    {
     "name": "stdout",
     "output_type": "stream",
     "text": [
      "max user id: 12464\n",
      "max recipe id: 21307\n",
      "small dataframe size: 401057\n"
     ]
    }
   ],
   "source": [
    "print(\"max user id:\", df_small.user_id.max())\n",
    "print(\"max recipe id:\", df_small.recipe_id.max())\n",
    "\n",
    "print(\"small dataframe size:\", len(df_small))"
   ]
  },
  {
   "cell_type": "code",
   "execution_count": 27,
   "id": "df230efc",
   "metadata": {},
   "outputs": [],
   "source": [
    "N,M = df_small.user_id.max() + 1,df_small.recipe_id.max()+1"
   ]
  },
  {
   "cell_type": "code",
   "execution_count": 28,
   "id": "2b309b94",
   "metadata": {},
   "outputs": [],
   "source": [
    "df=shuffle(df_small)"
   ]
  },
  {
   "cell_type": "code",
   "execution_count": 29,
   "id": "2e7206d2",
   "metadata": {},
   "outputs": [],
   "source": [
    "cutoff = int(0.8*len(df))\n",
    "df_train = df.iloc[:cutoff]\n",
    "df_test = df.iloc[cutoff:]"
   ]
  },
  {
   "cell_type": "code",
   "execution_count": 30,
   "id": "4b1fbb04",
   "metadata": {},
   "outputs": [
    {
     "name": "stdout",
     "output_type": "stream",
     "text": [
      "Calling: update_user2movie_and_movie2user\n"
     ]
    }
   ],
   "source": [
    "# a dictionary to tell us which users have rated which recipes\n",
    "user2recipe = {}\n",
    "# a dicationary to tell us which recipes have been rated by which users\n",
    "recipe2user = {}\n",
    "# a dictionary to look up ratings\n",
    "userrecipe2rating = {}\n",
    "print(\"Calling: update_user2movie_and_movie2user\")\n",
    "count = 0"
   ]
  },
  {
   "cell_type": "code",
   "execution_count": 31,
   "id": "59901823",
   "metadata": {},
   "outputs": [
    {
     "data": {
      "text/html": [
       "<div>\n",
       "<style scoped>\n",
       "    .dataframe tbody tr th:only-of-type {\n",
       "        vertical-align: middle;\n",
       "    }\n",
       "\n",
       "    .dataframe tbody tr th {\n",
       "        vertical-align: top;\n",
       "    }\n",
       "\n",
       "    .dataframe thead th {\n",
       "        text-align: right;\n",
       "    }\n",
       "</style>\n",
       "<table border=\"1\" class=\"dataframe\">\n",
       "  <thead>\n",
       "    <tr style=\"text-align: right;\">\n",
       "      <th></th>\n",
       "      <th>rating</th>\n",
       "      <th>user_id</th>\n",
       "      <th>recipe_id</th>\n",
       "    </tr>\n",
       "  </thead>\n",
       "  <tbody>\n",
       "    <tr>\n",
       "      <th>0</th>\n",
       "      <td>5</td>\n",
       "      <td>10594</td>\n",
       "      <td>10525</td>\n",
       "    </tr>\n",
       "    <tr>\n",
       "      <th>1</th>\n",
       "      <td>5</td>\n",
       "      <td>8624</td>\n",
       "      <td>10525</td>\n",
       "    </tr>\n",
       "    <tr>\n",
       "      <th>2</th>\n",
       "      <td>5</td>\n",
       "      <td>6601</td>\n",
       "      <td>10525</td>\n",
       "    </tr>\n",
       "    <tr>\n",
       "      <th>3</th>\n",
       "      <td>4</td>\n",
       "      <td>507</td>\n",
       "      <td>10525</td>\n",
       "    </tr>\n",
       "    <tr>\n",
       "      <th>4</th>\n",
       "      <td>4</td>\n",
       "      <td>3904</td>\n",
       "      <td>10525</td>\n",
       "    </tr>\n",
       "  </tbody>\n",
       "</table>\n",
       "</div>"
      ],
      "text/plain": [
       "   rating  user_id  recipe_id\n",
       "0       5    10594      10525\n",
       "1       5     8624      10525\n",
       "2       5     6601      10525\n",
       "3       4      507      10525\n",
       "4       4     3904      10525"
      ]
     },
     "execution_count": 31,
     "metadata": {},
     "output_type": "execute_result"
    }
   ],
   "source": [
    "df_small.head()"
   ]
  },
  {
   "cell_type": "code",
   "execution_count": 32,
   "id": "4fd5e79f",
   "metadata": {},
   "outputs": [],
   "source": [
    "def update_user2recipe_and_recipe2user(row):\n",
    "    \n",
    "    global count\n",
    "    count += 1\n",
    "    if count % 100000 == 0:\n",
    "        print(\"processed: %.3f\" % (float(count)/cutoff))\n",
    "\n",
    "    i = int(row.user_id)\n",
    "    j = int(row.recipe_id)\n",
    "    if i not in user2recipe:\n",
    "        user2recipe[i] = [j]\n",
    "    else:\n",
    "        user2recipe[i].append(j)\n",
    "\n",
    "    if j not in recipe2user:\n",
    "        recipe2user[j] = [i]\n",
    "    else:\n",
    "        recipe2user[j].append(i)\n",
    "\n",
    "    userrecipe2rating[(i,j)] = row.rating"
   ]
  },
  {
   "cell_type": "code",
   "execution_count": 33,
   "id": "4ce84c60",
   "metadata": {},
   "outputs": [
    {
     "name": "stdout",
     "output_type": "stream",
     "text": [
      "processed: 0.312\n",
      "processed: 0.623\n",
      "processed: 0.935\n"
     ]
    },
    {
     "data": {
      "text/plain": [
       "108531    None\n",
       "345339    None\n",
       "301954    None\n",
       "31706     None\n",
       "318355    None\n",
       "          ... \n",
       "222184    None\n",
       "171789    None\n",
       "301704    None\n",
       "240918    None\n",
       "127120    None\n",
       "Length: 320845, dtype: object"
      ]
     },
     "execution_count": 33,
     "metadata": {},
     "output_type": "execute_result"
    }
   ],
   "source": [
    "df_train.apply(update_user2recipe_and_recipe2user, axis=1)"
   ]
  },
  {
   "cell_type": "code",
   "execution_count": 34,
   "id": "5d0d670c",
   "metadata": {},
   "outputs": [
    {
     "name": "stdout",
     "output_type": "stream",
     "text": [
      "Calling: update_userrecipe2rating_test\n"
     ]
    }
   ],
   "source": [
    "userrecipe2rating_test = {}\n",
    "print(\"Calling: update_userrecipe2rating_test\")\n",
    "count = 0"
   ]
  },
  {
   "cell_type": "code",
   "execution_count": 35,
   "id": "0ad871c3",
   "metadata": {},
   "outputs": [],
   "source": [
    "def update_userrecipe2rating_test(row):\n",
    "    \n",
    "    global count\n",
    "    count += 1\n",
    "    if count % 100000 == 0:\n",
    "        print(\"processed: %.3f\" % (float(count)/len(df_test)))\n",
    "\n",
    "    i = int(row.user_id)\n",
    "    j = int(row.recipe_id)\n",
    "    userrecipe2rating_test[(i,j)] = row.rating"
   ]
  },
  {
   "cell_type": "code",
   "execution_count": 36,
   "id": "0f008b7a",
   "metadata": {},
   "outputs": [
    {
     "data": {
      "text/plain": [
       "333675    None\n",
       "375418    None\n",
       "143241    None\n",
       "58583     None\n",
       "6765      None\n",
       "          ... \n",
       "241085    None\n",
       "87177     None\n",
       "251194    None\n",
       "107754    None\n",
       "57066     None\n",
       "Length: 80212, dtype: object"
      ]
     },
     "execution_count": 36,
     "metadata": {},
     "output_type": "execute_result"
    }
   ],
   "source": [
    "df_test.apply(update_userrecipe2rating_test, axis=1)"
   ]
  },
  {
   "cell_type": "code",
   "execution_count": 37,
   "id": "a2ba4336",
   "metadata": {},
   "outputs": [
    {
     "name": "stdout",
     "output_type": "stream",
     "text": [
      "N: 12466 M: 21308\n"
     ]
    }
   ],
   "source": [
    "n1 = np.max(list(user2recipe.keys())) + 1\n",
    "n2 = np.max([u for (u, m), r in userrecipe2rating_test.items()])\n",
    "# the test set may contain recipes the train set doesn't have data on\n",
    "m1 = np.max(list(recipe2user.keys()))\n",
    "m2 = np.max([m for (u, m), r in userrecipe2rating_test.items()])\n",
    "M = max(m1, m2) + 1\n",
    "N = max(n1, n2) + 1\n",
    "print(\"N:\", N, \"M:\", M)"
   ]
  },
  {
   "cell_type": "markdown",
   "id": "b309477a",
   "metadata": {},
   "source": [
    "# User - User Collaborative Filtering "
   ]
  },
  {
   "cell_type": "code",
   "execution_count": 38,
   "id": "4d3cb614",
   "metadata": {},
   "outputs": [],
   "source": [
    "K = 25 # number of neighbors we'd like to consider\n",
    "limit = 5 # number of common recipes users must have in common in order to consider\n",
    "neighbors = {} # store neighbors in this list\n",
    "averages = {} # each user's average rating for later use\n",
    "deviations = {} # each user's deviation for later use\n",
    "SIGMA_CONST = 1e-6"
   ]
  },
  {
   "cell_type": "code",
   "execution_count": 39,
   "id": "f1ed7711",
   "metadata": {},
   "outputs": [
    {
     "name": "stdout",
     "output_type": "stream",
     "text": [
      "(0, 0, SortedList([]))\n",
      "(100, 99, SortedList([(-0.00986868160820586, 1004)]))\n",
      "(200, 199, SortedList([(-0.02294975058823153, 3516)]))\n",
      "(300, 298, SortedList([]))\n",
      "(400, 398, SortedList([]))\n",
      "(500, 498, SortedList([(-0.032324112413773906, 6320), (-0.03212604544421148, 640), (-0.0254963497613206, 7608), (-0.024609804906838093, 10920), (-0.023193567805582252, 6821), (-0.022904033722201605, 4419), (-0.021984442351598455, 9759), (-0.016973528592779386, 4329), (-0.016529702533562708, 1931), (-0.016384241666107403, 11490), (-0.015684108299337616, 1516), (-0.015150096408056117, 8464), (-0.014846742310364505, 3771), (-0.013450780017529066, 3139), (-0.01327785776582788, 10183), (-0.013152810430937256, 9391), (-0.012219163310106862, 8392), (-0.011806158971313582, 6706), (-0.011782098302568768, 11811), (-0.01147495341302986, 10354), (-0.011418060408410346, 12131), (-0.01090401541906544, 11397), (-0.010270605202534453, 1004), (-0.010119668700297681, 3403), (-0.009193239356064527, 6994)]))\n",
      "(600, 598, SortedList([(-0.016867148157026095, 1004), (-0.0039503213333858195, 6868)]))\n",
      "(700, 698, SortedList([(-0.023079073275140905, 11002), (-0.0160956062088724, 4129), (-0.010523268763101693, 1004), (-0.0027439697267848196, 7411)]))\n",
      "(800, 798, SortedList([(-0.05357467150596336, 1004)]))\n",
      "(900, 898, SortedList([]))\n",
      "(1000, 998, SortedList([]))\n",
      "(1100, 1097, SortedList([]))\n",
      "(1200, 1197, SortedList([(-0.022863828367407905, 1004)]))\n",
      "(1300, 1297, SortedList([(-0.014878742405676776, 10549), (-0.014113742213999724, 8857), (-0.013305106150000866, 11811), (-0.0038328322231698493, 7471)]))\n",
      "(1400, 1397, SortedList([]))\n",
      "(1500, 1497, SortedList([]))\n",
      "(1600, 1597, SortedList([(-0.0085013467756609, 4194), (-0.006955402729863334, 3969), (-0.005772572448636326, 11898), (-0.005330165184708494, 10610), (-0.004810221883968068, 7957), (-0.004550369611113603, 5743), (-0.004039212316273333, 12174), (-0.004031024960856277, 7634), (-0.0035971134769872217, 6950), (-0.003131894530803605, 6311), (-0.002748482187109934, 6809), (-0.002698513257617092, 5685), (-0.0016796942342591722, 11490), (-0.0014131190224617402, 295), (-0.0013537711883059894, 3878), (-0.00061931605742456, 6088), (-0.000537996653516404, 799), (-0.0003115837914258757, 7696), (-1.2651682420520256e-05, 11811)]))\n",
      "(1700, 1697, SortedList([(-0.0031498963543760967, 1004), (-0.0004701228514860975, 5623)]))\n",
      "(1800, 1797, SortedList([]))\n",
      "(1900, 1897, SortedList([]))\n",
      "(2000, 1997, SortedList([(-0.0, 1004)]))\n",
      "(2100, 2096, SortedList([(-0.044909398905677946, 2634), (-0.03470180854750177, 4129), (-0.027997585198264667, 9331), (-0.019765478082211546, 11397), (-0.0171511655309544, 726), (-0.016878370764969206, 11683), (-0.015516429683239514, 12074), (-0.015022218561076597, 4643), (-0.014857898099597602, 3805), (-0.012755742977739255, 4011), (-0.012670526224348498, 6650), (-0.012410819642868996, 3929), (-0.011530654228936127, 12411), (-0.01145649710627207, 9184), (-0.010851131770238439, 1004), (-0.010030127244320996, 5466), (-0.009663222560038784, 1585), (-0.0084274915930171, 384), (-0.008357410265083211, 6041), (-0.008016104122413699, 3089), (-0.007584518098286823, 8392), (-0.00481557432984307, 10388), (-0.004747512623107214, 2643), (-0.004346661455964416, 7764), (-0.0043231123220774485, 2415)]))\n",
      "(2200, 2196, SortedList([]))\n",
      "(2300, 2296, SortedList([]))\n",
      "(2400, 2396, SortedList([(-0.049001994091744966, 5751)]))\n",
      "(2500, 2496, SortedList([]))\n",
      "(2600, 2596, SortedList([(-0.0015231475609774213, 1004)]))\n",
      "(2700, 2696, SortedList([]))\n",
      "(2800, 2796, SortedList([]))\n",
      "(2900, 2896, SortedList([]))\n",
      "(3000, 2996, SortedList([]))\n",
      "(3100, 3096, SortedList([(-0.0013617608146647437, 1004)]))\n",
      "(3200, 3194, SortedList([(-0.08130838405541019, 2065), (-0.007893040952667508, 1004), (-0.006320852267250402, 9766), (-0.0024349586499770102, 7411)]))\n",
      "(3300, 3293, SortedList([]))\n",
      "(3400, 3393, SortedList([]))\n",
      "(3500, 3493, SortedList([]))\n",
      "(3600, 3593, SortedList([]))\n",
      "(3700, 3693, SortedList([]))\n",
      "(3800, 3793, SortedList([]))\n",
      "(3900, 3893, SortedList([]))\n",
      "(4000, 3993, SortedList([(-0.005166677883350652, 4625)]))\n",
      "(4100, 4093, SortedList([]))\n",
      "(4200, 4193, SortedList([]))\n",
      "(4300, 4293, SortedList([]))\n",
      "(4400, 4393, SortedList([]))\n",
      "(4500, 4493, SortedList([]))\n",
      "(4600, 4593, SortedList([(-0.0, 1004)]))\n",
      "(4700, 4693, SortedList([(-0.03169865538054418, 4129), (-0.025682482120858774, 12411), (-0.009247266933745816, 2415), (-0.006145523422671871, 4419), (-0.005432877125097563, 9732), (-0.004899350470447152, 1596), (-0.004098878271323316, 11153), (-0.0026890427416382625, 6706), (-0.0018966539496988954, 10354), (-0.0018364020598197236, 6868), (-0.001776479715308568, 9102), (-0.0015783323134623947, 10333), (-0.0014097045320962695, 5920), (-0.0013773379730628419, 7411), (-0.0009503941718256967, 1004), (-0.0009401238286189147, 8960), (-0.0008088406292369676, 1585), (-9.886779851939807e-05, 5010)]))\n",
      "(4800, 4793, SortedList([]))\n",
      "(4900, 4893, SortedList([(-0.11048953431717476, 4027), (-0.07883727453348341, 1596), (-0.07120430735252271, 4773), (-0.061869119473499046, 9063), (-0.044948844592859714, 183), (-0.038997826889562534, 10388), (-0.0378743952483113, 3121), (-0.03706298391197162, 6868), (-0.03559888988571823, 9661), (-0.03434297083336868, 10183), (-0.033963148463590755, 7036), (-0.03244640167592712, 5751), (-0.032314176433979436, 6618), (-0.027829698970427776, 11764), (-0.027279967463766236, 2597), (-0.027199267202558757, 2258), (-0.026999695378600596, 6661), (-0.026162447472118405, 2381), (-0.026101526519358313, 12457), (-0.022138384848623634, 3617), (-0.021707627948929258, 9469), (-0.021436103847221267, 8904), (-0.021229366180332967, 757), (-0.020556592998494598, 5879), (-0.019269533631388638, 3516)]))\n",
      "(5000, 4993, SortedList([]))\n",
      "(5100, 5093, SortedList([]))\n",
      "(5200, 5193, SortedList([(-0.015413788358320437, 1004), (-0.01130018886287395, 10225), (-0.002267925149111468, 4129), (-0.00025646502137426774, 3117)]))\n",
      "(5300, 5293, SortedList([]))\n",
      "(5400, 5393, SortedList([]))\n",
      "(5500, 5493, SortedList([]))\n",
      "(5600, 5593, SortedList([]))\n",
      "(5700, 5693, SortedList([]))\n",
      "(5800, 5793, SortedList([]))\n",
      "(5900, 5893, SortedList([(-0.005003242577304185, 1004)]))\n",
      "(6000, 5993, SortedList([(-0.004371831549750654, 1004)]))\n",
      "(6100, 6093, SortedList([]))\n",
      "(6200, 6193, SortedList([]))\n",
      "(6300, 6293, SortedList([(-0.010224292545749126, 1004), (-0.00714398217233937, 4129)]))\n",
      "(6400, 6392, SortedList([]))\n",
      "(6500, 6492, SortedList([]))\n",
      "(6600, 6592, SortedList([]))\n",
      "(6700, 6692, SortedList([]))\n",
      "(6800, 6792, SortedList([(-0.061523812554452835, 6813), (-0.028461077262154893, 4329), (-0.009624663402414047, 1004)]))\n",
      "(6900, 6892, SortedList([]))\n",
      "(7000, 6992, SortedList([]))\n",
      "(7100, 7092, SortedList([(-0.01750548966998607, 1004), (-0.012956297427580015, 4329), (-0.007227296751863332, 5608), (-0.007077579949725799, 3403), (-0.006777379435989252, 11153), (-0.005364892450235928, 10354), (-0.0035483251973872786, 8392), (-0.003409744906581945, 5747), (-0.0033897329748839113, 311), (-0.002815655010383667, 7635), (-0.0025476989290690592, 9766), (-0.002535083279074234, 4129), (-0.0019125793163141992, 11331), (-0.001840152604136818, 6868), (-0.0018261661943972092, 5711), (-0.0015013851520183437, 6994), (-0.0014236079996687405, 3117), (-0.001167872443464569, 11811), (-0.001084053634910073, 6190), (-0.0010637714732569044, 1585), (-0.0009831507435030969, 2381), (-0.0009279876348015231, 4419), (-0.0008789503578352615, 4679), (-0.00048596149047184335, 2415)]))\n",
      "(7200, 7191, SortedList([]))\n",
      "(7300, 7291, SortedList([]))\n",
      "(7400, 7391, SortedList([]))\n",
      "(7500, 7491, SortedList([(-0.03647340000163785, 12086), (-0.014724823945654514, 2415), (-0.009421413819333105, 7635), (-0.007489411600913489, 1004), (-0.007405441726643195, 6868), (-0.0035690703232956404, 2066), (-0.0033271405252186656, 2130)]))\n",
      "(7600, 7591, SortedList([]))\n",
      "(7700, 7691, SortedList([(-0.0004867048923570004, 1004)]))\n",
      "(7800, 7791, SortedList([(-0.04427647586553931, 1004)]))\n",
      "(7900, 7890, SortedList([]))\n",
      "(8000, 7990, SortedList([]))\n",
      "(8100, 8090, SortedList([(-0.0025869826831466727, 1004)]))\n",
      "(8200, 8190, SortedList([(-0.8585699120146127, 10677), (-0.7790095583225957, 2766), (-0.06988830332683908, 2381), (-0.007806732894785973, 4129), (-0.004967763563782582, 11532), (-0.004260419254685023, 2798), (-0.003966254698457324, 7438), (-0.003487020219933935, 11153), (-0.0028063012597979915, 311), (-0.002259710294352914, 5751), (-0.0022279336020484867, 6994), (-0.00204614912213904, 1004), (-0.001234508119339429, 7411), (-0.0010624550078212342, 7764), (-0.00018811054761798686, 6868)]))\n"
     ]
    },
    {
     "name": "stdout",
     "output_type": "stream",
     "text": [
      "(8300, 8290, SortedList([(-0.014036377978731834, 3516), (-0.006599591244236586, 11811), (-0.0007969136631050556, 1004), (-0.00019053914201699114, 11153)]))\n",
      "(8400, 8390, SortedList([(-0.024437402251941635, 1004), (-0.0010677811929844844, 5574)]))\n",
      "(8500, 8490, SortedList([(-0.005446845087738212, 1004)]))\n",
      "(8600, 8590, SortedList([]))\n",
      "(8700, 8690, SortedList([]))\n",
      "(8800, 8790, SortedList([(-0.010007381038510467, 4324), (-0.004321123814398378, 1004), (-0.0008557494534682006, 7411)]))\n",
      "(8900, 8889, SortedList([(-0.00455474758919533, 1004), (-0.0024086718055395997, 11811), (-0.00156170862845503, 6809), (-5.464924146294584e-05, 2415)]))\n",
      "(9000, 8989, SortedList([(-0.053591267840222535, 1440), (-0.02229662220957037, 4621), (-0.01715883806103126, 8442), (-0.015465003233935036, 2415), (-0.015016613271127875, 1004), (-0.014599163533540637, 9759), (-0.011796930386389563, 11331), (-0.011677896159390778, 5945), (-0.008893975465005524, 4419), (-0.008801482618662834, 11811), (-0.007433510272119857, 4129), (-0.007109477005134167, 1516), (-0.006977606836971341, 6868), (-0.006924778433020315, 12074), (-0.006740419530544826, 6984), (-0.005919279034487033, 5751), (-0.005689804298767622, 8960), (-0.0048065653923570015, 6041), (-0.004547577976253381, 11153), (-0.002747502028280718, 2835), (-0.0027453663299676465, 7411), (-0.0026848569606804998, 694), (-0.0022509288236102587, 11878), (-0.00180969836663195, 8795), (-0.0009530465440087463, 5623)]))\n",
      "(9100, 9089, SortedList([]))\n",
      "(9200, 9189, SortedList([(-0.03821563024690044, 1004), (-0.029205893150907436, 6601)]))\n",
      "(9300, 9289, SortedList([]))\n",
      "(9400, 9388, SortedList([]))\n",
      "(9500, 9488, SortedList([]))\n",
      "(9600, 9588, SortedList([]))\n",
      "(9700, 9688, SortedList([(-0.048034261522263054, 351), (-0.011538355932102593, 384), (-0.009916833890896728, 11153), (-0.0047787373858985994, 4129), (-0.004668142924644389, 1004), (-0.0040375637357617155, 1585)]))\n",
      "(9800, 9787, SortedList([(-0.018113845772587813, 1004), (-0.012090597027422843, 4129)]))\n",
      "(9900, 9887, SortedList([]))\n",
      "(10000, 9987, SortedList([]))\n",
      "(10100, 10087, SortedList([]))\n",
      "(10200, 10187, SortedList([(-0.07437033208996265, 11152), (-0.043546604670586, 9948), (-0.0392708801275692, 7062), (-0.03239533998426669, 10946), (-0.031373486637247205, 429), (-0.022490032362335426, 215), (-0.019222220312012765, 10082), (-0.018286484103545834, 11811), (-0.01736326227142111, 7045), (-0.016921644963130703, 3117), (-0.01595870847349286, 8786), (-0.015798271792041366, 5920), (-0.014836580540838086, 6868), (-0.014515634925214712, 4621), (-0.013764466710523235, 3122), (-0.013546380993672908, 2080), (-0.0134403831540485, 6519), (-0.01310322533617643, 5289), (-0.011234710114456124, 1440), (-0.010915545801497461, 7764), (-0.010614139137113942, 8960), (-0.01023522811578608, 11397), (-0.009522087057733672, 9874), (-0.009392181244868434, 12171), (-0.008984606919670278, 2374)]))\n",
      "(10300, 10287, SortedList([]))\n",
      "(10400, 10387, SortedList([]))\n",
      "(10500, 10487, SortedList([]))\n",
      "(10600, 10587, SortedList([]))\n",
      "(10700, 10687, SortedList([]))\n",
      "(10800, 10787, SortedList([(-0.027929832816811318, 3968), (-0.003053814088397418, 11331), (-0.002476551252248618, 917), (-0.002430463231428099, 5346), (-0.001640477995499033, 2374), (-0.0009431501388792641, 6868), (-0.0007994416686003219, 11153), (-0.0006660378544370403, 1004), (-0.0005778227414695287, 1106), (-5.459307775072192e-05, 2634)]))\n",
      "(10900, 10887, SortedList([]))\n",
      "(11000, 10987, SortedList([]))\n",
      "(11100, 11087, SortedList([]))\n",
      "(11200, 11187, SortedList([]))\n",
      "(11300, 11287, SortedList([(-0.042966017598954014, 8207), (-0.040873702772260594, 7957), (-0.007627657661398856, 12238), (-0.006582781715686106, 11490), (-0.006024493568939278, 1004), (-0.0050944472020880375, 2826), (-0.003930817744320044, 2401), (-0.002967845330681656, 12074), (-0.0018623309316475802, 3878), (-0.0017785068082598844, 4324), (-0.0015133157814718524, 4538), (-0.0009092482676014337, 4006), (-0.0007699148520415381, 6088), (-0.0003087415181351718, 4011), (-0.00022231330500832366, 7729), (-0.00022022102044963303, 4223)]))\n",
      "(11400, 11387, SortedList([]))\n",
      "(11500, 11487, SortedList([]))\n",
      "(11600, 11587, SortedList([(-0.0, 1004)]))\n",
      "(11700, 11687, SortedList([(-0.03826077288780169, 1274), (-0.023795765321255692, 1004), (-0.011387106198836396, 6868), (-0.008925770165488631, 2415), (-0.008068471759580458, 4359), (-0.007801691249469343, 8464), (-0.0038633598202669583, 6881), (-0.0013683007300367483, 1516), (-0.0012926114449066893, 4129), (-0.0007915926212490364, 6994)]))\n",
      "(11800, 11787, SortedList([(-0.016915229487193772, 1004), (-0.004917457453582386, 11153)]))\n",
      "(11900, 11887, SortedList([]))\n",
      "(12000, 11987, SortedList([]))\n",
      "(12100, 12086, SortedList([(-0.0, 1004)]))\n",
      "(12200, 12186, SortedList([]))\n",
      "(12300, 12286, SortedList([]))\n",
      "(12400, 12386, SortedList([]))\n"
     ]
    }
   ],
   "source": [
    "for j1,i in enumerate(list(set(df_train.user_id.values))):\n",
    "    \n",
    "    recipes_i = user2recipe[i]\n",
    "    recipes_i_set = set(recipes_i)\n",
    "\n",
    "    # calculate avg and deviation\n",
    "    ratings_i = { recipe:userrecipe2rating[(i, recipe)] for recipe in recipes_i }\n",
    "    avg_i = np.mean(list(ratings_i.values()))\n",
    "    dev_i = { recipe:(rating - avg_i) for recipe, rating in ratings_i.items() }\n",
    "    dev_i_values = np.array(list(dev_i.values()))\n",
    "    sigma_i = np.sqrt(dev_i_values.dot(dev_i_values))\n",
    "\n",
    "    # save these for later use\n",
    "    #averages.append((i,avg_i))\n",
    "    #deviations.append((i,dev_i))\n",
    "    \n",
    "    averages[i]=avg_i\n",
    "    deviations[i]=dev_i\n",
    "    \n",
    "    sl = SortedList()\n",
    "    \n",
    "    for i1,j in enumerate(list(set(df_train.user_id.values))):\n",
    "        if j!=i:\n",
    "            recipes_j = user2recipe[j]\n",
    "            recipes_j_set = set(recipes_j)\n",
    "            common_recipes = (recipes_i_set & recipes_j_set)\n",
    "            if(len(common_recipes)>limit):\n",
    "                \n",
    "                # calculate avg and deviation\n",
    "                ratings_j = { recipe:userrecipe2rating[(j, recipe)] for recipe in recipes_j }\n",
    "                avg_j = np.mean(list(ratings_j.values()))\n",
    "                dev_j = { recipe:(rating - avg_j) for recipe, rating in ratings_j.items() }\n",
    "                dev_j_values = np.array(list(dev_j.values()))\n",
    "                sigma_j = np.sqrt(dev_j_values.dot(dev_j_values))\n",
    "                \n",
    "                # calculate correlation coefficient\n",
    "                numerator = sum(dev_i[m]*dev_j[m] for m in common_recipes)\n",
    "                denominator = ((sigma_i+SIGMA_CONST) * (sigma_j+SIGMA_CONST))\n",
    "                #print((i,j))\n",
    "                #print(numerator)\n",
    "                #print(denominator)\n",
    "                w_ij = numerator / (denominator)\n",
    "                # insert into sorted list and truncate\n",
    "                # negate absolute weight, because list is sorted ascending and we get all neighbors with the highest correlation\n",
    "                # maximum value (1) is \"closest\"\n",
    "                sl.add((-np.abs(w_ij), j))\n",
    "                #print((-w_ij, j))\n",
    "                # Putting an upper cap on the number of neighbors\n",
    "                if len(sl)>K:\n",
    "                    del sl[-1]\n",
    "    if i%100==0:                \n",
    "        print((i,j1,sl))\n",
    "    neighbors[i]=sl"
   ]
  },
  {
   "cell_type": "code",
   "execution_count": 40,
   "id": "df99a00a",
   "metadata": {},
   "outputs": [],
   "source": [
    "def predict(i, m):\n",
    "    # calculate the weighted sum of deviations\n",
    "    numerator = 0\n",
    "    denominator = 0\n",
    "    neighbors_get=neighbors.get(i,0)\n",
    "    \n",
    "    if neighbors_get!=0:\n",
    "        for neg_w, j in neighbors.get(i):\n",
    "            # remember, the weight is stored as its negative\n",
    "            # so the negative of the negative weight is the positive weight\n",
    "            try:\n",
    "                numerator += -neg_w * deviations[j][m]\n",
    "                denominator += abs(neg_w)\n",
    "            except KeyError:\n",
    "              # neighbor may not have rated the same rating\n",
    "              # don't want to do dictionary lookup twice\n",
    "              # so just throw exception\n",
    "              pass\n",
    "\n",
    "        if denominator == 0:\n",
    "            prediction = averages.get(i)\n",
    "        else:\n",
    "            prediction = numerator / denominator + averages.get(i)\n",
    "    else:\n",
    "        prediction = averages.get(i,-1)\n",
    "    if prediction==-1:\n",
    "        #print(\"New User Identified\")\n",
    "        pass\n",
    "    else:\n",
    "        prediction = min(5, prediction)\n",
    "        prediction = max(0.5, prediction) # min rating is 0.5\n",
    "    return prediction"
   ]
  },
  {
   "cell_type": "code",
   "execution_count": 41,
   "id": "1e5f55c9",
   "metadata": {},
   "outputs": [],
   "source": [
    "train_predictions = []\n",
    "train_targets = []\n",
    "for (i, m), target in userrecipe2rating.items():\n",
    "    \n",
    "    # calculate the prediction for this recipe\n",
    "    prediction = predict(i, m)\n",
    "\n",
    "    # save the prediction and target\n",
    "    train_predictions.append(prediction)\n",
    "    train_targets.append(target)"
   ]
  },
  {
   "cell_type": "code",
   "execution_count": 42,
   "id": "8aade96d",
   "metadata": {},
   "outputs": [],
   "source": [
    "test_predictions = []\n",
    "test_targets = []\n",
    "# same thing for test set\n",
    "for (i, m), target in userrecipe2rating_test.items():\n",
    "    \n",
    "    # calculate the prediction for this recipe\n",
    "    prediction_test = predict(i, m)\n",
    "\n",
    "    # save the prediction and target\n",
    "    test_predictions.append(prediction_test)\n",
    "    test_targets.append(target)"
   ]
  },
  {
   "cell_type": "code",
   "execution_count": 43,
   "id": "a72f9549",
   "metadata": {},
   "outputs": [
    {
     "name": "stdout",
     "output_type": "stream",
     "text": [
      "train mse: 0.8615178024084629\n",
      "test mse: 0.9062015866125724\n",
      "train rmse: 0.9281798330110728\n",
      "test rmse: 0.9519462099365554\n"
     ]
    }
   ],
   "source": [
    "# calculate accuracy\n",
    "def mse(p, t):\n",
    "    \n",
    "    p = np.array(p)\n",
    "    t = np.array(t)\n",
    "    return np.mean((p - t)**2)\n",
    "\n",
    "def rmse(p, t):\n",
    "    \n",
    "    p = np.array(p)\n",
    "    t = np.array(t)\n",
    "    return np.sqrt(np.mean((p - t)**2))\n",
    "\n",
    "print('train mse:', mse(train_predictions, train_targets))\n",
    "print('test mse:', mse(test_predictions, test_targets))\n",
    "\n",
    "print('train rmse:', rmse(train_predictions, train_targets))\n",
    "print('test rmse:', rmse(test_predictions, test_targets))"
   ]
  },
  {
   "cell_type": "code",
   "execution_count": 44,
   "id": "ab8ab1b3",
   "metadata": {},
   "outputs": [],
   "source": [
    "df_train.to_csv(\"df_collaborative_train.csv\")\n",
    "df_test.to_csv(\"df_collaborative_train.csv\")"
   ]
  },
  {
   "cell_type": "code",
   "execution_count": null,
   "id": "aeff4323",
   "metadata": {},
   "outputs": [],
   "source": []
  }
 ],
 "metadata": {
  "kernelspec": {
   "display_name": "Python 3.7.9 64-bit",
   "language": "python",
   "name": "python3"
  },
  "language_info": {
   "codemirror_mode": {
    "name": "ipython",
    "version": 3
   },
   "file_extension": ".py",
   "mimetype": "text/x-python",
   "name": "python",
   "nbconvert_exporter": "python",
   "pygments_lexer": "ipython3",
   "version": "3.7.9"
  },
  "vscode": {
   "interpreter": {
    "hash": "aee8b7b246df8f9039afb4144a1f6fd8d2ca17a180786b69acc140d282b71a49"
   }
  }
 },
 "nbformat": 4,
 "nbformat_minor": 5
}
