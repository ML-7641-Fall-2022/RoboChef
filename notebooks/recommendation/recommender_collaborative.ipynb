{
 "cells": [
  {
   "cell_type": "code",
   "execution_count": 2,
   "id": "0f8724d7",
   "metadata": {},
   "outputs": [],
   "source": [
    "import pandas as pd\n",
    "from scipy import stats\n",
    "import numpy as np\n",
    "import matplotlib.pyplot as plt\n",
    "from collections import Counter\n",
    "from sklearn.utils import shuffle\n",
    "from datetime import datetime\n",
    "from sortedcontainers import SortedList"
   ]
  },
  {
   "cell_type": "code",
   "execution_count": 3,
   "id": "a7f07764",
   "metadata": {},
   "outputs": [],
   "source": [
    "df_raw = pd.read_csv(\"archive/RAW_interactions.csv\")"
   ]
  },
  {
   "cell_type": "code",
   "execution_count": 4,
   "id": "95a92884",
   "metadata": {},
   "outputs": [],
   "source": [
    "df_recipes = pd.read_csv(\"archive/RAW_recipes.csv\")\n",
    "\n",
    "df_interaction_train = pd.read_csv(\"archive/interactions_train.csv\")\n",
    "df_interaction_test= pd.read_csv(\"archive/interactions_validation.csv\")"
   ]
  },
  {
   "cell_type": "code",
   "execution_count": 5,
   "id": "477eedf1",
   "metadata": {},
   "outputs": [
    {
     "data": {
      "text/plain": [
       "user_id      1132367\n",
       "recipe_id    1132367\n",
       "rating       1132367\n",
       "dtype: int64"
      ]
     },
     "execution_count": 5,
     "metadata": {},
     "output_type": "execute_result"
    }
   ],
   "source": [
    "df_raw[[\"user_id\",\"recipe_id\",\"rating\"]].count()"
   ]
  },
  {
   "cell_type": "code",
   "execution_count": 6,
   "id": "171bdd1e",
   "metadata": {},
   "outputs": [
    {
     "data": {
      "text/plain": [
       "user_id      1132367\n",
       "recipe_id    1132367\n",
       "rating       1132367\n",
       "dtype: int64"
      ]
     },
     "execution_count": 6,
     "metadata": {},
     "output_type": "execute_result"
    }
   ],
   "source": [
    "df_raw.drop_duplicates(subset=[\"user_id\",\"recipe_id\",\"rating\"],keep=\"last\")[[\"user_id\",\"recipe_id\",\"rating\"]].count()"
   ]
  },
  {
   "cell_type": "markdown",
   "id": "c11bdf97",
   "metadata": {},
   "source": [
    "**Observation** \n",
    "\n",
    "Our raw user-food interaction matrix does not have duplicates and hence we can proceed with 3 columns : user_id , recipe_id and rating"
   ]
  },
  {
   "cell_type": "code",
   "execution_count": 7,
   "id": "22bc9ec0",
   "metadata": {},
   "outputs": [],
   "source": [
    "df_raw=df_raw[[\"user_id\",\"recipe_id\",\"rating\"]]"
   ]
  },
  {
   "cell_type": "code",
   "execution_count": 8,
   "id": "ab772061",
   "metadata": {},
   "outputs": [
    {
     "data": {
      "text/plain": [
       "2002371173"
      ]
     },
     "execution_count": 8,
     "metadata": {},
     "output_type": "execute_result"
    }
   ],
   "source": [
    "df_raw.user_id.max() - df_raw.user_id.min()"
   ]
  },
  {
   "cell_type": "markdown",
   "id": "9b6479d8",
   "metadata": {},
   "source": [
    "## Converting the user_ids and recipe_ids into contiguous value series"
   ]
  },
  {
   "cell_type": "code",
   "execution_count": 9,
   "id": "e3421b80",
   "metadata": {},
   "outputs": [],
   "source": [
    "user_id_set=set(df_raw.user_id.values)\n",
    "user2idx={}\n",
    "i=0\n",
    "for user in user_id_set:\n",
    "    user2idx[user]=i\n",
    "    i+=1"
   ]
  },
  {
   "cell_type": "code",
   "execution_count": 10,
   "id": "86749120",
   "metadata": {},
   "outputs": [],
   "source": [
    "recipe_id_set=set(df_raw.recipe_id.values)\n",
    "recipe2idx={}\n",
    "i=0\n",
    "for recipe in recipe_id_set:\n",
    "    recipe2idx[recipe]=i\n",
    "    i+=1"
   ]
  },
  {
   "cell_type": "code",
   "execution_count": 11,
   "id": "b7136301",
   "metadata": {},
   "outputs": [],
   "source": [
    "df_raw['user_idx'] = df_raw.apply(lambda row: user2idx[row.user_id], axis=1)\n",
    "df_raw['recipe_idx'] = df_raw.apply(lambda row: recipe2idx[row.recipe_id], axis=1)"
   ]
  },
  {
   "cell_type": "code",
   "execution_count": 12,
   "id": "159d65f4",
   "metadata": {},
   "outputs": [],
   "source": [
    "df_raw.drop([\"user_id\",\"recipe_id\"],axis=1,inplace=True)"
   ]
  },
  {
   "cell_type": "code",
   "execution_count": 13,
   "id": "39270f46",
   "metadata": {},
   "outputs": [],
   "source": [
    "N = df_raw.user_idx.max() + 1 # number of users\n",
    "M = df_raw.recipe_idx.max() + 1 # number of recipes"
   ]
  },
  {
   "cell_type": "code",
   "execution_count": 14,
   "id": "20bfef70",
   "metadata": {},
   "outputs": [
    {
     "data": {
      "text/plain": [
       "(226570, 231637)"
      ]
     },
     "execution_count": 14,
     "metadata": {},
     "output_type": "execute_result"
    }
   ],
   "source": [
    "N,M"
   ]
  },
  {
   "cell_type": "code",
   "execution_count": 15,
   "id": "dc5b15b0",
   "metadata": {},
   "outputs": [],
   "source": [
    "user_ids_count = Counter(df_raw.user_idx)\n",
    "recipe_ids_count = Counter(df_raw.recipe_idx)"
   ]
  },
  {
   "cell_type": "code",
   "execution_count": 16,
   "id": "fd563ef6",
   "metadata": {},
   "outputs": [
    {
     "data": {
      "text/html": [
       "<div>\n",
       "<style scoped>\n",
       "    .dataframe tbody tr th:only-of-type {\n",
       "        vertical-align: middle;\n",
       "    }\n",
       "\n",
       "    .dataframe tbody tr th {\n",
       "        vertical-align: top;\n",
       "    }\n",
       "\n",
       "    .dataframe thead th {\n",
       "        text-align: right;\n",
       "    }\n",
       "</style>\n",
       "<table border=\"1\" class=\"dataframe\">\n",
       "  <thead>\n",
       "    <tr style=\"text-align: right;\">\n",
       "      <th></th>\n",
       "      <th>rating</th>\n",
       "      <th>user_idx</th>\n",
       "      <th>recipe_idx</th>\n",
       "    </tr>\n",
       "  </thead>\n",
       "  <tbody>\n",
       "    <tr>\n",
       "      <th>0</th>\n",
       "      <td>4</td>\n",
       "      <td>17890</td>\n",
       "      <td>23485</td>\n",
       "    </tr>\n",
       "    <tr>\n",
       "      <th>1</th>\n",
       "      <td>5</td>\n",
       "      <td>116700</td>\n",
       "      <td>23485</td>\n",
       "    </tr>\n",
       "    <tr>\n",
       "      <th>2</th>\n",
       "      <td>4</td>\n",
       "      <td>3970</td>\n",
       "      <td>25577</td>\n",
       "    </tr>\n",
       "    <tr>\n",
       "      <th>3</th>\n",
       "      <td>5</td>\n",
       "      <td>61790</td>\n",
       "      <td>49480</td>\n",
       "    </tr>\n",
       "    <tr>\n",
       "      <th>4</th>\n",
       "      <td>5</td>\n",
       "      <td>27974</td>\n",
       "      <td>49480</td>\n",
       "    </tr>\n",
       "  </tbody>\n",
       "</table>\n",
       "</div>"
      ],
      "text/plain": [
       "   rating  user_idx  recipe_idx\n",
       "0       4     17890       23485\n",
       "1       5    116700       23485\n",
       "2       4      3970       25577\n",
       "3       5     61790       49480\n",
       "4       5     27974       49480"
      ]
     },
     "execution_count": 16,
     "metadata": {},
     "output_type": "execute_result"
    }
   ],
   "source": [
    "df_raw.head()"
   ]
  },
  {
   "cell_type": "code",
   "execution_count": 17,
   "id": "d32aa9d0",
   "metadata": {},
   "outputs": [],
   "source": [
    "user_ids_keep = [i for (i,j) in user_ids_count.most_common()[::-1] if j>=10]\n",
    "recipe_ids_keep = [i for (i,j) in recipe_ids_count.most_common()[::-1] if j>=10]"
   ]
  },
  {
   "cell_type": "code",
   "execution_count": 19,
   "id": "8ddf029c",
   "metadata": {},
   "outputs": [
    {
     "data": {
      "text/plain": [
       "12486"
      ]
     },
     "execution_count": 19,
     "metadata": {},
     "output_type": "execute_result"
    }
   ],
   "source": [
    "len(user_ids_keep)"
   ]
  },
  {
   "cell_type": "code",
   "execution_count": 20,
   "id": "6162a9b1",
   "metadata": {},
   "outputs": [
    {
     "data": {
      "text/plain": [
       "21399"
      ]
     },
     "execution_count": 20,
     "metadata": {},
     "output_type": "execute_result"
    }
   ],
   "source": [
    "len(recipe_ids_keep)"
   ]
  },
  {
   "cell_type": "code",
   "execution_count": 18,
   "id": "c5fe4cd0",
   "metadata": {},
   "outputs": [],
   "source": [
    "df_small = df_raw[(df_raw.user_idx.isin(user_ids_keep)) & df_raw.recipe_idx.isin(recipe_ids_keep)].reset_index(drop=True).copy()"
   ]
  },
  {
   "cell_type": "code",
   "execution_count": 22,
   "id": "efcbddaa",
   "metadata": {},
   "outputs": [
    {
     "data": {
      "text/html": [
       "<div>\n",
       "<style scoped>\n",
       "    .dataframe tbody tr th:only-of-type {\n",
       "        vertical-align: middle;\n",
       "    }\n",
       "\n",
       "    .dataframe tbody tr th {\n",
       "        vertical-align: top;\n",
       "    }\n",
       "\n",
       "    .dataframe thead th {\n",
       "        text-align: right;\n",
       "    }\n",
       "</style>\n",
       "<table border=\"1\" class=\"dataframe\">\n",
       "  <thead>\n",
       "    <tr style=\"text-align: right;\">\n",
       "      <th></th>\n",
       "      <th>rating</th>\n",
       "      <th>user_idx</th>\n",
       "      <th>recipe_idx</th>\n",
       "    </tr>\n",
       "  </thead>\n",
       "  <tbody>\n",
       "    <tr>\n",
       "      <th>0</th>\n",
       "      <td>5</td>\n",
       "      <td>27684</td>\n",
       "      <td>46168</td>\n",
       "    </tr>\n",
       "    <tr>\n",
       "      <th>1</th>\n",
       "      <td>5</td>\n",
       "      <td>87869</td>\n",
       "      <td>46168</td>\n",
       "    </tr>\n",
       "    <tr>\n",
       "      <th>2</th>\n",
       "      <td>5</td>\n",
       "      <td>49778</td>\n",
       "      <td>46168</td>\n",
       "    </tr>\n",
       "    <tr>\n",
       "      <th>3</th>\n",
       "      <td>4</td>\n",
       "      <td>197797</td>\n",
       "      <td>46168</td>\n",
       "    </tr>\n",
       "    <tr>\n",
       "      <th>4</th>\n",
       "      <td>4</td>\n",
       "      <td>108252</td>\n",
       "      <td>46168</td>\n",
       "    </tr>\n",
       "  </tbody>\n",
       "</table>\n",
       "</div>"
      ],
      "text/plain": [
       "   rating  user_idx  recipe_idx\n",
       "0       5     27684       46168\n",
       "1       5     87869       46168\n",
       "2       5     49778       46168\n",
       "3       4    197797       46168\n",
       "4       4    108252       46168"
      ]
     },
     "execution_count": 22,
     "metadata": {},
     "output_type": "execute_result"
    }
   ],
   "source": [
    "df_small.head()"
   ]
  },
  {
   "cell_type": "code",
   "execution_count": 19,
   "id": "903a5b8e",
   "metadata": {},
   "outputs": [],
   "source": [
    "user_ids=set(df_small.user_idx.values)\n",
    "recipe_ids=set(df_small.recipe_idx.values)"
   ]
  },
  {
   "cell_type": "code",
   "execution_count": 20,
   "id": "1192d1a2",
   "metadata": {},
   "outputs": [],
   "source": [
    "# need to remake user ids and movie ids since they are no longer sequential\n",
    "new_user_id_map = {}\n",
    "i = 0\n",
    "for old in user_ids:\n",
    "  new_user_id_map[old] = i\n",
    "  i += 1\n",
    "#print(\"i:\", i)\n",
    "\n",
    "new_recipe_id_map = {}\n",
    "j = 0\n",
    "for old in recipe_ids:\n",
    "  new_recipe_id_map[old] = j\n",
    "  j += 1\n",
    "#print(\"j:\", j)"
   ]
  },
  {
   "cell_type": "code",
   "execution_count": 21,
   "id": "9e6be0ba",
   "metadata": {},
   "outputs": [],
   "source": [
    "df_small.loc[:, 'user_id'] = df_small.apply(lambda row: new_user_id_map[row.user_idx], axis=1)\n",
    "df_small.loc[:, 'recipe_id'] = df_small.apply(lambda row: new_recipe_id_map[row.recipe_idx], axis=1)"
   ]
  },
  {
   "cell_type": "code",
   "execution_count": 22,
   "id": "f7c5a261",
   "metadata": {},
   "outputs": [],
   "source": [
    "df_small.drop([\"user_idx\",\"recipe_idx\"],axis=1,inplace=True)"
   ]
  },
  {
   "cell_type": "code",
   "execution_count": 23,
   "id": "b43ee356",
   "metadata": {},
   "outputs": [
    {
     "data": {
      "text/html": [
       "<div>\n",
       "<style scoped>\n",
       "    .dataframe tbody tr th:only-of-type {\n",
       "        vertical-align: middle;\n",
       "    }\n",
       "\n",
       "    .dataframe tbody tr th {\n",
       "        vertical-align: top;\n",
       "    }\n",
       "\n",
       "    .dataframe thead th {\n",
       "        text-align: right;\n",
       "    }\n",
       "</style>\n",
       "<table border=\"1\" class=\"dataframe\">\n",
       "  <thead>\n",
       "    <tr style=\"text-align: right;\">\n",
       "      <th></th>\n",
       "      <th>rating</th>\n",
       "      <th>user_id</th>\n",
       "      <th>recipe_id</th>\n",
       "    </tr>\n",
       "  </thead>\n",
       "  <tbody>\n",
       "    <tr>\n",
       "      <th>0</th>\n",
       "      <td>5</td>\n",
       "      <td>10594</td>\n",
       "      <td>10525</td>\n",
       "    </tr>\n",
       "    <tr>\n",
       "      <th>1</th>\n",
       "      <td>5</td>\n",
       "      <td>8624</td>\n",
       "      <td>10525</td>\n",
       "    </tr>\n",
       "    <tr>\n",
       "      <th>2</th>\n",
       "      <td>5</td>\n",
       "      <td>6601</td>\n",
       "      <td>10525</td>\n",
       "    </tr>\n",
       "    <tr>\n",
       "      <th>3</th>\n",
       "      <td>4</td>\n",
       "      <td>507</td>\n",
       "      <td>10525</td>\n",
       "    </tr>\n",
       "    <tr>\n",
       "      <th>4</th>\n",
       "      <td>4</td>\n",
       "      <td>3904</td>\n",
       "      <td>10525</td>\n",
       "    </tr>\n",
       "    <tr>\n",
       "      <th>...</th>\n",
       "      <td>...</td>\n",
       "      <td>...</td>\n",
       "      <td>...</td>\n",
       "    </tr>\n",
       "    <tr>\n",
       "      <th>401052</th>\n",
       "      <td>5</td>\n",
       "      <td>12289</td>\n",
       "      <td>10855</td>\n",
       "    </tr>\n",
       "    <tr>\n",
       "      <th>401053</th>\n",
       "      <td>5</td>\n",
       "      <td>1642</td>\n",
       "      <td>10855</td>\n",
       "    </tr>\n",
       "    <tr>\n",
       "      <th>401054</th>\n",
       "      <td>5</td>\n",
       "      <td>1004</td>\n",
       "      <td>10855</td>\n",
       "    </tr>\n",
       "    <tr>\n",
       "      <th>401055</th>\n",
       "      <td>5</td>\n",
       "      <td>11474</td>\n",
       "      <td>10855</td>\n",
       "    </tr>\n",
       "    <tr>\n",
       "      <th>401056</th>\n",
       "      <td>5</td>\n",
       "      <td>1625</td>\n",
       "      <td>10855</td>\n",
       "    </tr>\n",
       "  </tbody>\n",
       "</table>\n",
       "<p>401057 rows × 3 columns</p>\n",
       "</div>"
      ],
      "text/plain": [
       "        rating  user_id  recipe_id\n",
       "0            5    10594      10525\n",
       "1            5     8624      10525\n",
       "2            5     6601      10525\n",
       "3            4      507      10525\n",
       "4            4     3904      10525\n",
       "...        ...      ...        ...\n",
       "401052       5    12289      10855\n",
       "401053       5     1642      10855\n",
       "401054       5     1004      10855\n",
       "401055       5    11474      10855\n",
       "401056       5     1625      10855\n",
       "\n",
       "[401057 rows x 3 columns]"
      ]
     },
     "execution_count": 23,
     "metadata": {},
     "output_type": "execute_result"
    }
   ],
   "source": [
    "df_small"
   ]
  },
  {
   "cell_type": "code",
   "execution_count": 24,
   "id": "57437322",
   "metadata": {},
   "outputs": [
    {
     "name": "stdout",
     "output_type": "stream",
     "text": [
      "max user id: 12464\n",
      "max recipe id: 21307\n",
      "small dataframe size: 401057\n"
     ]
    }
   ],
   "source": [
    "print(\"max user id:\", df_small.user_id.max())\n",
    "print(\"max recipe id:\", df_small.recipe_id.max())\n",
    "\n",
    "print(\"small dataframe size:\", len(df_small))"
   ]
  },
  {
   "cell_type": "code",
   "execution_count": 25,
   "id": "df230efc",
   "metadata": {},
   "outputs": [],
   "source": [
    "N,M = df_small.user_id.max() + 1,df_small.recipe_id.max()+1"
   ]
  },
  {
   "cell_type": "code",
   "execution_count": 26,
   "id": "2b309b94",
   "metadata": {},
   "outputs": [],
   "source": [
    "df=shuffle(df_small)"
   ]
  },
  {
   "cell_type": "code",
   "execution_count": 27,
   "id": "2e7206d2",
   "metadata": {},
   "outputs": [],
   "source": [
    "cutoff = int(0.8*len(df))\n",
    "df_train = df.iloc[:cutoff]\n",
    "df_test = df.iloc[cutoff:]"
   ]
  },
  {
   "cell_type": "code",
   "execution_count": 28,
   "id": "4b1fbb04",
   "metadata": {},
   "outputs": [
    {
     "name": "stdout",
     "output_type": "stream",
     "text": [
      "Calling: update_user2movie_and_movie2user\n"
     ]
    }
   ],
   "source": [
    "# a dictionary to tell us which users have rated which recipes\n",
    "user2recipe = {}\n",
    "# a dicationary to tell us which recipes have been rated by which users\n",
    "recipe2user = {}\n",
    "# a dictionary to look up ratings\n",
    "userrecipe2rating = {}\n",
    "print(\"Calling: update_user2movie_and_movie2user\")\n",
    "count = 0"
   ]
  },
  {
   "cell_type": "code",
   "execution_count": 29,
   "id": "59901823",
   "metadata": {},
   "outputs": [
    {
     "data": {
      "text/html": [
       "<div>\n",
       "<style scoped>\n",
       "    .dataframe tbody tr th:only-of-type {\n",
       "        vertical-align: middle;\n",
       "    }\n",
       "\n",
       "    .dataframe tbody tr th {\n",
       "        vertical-align: top;\n",
       "    }\n",
       "\n",
       "    .dataframe thead th {\n",
       "        text-align: right;\n",
       "    }\n",
       "</style>\n",
       "<table border=\"1\" class=\"dataframe\">\n",
       "  <thead>\n",
       "    <tr style=\"text-align: right;\">\n",
       "      <th></th>\n",
       "      <th>rating</th>\n",
       "      <th>user_id</th>\n",
       "      <th>recipe_id</th>\n",
       "    </tr>\n",
       "  </thead>\n",
       "  <tbody>\n",
       "    <tr>\n",
       "      <th>0</th>\n",
       "      <td>5</td>\n",
       "      <td>10594</td>\n",
       "      <td>10525</td>\n",
       "    </tr>\n",
       "    <tr>\n",
       "      <th>1</th>\n",
       "      <td>5</td>\n",
       "      <td>8624</td>\n",
       "      <td>10525</td>\n",
       "    </tr>\n",
       "    <tr>\n",
       "      <th>2</th>\n",
       "      <td>5</td>\n",
       "      <td>6601</td>\n",
       "      <td>10525</td>\n",
       "    </tr>\n",
       "    <tr>\n",
       "      <th>3</th>\n",
       "      <td>4</td>\n",
       "      <td>507</td>\n",
       "      <td>10525</td>\n",
       "    </tr>\n",
       "    <tr>\n",
       "      <th>4</th>\n",
       "      <td>4</td>\n",
       "      <td>3904</td>\n",
       "      <td>10525</td>\n",
       "    </tr>\n",
       "  </tbody>\n",
       "</table>\n",
       "</div>"
      ],
      "text/plain": [
       "   rating  user_id  recipe_id\n",
       "0       5    10594      10525\n",
       "1       5     8624      10525\n",
       "2       5     6601      10525\n",
       "3       4      507      10525\n",
       "4       4     3904      10525"
      ]
     },
     "execution_count": 29,
     "metadata": {},
     "output_type": "execute_result"
    }
   ],
   "source": [
    "df_small.head()"
   ]
  },
  {
   "cell_type": "code",
   "execution_count": 30,
   "id": "4fd5e79f",
   "metadata": {},
   "outputs": [],
   "source": [
    "def update_user2recipe_and_recipe2user(row):\n",
    "    \n",
    "    global count\n",
    "    count += 1\n",
    "    if count % 100000 == 0:\n",
    "        print(\"processed: %.3f\" % (float(count)/cutoff))\n",
    "\n",
    "    i = int(row.user_id)\n",
    "    j = int(row.recipe_id)\n",
    "    if i not in user2recipe:\n",
    "        user2recipe[i] = [j]\n",
    "    else:\n",
    "        user2recipe[i].append(j)\n",
    "\n",
    "    if j not in recipe2user:\n",
    "        recipe2user[j] = [i]\n",
    "    else:\n",
    "        recipe2user[j].append(i)\n",
    "\n",
    "    userrecipe2rating[(i,j)] = row.rating"
   ]
  },
  {
   "cell_type": "code",
   "execution_count": 31,
   "id": "4ce84c60",
   "metadata": {},
   "outputs": [
    {
     "name": "stdout",
     "output_type": "stream",
     "text": [
      "processed: 0.312\n",
      "processed: 0.623\n",
      "processed: 0.935\n"
     ]
    },
    {
     "data": {
      "text/plain": [
       "132737    None\n",
       "6968      None\n",
       "286472    None\n",
       "237182    None\n",
       "240154    None\n",
       "          ... \n",
       "194967    None\n",
       "3713      None\n",
       "116959    None\n",
       "289622    None\n",
       "98138     None\n",
       "Length: 320845, dtype: object"
      ]
     },
     "execution_count": 31,
     "metadata": {},
     "output_type": "execute_result"
    }
   ],
   "source": [
    "df_train.apply(update_user2recipe_and_recipe2user, axis=1)"
   ]
  },
  {
   "cell_type": "code",
   "execution_count": 32,
   "id": "5d0d670c",
   "metadata": {},
   "outputs": [
    {
     "name": "stdout",
     "output_type": "stream",
     "text": [
      "Calling: update_userrecipe2rating_test\n"
     ]
    }
   ],
   "source": [
    "userrecipe2rating_test = {}\n",
    "print(\"Calling: update_userrecipe2rating_test\")\n",
    "count = 0"
   ]
  },
  {
   "cell_type": "code",
   "execution_count": 33,
   "id": "0ad871c3",
   "metadata": {},
   "outputs": [],
   "source": [
    "def update_userrecipe2rating_test(row):\n",
    "    \n",
    "    global count\n",
    "    count += 1\n",
    "    if count % 100000 == 0:\n",
    "        print(\"processed: %.3f\" % (float(count)/len(df_test)))\n",
    "\n",
    "    i = int(row.user_id)\n",
    "    j = int(row.recipe_id)\n",
    "    userrecipe2rating_test[(i,j)] = row.rating"
   ]
  },
  {
   "cell_type": "code",
   "execution_count": 34,
   "id": "0f008b7a",
   "metadata": {},
   "outputs": [
    {
     "data": {
      "text/plain": [
       "391619    None\n",
       "97793     None\n",
       "378067    None\n",
       "318673    None\n",
       "208280    None\n",
       "          ... \n",
       "66705     None\n",
       "263383    None\n",
       "197676    None\n",
       "193524    None\n",
       "31686     None\n",
       "Length: 80212, dtype: object"
      ]
     },
     "execution_count": 34,
     "metadata": {},
     "output_type": "execute_result"
    }
   ],
   "source": [
    "df_test.apply(update_userrecipe2rating_test, axis=1)"
   ]
  },
  {
   "cell_type": "code",
   "execution_count": 35,
   "id": "a2ba4336",
   "metadata": {},
   "outputs": [
    {
     "name": "stdout",
     "output_type": "stream",
     "text": [
      "N: 12466 M: 21308\n"
     ]
    }
   ],
   "source": [
    "n1 = np.max(list(user2recipe.keys())) + 1\n",
    "n2 = np.max([u for (u, m), r in userrecipe2rating_test.items()])\n",
    "# the test set may contain recipes the train set doesn't have data on\n",
    "m1 = np.max(list(recipe2user.keys()))\n",
    "m2 = np.max([m for (u, m), r in userrecipe2rating_test.items()])\n",
    "M = max(m1, m2) + 1\n",
    "N = max(n1, n2) + 1\n",
    "print(\"N:\", N, \"M:\", M)"
   ]
  },
  {
   "cell_type": "markdown",
   "id": "b309477a",
   "metadata": {},
   "source": [
    "# User - User Collaborative Filtering "
   ]
  },
  {
   "cell_type": "code",
   "execution_count": 36,
   "id": "4d3cb614",
   "metadata": {},
   "outputs": [],
   "source": [
    "K = 25 # number of neighbors we'd like to consider\n",
    "limit = 5 # number of common recipes users must have in common in order to consider\n",
    "neighbors = {} # store neighbors in this list\n",
    "averages = {} # each user's average rating for later use\n",
    "deviations = {} # each user's deviation for later use\n",
    "SIGMA_CONST = 1e-6"
   ]
  },
  {
   "cell_type": "code",
   "execution_count": 39,
   "id": "f1ed7711",
   "metadata": {},
   "outputs": [
    {
     "name": "stdout",
     "output_type": "stream",
     "text": [
      "(0, 0, SortedList([]))\n",
      "(100, 100, SortedList([]))\n",
      "(200, 200, SortedList([]))\n",
      "(300, 300, SortedList([]))\n",
      "(400, 400, SortedList([]))\n",
      "(500, 499, SortedList([(-0.05349261147650021, 4419), (-0.037159486543857034, 3117), (-0.034664997736231225, 8850), (-0.028707052404000052, 8932), (-0.0277515736189838, 4223), (-0.025807169607174173, 5194), (-0.02245176298178745, 1748), (-0.021546547190093933, 10946), (-0.019215734228768575, 10350), (-0.01837134685216954, 11397), (-0.018183021020847737, 7466), (-0.01810575211254439, 1596), (-0.016783684624145177, 593), (-0.016593498386726597, 5466), (-0.015638836824134358, 1931), (-0.015484381061828525, 8392), (-0.014681365940732395, 4329), (-0.01384492961295538, 11002), (-0.013489450024711655, 10082), (-0.012544517597654676, 1781), (-0.012535299934027166, 3139), (-0.011778337476416463, 4011), (-0.010531579792976921, 782), (-0.010497505959794541, 6128), (-0.010155144040560256, 11115)]))\n",
      "(600, 599, SortedList([(-0.01389353912500327, 1004)]))\n",
      "(700, 699, SortedList([(-0.0010055052510398593, 1004), (-0.0006837997740921419, 7411)]))\n",
      "(800, 799, SortedList([(-0.07965466203015739, 1004)]))\n",
      "(900, 899, SortedList([]))\n",
      "(1000, 999, SortedList([]))\n",
      "(1100, 1099, SortedList([]))\n",
      "(1200, 1199, SortedList([]))\n",
      "(1300, 1299, SortedList([(-0.008483849318852696, 10549), (-0.0031975909203258712, 7471), (-0.0014779501587493548, 1748), (-0.0012371606138404053, 3139)]))\n",
      "(1400, 1399, SortedList([]))\n",
      "(1500, 1499, SortedList([]))\n",
      "(1600, 1599, SortedList([(-0.061390424787626026, 3117), (-0.03444633038224561, 6311), (-0.027911556133793005, 9948), (-0.010035941774065978, 5623), (-0.007268814531379839, 11898), (-0.007183501504714337, 12174), (-0.006176275445643042, 11490), (-0.005323328223649379, 11153), (-0.005184129530480874, 10610), (-0.00496993962806304, 1004), (-0.00459725042777107, 3969), (-0.004099512350601371, 6088), (-0.0037906119210292986, 2643), (-0.0029897922730656593, 10920), (-0.0020633159604376804, 4329), (-0.001755985337924927, 3878), (-0.0017464426479046153, 6809), (-0.001277881163348241, 7696), (-0.0008051070332360787, 4324), (-0.00045923792313746814, 5685), (-0.000323263065921703, 799), (-9.327449670535258e-06, 11811)]))\n",
      "(1700, 1699, SortedList([(-0.004323106089866142, 1004), (-0.002033250495872764, 5751), (-6.158715608020362e-05, 5623)]))\n",
      "(1800, 1799, SortedList([]))\n",
      "(1900, 1899, SortedList([]))\n",
      "(2000, 1999, SortedList([(-0.0, 1004)]))\n",
      "(2100, 2099, SortedList([(-0.06005780026665309, 10477), (-0.05396534355710871, 5751), (-0.05203260987697639, 4679), (-0.028329569101970938, 4129), (-0.02748338693676637, 384), (-0.02450728683212035, 9331), (-0.01695428645173014, 12074), (-0.012735754080125516, 11397), (-0.011222160542915029, 30), (-0.011191041161907252, 10541), (-0.010607257456166546, 4011), (-0.01048042021023641, 11532), (-0.009811513704657668, 9184), (-0.009512948678965797, 1004), (-0.009343538114675745, 12411), (-0.007505362018672892, 5466), (-0.00548492881322784, 3878), (-0.004980300715463519, 10388), (-0.004755425715188991, 4324), (-0.00473918116515716, 7411), (-0.004670348256446295, 4329), (-0.004334153452125257, 10769), (-0.004298123985777819, 4942), (-0.004285729348959698, 10162), (-0.004284587873940682, 7764)]))\n",
      "(2200, 2199, SortedList([]))\n",
      "(2300, 2299, SortedList([]))\n",
      "(2400, 2398, SortedList([(-0.07685514859338977, 5751)]))\n",
      "(2500, 2498, SortedList([]))\n",
      "(2600, 2598, SortedList([(-0.0036323998496212064, 1004), (-0.003228323557644084, 6994)]))\n",
      "(2700, 2698, SortedList([]))\n",
      "(2800, 2797, SortedList([]))\n",
      "(2900, 2897, SortedList([]))\n",
      "(3000, 2997, SortedList([]))\n",
      "(3100, 3097, SortedList([]))\n",
      "(3200, 3197, SortedList([(-0.041958888089884974, 2415), (-0.04192116442751655, 5920), (-0.02210331632671597, 1004), (-0.01481814812570886, 1696), (-0.010938813683858413, 10183), (-0.007809402141519046, 4129), (-0.0076430468307339215, 4419), (-0.006655352445835613, 6868), (-0.0013855885740826435, 6994)]))\n",
      "(3300, 3297, SortedList([]))\n",
      "(3400, 3397, SortedList([]))\n",
      "(3500, 3496, SortedList([]))\n",
      "(3600, 3596, SortedList([]))\n",
      "(3700, 3695, SortedList([]))\n",
      "(3800, 3794, SortedList([]))\n",
      "(3900, 3894, SortedList([(-0.0, 1004), (-0.0, 11153)]))\n",
      "(4000, 3994, SortedList([(-0.005729027545418844, 1004)]))\n",
      "(4100, 4094, SortedList([]))\n",
      "(4200, 4194, SortedList([(-0.0037954732374629856, 1004)]))\n",
      "(4300, 4294, SortedList([]))\n",
      "(4400, 4394, SortedList([]))\n",
      "(4500, 4494, SortedList([]))\n",
      "(4600, 4594, SortedList([(-0.0026244155887523643, 1004)]))\n",
      "(4700, 4694, SortedList([(-0.006919471298501783, 10354), (-0.004783402045870796, 6868), (-0.0034973373740917763, 6706), (-0.002812973498573386, 4129), (-0.001164594468251701, 1004), (-0.0006270486202057596, 4419), (-0.0005046773439186799, 1585)]))\n",
      "(4800, 4794, SortedList([]))\n",
      "(4900, 4894, SortedList([(-0.1598902192970237, 12058), (-0.08721127568733356, 1578), (-0.08202080987192933, 1596), (-0.05390393742746798, 3121), (-0.04981968101694122, 183), (-0.04760300939744775, 10388), (-0.04538502588700315, 3391), (-0.04213176105866539, 11501), (-0.04127260214392111, 5751), (-0.03965104650216613, 2811), (-0.03738799349487172, 10183), (-0.03633040523593473, 6868), (-0.03323460534996137, 11764), (-0.031201591311546407, 10522), (-0.030250255333603353, 2597), (-0.029762680078824693, 917), (-0.027986572900868183, 6618), (-0.02695812770130949, 1516), (-0.026474714742447236, 4096), (-0.025958940671996424, 2381), (-0.025097330917998345, 5220), (-0.024463147596850764, 1390), (-0.024163236886729965, 8904), (-0.02329682831217649, 7764), (-0.02310829504955777, 5879)]))\n",
      "(5000, 4994, SortedList([]))\n",
      "(5100, 5094, SortedList([]))\n",
      "(5200, 5194, SortedList([(-0.002267986810391681, 1004), (-0.0010360339472004925, 6809), (-6.712962792311367e-05, 10029)]))\n",
      "(5300, 5294, SortedList([]))\n",
      "(5400, 5394, SortedList([(-0.0, 6868)]))\n",
      "(5500, 5494, SortedList([]))\n",
      "(5600, 5594, SortedList([]))\n",
      "(5700, 5694, SortedList([(-0.003523781450910802, 1004)]))\n",
      "(5800, 5794, SortedList([]))\n",
      "(5900, 5894, SortedList([]))\n",
      "(6000, 5994, SortedList([(-0.00761303598984362, 1004)]))\n",
      "(6100, 6094, SortedList([]))\n",
      "(6200, 6194, SortedList([]))\n",
      "(6300, 6294, SortedList([(-0.02130632553175354, 1004), (-0.017404678595414492, 4129), (-0.008447961202553428, 11095)]))\n",
      "(6400, 6394, SortedList([]))\n",
      "(6500, 6494, SortedList([]))\n",
      "(6600, 6594, SortedList([]))\n",
      "(6700, 6694, SortedList([]))\n",
      "(6800, 6793, SortedList([(-0.0528733674908658, 12222), (-0.051182860295967476, 6868), (-0.025570286270841684, 10175), (-0.0195142619667029, 10388), (-0.012319778879988428, 10354), (-0.011638813025141257, 1004), (-0.00785032564073042, 5751), (-0.0018101913447983427, 799), (-0.0011419164843683538, 7411)]))\n",
      "(6900, 6893, SortedList([]))\n",
      "(7000, 6993, SortedList([]))\n",
      "(7100, 7093, SortedList([(-0.012129427239899168, 4329), (-0.010182856297183476, 1004), (-0.007214309717175759, 3403), (-0.00636198055822644, 5608), (-0.006156675281272647, 11153), (-0.005736850401459772, 8825), (-0.0041531004040620744, 669), (-0.004148674362965834, 4129), (-0.003984347420935996, 6618), (-0.003301722594897326, 593), (-0.0033000938140020286, 9766), (-0.00326519596294795, 6821), (-0.00326373339245486, 8392), (-0.003145215756081468, 311), (-0.002935671427436726, 5920), (-0.0028576187404105832, 7634), (-0.002681769908366097, 10354), (-0.002240831403041875, 5747), (-0.0017680761224501155, 4011), (-0.0015816698691562244, 9331), (-0.001545034347012474, 4625), (-0.0014614014099433741, 6994), (-0.0010218398731413078, 4902), (-0.0009340861273497987, 7411), (-0.0009180258371159243, 9458)]))\n",
      "(7200, 7193, SortedList([]))\n",
      "(7300, 7293, SortedList([]))\n",
      "(7400, 7393, SortedList([]))\n",
      "(7500, 7493, SortedList([(-0.04673032448970197, 10183), (-0.04378801090210224, 4892), (-0.021278815594982556, 6994), (-0.021083373415760765, 6868), (-0.018984194049297687, 9759), (-0.011659630230078582, 7635), (-0.010559780410702787, 10175), (-0.009549541358036573, 9458), (-0.00924211103138294, 6911), (-0.0059593100222229975, 11313), (-0.005046585628294799, 2130), (-0.004988719273375595, 5920), (-0.004225099033848155, 2415), (-0.003441758169624877, 4359), (-0.0034410319721302077, 1004), (-0.002419016961252753, 6809), (-0.0006792811403896088, 4129)]))\n",
      "(7700, 7692, SortedList([(-0.0024209052029152264, 1004)]))\n",
      "(7800, 7792, SortedList([]))\n",
      "(7900, 7892, SortedList([]))\n",
      "(8000, 7991, SortedList([]))\n"
     ]
    },
    {
     "name": "stdout",
     "output_type": "stream",
     "text": [
      "(8100, 8091, SortedList([(-0.0049525026639567074, 1004)]))\n",
      "(8200, 8191, SortedList([(-0.8414021379548168, 2766), (-0.8249621951740308, 10677), (-0.010801326463142674, 2826), (-0.00889977048248447, 11648), (-0.008697487380352283, 1004), (-0.007402904384535408, 1384), (-0.00552958299818585, 6844), (-0.004771171810653319, 2898), (-0.004442435235940469, 6657), (-0.00344302299509751, 2415), (-0.003293969591908867, 11532), (-0.0032651763033945532, 4033), (-0.0029787323298697704, 6994), (-0.002750157405574406, 11153), (-0.002271055227360244, 6868), (-0.0011806039842569087, 7764), (-0.0007820243821844117, 4129), (-8.876529162662338e-05, 4011)]))\n",
      "(8300, 8291, SortedList([(-0.0032966705934380624, 12174), (-0.0018362327706553192, 1004), (-0.0005763576315813361, 11811)]))\n",
      "(8400, 8391, SortedList([(-0.02053005959294371, 1004)]))\n",
      "(8500, 8491, SortedList([]))\n",
      "(8600, 8591, SortedList([]))\n",
      "(8700, 8691, SortedList([]))\n",
      "(8800, 8791, SortedList([(-0.019170665241323735, 7764), (-0.0038576937029620364, 1004), (-0.0031107353417558375, 7411)]))\n",
      "(8900, 8891, SortedList([(-0.00952214171840614, 1004), (-0.004750824376409786, 8825), (-0.0005434509871937139, 6809)]))\n",
      "(9000, 8991, SortedList([(-0.0513722039302109, 4621), (-0.026847953564763022, 5751), (-0.026179011354904577, 8960), (-0.019876357816066226, 9458), (-0.011558880274864177, 1516), (-0.009390833826526097, 2415), (-0.008639703750334278, 11811), (-0.007467683626722777, 2066), (-0.007242081389577502, 6994), (-0.0066348549554195125, 10082), (-0.006216461913122545, 10354), (-0.005542702414962496, 6399), (-0.00424585674965907, 4129), (-0.004111584916527003, 11153), (-0.0031624378291074417, 11878), (-0.002695959170383504, 1004), (-0.0016765157669704333, 6868), (-0.00011160290921976441, 7411)]))\n",
      "(9100, 9091, SortedList([]))\n",
      "(9200, 9190, SortedList([(-0.029373587195109123, 1004)]))\n",
      "(9300, 9290, SortedList([]))\n",
      "(9400, 9390, SortedList([]))\n",
      "(9500, 9489, SortedList([]))\n",
      "(9600, 9588, SortedList([]))\n",
      "(9700, 9688, SortedList([(-0.039158372619608126, 4419), (-0.025521655412712067, 351), (-0.00999762285502541, 2415), (-0.006952143397940877, 11153), (-0.005108403645297011, 799), (-0.004371167465853842, 1585), (-0.002659009390678837, 4129), (-0.0025155344591057333, 1004), (-0.0010298646125190968, 10354)]))\n",
      "(9800, 9788, SortedList([(-0.014290142873070543, 1004)]))\n",
      "(9900, 9887, SortedList([]))\n",
      "(10000, 9987, SortedList([]))\n",
      "(10100, 10087, SortedList([]))\n",
      "(10200, 10187, SortedList([(-0.05353366996452291, 3117), (-0.04669843386231144, 10946), (-0.04179838157181024, 274), (-0.03494181392814957, 6355), (-0.03433422339447473, 272), (-0.032705720947443284, 2371), (-0.03156429413861107, 7729), (-0.029932084067669715, 4679), (-0.029144682929532206, 7772), (-0.028585239988221506, 8786), (-0.02820471543923894, 7045), (-0.028125357706242728, 585), (-0.02779399102011061, 5776), (-0.026616452927341324, 10082), (-0.02496200206526741, 3122), (-0.024513020288346652, 6868), (-0.023608344153496805, 215), (-0.018611771493470763, 4621), (-0.01852590206468815, 3794), (-0.018354077347075632, 5920), (-0.01816764365150994, 11397), (-0.017967823561042873, 4329), (-0.01668245724449647, 6088), (-0.015184174766314354, 1781), (-0.015035578841815637, 10250)]))\n",
      "(10300, 10287, SortedList([]))\n",
      "(10400, 10387, SortedList([]))\n",
      "(10500, 10487, SortedList([]))\n",
      "(10600, 10587, SortedList([]))\n",
      "(10700, 10687, SortedList([(-0.0018163659446268998, 1004)]))\n",
      "(10800, 10787, SortedList([(-0.00601555561271696, 12174), (-0.0037400814379774804, 11811), (-0.0032404655145718978, 11331), (-0.0025704253067566998, 7411), (-0.0012312080533708695, 1004), (-0.0004547867858180709, 11153)]))\n",
      "(10900, 10887, SortedList([]))\n",
      "(11000, 10987, SortedList([]))\n",
      "(11100, 11087, SortedList([]))\n",
      "(11200, 11187, SortedList([]))\n",
      "(11300, 11286, SortedList([(-0.0317591662953081, 8207), (-0.02287699890857819, 5623), (-0.02097422487582169, 7957), (-0.011052099280420627, 4011), (-0.010741301242861507, 6809), (-0.01046222692429983, 6950), (-0.007696759515016577, 2826), (-0.005042176835099905, 6881), (-0.004202163528012933, 2401), (-0.004133317854503933, 6088), (-0.002922443483018801, 1004), (-0.0027636265518846195, 7729), (-0.0025836004712938613, 1373), (-0.0023118861817263397, 4006), (-0.002222972880779471, 4538), (-0.0017361286055524656, 12074), (-0.0015195846295524213, 12238), (-0.0006504812795793147, 11153), (-0.000636943941359831, 4223), (-0.0005103249209986316, 4324), (-0.00013569458662151875, 3878)]))\n",
      "(11400, 11386, SortedList([]))\n",
      "(11500, 11486, SortedList([]))\n",
      "(11600, 11586, SortedList([]))\n",
      "(11700, 11686, SortedList([(-0.020510579442123603, 2415), (-0.014764486471754754, 1004), (-0.009168768887523987, 6868), (-0.00803665371087174, 6661), (-0.007637422747374834, 12224), (-0.006585851230726903, 183), (-0.0035292470293126934, 11153), (-0.002901602642031798, 9759), (-0.0012822998710463592, 7764), (-0.00038116842124924364, 6994), (-0.00015795920229164372, 4129)]))\n",
      "(11800, 11786, SortedList([]))\n",
      "(11900, 11886, SortedList([]))\n",
      "(12000, 11986, SortedList([]))\n",
      "(12100, 12085, SortedList([(-0.02945593293183123, 2415), (-0.010168292017144146, 1004)]))\n",
      "(12200, 12185, SortedList([(-0.0009029181847732841, 7411)]))\n",
      "(12300, 12285, SortedList([]))\n",
      "(12400, 12385, SortedList([]))\n"
     ]
    }
   ],
   "source": [
    "for j1,i in enumerate(list(set(df_train.user_id.values))):\n",
    "    \n",
    "    recipes_i = user2recipe[i]\n",
    "    recipes_i_set = set(recipes_i)\n",
    "\n",
    "    # calculate avg and deviation\n",
    "    ratings_i = { recipe:userrecipe2rating[(i, recipe)] for recipe in recipes_i }\n",
    "    avg_i = np.mean(list(ratings_i.values()))\n",
    "    dev_i = { recipe:(rating - avg_i) for recipe, rating in ratings_i.items() }\n",
    "    dev_i_values = np.array(list(dev_i.values()))\n",
    "    sigma_i = np.sqrt(dev_i_values.dot(dev_i_values))\n",
    "\n",
    "    # save these for later use\n",
    "    #averages.append((i,avg_i))\n",
    "    #deviations.append((i,dev_i))\n",
    "    \n",
    "    averages[i]=avg_i\n",
    "    deviations[i]=dev_i\n",
    "    \n",
    "    sl = SortedList()\n",
    "    \n",
    "    for i1,j in enumerate(list(set(df_train.user_id.values))):\n",
    "        if j!=i:\n",
    "            recipes_j = user2recipe[j]\n",
    "            recipes_j_set = set(recipes_j)\n",
    "            common_recipes = (recipes_i_set & recipes_j_set)\n",
    "            if(len(common_recipes)>limit):\n",
    "                \n",
    "                # calculate avg and deviation\n",
    "                ratings_j = { recipe:userrecipe2rating[(j, recipe)] for recipe in recipes_j }\n",
    "                avg_j = np.mean(list(ratings_j.values()))\n",
    "                dev_j = { recipe:(rating - avg_j) for recipe, rating in ratings_j.items() }\n",
    "                dev_j_values = np.array(list(dev_j.values()))\n",
    "                sigma_j = np.sqrt(dev_j_values.dot(dev_j_values))\n",
    "                \n",
    "                # calculate correlation coefficient\n",
    "                numerator = sum(dev_i[m]*dev_j[m] for m in common_recipes)\n",
    "                denominator = ((sigma_i+SIGMA_CONST) * (sigma_j+SIGMA_CONST))\n",
    "                #print((i,j))\n",
    "                #print(numerator)\n",
    "                #print(denominator)\n",
    "                w_ij = numerator / (denominator)\n",
    "                # insert into sorted list and truncate\n",
    "                # negate absolute weight, because list is sorted ascending and we get all neighbors with the highest correlation\n",
    "                # maximum value (1) is \"closest\"\n",
    "                sl.add((-np.abs(w_ij), j))\n",
    "                #print((-w_ij, j))\n",
    "                # Putting an upper cap on the number of neighbors\n",
    "                if len(sl)>K:\n",
    "                    del sl[-1]\n",
    "    if i%100==0:                \n",
    "        print((i,j1,sl))\n",
    "    neighbors[i]=sl"
   ]
  },
  {
   "cell_type": "code",
   "execution_count": 41,
   "id": "df99a00a",
   "metadata": {},
   "outputs": [],
   "source": [
    "def predict(i, m):\n",
    "    # calculate the weighted sum of deviations\n",
    "    numerator = 0\n",
    "    denominator = 0\n",
    "    neighbors_get=neighbors.get(i,0)\n",
    "    \n",
    "    if neighbors_get!=0:\n",
    "        for neg_w, j in neighbors.get(i):\n",
    "            # remember, the weight is stored as its negative\n",
    "            # so the negative of the negative weight is the positive weight\n",
    "            try:\n",
    "                numerator += -neg_w * deviations[j][m]\n",
    "                denominator += abs(neg_w)\n",
    "            except KeyError:\n",
    "              # neighbor may not have rated the same rating\n",
    "              # don't want to do dictionary lookup twice\n",
    "              # so just throw exception\n",
    "              pass\n",
    "\n",
    "        if denominator == 0:\n",
    "            prediction = averages.get(i)\n",
    "        else:\n",
    "            prediction = numerator / denominator + averages.get(i)\n",
    "    else:\n",
    "        prediction = averages.get(i,-1)\n",
    "    if prediction==-1:\n",
    "        #print(\"New User Identified\")\n",
    "        pass\n",
    "    else:\n",
    "        prediction = min(5, prediction)\n",
    "        prediction = max(0.5, prediction) # min rating is 0.5\n",
    "    return prediction"
   ]
  },
  {
   "cell_type": "code",
   "execution_count": 42,
   "id": "1e5f55c9",
   "metadata": {},
   "outputs": [],
   "source": [
    "train_predictions = []\n",
    "train_targets = []\n",
    "for (i, m), target in userrecipe2rating.items():\n",
    "    \n",
    "    # calculate the prediction for this recipe\n",
    "    prediction = predict(i, m)\n",
    "\n",
    "    # save the prediction and target\n",
    "    train_predictions.append(prediction)\n",
    "    train_targets.append(target)"
   ]
  },
  {
   "cell_type": "code",
   "execution_count": 43,
   "id": "8aade96d",
   "metadata": {},
   "outputs": [],
   "source": [
    "test_predictions = []\n",
    "test_targets = []\n",
    "# same thing for test set\n",
    "for (i, m), target in userrecipe2rating_test.items():\n",
    "    \n",
    "    # calculate the prediction for this recipe\n",
    "    prediction_test = predict(i, m)\n",
    "\n",
    "    # save the prediction and target\n",
    "    test_predictions.append(prediction_test)\n",
    "    test_targets.append(target)"
   ]
  },
  {
   "cell_type": "code",
   "execution_count": 44,
   "id": "a72f9549",
   "metadata": {},
   "outputs": [
    {
     "name": "stdout",
     "output_type": "stream",
     "text": [
      "train mse: 0.8652148447990182\n",
      "test mse: 0.8870792994234658\n",
      "train rmse: 0.9301692559953905\n",
      "test rmse: 0.9418488729214819\n"
     ]
    }
   ],
   "source": [
    "# calculate accuracy\n",
    "def mse(p, t):\n",
    "    \n",
    "    p = np.array(p)\n",
    "    t = np.array(t)\n",
    "    return np.mean((p - t)**2)\n",
    "\n",
    "def rmse(p, t):\n",
    "    \n",
    "    p = np.array(p)\n",
    "    t = np.array(t)\n",
    "    return np.sqrt(np.mean((p - t)**2))\n",
    "\n",
    "print('train mse:', mse(train_predictions, train_targets))\n",
    "print('test mse:', mse(test_predictions, test_targets))\n",
    "\n",
    "print('train rmse:', rmse(train_predictions, train_targets))\n",
    "print('test rmse:', rmse(test_predictions, test_targets))"
   ]
  },
  {
   "cell_type": "code",
   "execution_count": null,
   "id": "ab8ab1b3",
   "metadata": {},
   "outputs": [],
   "source": []
  }
 ],
 "metadata": {
  "kernelspec": {
   "display_name": "Python 3 (ipykernel)",
   "language": "python",
   "name": "python3"
  },
  "language_info": {
   "codemirror_mode": {
    "name": "ipython",
    "version": 3
   },
   "file_extension": ".py",
   "mimetype": "text/x-python",
   "name": "python",
   "nbconvert_exporter": "python",
   "pygments_lexer": "ipython3",
   "version": "3.9.12"
  }
 },
 "nbformat": 4,
 "nbformat_minor": 5
}
