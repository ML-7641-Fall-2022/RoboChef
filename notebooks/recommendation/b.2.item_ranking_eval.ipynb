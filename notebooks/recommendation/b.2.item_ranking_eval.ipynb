{
 "cells": [
  {
   "cell_type": "code",
   "execution_count": 61,
   "id": "eebcbf56",
   "metadata": {},
   "outputs": [
    {
     "name": "stdout",
     "output_type": "stream",
     "text": [
      "/Users/ashish1610dhiman/data_projects/fall22_hw/RoboChef/notebooks/recommendation\r\n"
     ]
    }
   ],
   "source": [
    "!pwd"
   ]
  },
  {
   "cell_type": "code",
   "execution_count": 147,
   "id": "9985cd4a",
   "metadata": {},
   "outputs": [],
   "source": [
    "from sklearn.manifold import TSNE\n",
    "\n",
    "%matplotlib inline\n",
    "import matplotlib.pyplot as plt\n",
    "from mpl_toolkits.mplot3d import Axes3D\n",
    "\n",
    "import seaborn as sns\n",
    "import pandas as pd\n",
    "import numpy as np\n",
    "from surprise import accuracy, Dataset, SVD,SVDpp, NMF\n",
    "from surprise import Dataset\n",
    "from surprise import Reader\n",
    "from surprise.model_selection import train_test_split as train_test_split_surprise\n",
    "from tqdm.notebook import tqdm\n",
    "\n",
    "import numpy as np\n",
    "from sklearn.metrics import ndcg_score"
   ]
  },
  {
   "cell_type": "code",
   "execution_count": 112,
   "id": "6b3fe6a7",
   "metadata": {},
   "outputs": [],
   "source": [
    "import sys\n",
    "from os.path import dirname\n",
    "sys.path.append(dirname(\"../../\"))\n",
    "\n",
    "from src.utilities import *\n",
    "from src.reccomendation_util import *"
   ]
  },
  {
   "cell_type": "code",
   "execution_count": 113,
   "id": "45db30e3",
   "metadata": {},
   "outputs": [
    {
     "name": "stdout",
     "output_type": "stream",
     "text": [
      "The autoreload extension is already loaded. To reload it, use:\n",
      "  %reload_ext autoreload\n"
     ]
    }
   ],
   "source": [
    "%load_ext autoreload\n",
    "%autoreload 2"
   ]
  },
  {
   "cell_type": "markdown",
   "id": "81dda44f",
   "metadata": {},
   "source": [
    "### Load DataSet"
   ]
  },
  {
   "cell_type": "code",
   "execution_count": 65,
   "id": "8819678a",
   "metadata": {},
   "outputs": [
    {
     "data": {
      "text/plain": [
       "(231637, 13)"
      ]
     },
     "execution_count": 65,
     "metadata": {},
     "output_type": "execute_result"
    }
   ],
   "source": [
    "recipe_metadata = pd.read_csv(\"../../data/recommendation/RAW_recipes.csv\")\n",
    "recipe_metadata.shape"
   ]
  },
  {
   "cell_type": "code",
   "execution_count": 66,
   "id": "ee61ed25",
   "metadata": {},
   "outputs": [
    {
     "data": {
      "text/plain": [
       "(1132367, 5)"
      ]
     },
     "execution_count": 66,
     "metadata": {},
     "output_type": "execute_result"
    }
   ],
   "source": [
    "raw_interactions = pd.read_csv(\"../../data/recommendation/RAW_interactions.csv\")\n",
    "raw_interactions.shape"
   ]
  },
  {
   "cell_type": "code",
   "execution_count": 67,
   "id": "6a7ee0e2",
   "metadata": {},
   "outputs": [
    {
     "data": {
      "text/plain": [
       "(244884, 5)"
      ]
     },
     "execution_count": 67,
     "metadata": {},
     "output_type": "execute_result"
    }
   ],
   "source": [
    "test_set = pd.read_csv(\"../../data/recommendation/ad_interaction_test.csv\")\n",
    "test_set.shape"
   ]
  },
  {
   "cell_type": "code",
   "execution_count": 68,
   "id": "6115665c",
   "metadata": {},
   "outputs": [
    {
     "data": {
      "text/plain": [
       "(872021, 5)"
      ]
     },
     "execution_count": 68,
     "metadata": {},
     "output_type": "execute_result"
    }
   ],
   "source": [
    "raw_subset= pd.read_csv(\"../../data/reccomendation_subset_data.csv\")\n",
    "raw_subset.shape"
   ]
  },
  {
   "cell_type": "markdown",
   "id": "cc1ee6b0",
   "metadata": {},
   "source": [
    "### Subset Test Data"
   ]
  },
  {
   "cell_type": "code",
   "execution_count": 70,
   "id": "0fb01a1a",
   "metadata": {},
   "outputs": [
    {
     "data": {
      "text/plain": [
       "(174103, 5)"
      ]
     },
     "execution_count": 70,
     "metadata": {},
     "output_type": "execute_result"
    }
   ],
   "source": [
    "test_subset = test_set[test_set[\"user_id\"].isin(set(raw_subset[\"user_id\"]))]\n",
    "test_subset.shape"
   ]
  },
  {
   "cell_type": "markdown",
   "id": "7d48a2c8",
   "metadata": {},
   "source": [
    "### Load Models"
   ]
  },
  {
   "cell_type": "code",
   "execution_count": 73,
   "id": "b27c369d",
   "metadata": {},
   "outputs": [],
   "source": [
    "model1 = load_pickle(\"../../models/reccomender_model1_svd.pkl\")\n",
    "model2 = load_pickle(\"../../models/reccomender_model2_nmf.pkl\")"
   ]
  },
  {
   "cell_type": "markdown",
   "id": "e3138e23",
   "metadata": {},
   "source": [
    "### get predictions for a user"
   ]
  },
  {
   "cell_type": "code",
   "execution_count": 80,
   "id": "8d5fe41f",
   "metadata": {},
   "outputs": [],
   "source": [
    "reader = Reader(rating_scale=(1, 5))"
   ]
  },
  {
   "cell_type": "code",
   "execution_count": 83,
   "id": "cc8c9a7a",
   "metadata": {},
   "outputs": [],
   "source": [
    "test_set_surprise_subset = Dataset.load_from_df(test_subset[[\"user_id\", \"recipe_id\", \"rating\"]], reader)\n",
    "_, test_set_surprise_subset = train_test_split_surprise(test_set_surprise_subset, test_size=1.0)"
   ]
  },
  {
   "cell_type": "code",
   "execution_count": 84,
   "id": "24330198",
   "metadata": {},
   "outputs": [],
   "source": [
    "predictions1_sub = model1.test(test_set_surprise_subset)\n",
    "predictions2_sub = model2.test(test_set_surprise_subset)"
   ]
  },
  {
   "cell_type": "markdown",
   "id": "270de085",
   "metadata": {},
   "source": [
    "### Create Prediction Ranking"
   ]
  },
  {
   "cell_type": "code",
   "execution_count": 133,
   "id": "d69438f2",
   "metadata": {},
   "outputs": [
    {
     "data": {
      "text/plain": [
       "(174103, 5)"
      ]
     },
     "execution_count": 133,
     "metadata": {},
     "output_type": "execute_result"
    }
   ],
   "source": [
    "prediction_df1 = pd.DataFrame(predictions1_sub)\n",
    "prediction_df1.shape"
   ]
  },
  {
   "cell_type": "code",
   "execution_count": 141,
   "id": "b589cd49",
   "metadata": {},
   "outputs": [
    {
     "data": {
      "text/plain": [
       "set()"
      ]
     },
     "execution_count": 141,
     "metadata": {},
     "output_type": "execute_result"
    }
   ],
   "source": [
    "set(test_subset[\"user_id\"])-set(prediction_df1[\"uid\"])"
   ]
  },
  {
   "cell_type": "code",
   "execution_count": 139,
   "id": "20eb38fa",
   "metadata": {},
   "outputs": [
    {
     "data": {
      "text/html": [
       "<div>\n",
       "<style scoped>\n",
       "    .dataframe tbody tr th:only-of-type {\n",
       "        vertical-align: middle;\n",
       "    }\n",
       "\n",
       "    .dataframe tbody tr th {\n",
       "        vertical-align: top;\n",
       "    }\n",
       "\n",
       "    .dataframe thead th {\n",
       "        text-align: right;\n",
       "    }\n",
       "</style>\n",
       "<table border=\"1\" class=\"dataframe\">\n",
       "  <thead>\n",
       "    <tr style=\"text-align: right;\">\n",
       "      <th></th>\n",
       "      <th>uid</th>\n",
       "      <th>iid</th>\n",
       "      <th>r_ui</th>\n",
       "      <th>est</th>\n",
       "      <th>details</th>\n",
       "    </tr>\n",
       "  </thead>\n",
       "  <tbody>\n",
       "    <tr>\n",
       "      <th>0</th>\n",
       "      <td>52282</td>\n",
       "      <td>13303</td>\n",
       "      <td>4.0</td>\n",
       "      <td>4.524859</td>\n",
       "      <td>{'was_impossible': False}</td>\n",
       "    </tr>\n",
       "    <tr>\n",
       "      <th>1</th>\n",
       "      <td>283251</td>\n",
       "      <td>117490</td>\n",
       "      <td>3.0</td>\n",
       "      <td>4.134002</td>\n",
       "      <td>{'was_impossible': False}</td>\n",
       "    </tr>\n",
       "    <tr>\n",
       "      <th>2</th>\n",
       "      <td>121185</td>\n",
       "      <td>157032</td>\n",
       "      <td>4.0</td>\n",
       "      <td>4.213591</td>\n",
       "      <td>{'was_impossible': False}</td>\n",
       "    </tr>\n",
       "    <tr>\n",
       "      <th>3</th>\n",
       "      <td>363393</td>\n",
       "      <td>66241</td>\n",
       "      <td>5.0</td>\n",
       "      <td>4.590136</td>\n",
       "      <td>{'was_impossible': False}</td>\n",
       "    </tr>\n",
       "    <tr>\n",
       "      <th>4</th>\n",
       "      <td>133174</td>\n",
       "      <td>55406</td>\n",
       "      <td>5.0</td>\n",
       "      <td>4.291369</td>\n",
       "      <td>{'was_impossible': False}</td>\n",
       "    </tr>\n",
       "    <tr>\n",
       "      <th>...</th>\n",
       "      <td>...</td>\n",
       "      <td>...</td>\n",
       "      <td>...</td>\n",
       "      <td>...</td>\n",
       "      <td>...</td>\n",
       "    </tr>\n",
       "    <tr>\n",
       "      <th>174098</th>\n",
       "      <td>194829</td>\n",
       "      <td>38325</td>\n",
       "      <td>5.0</td>\n",
       "      <td>4.640050</td>\n",
       "      <td>{'was_impossible': False}</td>\n",
       "    </tr>\n",
       "    <tr>\n",
       "      <th>174099</th>\n",
       "      <td>95743</td>\n",
       "      <td>47454</td>\n",
       "      <td>5.0</td>\n",
       "      <td>4.195931</td>\n",
       "      <td>{'was_impossible': False}</td>\n",
       "    </tr>\n",
       "    <tr>\n",
       "      <th>174100</th>\n",
       "      <td>626447</td>\n",
       "      <td>107760</td>\n",
       "      <td>5.0</td>\n",
       "      <td>4.246153</td>\n",
       "      <td>{'was_impossible': False}</td>\n",
       "    </tr>\n",
       "    <tr>\n",
       "      <th>174101</th>\n",
       "      <td>1537420</td>\n",
       "      <td>108364</td>\n",
       "      <td>5.0</td>\n",
       "      <td>4.606777</td>\n",
       "      <td>{'was_impossible': False}</td>\n",
       "    </tr>\n",
       "    <tr>\n",
       "      <th>174102</th>\n",
       "      <td>308434</td>\n",
       "      <td>166382</td>\n",
       "      <td>5.0</td>\n",
       "      <td>4.705230</td>\n",
       "      <td>{'was_impossible': False}</td>\n",
       "    </tr>\n",
       "  </tbody>\n",
       "</table>\n",
       "<p>174103 rows × 5 columns</p>\n",
       "</div>"
      ],
      "text/plain": [
       "            uid     iid  r_ui       est                    details\n",
       "0         52282   13303   4.0  4.524859  {'was_impossible': False}\n",
       "1        283251  117490   3.0  4.134002  {'was_impossible': False}\n",
       "2        121185  157032   4.0  4.213591  {'was_impossible': False}\n",
       "3        363393   66241   5.0  4.590136  {'was_impossible': False}\n",
       "4        133174   55406   5.0  4.291369  {'was_impossible': False}\n",
       "...         ...     ...   ...       ...                        ...\n",
       "174098   194829   38325   5.0  4.640050  {'was_impossible': False}\n",
       "174099    95743   47454   5.0  4.195931  {'was_impossible': False}\n",
       "174100   626447  107760   5.0  4.246153  {'was_impossible': False}\n",
       "174101  1537420  108364   5.0  4.606777  {'was_impossible': False}\n",
       "174102   308434  166382   5.0  4.705230  {'was_impossible': False}\n",
       "\n",
       "[174103 rows x 5 columns]"
      ]
     },
     "execution_count": 139,
     "metadata": {},
     "output_type": "execute_result"
    }
   ],
   "source": [
    "prediction_df1"
   ]
  },
  {
   "cell_type": "code",
   "execution_count": 248,
   "id": "8f428cff",
   "metadata": {},
   "outputs": [
    {
     "data": {
      "text/plain": [
       "(174103, 5)"
      ]
     },
     "execution_count": 248,
     "metadata": {},
     "output_type": "execute_result"
    }
   ],
   "source": [
    "prediction_df2 = pd.DataFrame(predictions2_sub)\n",
    "prediction_df2.shape"
   ]
  },
  {
   "cell_type": "code",
   "execution_count": 249,
   "id": "b0f2e4d5",
   "metadata": {},
   "outputs": [
    {
     "data": {
      "text/plain": [
       "(20049, 3)"
      ]
     },
     "execution_count": 249,
     "metadata": {},
     "output_type": "execute_result"
    }
   ],
   "source": [
    "df_rank1 = get_prediction_ranking(prediction_df1)\n",
    "df_rank1.shape"
   ]
  },
  {
   "cell_type": "code",
   "execution_count": 250,
   "id": "0fc7f91a",
   "metadata": {},
   "outputs": [
    {
     "data": {
      "text/plain": [
       "(20049, 3)"
      ]
     },
     "execution_count": 250,
     "metadata": {},
     "output_type": "execute_result"
    }
   ],
   "source": [
    "df_rank2 = get_prediction_ranking(prediction_df2)\n",
    "df_rank2.shape"
   ]
  },
  {
   "cell_type": "code",
   "execution_count": 251,
   "id": "ef8ca0df",
   "metadata": {},
   "outputs": [
    {
     "data": {
      "text/html": [
       "<div>\n",
       "<style scoped>\n",
       "    .dataframe tbody tr th:only-of-type {\n",
       "        vertical-align: middle;\n",
       "    }\n",
       "\n",
       "    .dataframe tbody tr th {\n",
       "        vertical-align: top;\n",
       "    }\n",
       "\n",
       "    .dataframe thead th {\n",
       "        text-align: right;\n",
       "    }\n",
       "</style>\n",
       "<table border=\"1\" class=\"dataframe\">\n",
       "  <thead>\n",
       "    <tr style=\"text-align: right;\">\n",
       "      <th></th>\n",
       "      <th>uid</th>\n",
       "      <th>iid</th>\n",
       "      <th>est</th>\n",
       "    </tr>\n",
       "  </thead>\n",
       "  <tbody>\n",
       "    <tr>\n",
       "      <th>0</th>\n",
       "      <td>1533</td>\n",
       "      <td>[57283, 54632, 30979, 10554, 86007, 41707, 755...</td>\n",
       "      <td>[5.0, 5.0, 5.0, 5.0, 5.0, 5.0, 5.0, 5.0, 5.0, ...</td>\n",
       "    </tr>\n",
       "    <tr>\n",
       "      <th>1</th>\n",
       "      <td>1535</td>\n",
       "      <td>[162765, 122289, 378543, 198942, 80975, 99752,...</td>\n",
       "      <td>[5.0, 5.0, 5.0, 5.0, 5.0, 5.0, 5.0, 5.0, 5.0, ...</td>\n",
       "    </tr>\n",
       "    <tr>\n",
       "      <th>2</th>\n",
       "      <td>1634</td>\n",
       "      <td>[82625, 361216, 44432, 26212, 9115, 28816, 127...</td>\n",
       "      <td>[5.0, 5.0, 5.0, 5.0, 5.0, 5.0, 5.0, 5.0, 5.0, ...</td>\n",
       "    </tr>\n",
       "    <tr>\n",
       "      <th>3</th>\n",
       "      <td>1676</td>\n",
       "      <td>[7913, 99156, 825, 36561, 204082, 179836, 3423...</td>\n",
       "      <td>[5.0, 5.0, 5.0, 5.0, 5.0, 5.0, 5.0, 5.0, 4.415...</td>\n",
       "    </tr>\n",
       "    <tr>\n",
       "      <th>4</th>\n",
       "      <td>1792</td>\n",
       "      <td>[87440, 32844, 111459, 91105, 87544, 405535, 8...</td>\n",
       "      <td>[5.0, 5.0, 5.0, 5.0, 5.0, 5.0, 5.0, 5.0, 5.0, ...</td>\n",
       "    </tr>\n",
       "  </tbody>\n",
       "</table>\n",
       "</div>"
      ],
      "text/plain": [
       "    uid                                                iid  \\\n",
       "0  1533  [57283, 54632, 30979, 10554, 86007, 41707, 755...   \n",
       "1  1535  [162765, 122289, 378543, 198942, 80975, 99752,...   \n",
       "2  1634  [82625, 361216, 44432, 26212, 9115, 28816, 127...   \n",
       "3  1676  [7913, 99156, 825, 36561, 204082, 179836, 3423...   \n",
       "4  1792  [87440, 32844, 111459, 91105, 87544, 405535, 8...   \n",
       "\n",
       "                                                 est  \n",
       "0  [5.0, 5.0, 5.0, 5.0, 5.0, 5.0, 5.0, 5.0, 5.0, ...  \n",
       "1  [5.0, 5.0, 5.0, 5.0, 5.0, 5.0, 5.0, 5.0, 5.0, ...  \n",
       "2  [5.0, 5.0, 5.0, 5.0, 5.0, 5.0, 5.0, 5.0, 5.0, ...  \n",
       "3  [5.0, 5.0, 5.0, 5.0, 5.0, 5.0, 5.0, 5.0, 4.415...  \n",
       "4  [5.0, 5.0, 5.0, 5.0, 5.0, 5.0, 5.0, 5.0, 5.0, ...  "
      ]
     },
     "execution_count": 251,
     "metadata": {},
     "output_type": "execute_result"
    }
   ],
   "source": [
    "df_rank2.head()"
   ]
  },
  {
   "cell_type": "markdown",
   "id": "77b337aa",
   "metadata": {},
   "source": [
    "### Create True Ranking "
   ]
  },
  {
   "cell_type": "code",
   "execution_count": 172,
   "id": "57ea2a10",
   "metadata": {},
   "outputs": [
    {
     "data": {
      "text/html": [
       "<div>\n",
       "<style scoped>\n",
       "    .dataframe tbody tr th:only-of-type {\n",
       "        vertical-align: middle;\n",
       "    }\n",
       "\n",
       "    .dataframe tbody tr th {\n",
       "        vertical-align: top;\n",
       "    }\n",
       "\n",
       "    .dataframe thead th {\n",
       "        text-align: right;\n",
       "    }\n",
       "</style>\n",
       "<table border=\"1\" class=\"dataframe\">\n",
       "  <thead>\n",
       "    <tr style=\"text-align: right;\">\n",
       "      <th></th>\n",
       "      <th>0</th>\n",
       "    </tr>\n",
       "  </thead>\n",
       "  <tbody>\n",
       "    <tr>\n",
       "      <th>2059</th>\n",
       "      <td>[59135, 41707, 57549, 57283, 23891, 17854, 833...</td>\n",
       "    </tr>\n",
       "  </tbody>\n",
       "</table>\n",
       "</div>"
      ],
      "text/plain": [
       "                                                      0\n",
       "2059  [59135, 41707, 57549, 57283, 23891, 17854, 833..."
      ]
     },
     "execution_count": 172,
     "metadata": {},
     "output_type": "execute_result"
    }
   ],
   "source": [
    "pd.DataFrame.from_dict({user:[get_true_ranking_user(test_subset, raw_subset, recipe_metadata, 1533)]},\\\n",
    "                      orient = \"index\")"
   ]
  },
  {
   "cell_type": "code",
   "execution_count": 175,
   "id": "a503282c",
   "metadata": {},
   "outputs": [
    {
     "data": {
      "text/html": [
       "<div>\n",
       "<style scoped>\n",
       "    .dataframe tbody tr th:only-of-type {\n",
       "        vertical-align: middle;\n",
       "    }\n",
       "\n",
       "    .dataframe tbody tr th {\n",
       "        vertical-align: top;\n",
       "    }\n",
       "\n",
       "    .dataframe thead th {\n",
       "        text-align: right;\n",
       "    }\n",
       "</style>\n",
       "<table border=\"1\" class=\"dataframe\">\n",
       "  <thead>\n",
       "    <tr style=\"text-align: right;\">\n",
       "      <th></th>\n",
       "      <th>0</th>\n",
       "    </tr>\n",
       "  </thead>\n",
       "  <tbody>\n",
       "    <tr>\n",
       "      <th>2148</th>\n",
       "      <td>[59135, 41707, 57549, 57283, 23891, 17854, 833...</td>\n",
       "    </tr>\n",
       "  </tbody>\n",
       "</table>\n",
       "</div>"
      ],
      "text/plain": [
       "                                                      0\n",
       "2148  [59135, 41707, 57549, 57283, 23891, 17854, 833..."
      ]
     },
     "execution_count": 175,
     "metadata": {},
     "output_type": "execute_result"
    }
   ],
   "source": [
    "rank_i"
   ]
  },
  {
   "cell_type": "code",
   "execution_count": 183,
   "id": "60192367",
   "metadata": {},
   "outputs": [
    {
     "data": {
      "application/vnd.jupyter.widget-view+json": {
       "model_id": "f817802198cb483aa903c65e7d42705b",
       "version_major": 2,
       "version_minor": 0
      },
      "text/plain": [
       "  0%|          | 0/20049 [00:00<?, ?it/s]"
      ]
     },
     "metadata": {},
     "output_type": "display_data"
    }
   ],
   "source": [
    "true_rank_df = pd.DataFrame()\n",
    "for user in tqdm(df_rank2[\"uid\"].unique()):\n",
    "    rank_i = pd.DataFrame.from_dict({user:[get_true_ranking_user(test_subset,\\\n",
    "                                                                 raw_subset, recipe_metadata, user)]\\\n",
    "                                    },orient = \"index\")\n",
    "    true_rank_df = pd.concat([true_rank_df,rank_i])"
   ]
  },
  {
   "cell_type": "code",
   "execution_count": 186,
   "id": "5f73d77c",
   "metadata": {},
   "outputs": [],
   "source": [
    "true_rank_df = true_rank_df.reset_index()\n",
    "true_rank_df.columns = [\"user_id\",\"ranked_recipe_list\"]"
   ]
  },
  {
   "cell_type": "code",
   "execution_count": 187,
   "id": "c6d9ea8b",
   "metadata": {},
   "outputs": [
    {
     "data": {
      "text/html": [
       "<div>\n",
       "<style scoped>\n",
       "    .dataframe tbody tr th:only-of-type {\n",
       "        vertical-align: middle;\n",
       "    }\n",
       "\n",
       "    .dataframe tbody tr th {\n",
       "        vertical-align: top;\n",
       "    }\n",
       "\n",
       "    .dataframe thead th {\n",
       "        text-align: right;\n",
       "    }\n",
       "</style>\n",
       "<table border=\"1\" class=\"dataframe\">\n",
       "  <thead>\n",
       "    <tr style=\"text-align: right;\">\n",
       "      <th></th>\n",
       "      <th>user_id</th>\n",
       "      <th>ranked_recipe_list</th>\n",
       "    </tr>\n",
       "  </thead>\n",
       "  <tbody>\n",
       "    <tr>\n",
       "      <th>0</th>\n",
       "      <td>1533</td>\n",
       "      <td>[59135, 41707, 57549, 57283, 23891, 17854, 833...</td>\n",
       "    </tr>\n",
       "    <tr>\n",
       "      <th>1</th>\n",
       "      <td>1535</td>\n",
       "      <td>[834, 112614, 119660, 33501, 74394, 26370, 713...</td>\n",
       "    </tr>\n",
       "    <tr>\n",
       "      <th>2</th>\n",
       "      <td>1634</td>\n",
       "      <td>[9115, 44432, 26212, 16193, 8709, 361216, 2881...</td>\n",
       "    </tr>\n",
       "    <tr>\n",
       "      <th>3</th>\n",
       "      <td>1676</td>\n",
       "      <td>[204082, 4022, 34233, 136683, 126128, 36561, 1...</td>\n",
       "    </tr>\n",
       "    <tr>\n",
       "      <th>4</th>\n",
       "      <td>1792</td>\n",
       "      <td>[32844, 405535, 88836, 91105, 31020, 111459, 8...</td>\n",
       "    </tr>\n",
       "  </tbody>\n",
       "</table>\n",
       "</div>"
      ],
      "text/plain": [
       "   user_id                                 ranked_recipe_list\n",
       "0     1533  [59135, 41707, 57549, 57283, 23891, 17854, 833...\n",
       "1     1535  [834, 112614, 119660, 33501, 74394, 26370, 713...\n",
       "2     1634  [9115, 44432, 26212, 16193, 8709, 361216, 2881...\n",
       "3     1676  [204082, 4022, 34233, 136683, 126128, 36561, 1...\n",
       "4     1792  [32844, 405535, 88836, 91105, 31020, 111459, 8..."
      ]
     },
     "execution_count": 187,
     "metadata": {},
     "output_type": "execute_result"
    }
   ],
   "source": [
    "true_rank_df.head()"
   ]
  },
  {
   "cell_type": "code",
   "execution_count": 189,
   "id": "6ad6d531",
   "metadata": {},
   "outputs": [],
   "source": [
    "true_rank_df.to_csv(\"../../data/true_ranking_test_data.csv\",index=False)"
   ]
  },
  {
   "cell_type": "markdown",
   "id": "1e9746cd",
   "metadata": {},
   "source": [
    "### Ranking for reccomendation"
   ]
  },
  {
   "cell_type": "code",
   "execution_count": 154,
   "id": "d34c8a3d",
   "metadata": {},
   "outputs": [],
   "source": [
    "a = get_true_ranking_user(test_subset, raw_subset, recipe_metadata, 1533)"
   ]
  },
  {
   "cell_type": "code",
   "execution_count": 155,
   "id": "346c79d2",
   "metadata": {},
   "outputs": [],
   "source": [
    "b = df_rank2[\"iid\"][0]"
   ]
  },
  {
   "cell_type": "code",
   "execution_count": 156,
   "id": "dd79c74a",
   "metadata": {},
   "outputs": [
    {
     "data": {
      "text/plain": [
       "set()"
      ]
     },
     "execution_count": 156,
     "metadata": {},
     "output_type": "execute_result"
    }
   ],
   "source": [
    "set(a)-set(b)"
   ]
  },
  {
   "cell_type": "code",
   "execution_count": 158,
   "id": "075718b2",
   "metadata": {},
   "outputs": [
    {
     "name": "stdout",
     "output_type": "stream",
     "text": [
      "[7, 6, 1, 10, 9, 22, 20, 5, 14, 25, 8, 11, 26, 18, 16, 19, 3, 21, 24, 27, 15, 4, 2, 23, 12, 13, 28, 17]\n"
     ]
    }
   ],
   "source": [
    "rank_order= [b.index(true_item)+1 for true_item in a]\n",
    "print(rank_order)"
   ]
  },
  {
   "cell_type": "code",
   "execution_count": 164,
   "id": "7e0d903a",
   "metadata": {},
   "outputs": [
    {
     "data": {
      "text/plain": [
       "0.9074661552623133"
      ]
     },
     "execution_count": 164,
     "metadata": {},
     "output_type": "execute_result"
    }
   ],
   "source": [
    "ndcg_score(np.asarray([list(range(1,len(a)+1))]),y_score = np.asarray([rank_order]))"
   ]
  },
  {
   "cell_type": "code",
   "execution_count": 165,
   "id": "bf5e93c4",
   "metadata": {},
   "outputs": [
    {
     "data": {
      "text/plain": [
       "0.7440817272876236"
      ]
     },
     "execution_count": 165,
     "metadata": {},
     "output_type": "execute_result"
    }
   ],
   "source": [
    "ndcg_score(np.asarray([list(range(1,len(a)+1))]),y_score = np.asarray([rank_order[::-1]]))"
   ]
  },
  {
   "cell_type": "markdown",
   "id": "fc63214f",
   "metadata": {},
   "source": [
    "### evaluation of Reccomendation on Test Set\n",
    "1. NDCG,NDCG @ k\n",
    "2. MAP @ k"
   ]
  },
  {
   "cell_type": "code",
   "execution_count": 252,
   "id": "1fc6e9f9",
   "metadata": {},
   "outputs": [],
   "source": [
    "def get_ndcg(a,b,k=-1):\n",
    "    true_rank = list(range(1,len(a)+1))\n",
    "    pred_rank = [b.index(true_item)+1 for true_item in a]\n",
    "    if len(a)==1 and len(set(a)-set(b))==0:\n",
    "        return 1\n",
    "    if k>0:\n",
    "        return ndcg_score(np.asarray([true_rank]),y_score = np.asarray([pred_rank]), k = k)\n",
    "    else:\n",
    "        return ndcg_score(np.asarray([true_rank]),y_score = np.asarray([pred_rank]))"
   ]
  },
  {
   "cell_type": "code",
   "execution_count": 253,
   "id": "9056ae37",
   "metadata": {},
   "outputs": [
    {
     "data": {
      "text/plain": [
       "(0.9074661552623133, 0.7398919830029868)"
      ]
     },
     "execution_count": 253,
     "metadata": {},
     "output_type": "execute_result"
    }
   ],
   "source": [
    "get_ndcg(a,b), get_ndcg(a,b,5)"
   ]
  },
  {
   "cell_type": "code",
   "execution_count": 254,
   "id": "126afd86",
   "metadata": {},
   "outputs": [
    {
     "data": {
      "text/plain": [
       "((20049, 3), (20049, 2))"
      ]
     },
     "execution_count": 254,
     "metadata": {},
     "output_type": "execute_result"
    }
   ],
   "source": [
    "df_rank2.shape,true_rank_df.shape"
   ]
  },
  {
   "cell_type": "code",
   "execution_count": 255,
   "id": "2ef9e9ba",
   "metadata": {},
   "outputs": [
    {
     "data": {
      "text/plain": [
       "((20049, 5), (20049, 5))"
      ]
     },
     "execution_count": 255,
     "metadata": {},
     "output_type": "execute_result"
    }
   ],
   "source": [
    "rank_merged1 = df_rank1.merge(true_rank_df,left_on=\"uid\",right_on=\"user_id\")\n",
    "rank_merged2 = df_rank2.merge(true_rank_df,left_on=\"uid\",right_on=\"user_id\")\n",
    "rank_merged1.shape,rank_merged2.shape"
   ]
  },
  {
   "cell_type": "code",
   "execution_count": 256,
   "id": "80f17fed",
   "metadata": {},
   "outputs": [
    {
     "data": {
      "text/html": [
       "<div>\n",
       "<style scoped>\n",
       "    .dataframe tbody tr th:only-of-type {\n",
       "        vertical-align: middle;\n",
       "    }\n",
       "\n",
       "    .dataframe tbody tr th {\n",
       "        vertical-align: top;\n",
       "    }\n",
       "\n",
       "    .dataframe thead th {\n",
       "        text-align: right;\n",
       "    }\n",
       "</style>\n",
       "<table border=\"1\" class=\"dataframe\">\n",
       "  <thead>\n",
       "    <tr style=\"text-align: right;\">\n",
       "      <th></th>\n",
       "      <th>uid</th>\n",
       "      <th>iid</th>\n",
       "      <th>est</th>\n",
       "      <th>user_id</th>\n",
       "      <th>ranked_recipe_list</th>\n",
       "    </tr>\n",
       "  </thead>\n",
       "  <tbody>\n",
       "    <tr>\n",
       "      <th>0</th>\n",
       "      <td>1533</td>\n",
       "      <td>[57549, 44459, 31048, 10554, 8857, 41707, 5913...</td>\n",
       "      <td>[4.984623436267778, 4.979205256134577, 4.90942...</td>\n",
       "      <td>1533</td>\n",
       "      <td>[59135, 41707, 57549, 57283, 23891, 17854, 833...</td>\n",
       "    </tr>\n",
       "    <tr>\n",
       "      <th>1</th>\n",
       "      <td>1535</td>\n",
       "      <td>[79278, 307072, 155496, 384168, 5483, 69914, 2...</td>\n",
       "      <td>[4.887660730957626, 4.869646919374931, 4.85833...</td>\n",
       "      <td>1535</td>\n",
       "      <td>[834, 112614, 119660, 33501, 74394, 26370, 713...</td>\n",
       "    </tr>\n",
       "    <tr>\n",
       "      <th>2</th>\n",
       "      <td>1634</td>\n",
       "      <td>[132011, 11641, 28851, 44432, 9115, 12713, 120...</td>\n",
       "      <td>[3.830791080322248, 3.8093206066643965, 3.8043...</td>\n",
       "      <td>1634</td>\n",
       "      <td>[9115, 44432, 26212, 16193, 8709, 361216, 2881...</td>\n",
       "    </tr>\n",
       "    <tr>\n",
       "      <th>3</th>\n",
       "      <td>1676</td>\n",
       "      <td>[126128, 825, 34233, 7913, 99156, 165679, 4022...</td>\n",
       "      <td>[4.914768923312829, 4.8161532228860695, 4.7314...</td>\n",
       "      <td>1676</td>\n",
       "      <td>[204082, 4022, 34233, 136683, 126128, 36561, 1...</td>\n",
       "    </tr>\n",
       "    <tr>\n",
       "      <th>4</th>\n",
       "      <td>1792</td>\n",
       "      <td>[87440, 88836, 88497, 91105, 111459, 32844, 89...</td>\n",
       "      <td>[5.0, 4.796666814631808, 4.604151827864249, 4....</td>\n",
       "      <td>1792</td>\n",
       "      <td>[32844, 405535, 88836, 91105, 31020, 111459, 8...</td>\n",
       "    </tr>\n",
       "  </tbody>\n",
       "</table>\n",
       "</div>"
      ],
      "text/plain": [
       "    uid                                                iid  \\\n",
       "0  1533  [57549, 44459, 31048, 10554, 8857, 41707, 5913...   \n",
       "1  1535  [79278, 307072, 155496, 384168, 5483, 69914, 2...   \n",
       "2  1634  [132011, 11641, 28851, 44432, 9115, 12713, 120...   \n",
       "3  1676  [126128, 825, 34233, 7913, 99156, 165679, 4022...   \n",
       "4  1792  [87440, 88836, 88497, 91105, 111459, 32844, 89...   \n",
       "\n",
       "                                                 est  user_id  \\\n",
       "0  [4.984623436267778, 4.979205256134577, 4.90942...     1533   \n",
       "1  [4.887660730957626, 4.869646919374931, 4.85833...     1535   \n",
       "2  [3.830791080322248, 3.8093206066643965, 3.8043...     1634   \n",
       "3  [4.914768923312829, 4.8161532228860695, 4.7314...     1676   \n",
       "4  [5.0, 4.796666814631808, 4.604151827864249, 4....     1792   \n",
       "\n",
       "                                  ranked_recipe_list  \n",
       "0  [59135, 41707, 57549, 57283, 23891, 17854, 833...  \n",
       "1  [834, 112614, 119660, 33501, 74394, 26370, 713...  \n",
       "2  [9115, 44432, 26212, 16193, 8709, 361216, 2881...  \n",
       "3  [204082, 4022, 34233, 136683, 126128, 36561, 1...  \n",
       "4  [32844, 405535, 88836, 91105, 31020, 111459, 8...  "
      ]
     },
     "execution_count": 256,
     "metadata": {},
     "output_type": "execute_result"
    }
   ],
   "source": [
    "rank_merged1.head()"
   ]
  },
  {
   "cell_type": "code",
   "execution_count": 257,
   "id": "faae26f5",
   "metadata": {},
   "outputs": [],
   "source": [
    "rank_merged1[\"ndcg_overall\"] = rank_merged1.apply(lambda row:\\\n",
    "                                                  get_ndcg(row.ranked_recipe_list,row.iid, k),axis=1)\n",
    "\n",
    "rank_merged2[\"ndcg_overall\"] = rank_merged2.apply(lambda row:\\\n",
    "                                                  get_ndcg(row.ranked_recipe_list,row.iid),axis=1)"
   ]
  },
  {
   "cell_type": "code",
   "execution_count": 258,
   "id": "4b704a16",
   "metadata": {},
   "outputs": [
    {
     "data": {
      "text/html": [
       "<div>\n",
       "<style scoped>\n",
       "    .dataframe tbody tr th:only-of-type {\n",
       "        vertical-align: middle;\n",
       "    }\n",
       "\n",
       "    .dataframe tbody tr th {\n",
       "        vertical-align: top;\n",
       "    }\n",
       "\n",
       "    .dataframe thead th {\n",
       "        text-align: right;\n",
       "    }\n",
       "</style>\n",
       "<table border=\"1\" class=\"dataframe\">\n",
       "  <thead>\n",
       "    <tr style=\"text-align: right;\">\n",
       "      <th></th>\n",
       "      <th>ndcg_overall</th>\n",
       "    </tr>\n",
       "  </thead>\n",
       "  <tbody>\n",
       "    <tr>\n",
       "      <th>count</th>\n",
       "      <td>20049.000000</td>\n",
       "    </tr>\n",
       "    <tr>\n",
       "      <th>mean</th>\n",
       "      <td>0.915253</td>\n",
       "    </tr>\n",
       "    <tr>\n",
       "      <th>std</th>\n",
       "      <td>0.083943</td>\n",
       "    </tr>\n",
       "    <tr>\n",
       "      <th>min</th>\n",
       "      <td>0.687158</td>\n",
       "    </tr>\n",
       "    <tr>\n",
       "      <th>25%</th>\n",
       "      <td>0.859719</td>\n",
       "    </tr>\n",
       "    <tr>\n",
       "      <th>50%</th>\n",
       "      <td>0.922495</td>\n",
       "    </tr>\n",
       "    <tr>\n",
       "      <th>75%</th>\n",
       "      <td>1.000000</td>\n",
       "    </tr>\n",
       "    <tr>\n",
       "      <th>max</th>\n",
       "      <td>1.000000</td>\n",
       "    </tr>\n",
       "  </tbody>\n",
       "</table>\n",
       "</div>"
      ],
      "text/plain": [
       "       ndcg_overall\n",
       "count  20049.000000\n",
       "mean       0.915253\n",
       "std        0.083943\n",
       "min        0.687158\n",
       "25%        0.859719\n",
       "50%        0.922495\n",
       "75%        1.000000\n",
       "max        1.000000"
      ]
     },
     "execution_count": 258,
     "metadata": {},
     "output_type": "execute_result"
    }
   ],
   "source": [
    "rank_merged1[[\"ndcg_overall\"]].describe()"
   ]
  },
  {
   "cell_type": "code",
   "execution_count": 259,
   "id": "19064e88",
   "metadata": {},
   "outputs": [
    {
     "data": {
      "text/html": [
       "<div>\n",
       "<style scoped>\n",
       "    .dataframe tbody tr th:only-of-type {\n",
       "        vertical-align: middle;\n",
       "    }\n",
       "\n",
       "    .dataframe tbody tr th {\n",
       "        vertical-align: top;\n",
       "    }\n",
       "\n",
       "    .dataframe thead th {\n",
       "        text-align: right;\n",
       "    }\n",
       "</style>\n",
       "<table border=\"1\" class=\"dataframe\">\n",
       "  <thead>\n",
       "    <tr style=\"text-align: right;\">\n",
       "      <th></th>\n",
       "      <th>ndcg_overall</th>\n",
       "    </tr>\n",
       "  </thead>\n",
       "  <tbody>\n",
       "    <tr>\n",
       "      <th>count</th>\n",
       "      <td>20049.000000</td>\n",
       "    </tr>\n",
       "    <tr>\n",
       "      <th>mean</th>\n",
       "      <td>0.915288</td>\n",
       "    </tr>\n",
       "    <tr>\n",
       "      <th>std</th>\n",
       "      <td>0.083897</td>\n",
       "    </tr>\n",
       "    <tr>\n",
       "      <th>min</th>\n",
       "      <td>0.671807</td>\n",
       "    </tr>\n",
       "    <tr>\n",
       "      <th>25%</th>\n",
       "      <td>0.859719</td>\n",
       "    </tr>\n",
       "    <tr>\n",
       "      <th>50%</th>\n",
       "      <td>0.922495</td>\n",
       "    </tr>\n",
       "    <tr>\n",
       "      <th>75%</th>\n",
       "      <td>1.000000</td>\n",
       "    </tr>\n",
       "    <tr>\n",
       "      <th>max</th>\n",
       "      <td>1.000000</td>\n",
       "    </tr>\n",
       "  </tbody>\n",
       "</table>\n",
       "</div>"
      ],
      "text/plain": [
       "       ndcg_overall\n",
       "count  20049.000000\n",
       "mean       0.915288\n",
       "std        0.083897\n",
       "min        0.671807\n",
       "25%        0.859719\n",
       "50%        0.922495\n",
       "75%        1.000000\n",
       "max        1.000000"
      ]
     },
     "execution_count": 259,
     "metadata": {},
     "output_type": "execute_result"
    }
   ],
   "source": [
    "rank_merged2[[\"ndcg_overall\"]].describe()"
   ]
  }
 ],
 "metadata": {
  "kernelspec": {
   "display_name": "Python 3 (ipykernel)",
   "language": "python",
   "name": "python3"
  },
  "language_info": {
   "codemirror_mode": {
    "name": "ipython",
    "version": 3
   },
   "file_extension": ".py",
   "mimetype": "text/x-python",
   "name": "python",
   "nbconvert_exporter": "python",
   "pygments_lexer": "ipython3",
   "version": "3.9.13"
  }
 },
 "nbformat": 4,
 "nbformat_minor": 5
}
