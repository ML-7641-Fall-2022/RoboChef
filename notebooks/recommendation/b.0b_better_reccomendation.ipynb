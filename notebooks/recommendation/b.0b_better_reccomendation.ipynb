{
 "cells": [
  {
   "cell_type": "code",
   "execution_count": 1,
   "id": "7967fe8f",
   "metadata": {},
   "outputs": [
    {
     "name": "stdout",
     "output_type": "stream",
     "text": [
      "/Users/ashish1610dhiman/data_projects/fall22_hw/RoboChef/notebooks/recommendation\r\n"
     ]
    }
   ],
   "source": [
    "!pwd"
   ]
  },
  {
   "cell_type": "code",
   "execution_count": 2,
   "id": "d9560f99",
   "metadata": {},
   "outputs": [],
   "source": [
    "import pandas as pd\n",
    "from surprise import Dataset\n",
    "from surprise import Reader\n",
    "\n",
    "from surprise import accuracy, Dataset, SVD,SVDpp, NMF \n",
    "from surprise.model_selection import train_test_split as train_test_split_surprise\n",
    "from surprise.model_selection import cross_validate, GridSearchCV\n",
    "from sklearn.model_selection import train_test_split\n",
    "from tqdm.notebook import tqdm\n",
    "\n",
    "import numpy as np\n"
   ]
  },
  {
   "cell_type": "code",
   "execution_count": 3,
   "id": "63baebc9",
   "metadata": {},
   "outputs": [],
   "source": [
    "TRAIN__Validation_SIZE = 0.8\n",
    "TEST_SIZE = 0.2"
   ]
  },
  {
   "cell_type": "markdown",
   "id": "04b4bdc9",
   "metadata": {},
   "source": [
    "### Read the Train and Test"
   ]
  },
  {
   "cell_type": "code",
   "execution_count": 4,
   "id": "65092394",
   "metadata": {},
   "outputs": [
    {
     "data": {
      "text/plain": [
       "((887483, 5), (244884, 5))"
      ]
     },
     "execution_count": 4,
     "metadata": {},
     "output_type": "execute_result"
    }
   ],
   "source": [
    "train_validation = pd.read_csv(\"../../data/recommendation/ad_interaction_train.csv\")\n",
    "test_set = pd.read_csv(\"../../data/recommendation/ad_interaction_test.csv\")\n",
    "train_validation.shape,test_set.shape"
   ]
  },
  {
   "cell_type": "markdown",
   "id": "7347c1c5",
   "metadata": {},
   "source": [
    "### Cross validate on multiple Model types"
   ]
  },
  {
   "cell_type": "code",
   "execution_count": 5,
   "id": "29a63754",
   "metadata": {},
   "outputs": [],
   "source": [
    "reader = Reader(rating_scale=(1, 5))\n",
    "cv_data = Dataset.load_from_df(train_validation[[\"user_id\",\\\n",
    "                                                 \"recipe_id\", \"rating\"]], reader)"
   ]
  },
  {
   "cell_type": "code",
   "execution_count": 6,
   "id": "27f3bc0e",
   "metadata": {},
   "outputs": [],
   "source": [
    "param_grid = {\"n_factors\":[5, 25] ,\"n_epochs\": [20, 250], \"lr_all\": [0.001, 0.006],\\\n",
    "             \"reg_all\":[0.01,0.08]}\n",
    "param_grid2 = {\"n_factors\":[5, 25] ,\"n_epochs\": [2, 20], \"reg_pu\":[0.01,0.1], \"reg_qi\":[0.01,0.1]}"
   ]
  },
  {
   "cell_type": "markdown",
   "id": "090f4649",
   "metadata": {},
   "source": [
    "#### SVD, SVDpp, NMF"
   ]
  },
  {
   "cell_type": "code",
   "execution_count": 7,
   "id": "a703976b",
   "metadata": {},
   "outputs": [],
   "source": [
    "gs_svd = GridSearchCV(SVD, param_grid, measures=[\"rmse\", \"mae\"], cv=5, n_jobs = -2, joblib_verbose=3)\n",
    "# gs_svdpp = GridSearchCV(SVDpp, param_grid, measures=[\"rmse\", \"mae\"], cv=5, n_jobs = -2, joblib_verbose=3)\n",
    "gs_nmf = GridSearchCV(NMF, param_grid2, measures=[\"rmse\", \"mae\"], cv=5, n_jobs = -2, joblib_verbose=3)"
   ]
  },
  {
   "cell_type": "code",
   "execution_count": 8,
   "id": "4e1258f9",
   "metadata": {},
   "outputs": [
    {
     "name": "stderr",
     "output_type": "stream",
     "text": [
      "[Parallel(n_jobs=-2)]: Using backend LokyBackend with 7 concurrent workers.\n",
      "[Parallel(n_jobs=-2)]: Done  18 tasks      | elapsed:   28.8s\n",
      "[Parallel(n_jobs=-2)]: Done  80 out of  80 | elapsed:  3.6min finished\n"
     ]
    }
   ],
   "source": [
    "gs_nmf.fit(cv_data)"
   ]
  },
  {
   "cell_type": "code",
   "execution_count": 9,
   "id": "cb498367",
   "metadata": {},
   "outputs": [
    {
     "name": "stderr",
     "output_type": "stream",
     "text": [
      "[Parallel(n_jobs=-2)]: Using backend LokyBackend with 7 concurrent workers.\n",
      "[Parallel(n_jobs=-2)]: Done  18 tasks      | elapsed:   34.3s\n",
      "[Parallel(n_jobs=-2)]: Done  80 out of  80 | elapsed:  8.0min finished\n"
     ]
    }
   ],
   "source": [
    "gs_svd.fit(cv_data)"
   ]
  },
  {
   "cell_type": "code",
   "execution_count": null,
   "id": "40b90b6c",
   "metadata": {},
   "outputs": [],
   "source": [
    "# gs_svdpp.fit(cv_data)"
   ]
  },
  {
   "cell_type": "markdown",
   "id": "85420cdc",
   "metadata": {},
   "source": [
    "#### Compare results"
   ]
  },
  {
   "cell_type": "code",
   "execution_count": 10,
   "id": "ecb8cc03",
   "metadata": {},
   "outputs": [
    {
     "data": {
      "text/plain": [
       "1.293538122735244"
      ]
     },
     "execution_count": 10,
     "metadata": {},
     "output_type": "execute_result"
    }
   ],
   "source": [
    "gs_nmf.best_score[\"rmse\"]"
   ]
  },
  {
   "cell_type": "code",
   "execution_count": 11,
   "id": "aad3a1fa",
   "metadata": {},
   "outputs": [],
   "source": [
    "gs_result = {}\n",
    "for algo,gs in {\"svd\":gs_svd,\"nmf\":gs_nmf}.items():\n",
    "    gs_result[algo] = [gs.best_score[\"rmse\"],gs.best_score[\"mae\"]]"
   ]
  },
  {
   "cell_type": "code",
   "execution_count": 12,
   "id": "15c90e37",
   "metadata": {},
   "outputs": [
    {
     "data": {
      "text/html": [
       "<div>\n",
       "<style scoped>\n",
       "    .dataframe tbody tr th:only-of-type {\n",
       "        vertical-align: middle;\n",
       "    }\n",
       "\n",
       "    .dataframe tbody tr th {\n",
       "        vertical-align: top;\n",
       "    }\n",
       "\n",
       "    .dataframe thead th {\n",
       "        text-align: right;\n",
       "    }\n",
       "</style>\n",
       "<table border=\"1\" class=\"dataframe\">\n",
       "  <thead>\n",
       "    <tr style=\"text-align: right;\">\n",
       "      <th></th>\n",
       "      <th>svd</th>\n",
       "      <th>nmf</th>\n",
       "    </tr>\n",
       "  </thead>\n",
       "  <tbody>\n",
       "    <tr>\n",
       "      <th>rmse</th>\n",
       "      <td>1.210064</td>\n",
       "      <td>1.293538</td>\n",
       "    </tr>\n",
       "    <tr>\n",
       "      <th>mae</th>\n",
       "      <td>0.731275</td>\n",
       "      <td>0.649197</td>\n",
       "    </tr>\n",
       "  </tbody>\n",
       "</table>\n",
       "</div>"
      ],
      "text/plain": [
       "           svd       nmf\n",
       "rmse  1.210064  1.293538\n",
       "mae   0.731275  0.649197"
      ]
     },
     "execution_count": 12,
     "metadata": {},
     "output_type": "execute_result"
    }
   ],
   "source": [
    "gs_result_df = pd.DataFrame.from_dict(gs_result)\n",
    "gs_result_df.index = [\"rmse\",\"mae\"]\n",
    "gs_result_df"
   ]
  },
  {
   "cell_type": "code",
   "execution_count": 13,
   "id": "a41e3e9a",
   "metadata": {},
   "outputs": [
    {
     "data": {
      "text/plain": [
       "{'n_factors': 5, 'n_epochs': 20, 'lr_all': 0.006, 'reg_all': 0.08}"
      ]
     },
     "execution_count": 13,
     "metadata": {},
     "output_type": "execute_result"
    }
   ],
   "source": [
    "gs_svd.best_params[\"rmse\"]"
   ]
  },
  {
   "cell_type": "code",
   "execution_count": 14,
   "id": "be5d747f",
   "metadata": {},
   "outputs": [
    {
     "data": {
      "text/plain": [
       "{'n_factors': 25, 'n_epochs': 2, 'reg_pu': 0.01, 'reg_qi': 0.01}"
      ]
     },
     "execution_count": 14,
     "metadata": {},
     "output_type": "execute_result"
    }
   ],
   "source": [
    "gs_nmf.best_params[\"mae\"]"
   ]
  },
  {
   "cell_type": "markdown",
   "id": "dce98beb",
   "metadata": {},
   "source": [
    "#### Build model on full cv set"
   ]
  },
  {
   "cell_type": "code",
   "execution_count": 15,
   "id": "e9f1c4a9",
   "metadata": {},
   "outputs": [
    {
     "data": {
      "text/plain": [
       "<surprise.prediction_algorithms.matrix_factorization.NMF at 0x1a58b7250>"
      ]
     },
     "execution_count": 15,
     "metadata": {},
     "output_type": "execute_result"
    }
   ],
   "source": [
    "model1 = gs_svd.best_estimator[\"rmse\"]\n",
    "model1.fit(cv_data.build_full_trainset())\n",
    "\n",
    "model2 = gs_nmf.best_estimator[\"mae\"]\n",
    "model2.fit(cv_data.build_full_trainset())"
   ]
  },
  {
   "cell_type": "markdown",
   "id": "e1cc83f3",
   "metadata": {},
   "source": [
    "#### Write models to pickle"
   ]
  },
  {
   "cell_type": "code",
   "execution_count": 16,
   "id": "d8761412",
   "metadata": {},
   "outputs": [],
   "source": [
    "import sys\n",
    "from os.path import dirname\n",
    "sys.path.append(dirname(\"../../\"))"
   ]
  },
  {
   "cell_type": "code",
   "execution_count": 17,
   "id": "5d828395",
   "metadata": {},
   "outputs": [],
   "source": [
    "from src.utilities import *\n",
    "\n",
    "write_pickle(model1, \"../../models/reccomender_model1_svd.pkl\")\n",
    "write_pickle(model2, \"../../models/reccomender_model2_nmf.pkl\")"
   ]
  },
  {
   "cell_type": "markdown",
   "id": "6e658990",
   "metadata": {},
   "source": [
    "### Evaluate Rating Prediction"
   ]
  },
  {
   "cell_type": "code",
   "execution_count": 18,
   "id": "7a5c1d62",
   "metadata": {},
   "outputs": [],
   "source": [
    "test_set_surprise = Dataset.load_from_df(test_set[[\"user_id\", \"recipe_id\", \"rating\"]], reader)\n",
    "_, test_set_surprise = train_test_split_surprise(test_set_surprise, test_size=1.0)"
   ]
  },
  {
   "cell_type": "code",
   "execution_count": 19,
   "id": "81f4363f",
   "metadata": {},
   "outputs": [
    {
     "data": {
      "text/plain": [
       "(1.2398769202951172, 0.7595275258894878)"
      ]
     },
     "execution_count": 19,
     "metadata": {},
     "output_type": "execute_result"
    }
   ],
   "source": [
    "predictions1 = model1.test(test_set_surprise)\n",
    "accuracy.rmse(predictions1, verbose=False), accuracy.mae(predictions1, verbose=False)"
   ]
  },
  {
   "cell_type": "code",
   "execution_count": 20,
   "id": "f0601d74",
   "metadata": {},
   "outputs": [
    {
     "data": {
      "text/plain": [
       "(1.3545639517394856, 0.6612653662869259)"
      ]
     },
     "execution_count": 20,
     "metadata": {},
     "output_type": "execute_result"
    }
   ],
   "source": [
    "predictions2 = model2.test(test_set_surprise)\n",
    "accuracy.rmse(predictions2, verbose=False), accuracy.mae(predictions2, verbose=False)"
   ]
  },
  {
   "cell_type": "markdown",
   "id": "fb063756",
   "metadata": {},
   "source": [
    "### Evaluate Rating Prediction on interaction filter"
   ]
  },
  {
   "cell_type": "code",
   "execution_count": 121,
   "id": "6da19476",
   "metadata": {},
   "outputs": [
    {
     "data": {
      "text/plain": [
       "(1132367, 5)"
      ]
     },
     "execution_count": 121,
     "metadata": {},
     "output_type": "execute_result"
    }
   ],
   "source": [
    "raw_interactions = pd.read_csv(\"../../data/recommendation/RAW_interactions.csv\")\n",
    "raw_interactions.shape"
   ]
  },
  {
   "cell_type": "code",
   "execution_count": 122,
   "id": "59ac0b70",
   "metadata": {},
   "outputs": [],
   "source": [
    "interaction_cnts_recipes = raw_interactions[\"user_id\"].value_counts()"
   ]
  },
  {
   "cell_type": "code",
   "execution_count": 123,
   "id": "54f5f507",
   "metadata": {},
   "outputs": [
    {
     "data": {
      "text/plain": [
       "23086"
      ]
     },
     "execution_count": 123,
     "metadata": {},
     "output_type": "execute_result"
    }
   ],
   "source": [
    "mask_atleastn_users = interaction_cnts_recipes>=5\n",
    "mask_atleastn_users.sum()"
   ]
  },
  {
   "cell_type": "code",
   "execution_count": 124,
   "id": "0e4ac000",
   "metadata": {},
   "outputs": [],
   "source": [
    "x1 = pd.DataFrame(mask_atleastn_users)\n",
    "mask1 = raw_interactions[\"user_id\"].isin(x1.loc[x1[\"user_id\"]==True].index)\n",
    "\n",
    "raw_subset = raw_interactions[mask1]"
   ]
  },
  {
   "cell_type": "code",
   "execution_count": 125,
   "id": "5624a91d",
   "metadata": {},
   "outputs": [
    {
     "data": {
      "text/plain": [
       "user_id       23086\n",
       "recipe_id    211039\n",
       "dtype: int64"
      ]
     },
     "execution_count": 125,
     "metadata": {},
     "output_type": "execute_result"
    }
   ],
   "source": [
    "raw_subset[[\"user_id\",\"recipe_id\"]].nunique()"
   ]
  },
  {
   "cell_type": "code",
   "execution_count": 126,
   "id": "0435eac3",
   "metadata": {},
   "outputs": [
    {
     "data": {
      "text/plain": [
       "(872021, 5)"
      ]
     },
     "execution_count": 126,
     "metadata": {},
     "output_type": "execute_result"
    }
   ],
   "source": [
    "raw_subset.shape"
   ]
  },
  {
   "cell_type": "code",
   "execution_count": 127,
   "id": "8c345d46",
   "metadata": {},
   "outputs": [
    {
     "data": {
      "text/plain": [
       "1.0"
      ]
     },
     "execution_count": 127,
     "metadata": {},
     "output_type": "execute_result"
    }
   ],
   "source": [
    "(raw_subset[\"user_id\"].value_counts()>=5).mean()"
   ]
  },
  {
   "cell_type": "code",
   "execution_count": 128,
   "id": "3887402a",
   "metadata": {},
   "outputs": [
    {
     "data": {
      "text/plain": [
       "0.20148408587986108"
      ]
     },
     "execution_count": 128,
     "metadata": {},
     "output_type": "execute_result"
    }
   ],
   "source": [
    "(raw_subset[\"recipe_id\"].value_counts()>=5).mean()"
   ]
  },
  {
   "cell_type": "code",
   "execution_count": 129,
   "id": "4d99381a",
   "metadata": {},
   "outputs": [],
   "source": [
    "raw_subset.to_csv(\"../../data/reccomendation_subset_data.csv\",index=False)"
   ]
  },
  {
   "cell_type": "code",
   "execution_count": 134,
   "id": "b1932ab2",
   "metadata": {},
   "outputs": [],
   "source": [
    "test_subset = test_set[test_set[\"user_id\"].isin(set(raw_subset[\"user_id\"]))]"
   ]
  },
  {
   "cell_type": "code",
   "execution_count": 135,
   "id": "702fb40c",
   "metadata": {},
   "outputs": [],
   "source": [
    "test_set_surprise_subset = Dataset.load_from_df(test_subset[[\"user_id\", \"recipe_id\", \"rating\"]], reader)\n",
    "_, test_set_surprise_subset = train_test_split_surprise(test_set_surprise_subset, test_size=1.0)"
   ]
  },
  {
   "cell_type": "code",
   "execution_count": 136,
   "id": "0e3b870f",
   "metadata": {},
   "outputs": [
    {
     "data": {
      "text/plain": [
       "(0.9433350451921445, 0.576491187436348)"
      ]
     },
     "execution_count": 136,
     "metadata": {},
     "output_type": "execute_result"
    }
   ],
   "source": [
    "predictions1_sub = model1.test(test_set_surprise_subset)\n",
    "accuracy.rmse(predictions1_sub, verbose=False), accuracy.mae(predictions1_sub, verbose=False)"
   ]
  },
  {
   "cell_type": "code",
   "execution_count": 137,
   "id": "a27d5bba",
   "metadata": {},
   "outputs": [
    {
     "data": {
      "text/plain": [
       "(1.0657827857655318, 0.46979172043686335)"
      ]
     },
     "execution_count": 137,
     "metadata": {},
     "output_type": "execute_result"
    }
   ],
   "source": [
    "predictions2_sub = model2.test(test_set_surprise_subset)\n",
    "accuracy.rmse(predictions2_sub, verbose=False), accuracy.mae(predictions2_sub, verbose=False)"
   ]
  }
 ],
 "metadata": {
  "kernelspec": {
   "display_name": "Python 3 (ipykernel)",
   "language": "python",
   "name": "python3"
  },
  "language_info": {
   "codemirror_mode": {
    "name": "ipython",
    "version": 3
   },
   "file_extension": ".py",
   "mimetype": "text/x-python",
   "name": "python",
   "nbconvert_exporter": "python",
   "pygments_lexer": "ipython3",
   "version": "3.9.13"
  }
 },
 "nbformat": 4,
 "nbformat_minor": 5
}
