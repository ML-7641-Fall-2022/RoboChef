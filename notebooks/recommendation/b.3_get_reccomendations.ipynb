{
 "cells": [
  {
   "cell_type": "code",
   "execution_count": 1,
   "id": "b031966e",
   "metadata": {},
   "outputs": [
    {
     "name": "stdout",
     "output_type": "stream",
     "text": [
      "/Users/ashish1610dhiman/data_projects/fall22_hw/RoboChef/notebooks/recommendation\r\n"
     ]
    }
   ],
   "source": [
    "!pwd"
   ]
  },
  {
   "cell_type": "code",
   "execution_count": 2,
   "id": "bad77bbe",
   "metadata": {},
   "outputs": [],
   "source": [
    "from sklearn.manifold import TSNE\n",
    "\n",
    "%matplotlib inline\n",
    "import matplotlib.pyplot as plt\n",
    "from mpl_toolkits.mplot3d import Axes3D\n",
    "\n",
    "import seaborn as sns\n",
    "import pandas as pd\n",
    "import numpy as np\n",
    "from surprise import accuracy, Dataset, SVD,SVDpp, NMF\n",
    "from surprise import Dataset\n",
    "from surprise import Reader\n",
    "from surprise.model_selection import train_test_split as train_test_split_surprise\n",
    "from tqdm.notebook import tqdm\n",
    "\n",
    "import numpy as np\n",
    "from sklearn.metrics import ndcg_score\n",
    "import scipy.stats as ss"
   ]
  },
  {
   "cell_type": "code",
   "execution_count": 3,
   "id": "f4fb0b3d",
   "metadata": {},
   "outputs": [],
   "source": [
    "import sys\n",
    "from os.path import dirname\n",
    "sys.path.append(dirname(\"../../\"))\n",
    "\n",
    "from src.utilities import *\n",
    "from src.reccomendation_util import *"
   ]
  },
  {
   "cell_type": "code",
   "execution_count": 4,
   "id": "e10a539d",
   "metadata": {},
   "outputs": [],
   "source": [
    "%load_ext autoreload\n",
    "%autoreload 2"
   ]
  },
  {
   "cell_type": "markdown",
   "id": "2475896d",
   "metadata": {},
   "source": [
    "### Load Model and Raw Data"
   ]
  },
  {
   "cell_type": "code",
   "execution_count": 5,
   "id": "a5f2dc79",
   "metadata": {},
   "outputs": [
    {
     "name": "stdout",
     "output_type": "stream",
     "text": [
      "(1132367, 5)\n"
     ]
    }
   ],
   "source": [
    "raw_interactions = pd.read_csv(\"../../data/recommendation/RAW_interactions.csv\")\n",
    "print(raw_interactions.shape)"
   ]
  },
  {
   "cell_type": "code",
   "execution_count": 6,
   "id": "92cabf08",
   "metadata": {},
   "outputs": [
    {
     "data": {
      "text/plain": [
       "(231637, 13)"
      ]
     },
     "execution_count": 6,
     "metadata": {},
     "output_type": "execute_result"
    }
   ],
   "source": [
    "recipe_metadata = pd.read_csv(\"../../data/recommendation/RAW_recipes.csv\")\n",
    "recipe_metadata.shape"
   ]
  },
  {
   "cell_type": "code",
   "execution_count": 7,
   "id": "227030c9",
   "metadata": {},
   "outputs": [],
   "source": [
    "### Load Models\n",
    "model1 = load_pickle(\"../../models/reccomender_model1_svd.pkl\")\n",
    "model2 = load_pickle(\"../../models/reccomender_model2_nmf.pkl\")"
   ]
  },
  {
   "cell_type": "code",
   "execution_count": 8,
   "id": "a48c130d",
   "metadata": {},
   "outputs": [
    {
     "data": {
      "text/plain": [
       "Prediction(uid=1533, iid=44459, r_ui=None, est=4.979205256134577, details={'was_impossible': False})"
      ]
     },
     "execution_count": 8,
     "metadata": {},
     "output_type": "execute_result"
    }
   ],
   "source": [
    "model1.predict(uid=1533,iid=44459)"
   ]
  },
  {
   "cell_type": "code",
   "execution_count": 9,
   "id": "796fca30",
   "metadata": {},
   "outputs": [
    {
     "data": {
      "text/plain": [
       "[Prediction(uid=1533, iid=57549, r_ui=None, est=4.984623436267778, details={'was_impossible': False}),\n",
       " Prediction(uid=1533, iid=44459, r_ui=None, est=4.979205256134577, details={'was_impossible': False}),\n",
       " Prediction(uid=1533, iid=31048, r_ui=None, est=4.909425973113856, details={'was_impossible': False}),\n",
       " Prediction(uid=1533, iid=10554, r_ui=None, est=4.904533254551073, details={'was_impossible': False})]"
      ]
     },
     "execution_count": 9,
     "metadata": {},
     "output_type": "execute_result"
    }
   ],
   "source": [
    "model1.test([[1533,57549,None],\\\n",
    "            [1533,44459,None],\\\n",
    "            [1533,31048,None],\\\n",
    "            [1533,10554,None]])"
   ]
  },
  {
   "cell_type": "code",
   "execution_count": 10,
   "id": "ee6dea1c",
   "metadata": {},
   "outputs": [
    {
     "data": {
      "text/plain": [
       "[Prediction(uid=1533, iid=57549, r_ui=None, est=5, details={'was_impossible': False}),\n",
       " Prediction(uid=1533, iid=44459, r_ui=None, est=5, details={'was_impossible': False}),\n",
       " Prediction(uid=1533, iid=31048, r_ui=None, est=5, details={'was_impossible': False}),\n",
       " Prediction(uid=1533, iid=10554, r_ui=None, est=5, details={'was_impossible': False})]"
      ]
     },
     "execution_count": 10,
     "metadata": {},
     "output_type": "execute_result"
    }
   ],
   "source": [
    "model2.test([[1533,57549,None],\\\n",
    "            [1533,44459,None],\\\n",
    "            [1533,31048,None],\\\n",
    "            [1533,10554,None]])"
   ]
  },
  {
   "cell_type": "markdown",
   "id": "a9a9fdea",
   "metadata": {},
   "source": [
    "### Meta"
   ]
  },
  {
   "cell_type": "code",
   "execution_count": 11,
   "id": "24905d27",
   "metadata": {},
   "outputs": [],
   "source": [
    "recipe_metadata['nutrition_list'] = recipe_metadata['nutrition'].apply(lambda x: ast.literal_eval(x))\n",
    "recipe_metadata[['calories','fat_dv',\"sugar_dv\",\\\n",
    "           \"sodium_dv\",\"protein_dv\",\"sat_fat\", \"carbs_dv\"]\\\n",
    "      ] = pd.DataFrame(recipe_metadata.nutrition_list.tolist(), index= recipe_metadata.index)"
   ]
  },
  {
   "cell_type": "code",
   "execution_count": 12,
   "id": "81ccf759",
   "metadata": {},
   "outputs": [],
   "source": [
    "example_ingredients = ['apple juice', 'raw honey', 'whole cloves',\\\n",
    "                        'everclear alcohol', 'ground cinnamon', 'cheesecloth']"
   ]
  },
  {
   "cell_type": "code",
   "execution_count": 13,
   "id": "fe298611",
   "metadata": {},
   "outputs": [],
   "source": [
    "recipe_metadata['ingredients_list'] = recipe_metadata['ingredients'].apply(lambda x: ast.literal_eval(x))"
   ]
  },
  {
   "cell_type": "code",
   "execution_count": 14,
   "id": "5c98bfac",
   "metadata": {},
   "outputs": [],
   "source": [
    "def match_ingredients(x,to_match, threshold = 0.25):\n",
    "    x = set(x)\n",
    "    to_match = set(to_match)\n",
    "    match_rate = len(x.intersection(to_match))/len(x)\n",
    "    return match_rate>=threshold"
   ]
  },
  {
   "cell_type": "code",
   "execution_count": 15,
   "id": "38662337",
   "metadata": {},
   "outputs": [
    {
     "data": {
      "text/html": [
       "<div>\n",
       "<style scoped>\n",
       "    .dataframe tbody tr th:only-of-type {\n",
       "        vertical-align: middle;\n",
       "    }\n",
       "\n",
       "    .dataframe tbody tr th {\n",
       "        vertical-align: top;\n",
       "    }\n",
       "\n",
       "    .dataframe thead th {\n",
       "        text-align: right;\n",
       "    }\n",
       "</style>\n",
       "<table border=\"1\" class=\"dataframe\">\n",
       "  <thead>\n",
       "    <tr style=\"text-align: right;\">\n",
       "      <th></th>\n",
       "      <th>Unnamed: 0</th>\n",
       "      <th>name</th>\n",
       "      <th>id</th>\n",
       "      <th>minutes</th>\n",
       "      <th>contributor_id</th>\n",
       "      <th>submitted</th>\n",
       "      <th>tags</th>\n",
       "      <th>nutrition</th>\n",
       "      <th>n_steps</th>\n",
       "      <th>steps</th>\n",
       "      <th>...</th>\n",
       "      <th>n_ingredients</th>\n",
       "      <th>nutrition_list</th>\n",
       "      <th>calories</th>\n",
       "      <th>fat_dv</th>\n",
       "      <th>sugar_dv</th>\n",
       "      <th>sodium_dv</th>\n",
       "      <th>protein_dv</th>\n",
       "      <th>sat_fat</th>\n",
       "      <th>carbs_dv</th>\n",
       "      <th>ingredients_list</th>\n",
       "    </tr>\n",
       "  </thead>\n",
       "  <tbody>\n",
       "    <tr>\n",
       "      <th>317</th>\n",
       "      <td>317</td>\n",
       "      <td>apple pie</td>\n",
       "      <td>124853</td>\n",
       "      <td>43200</td>\n",
       "      <td>213699</td>\n",
       "      <td>2005-06-06</td>\n",
       "      <td>['time-to-make', 'course', 'main-ingredient', ...</td>\n",
       "      <td>[285.8, 0.0, 281.0, 0.0, 0.0, 0.0, 24.0]</td>\n",
       "      <td>2</td>\n",
       "      <td>['mix ingredence together except everclear and...</td>\n",
       "      <td>...</td>\n",
       "      <td>6</td>\n",
       "      <td>[285.8, 0.0, 281.0, 0.0, 0.0, 0.0, 24.0]</td>\n",
       "      <td>285.8</td>\n",
       "      <td>0.0</td>\n",
       "      <td>281.0</td>\n",
       "      <td>0.0</td>\n",
       "      <td>0.0</td>\n",
       "      <td>0.0</td>\n",
       "      <td>24.0</td>\n",
       "      <td>[apple juice, raw honey, whole cloves, evercle...</td>\n",
       "    </tr>\n",
       "    <tr>\n",
       "      <th>820</th>\n",
       "      <td>820</td>\n",
       "      <td>10 minute applesauce   alton brown</td>\n",
       "      <td>121344</td>\n",
       "      <td>20</td>\n",
       "      <td>66322</td>\n",
       "      <td>2005-05-10</td>\n",
       "      <td>['30-minutes-or-less', 'time-to-make', 'course...</td>\n",
       "      <td>[270.1, 9.0, 189.0, 2.0, 1.0, 18.0, 19.0]</td>\n",
       "      <td>5</td>\n",
       "      <td>['in a sealable microwave-safe container , com...</td>\n",
       "      <td>...</td>\n",
       "      <td>7</td>\n",
       "      <td>[270.1, 9.0, 189.0, 2.0, 1.0, 18.0, 19.0]</td>\n",
       "      <td>270.1</td>\n",
       "      <td>9.0</td>\n",
       "      <td>189.0</td>\n",
       "      <td>2.0</td>\n",
       "      <td>1.0</td>\n",
       "      <td>18.0</td>\n",
       "      <td>19.0</td>\n",
       "      <td>[golden delicious apples, fuji apples, apple j...</td>\n",
       "    </tr>\n",
       "    <tr>\n",
       "      <th>2282</th>\n",
       "      <td>2282</td>\n",
       "      <td>absolut vince vega</td>\n",
       "      <td>261358</td>\n",
       "      <td>5</td>\n",
       "      <td>327115</td>\n",
       "      <td>2007-10-25</td>\n",
       "      <td>['15-minutes-or-less', 'time-to-make', 'course...</td>\n",
       "      <td>[65.5, 0.0, 0.0, 0.0, 0.0, 0.0, 0.0]</td>\n",
       "      <td>2</td>\n",
       "      <td>['build over ice in a highball glass', 'decora...</td>\n",
       "      <td>...</td>\n",
       "      <td>2</td>\n",
       "      <td>[65.5, 0.0, 0.0, 0.0, 0.0, 0.0, 0.0]</td>\n",
       "      <td>65.5</td>\n",
       "      <td>0.0</td>\n",
       "      <td>0.0</td>\n",
       "      <td>0.0</td>\n",
       "      <td>0.0</td>\n",
       "      <td>0.0</td>\n",
       "      <td>0.0</td>\n",
       "      <td>[absolut citron vodka, apple juice]</td>\n",
       "    </tr>\n",
       "    <tr>\n",
       "      <th>2634</th>\n",
       "      <td>2634</td>\n",
       "      <td>advieh</td>\n",
       "      <td>253004</td>\n",
       "      <td>5</td>\n",
       "      <td>292560</td>\n",
       "      <td>2007-09-14</td>\n",
       "      <td>['15-minutes-or-less', 'time-to-make', 'course...</td>\n",
       "      <td>[98.2, 3.0, 1.0, 0.0, 5.0, 1.0, 7.0]</td>\n",
       "      <td>5</td>\n",
       "      <td>['whizz the rose petals in the spice grinder u...</td>\n",
       "      <td>...</td>\n",
       "      <td>4</td>\n",
       "      <td>[98.2, 3.0, 1.0, 0.0, 5.0, 1.0, 7.0]</td>\n",
       "      <td>98.2</td>\n",
       "      <td>3.0</td>\n",
       "      <td>1.0</td>\n",
       "      <td>0.0</td>\n",
       "      <td>5.0</td>\n",
       "      <td>1.0</td>\n",
       "      <td>7.0</td>\n",
       "      <td>[dried rose petals, ground cinnamon, ground ca...</td>\n",
       "    </tr>\n",
       "    <tr>\n",
       "      <th>3555</th>\n",
       "      <td>3555</td>\n",
       "      <td>almond banana shake</td>\n",
       "      <td>340071</td>\n",
       "      <td>4</td>\n",
       "      <td>599450</td>\n",
       "      <td>2008-11-30</td>\n",
       "      <td>['15-minutes-or-less', 'time-to-make', 'course...</td>\n",
       "      <td>[111.5, 0.0, 57.0, 0.0, 2.0, 0.0, 9.0]</td>\n",
       "      <td>2</td>\n",
       "      <td>['add banana slices , almond milk , and cinnam...</td>\n",
       "      <td>...</td>\n",
       "      <td>3</td>\n",
       "      <td>[111.5, 0.0, 57.0, 0.0, 2.0, 0.0, 9.0]</td>\n",
       "      <td>111.5</td>\n",
       "      <td>0.0</td>\n",
       "      <td>57.0</td>\n",
       "      <td>0.0</td>\n",
       "      <td>2.0</td>\n",
       "      <td>0.0</td>\n",
       "      <td>9.0</td>\n",
       "      <td>[banana, almond milk, ground cinnamon]</td>\n",
       "    </tr>\n",
       "    <tr>\n",
       "      <th>...</th>\n",
       "      <td>...</td>\n",
       "      <td>...</td>\n",
       "      <td>...</td>\n",
       "      <td>...</td>\n",
       "      <td>...</td>\n",
       "      <td>...</td>\n",
       "      <td>...</td>\n",
       "      <td>...</td>\n",
       "      <td>...</td>\n",
       "      <td>...</td>\n",
       "      <td>...</td>\n",
       "      <td>...</td>\n",
       "      <td>...</td>\n",
       "      <td>...</td>\n",
       "      <td>...</td>\n",
       "      <td>...</td>\n",
       "      <td>...</td>\n",
       "      <td>...</td>\n",
       "      <td>...</td>\n",
       "      <td>...</td>\n",
       "      <td>...</td>\n",
       "    </tr>\n",
       "    <tr>\n",
       "      <th>227737</th>\n",
       "      <td>227737</td>\n",
       "      <td>winter   spice   how nice   warm breakfast drink</td>\n",
       "      <td>275801</td>\n",
       "      <td>4</td>\n",
       "      <td>37305</td>\n",
       "      <td>2008-01-03</td>\n",
       "      <td>['15-minutes-or-less', 'time-to-make', 'course...</td>\n",
       "      <td>[107.0, 1.0, 0.0, 6.0, 19.0, 2.0, 5.0]</td>\n",
       "      <td>2</td>\n",
       "      <td>['place milk , carnation instant breakfast , g...</td>\n",
       "      <td>...</td>\n",
       "      <td>4</td>\n",
       "      <td>[107.0, 1.0, 0.0, 6.0, 19.0, 2.0, 5.0]</td>\n",
       "      <td>107.0</td>\n",
       "      <td>1.0</td>\n",
       "      <td>0.0</td>\n",
       "      <td>6.0</td>\n",
       "      <td>19.0</td>\n",
       "      <td>2.0</td>\n",
       "      <td>5.0</td>\n",
       "      <td>[skim milk, instant breakfast drink mix, groun...</td>\n",
       "    </tr>\n",
       "    <tr>\n",
       "      <th>227739</th>\n",
       "      <td>227739</td>\n",
       "      <td>winter apple jelly</td>\n",
       "      <td>484618</td>\n",
       "      <td>35</td>\n",
       "      <td>2344388</td>\n",
       "      <td>2012-07-30</td>\n",
       "      <td>['60-minutes-or-less', 'time-to-make', 'course...</td>\n",
       "      <td>[698.4, 0.0, 682.0, 0.0, 0.0, 0.0, 60.0]</td>\n",
       "      <td>12</td>\n",
       "      <td>['in a dutch oven , combine the apple juice , ...</td>\n",
       "      <td>...</td>\n",
       "      <td>6</td>\n",
       "      <td>[698.4, 0.0, 682.0, 0.0, 0.0, 0.0, 60.0]</td>\n",
       "      <td>698.4</td>\n",
       "      <td>0.0</td>\n",
       "      <td>682.0</td>\n",
       "      <td>0.0</td>\n",
       "      <td>0.0</td>\n",
       "      <td>0.0</td>\n",
       "      <td>60.0</td>\n",
       "      <td>[apple juice, powdered fruit pectin, lemon jui...</td>\n",
       "    </tr>\n",
       "    <tr>\n",
       "      <th>227932</th>\n",
       "      <td>227932</td>\n",
       "      <td>witches brew</td>\n",
       "      <td>37830</td>\n",
       "      <td>5</td>\n",
       "      <td>37636</td>\n",
       "      <td>2002-08-20</td>\n",
       "      <td>['15-minutes-or-less', 'time-to-make', 'course...</td>\n",
       "      <td>[108.8, 0.0, 104.0, 0.0, 0.0, 0.0, 9.0]</td>\n",
       "      <td>4</td>\n",
       "      <td>['combine all ingredients and chill', 'pour in...</td>\n",
       "      <td>...</td>\n",
       "      <td>4</td>\n",
       "      <td>[108.8, 0.0, 104.0, 0.0, 0.0, 0.0, 9.0]</td>\n",
       "      <td>108.8</td>\n",
       "      <td>0.0</td>\n",
       "      <td>104.0</td>\n",
       "      <td>0.0</td>\n",
       "      <td>0.0</td>\n",
       "      <td>0.0</td>\n",
       "      <td>9.0</td>\n",
       "      <td>[frozen lemonade concentrate, apple juice, gin...</td>\n",
       "    </tr>\n",
       "    <tr>\n",
       "      <th>229398</th>\n",
       "      <td>229398</td>\n",
       "      <td>yogurt cheese</td>\n",
       "      <td>56555</td>\n",
       "      <td>5760</td>\n",
       "      <td>10404</td>\n",
       "      <td>2003-03-18</td>\n",
       "      <td>['weeknight', 'time-to-make', 'course', 'main-...</td>\n",
       "      <td>[254.2, 1.0, 139.0, 14.0, 52.0, 2.0, 11.0]</td>\n",
       "      <td>7</td>\n",
       "      <td>['set a strainer lined with 2 layers of cheese...</td>\n",
       "      <td>...</td>\n",
       "      <td>2</td>\n",
       "      <td>[254.2, 1.0, 139.0, 14.0, 52.0, 2.0, 11.0]</td>\n",
       "      <td>254.2</td>\n",
       "      <td>1.0</td>\n",
       "      <td>139.0</td>\n",
       "      <td>14.0</td>\n",
       "      <td>52.0</td>\n",
       "      <td>2.0</td>\n",
       "      <td>11.0</td>\n",
       "      <td>[nonfat yogurt, cheesecloth]</td>\n",
       "    </tr>\n",
       "    <tr>\n",
       "      <th>230137</th>\n",
       "      <td>230137</td>\n",
       "      <td>yummy starburst smoothie</td>\n",
       "      <td>242857</td>\n",
       "      <td>5</td>\n",
       "      <td>546913</td>\n",
       "      <td>2007-07-27</td>\n",
       "      <td>['15-minutes-or-less', 'time-to-make', 'course...</td>\n",
       "      <td>[225.8, 1.0, 143.0, 0.0, 5.0, 0.0, 18.0]</td>\n",
       "      <td>1</td>\n",
       "      <td>['place all ingredients into a blender and ble...</td>\n",
       "      <td>...</td>\n",
       "      <td>4</td>\n",
       "      <td>[225.8, 1.0, 143.0, 0.0, 5.0, 0.0, 18.0]</td>\n",
       "      <td>225.8</td>\n",
       "      <td>1.0</td>\n",
       "      <td>143.0</td>\n",
       "      <td>0.0</td>\n",
       "      <td>5.0</td>\n",
       "      <td>0.0</td>\n",
       "      <td>18.0</td>\n",
       "      <td>[bananas, kiwi, strawberry, apple juice]</td>\n",
       "    </tr>\n",
       "  </tbody>\n",
       "</table>\n",
       "<p>361 rows × 22 columns</p>\n",
       "</div>"
      ],
      "text/plain": [
       "        Unnamed: 0                                              name      id  \\\n",
       "317            317                                         apple pie  124853   \n",
       "820            820                10 minute applesauce   alton brown  121344   \n",
       "2282          2282                                absolut vince vega  261358   \n",
       "2634          2634                                            advieh  253004   \n",
       "3555          3555                               almond banana shake  340071   \n",
       "...            ...                                               ...     ...   \n",
       "227737      227737  winter   spice   how nice   warm breakfast drink  275801   \n",
       "227739      227739                                winter apple jelly  484618   \n",
       "227932      227932                                      witches brew   37830   \n",
       "229398      229398                                     yogurt cheese   56555   \n",
       "230137      230137                          yummy starburst smoothie  242857   \n",
       "\n",
       "        minutes  contributor_id   submitted  \\\n",
       "317       43200          213699  2005-06-06   \n",
       "820          20           66322  2005-05-10   \n",
       "2282          5          327115  2007-10-25   \n",
       "2634          5          292560  2007-09-14   \n",
       "3555          4          599450  2008-11-30   \n",
       "...         ...             ...         ...   \n",
       "227737        4           37305  2008-01-03   \n",
       "227739       35         2344388  2012-07-30   \n",
       "227932        5           37636  2002-08-20   \n",
       "229398     5760           10404  2003-03-18   \n",
       "230137        5          546913  2007-07-27   \n",
       "\n",
       "                                                     tags  \\\n",
       "317     ['time-to-make', 'course', 'main-ingredient', ...   \n",
       "820     ['30-minutes-or-less', 'time-to-make', 'course...   \n",
       "2282    ['15-minutes-or-less', 'time-to-make', 'course...   \n",
       "2634    ['15-minutes-or-less', 'time-to-make', 'course...   \n",
       "3555    ['15-minutes-or-less', 'time-to-make', 'course...   \n",
       "...                                                   ...   \n",
       "227737  ['15-minutes-or-less', 'time-to-make', 'course...   \n",
       "227739  ['60-minutes-or-less', 'time-to-make', 'course...   \n",
       "227932  ['15-minutes-or-less', 'time-to-make', 'course...   \n",
       "229398  ['weeknight', 'time-to-make', 'course', 'main-...   \n",
       "230137  ['15-minutes-or-less', 'time-to-make', 'course...   \n",
       "\n",
       "                                         nutrition  n_steps  \\\n",
       "317       [285.8, 0.0, 281.0, 0.0, 0.0, 0.0, 24.0]        2   \n",
       "820      [270.1, 9.0, 189.0, 2.0, 1.0, 18.0, 19.0]        5   \n",
       "2282          [65.5, 0.0, 0.0, 0.0, 0.0, 0.0, 0.0]        2   \n",
       "2634          [98.2, 3.0, 1.0, 0.0, 5.0, 1.0, 7.0]        5   \n",
       "3555        [111.5, 0.0, 57.0, 0.0, 2.0, 0.0, 9.0]        2   \n",
       "...                                            ...      ...   \n",
       "227737      [107.0, 1.0, 0.0, 6.0, 19.0, 2.0, 5.0]        2   \n",
       "227739    [698.4, 0.0, 682.0, 0.0, 0.0, 0.0, 60.0]       12   \n",
       "227932     [108.8, 0.0, 104.0, 0.0, 0.0, 0.0, 9.0]        4   \n",
       "229398  [254.2, 1.0, 139.0, 14.0, 52.0, 2.0, 11.0]        7   \n",
       "230137    [225.8, 1.0, 143.0, 0.0, 5.0, 0.0, 18.0]        1   \n",
       "\n",
       "                                                    steps  ... n_ingredients  \\\n",
       "317     ['mix ingredence together except everclear and...  ...             6   \n",
       "820     ['in a sealable microwave-safe container , com...  ...             7   \n",
       "2282    ['build over ice in a highball glass', 'decora...  ...             2   \n",
       "2634    ['whizz the rose petals in the spice grinder u...  ...             4   \n",
       "3555    ['add banana slices , almond milk , and cinnam...  ...             3   \n",
       "...                                                   ...  ...           ...   \n",
       "227737  ['place milk , carnation instant breakfast , g...  ...             4   \n",
       "227739  ['in a dutch oven , combine the apple juice , ...  ...             6   \n",
       "227932  ['combine all ingredients and chill', 'pour in...  ...             4   \n",
       "229398  ['set a strainer lined with 2 layers of cheese...  ...             2   \n",
       "230137  ['place all ingredients into a blender and ble...  ...             4   \n",
       "\n",
       "                                    nutrition_list  calories fat_dv  sugar_dv  \\\n",
       "317       [285.8, 0.0, 281.0, 0.0, 0.0, 0.0, 24.0]     285.8    0.0     281.0   \n",
       "820      [270.1, 9.0, 189.0, 2.0, 1.0, 18.0, 19.0]     270.1    9.0     189.0   \n",
       "2282          [65.5, 0.0, 0.0, 0.0, 0.0, 0.0, 0.0]      65.5    0.0       0.0   \n",
       "2634          [98.2, 3.0, 1.0, 0.0, 5.0, 1.0, 7.0]      98.2    3.0       1.0   \n",
       "3555        [111.5, 0.0, 57.0, 0.0, 2.0, 0.0, 9.0]     111.5    0.0      57.0   \n",
       "...                                            ...       ...    ...       ...   \n",
       "227737      [107.0, 1.0, 0.0, 6.0, 19.0, 2.0, 5.0]     107.0    1.0       0.0   \n",
       "227739    [698.4, 0.0, 682.0, 0.0, 0.0, 0.0, 60.0]     698.4    0.0     682.0   \n",
       "227932     [108.8, 0.0, 104.0, 0.0, 0.0, 0.0, 9.0]     108.8    0.0     104.0   \n",
       "229398  [254.2, 1.0, 139.0, 14.0, 52.0, 2.0, 11.0]     254.2    1.0     139.0   \n",
       "230137    [225.8, 1.0, 143.0, 0.0, 5.0, 0.0, 18.0]     225.8    1.0     143.0   \n",
       "\n",
       "        sodium_dv  protein_dv  sat_fat  carbs_dv  \\\n",
       "317           0.0         0.0      0.0      24.0   \n",
       "820           2.0         1.0     18.0      19.0   \n",
       "2282          0.0         0.0      0.0       0.0   \n",
       "2634          0.0         5.0      1.0       7.0   \n",
       "3555          0.0         2.0      0.0       9.0   \n",
       "...           ...         ...      ...       ...   \n",
       "227737        6.0        19.0      2.0       5.0   \n",
       "227739        0.0         0.0      0.0      60.0   \n",
       "227932        0.0         0.0      0.0       9.0   \n",
       "229398       14.0        52.0      2.0      11.0   \n",
       "230137        0.0         5.0      0.0      18.0   \n",
       "\n",
       "                                         ingredients_list  \n",
       "317     [apple juice, raw honey, whole cloves, evercle...  \n",
       "820     [golden delicious apples, fuji apples, apple j...  \n",
       "2282                  [absolut citron vodka, apple juice]  \n",
       "2634    [dried rose petals, ground cinnamon, ground ca...  \n",
       "3555               [banana, almond milk, ground cinnamon]  \n",
       "...                                                   ...  \n",
       "227737  [skim milk, instant breakfast drink mix, groun...  \n",
       "227739  [apple juice, powdered fruit pectin, lemon jui...  \n",
       "227932  [frozen lemonade concentrate, apple juice, gin...  \n",
       "229398                       [nonfat yogurt, cheesecloth]  \n",
       "230137           [bananas, kiwi, strawberry, apple juice]  \n",
       "\n",
       "[361 rows x 22 columns]"
      ]
     },
     "execution_count": 15,
     "metadata": {},
     "output_type": "execute_result"
    }
   ],
   "source": [
    "recipe_metadata[recipe_metadata[\"ingredients_list\"].apply(lambda x: match_ingredients(x,example_ingredients))]"
   ]
  },
  {
   "cell_type": "code",
   "execution_count": null,
   "id": "b464eb7a",
   "metadata": {},
   "outputs": [],
   "source": []
  },
  {
   "cell_type": "markdown",
   "id": "6d13d85b",
   "metadata": {},
   "source": [
    "### Reccomendation Testting"
   ]
  },
  {
   "cell_type": "code",
   "execution_count": 16,
   "id": "c403fbe4",
   "metadata": {},
   "outputs": [
    {
     "ename": "TypeError",
     "evalue": "gen_recipe_list() missing 1 required positional argument: 'user_id'",
     "output_type": "error",
     "traceback": [
      "\u001b[0;31m---------------------------------------------------------------------------\u001b[0m",
      "\u001b[0;31mTypeError\u001b[0m                                 Traceback (most recent call last)",
      "\u001b[0;32m/var/folders/kb/v0p0ypbd0wx1q2qb1kpxmmcc0000gn/T/ipykernel_59098/336346681.py\u001b[0m in \u001b[0;36m<cell line: 1>\u001b[0;34m()\u001b[0m\n\u001b[0;32m----> 1\u001b[0;31m \u001b[0mgen_recipe_list\u001b[0m\u001b[0;34m(\u001b[0m\u001b[0mraw_interactions\u001b[0m\u001b[0;34m,\u001b[0m\u001b[0;36m1533\u001b[0m\u001b[0;34m)\u001b[0m\u001b[0;34m\u001b[0m\u001b[0;34m\u001b[0m\u001b[0m\n\u001b[0m",
      "\u001b[0;31mTypeError\u001b[0m: gen_recipe_list() missing 1 required positional argument: 'user_id'"
     ]
    }
   ],
   "source": [
    "gen_recipe_list(raw_interactions,1533)"
   ]
  },
  {
   "cell_type": "code",
   "execution_count": null,
   "id": "0e19a238",
   "metadata": {},
   "outputs": [],
   "source": [
    "gen_recipe_list(raw_interactions,1533)"
   ]
  },
  {
   "cell_type": "code",
   "execution_count": null,
   "id": "1f701375",
   "metadata": {},
   "outputs": [],
   "source": [
    "get_reccomendation_ids(model1,1533,gen_recipe_list(raw_interactions,1533),20)"
   ]
  },
  {
   "cell_type": "code",
   "execution_count": null,
   "id": "854d0464",
   "metadata": {},
   "outputs": [],
   "source": [
    "rec_ids = get_reccomendation_ids(model1,1533,gen_recipe_list(raw_interactions,1533),20)"
   ]
  },
  {
   "cell_type": "code",
   "execution_count": null,
   "id": "2992e632",
   "metadata": {},
   "outputs": [],
   "source": [
    "recipe_meta_map(recipe_metadata,rec_ids)"
   ]
  },
  {
   "cell_type": "markdown",
   "id": "1a66bbf2",
   "metadata": {},
   "source": [
    "### Test final function"
   ]
  },
  {
   "cell_type": "code",
   "execution_count": null,
   "id": "33053f71",
   "metadata": {},
   "outputs": [],
   "source": [
    "example_ingredients"
   ]
  },
  {
   "cell_type": "code",
   "execution_count": null,
   "id": "15270c3d",
   "metadata": {},
   "outputs": [],
   "source": [
    "#Read data\n",
    "raw_interactions = pd.read_csv(\"../../data/recommendation/RAW_interactions.csv\")\n",
    "recipe_metadata = pd.read_csv(\"../../data/recommendation/RAW_recipes.csv\")\n",
    "recipe_metadata['nutrition_list'] = recipe_metadata['nutrition'].apply(lambda x: ast.literal_eval(x))\n",
    "recipe_metadata['ingredients_list'] = recipe_metadata['ingredients'].apply(lambda x: ast.literal_eval(x))\n",
    "recipe_metadata[['calories', 'fat_dv', \"sugar_dv\", \\\n",
    "                     \"sodium_dv\", \"protein_dv\", \"sat_fat\", \"carbs_dv\"] \\\n",
    "               ] = pd.DataFrame(recipe_metadata.nutrition_list.tolist(), index=recipe_metadata.index)"
   ]
  },
  {
   "cell_type": "code",
   "execution_count": null,
   "id": "4277c571",
   "metadata": {},
   "outputs": [],
   "source": [
    "###Basic\n",
    "ad_final_reccom(1533,example_ingredients)"
   ]
  },
  {
   "cell_type": "code",
   "execution_count": null,
   "id": "2d18498c",
   "metadata": {},
   "outputs": [],
   "source": [
    "#Read data\n",
    "raw_interactions = pd.read_csv(\"../../data/recommendation/RAW_interactions.csv\")\n",
    "recipe_metadata = pd.read_csv(\"../../data/recommendation/RAW_recipes.csv\")\n",
    "recipe_metadata['nutrition_list'] = recipe_metadata['nutrition'].apply(lambda x: ast.literal_eval(x))\n",
    "recipe_metadata['ingredients_list'] = recipe_metadata['ingredients'].apply(lambda x: ast.literal_eval(x))\n",
    "recipe_metadata[['calories', 'fat_dv', \"sugar_dv\", \\\n",
    "                     \"sodium_dv\", \"protein_dv\", \"sat_fat\", \"carbs_dv\"]\\\n",
    "               ] = pd.DataFrame(recipe_metadata.nutrition_list.tolist(), index=recipe_metadata.index)"
   ]
  },
  {
   "cell_type": "code",
   "execution_count": null,
   "id": "c6cbfd80",
   "metadata": {},
   "outputs": [],
   "source": [
    "protein_mask = recipe_metadata[\"protein_dv\"]>20.0"
   ]
  },
  {
   "cell_type": "code",
   "execution_count": null,
   "id": "cdf905ce",
   "metadata": {},
   "outputs": [],
   "source": [
    "###Basic\n",
    "ad_final_reccom(1533,example_ingredients,raw_interactions, recipe_metadata)"
   ]
  },
  {
   "cell_type": "code",
   "execution_count": null,
   "id": "e64ddcec",
   "metadata": {},
   "outputs": [],
   "source": [
    "###With Protein mask\n",
    "ad_final_reccom(1533,example_ingredients,raw_interactions, recipe_metadata,\\\n",
    "                extra_filters=[protein_mask])"
   ]
  },
  {
   "cell_type": "code",
   "execution_count": null,
   "id": "3da5d451",
   "metadata": {},
   "outputs": [],
   "source": [
    "###With Protein mask\n",
    "ad_final_reccom(1533,example_ingredients,raw_interactions, recipe_metadata,\\\n",
    "                extra_filters=[protein_mask],threshold=0.4)"
   ]
  },
  {
   "cell_type": "code",
   "execution_count": null,
   "id": "4518b522",
   "metadata": {},
   "outputs": [],
   "source": [
    "###With Protein mask\n",
    "ad_final_reccom(1533,example_ingredients,raw_interactions, recipe_metadata,\\\n",
    "                extra_filters=[protein_mask],threshold=0.4)"
   ]
  }
 ],
 "metadata": {
  "kernelspec": {
   "display_name": "Python 3 (ipykernel)",
   "language": "python",
   "name": "python3"
  },
  "language_info": {
   "codemirror_mode": {
    "name": "ipython",
    "version": 3
   },
   "file_extension": ".py",
   "mimetype": "text/x-python",
   "name": "python",
   "nbconvert_exporter": "python",
   "pygments_lexer": "ipython3",
   "version": "3.9.13"
  }
 },
 "nbformat": 4,
 "nbformat_minor": 5
}
