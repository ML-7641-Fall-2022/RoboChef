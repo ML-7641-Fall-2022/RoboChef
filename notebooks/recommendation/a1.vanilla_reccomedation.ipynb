{
 "cells": [
  {
   "cell_type": "code",
   "execution_count": 1,
   "id": "591fb9a9",
   "metadata": {},
   "outputs": [
    {
     "name": "stdout",
     "output_type": "stream",
     "text": [
      "/Users/ashish1610dhiman/data_projects/fall22_hw/RoboChef/notebooks/recommendation\r\n"
     ]
    }
   ],
   "source": [
    "!pwd"
   ]
  },
  {
   "cell_type": "code",
   "execution_count": 2,
   "id": "ab1fd17d",
   "metadata": {},
   "outputs": [],
   "source": [
    "import pandas as pd\n",
    "from scipy import stats\n",
    "import numpy as np\n",
    "import matplotlib.pyplot as plt"
   ]
  },
  {
   "cell_type": "markdown",
   "id": "30a10bd2",
   "metadata": {},
   "source": [
    "### Steps\n",
    "1. Preprocess data into a matrix of Users x Recipees with entries as ratings\n",
    "2. Apply Matrix Factorisation and train a vanilla reccomedation"
   ]
  },
  {
   "cell_type": "code",
   "execution_count": 3,
   "id": "7125e9aa",
   "metadata": {},
   "outputs": [
    {
     "data": {
      "text/plain": [
       "(1132367, 5)"
      ]
     },
     "execution_count": 3,
     "metadata": {},
     "output_type": "execute_result"
    }
   ],
   "source": [
    "raw_interactions = pd.read_csv(\"../../data/recommendation/RAW_interactions.csv\")\n",
    "raw_interactions.shape"
   ]
  },
  {
   "cell_type": "code",
   "execution_count": 4,
   "id": "a2631ef1",
   "metadata": {},
   "outputs": [
    {
     "data": {
      "text/plain": [
       "user_id      226570\n",
       "recipe_id    231637\n",
       "dtype: int64"
      ]
     },
     "execution_count": 4,
     "metadata": {},
     "output_type": "execute_result"
    }
   ],
   "source": [
    "raw_interactions[[\"user_id\",\"recipe_id\"]].nunique()"
   ]
  },
  {
   "cell_type": "code",
   "execution_count": 35,
   "id": "b2f31a8f",
   "metadata": {},
   "outputs": [],
   "source": [
    "N_users = 226570\n",
    "N_Recipes = 231637"
   ]
  },
  {
   "cell_type": "code",
   "execution_count": 5,
   "id": "617d30eb",
   "metadata": {},
   "outputs": [
    {
     "data": {
      "text/html": [
       "<div>\n",
       "<style scoped>\n",
       "    .dataframe tbody tr th:only-of-type {\n",
       "        vertical-align: middle;\n",
       "    }\n",
       "\n",
       "    .dataframe tbody tr th {\n",
       "        vertical-align: top;\n",
       "    }\n",
       "\n",
       "    .dataframe thead th {\n",
       "        text-align: right;\n",
       "    }\n",
       "</style>\n",
       "<table border=\"1\" class=\"dataframe\">\n",
       "  <thead>\n",
       "    <tr style=\"text-align: right;\">\n",
       "      <th></th>\n",
       "      <th>user_id</th>\n",
       "      <th>recipe_id</th>\n",
       "      <th>date</th>\n",
       "      <th>rating</th>\n",
       "      <th>review</th>\n",
       "    </tr>\n",
       "  </thead>\n",
       "  <tbody>\n",
       "    <tr>\n",
       "      <th>0</th>\n",
       "      <td>38094</td>\n",
       "      <td>40893</td>\n",
       "      <td>2003-02-17</td>\n",
       "      <td>4</td>\n",
       "      <td>Great with a salad. Cooked on top of stove for...</td>\n",
       "    </tr>\n",
       "    <tr>\n",
       "      <th>1</th>\n",
       "      <td>1293707</td>\n",
       "      <td>40893</td>\n",
       "      <td>2011-12-21</td>\n",
       "      <td>5</td>\n",
       "      <td>So simple, so delicious! Great for chilly fall...</td>\n",
       "    </tr>\n",
       "    <tr>\n",
       "      <th>2</th>\n",
       "      <td>8937</td>\n",
       "      <td>44394</td>\n",
       "      <td>2002-12-01</td>\n",
       "      <td>4</td>\n",
       "      <td>This worked very well and is EASY.  I used not...</td>\n",
       "    </tr>\n",
       "    <tr>\n",
       "      <th>3</th>\n",
       "      <td>126440</td>\n",
       "      <td>85009</td>\n",
       "      <td>2010-02-27</td>\n",
       "      <td>5</td>\n",
       "      <td>I made the Mexican topping and took it to bunk...</td>\n",
       "    </tr>\n",
       "    <tr>\n",
       "      <th>4</th>\n",
       "      <td>57222</td>\n",
       "      <td>85009</td>\n",
       "      <td>2011-10-01</td>\n",
       "      <td>5</td>\n",
       "      <td>Made the cheddar bacon topping, adding a sprin...</td>\n",
       "    </tr>\n",
       "  </tbody>\n",
       "</table>\n",
       "</div>"
      ],
      "text/plain": [
       "   user_id  recipe_id        date  rating  \\\n",
       "0    38094      40893  2003-02-17       4   \n",
       "1  1293707      40893  2011-12-21       5   \n",
       "2     8937      44394  2002-12-01       4   \n",
       "3   126440      85009  2010-02-27       5   \n",
       "4    57222      85009  2011-10-01       5   \n",
       "\n",
       "                                              review  \n",
       "0  Great with a salad. Cooked on top of stove for...  \n",
       "1  So simple, so delicious! Great for chilly fall...  \n",
       "2  This worked very well and is EASY.  I used not...  \n",
       "3  I made the Mexican topping and took it to bunk...  \n",
       "4  Made the cheddar bacon topping, adding a sprin...  "
      ]
     },
     "execution_count": 5,
     "metadata": {},
     "output_type": "execute_result"
    }
   ],
   "source": [
    "raw_interactions.head(5)"
   ]
  },
  {
   "cell_type": "markdown",
   "id": "310d08d1",
   "metadata": {},
   "source": [
    "### Estimated Sparsity"
   ]
  },
  {
   "cell_type": "code",
   "execution_count": 6,
   "id": "7a4a685c",
   "metadata": {},
   "outputs": [
    {
     "data": {
      "text/plain": [
       "user_id      226570\n",
       "recipe_id    231637\n",
       "dtype: int64"
      ]
     },
     "execution_count": 6,
     "metadata": {},
     "output_type": "execute_result"
    }
   ],
   "source": [
    "raw_interactions[[\"user_id\",\"recipe_id\"]].nunique()"
   ]
  },
  {
   "cell_type": "code",
   "execution_count": 7,
   "id": "aa1d7c27",
   "metadata": {},
   "outputs": [
    {
     "data": {
      "text/plain": [
       "0"
      ]
     },
     "execution_count": 7,
     "metadata": {},
     "output_type": "execute_result"
    }
   ],
   "source": [
    "sum(raw_interactions[\"rating\"].isna())"
   ]
  },
  {
   "cell_type": "code",
   "execution_count": 8,
   "id": "a630adea",
   "metadata": {},
   "outputs": [
    {
     "data": {
      "text/plain": [
       "user_id      1132367\n",
       "recipe_id    1132367\n",
       "dtype: int64"
      ]
     },
     "execution_count": 8,
     "metadata": {},
     "output_type": "execute_result"
    }
   ],
   "source": [
    "raw_interactions[[\"user_id\",\"recipe_id\"]].drop_duplicates().count()"
   ]
  },
  {
   "cell_type": "code",
   "execution_count": 36,
   "id": "86f67780",
   "metadata": {},
   "outputs": [
    {
     "name": "stdout",
     "output_type": "stream",
     "text": [
      "Sparsity in data 99.997842371%\n"
     ]
    }
   ],
   "source": [
    "sparsity = 1- (1132367/(N_users*N_Recipes))\n",
    "print (f\"Sparsity in data {sparsity:.9%}\")"
   ]
  },
  {
   "cell_type": "markdown",
   "id": "ebf2b4db",
   "metadata": {},
   "source": [
    "### Filter for active users first, where active measured basis number of dishes rated"
   ]
  },
  {
   "cell_type": "code",
   "execution_count": 10,
   "id": "b9894125",
   "metadata": {},
   "outputs": [
    {
     "data": {
      "text/html": [
       "<div>\n",
       "<style scoped>\n",
       "    .dataframe tbody tr th:only-of-type {\n",
       "        vertical-align: middle;\n",
       "    }\n",
       "\n",
       "    .dataframe tbody tr th {\n",
       "        vertical-align: top;\n",
       "    }\n",
       "\n",
       "    .dataframe thead tr th {\n",
       "        text-align: left;\n",
       "    }\n",
       "\n",
       "    .dataframe thead tr:last-of-type th {\n",
       "        text-align: right;\n",
       "    }\n",
       "</style>\n",
       "<table border=\"1\" class=\"dataframe\">\n",
       "  <thead>\n",
       "    <tr>\n",
       "      <th></th>\n",
       "      <th>recipe_id</th>\n",
       "      <th>rating</th>\n",
       "      <th colspan=\"2\" halign=\"left\">date1</th>\n",
       "    </tr>\n",
       "    <tr>\n",
       "      <th></th>\n",
       "      <th>count</th>\n",
       "      <th>mean</th>\n",
       "      <th>max</th>\n",
       "      <th>min</th>\n",
       "    </tr>\n",
       "    <tr>\n",
       "      <th>user_id</th>\n",
       "      <th></th>\n",
       "      <th></th>\n",
       "      <th></th>\n",
       "      <th></th>\n",
       "    </tr>\n",
       "  </thead>\n",
       "  <tbody>\n",
       "    <tr>\n",
       "      <th>1533</th>\n",
       "      <td>128</td>\n",
       "      <td>4.710938</td>\n",
       "      <td>2008-03-01</td>\n",
       "      <td>2002-02-19</td>\n",
       "    </tr>\n",
       "    <tr>\n",
       "      <th>1535</th>\n",
       "      <td>794</td>\n",
       "      <td>4.473552</td>\n",
       "      <td>2018-03-03</td>\n",
       "      <td>2004-05-22</td>\n",
       "    </tr>\n",
       "    <tr>\n",
       "      <th>1581</th>\n",
       "      <td>1</td>\n",
       "      <td>5.000000</td>\n",
       "      <td>2013-11-11</td>\n",
       "      <td>2013-11-11</td>\n",
       "    </tr>\n",
       "    <tr>\n",
       "      <th>1634</th>\n",
       "      <td>60</td>\n",
       "      <td>3.616667</td>\n",
       "      <td>2011-03-09</td>\n",
       "      <td>2001-07-02</td>\n",
       "    </tr>\n",
       "    <tr>\n",
       "      <th>1676</th>\n",
       "      <td>31</td>\n",
       "      <td>4.677419</td>\n",
       "      <td>2014-07-09</td>\n",
       "      <td>2002-07-24</td>\n",
       "    </tr>\n",
       "  </tbody>\n",
       "</table>\n",
       "</div>"
      ],
      "text/plain": [
       "        recipe_id    rating      date1           \n",
       "            count      mean        max        min\n",
       "user_id                                          \n",
       "1533          128  4.710938 2008-03-01 2002-02-19\n",
       "1535          794  4.473552 2018-03-03 2004-05-22\n",
       "1581            1  5.000000 2013-11-11 2013-11-11\n",
       "1634           60  3.616667 2011-03-09 2001-07-02\n",
       "1676           31  4.677419 2014-07-09 2002-07-24"
      ]
     },
     "execution_count": 10,
     "metadata": {},
     "output_type": "execute_result"
    }
   ],
   "source": [
    "raw_interactions[\"date1\"]=pd.to_datetime(raw_interactions[\"date\"])\n",
    "\n",
    "user_grp = raw_interactions.groupby(\"user_id\").agg({\"recipe_id\":\"count\",\\\n",
    "                                                   \"rating\":\"mean\",\\\n",
    "                                                   \"date1\":[\"max\",\"min\"]})\n",
    "user_grp.head()"
   ]
  },
  {
   "cell_type": "code",
   "execution_count": 11,
   "id": "c7a6552e",
   "metadata": {},
   "outputs": [
    {
     "data": {
      "text/plain": [
       "<AxesSubplot: >"
      ]
     },
     "execution_count": 11,
     "metadata": {},
     "output_type": "execute_result"
    },
    {
     "data": {
      "image/png": "[encoded data removed]",
      "text/plain": [
       "<Figure size 640x480 with 1 Axes>"
      ]
     },
     "metadata": {},
     "output_type": "display_data"
    }
   ],
   "source": [
    "user_grp[(\"recipe_id\",\"count\")].hist()"
   ]
  },
  {
   "cell_type": "code",
   "execution_count": 12,
   "id": "21a30130",
   "metadata": {},
   "outputs": [
    {
     "data": {
      "text/plain": [
       "dtype('int64')"
      ]
     },
     "execution_count": 12,
     "metadata": {},
     "output_type": "execute_result"
    }
   ],
   "source": [
    "user_grp[(\"recipe_id\",\"count\")].dtype"
   ]
  },
  {
   "cell_type": "code",
   "execution_count": 13,
   "id": "e7a68b26",
   "metadata": {},
   "outputs": [
    {
     "data": {
      "text/html": [
       "<div>\n",
       "<style scoped>\n",
       "    .dataframe tbody tr th:only-of-type {\n",
       "        vertical-align: middle;\n",
       "    }\n",
       "\n",
       "    .dataframe tbody tr th {\n",
       "        vertical-align: top;\n",
       "    }\n",
       "\n",
       "    .dataframe thead tr th {\n",
       "        text-align: left;\n",
       "    }\n",
       "</style>\n",
       "<table border=\"1\" class=\"dataframe\">\n",
       "  <thead>\n",
       "    <tr>\n",
       "      <th></th>\n",
       "      <th>recipe_id</th>\n",
       "    </tr>\n",
       "    <tr>\n",
       "      <th></th>\n",
       "      <th>count</th>\n",
       "    </tr>\n",
       "  </thead>\n",
       "  <tbody>\n",
       "    <tr>\n",
       "      <th>0.1</th>\n",
       "      <td>1.0</td>\n",
       "    </tr>\n",
       "    <tr>\n",
       "      <th>0.2</th>\n",
       "      <td>1.0</td>\n",
       "    </tr>\n",
       "    <tr>\n",
       "      <th>0.3</th>\n",
       "      <td>1.0</td>\n",
       "    </tr>\n",
       "    <tr>\n",
       "      <th>0.4</th>\n",
       "      <td>1.0</td>\n",
       "    </tr>\n",
       "    <tr>\n",
       "      <th>0.5</th>\n",
       "      <td>1.0</td>\n",
       "    </tr>\n",
       "    <tr>\n",
       "      <th>0.6</th>\n",
       "      <td>1.0</td>\n",
       "    </tr>\n",
       "    <tr>\n",
       "      <th>0.7</th>\n",
       "      <td>1.0</td>\n",
       "    </tr>\n",
       "    <tr>\n",
       "      <th>0.8</th>\n",
       "      <td>2.0</td>\n",
       "    </tr>\n",
       "    <tr>\n",
       "      <th>0.9</th>\n",
       "      <td>5.0</td>\n",
       "    </tr>\n",
       "    <tr>\n",
       "      <th>1.0</th>\n",
       "      <td>7671.0</td>\n",
       "    </tr>\n",
       "  </tbody>\n",
       "</table>\n",
       "</div>"
      ],
      "text/plain": [
       "    recipe_id\n",
       "        count\n",
       "0.1       1.0\n",
       "0.2       1.0\n",
       "0.3       1.0\n",
       "0.4       1.0\n",
       "0.5       1.0\n",
       "0.6       1.0\n",
       "0.7       1.0\n",
       "0.8       2.0\n",
       "0.9       5.0\n",
       "1.0    7671.0"
      ]
     },
     "execution_count": 13,
     "metadata": {},
     "output_type": "execute_result"
    }
   ],
   "source": [
    "user_grp[[(\"recipe_id\",\"count\")]].quantile([0.1,0.2,0.3,0.4,0.5,0.6,0.7,0.8,0.9,1])"
   ]
  },
  {
   "cell_type": "code",
   "execution_count": 37,
   "id": "22e29cfd",
   "metadata": {},
   "outputs": [
    {
     "name": "stdout",
     "output_type": "stream",
     "text": [
      "users remianing= 60314,%users remaining = 26.620%\n"
     ]
    },
    {
     "data": {
      "text/plain": [
       "user_id       60314\n",
       "recipe_id    219357\n",
       "dtype: int64"
      ]
     },
     "execution_count": 37,
     "metadata": {},
     "output_type": "execute_result"
    }
   ],
   "source": [
    "active_users = user_grp[(\"recipe_id\",\"count\")] >= 2\n",
    "n_active_users = sum(active_users)\n",
    "print (f\"users remianing= {n_active_users},%users remaining = {n_active_users/N_users:.3%}\")\n",
    "\n",
    "user_grp_active = user_grp[active_users]\n",
    "user_grp_active.columns = [\"recipe_cnt\",\"rating_mean\",\"date1_max\",\"date1_min\"]\n",
    "\n",
    "active_user_interactions = user_grp_active.merge(raw_interactions,\\\n",
    "                                                  left_index = True, right_on = \"user_id\")\n",
    "active_user_interactions[[\"user_id\",\"recipe_id\"]].nunique()"
   ]
  },
  {
   "cell_type": "code",
   "execution_count": 39,
   "id": "34b8e442",
   "metadata": {},
   "outputs": [
    {
     "name": "stdout",
     "output_type": "stream",
     "text": [
      "%recipee coverage = 94.699%\n"
     ]
    }
   ],
   "source": [
    "n_recipes = 219357\n",
    "print (f\"%recipee coverage = {n_recipes/N_Recipes:.3%}\")"
   ]
  },
  {
   "cell_type": "code",
   "execution_count": 16,
   "id": "737b0a3f",
   "metadata": {},
   "outputs": [
    {
     "data": {
      "text/plain": [
       "user_id      966111\n",
       "recipe_id    966111\n",
       "dtype: int64"
      ]
     },
     "execution_count": 16,
     "metadata": {},
     "output_type": "execute_result"
    }
   ],
   "source": [
    "active_user_interactions[[\"user_id\",\"recipe_id\"]].drop_duplicates().count()"
   ]
  },
  {
   "cell_type": "code",
   "execution_count": 17,
   "id": "ff435cdc",
   "metadata": {},
   "outputs": [
    {
     "name": "stdout",
     "output_type": "stream",
     "text": [
      "Sparsity in active user data 99.992697738%\n"
     ]
    }
   ],
   "source": [
    "sparsity1 = 1- (966111/(60314*219357))\n",
    "print (f\"Sparsity in active user data {sparsity1:.9%}\")"
   ]
  },
  {
   "cell_type": "markdown",
   "id": "a18aca62",
   "metadata": {},
   "source": [
    "### Further subset active recipees, where active defined by the most recent rating in a given threshold of time"
   ]
  },
  {
   "cell_type": "code",
   "execution_count": 18,
   "id": "7d9a2f04",
   "metadata": {},
   "outputs": [
    {
     "data": {
      "text/html": [
       "<div>\n",
       "<style scoped>\n",
       "    .dataframe tbody tr th:only-of-type {\n",
       "        vertical-align: middle;\n",
       "    }\n",
       "\n",
       "    .dataframe tbody tr th {\n",
       "        vertical-align: top;\n",
       "    }\n",
       "\n",
       "    .dataframe thead tr th {\n",
       "        text-align: left;\n",
       "    }\n",
       "\n",
       "    .dataframe thead tr:last-of-type th {\n",
       "        text-align: right;\n",
       "    }\n",
       "</style>\n",
       "<table border=\"1\" class=\"dataframe\">\n",
       "  <thead>\n",
       "    <tr>\n",
       "      <th></th>\n",
       "      <th>user_id</th>\n",
       "      <th>rating</th>\n",
       "      <th colspan=\"2\" halign=\"left\">date1</th>\n",
       "    </tr>\n",
       "    <tr>\n",
       "      <th></th>\n",
       "      <th>count</th>\n",
       "      <th>mean</th>\n",
       "      <th>max</th>\n",
       "      <th>min</th>\n",
       "    </tr>\n",
       "    <tr>\n",
       "      <th>recipe_id</th>\n",
       "      <th></th>\n",
       "      <th></th>\n",
       "      <th></th>\n",
       "      <th></th>\n",
       "    </tr>\n",
       "  </thead>\n",
       "  <tbody>\n",
       "    <tr>\n",
       "      <th>38</th>\n",
       "      <td>3</td>\n",
       "      <td>4.333333</td>\n",
       "      <td>2014-08-14</td>\n",
       "      <td>2008-02-13</td>\n",
       "    </tr>\n",
       "    <tr>\n",
       "      <th>39</th>\n",
       "      <td>1</td>\n",
       "      <td>3.000000</td>\n",
       "      <td>2007-01-20</td>\n",
       "      <td>2007-01-20</td>\n",
       "    </tr>\n",
       "    <tr>\n",
       "      <th>40</th>\n",
       "      <td>7</td>\n",
       "      <td>4.142857</td>\n",
       "      <td>2010-05-23</td>\n",
       "      <td>2002-12-18</td>\n",
       "    </tr>\n",
       "    <tr>\n",
       "      <th>41</th>\n",
       "      <td>2</td>\n",
       "      <td>4.500000</td>\n",
       "      <td>2009-01-26</td>\n",
       "      <td>2003-04-13</td>\n",
       "    </tr>\n",
       "    <tr>\n",
       "      <th>43</th>\n",
       "      <td>1</td>\n",
       "      <td>1.000000</td>\n",
       "      <td>2009-02-07</td>\n",
       "      <td>2009-02-07</td>\n",
       "    </tr>\n",
       "  </tbody>\n",
       "</table>\n",
       "</div>"
      ],
      "text/plain": [
       "          user_id    rating      date1           \n",
       "            count      mean        max        min\n",
       "recipe_id                                        \n",
       "38              3  4.333333 2014-08-14 2008-02-13\n",
       "39              1  3.000000 2007-01-20 2007-01-20\n",
       "40              7  4.142857 2010-05-23 2002-12-18\n",
       "41              2  4.500000 2009-01-26 2003-04-13\n",
       "43              1  1.000000 2009-02-07 2009-02-07"
      ]
     },
     "execution_count": 18,
     "metadata": {},
     "output_type": "execute_result"
    }
   ],
   "source": [
    "recipe_grp = active_user_interactions.groupby(\"recipe_id\").agg({\"user_id\":\"count\",\\\n",
    "                                                   \"rating\":\"mean\",\\\n",
    "                                                   \"date1\":[\"max\",\"min\"]})\n",
    "recipe_grp.head()"
   ]
  },
  {
   "cell_type": "code",
   "execution_count": 32,
   "id": "aab7c6a3",
   "metadata": {},
   "outputs": [],
   "source": [
    "days_since = pd.to_datetime('today') - recipe_grp[(\"date1\",\"max\")]\n",
    "recipe_grp[\"yrs_since_today\"] = days_since.apply(lambda x: x.days/365)"
   ]
  },
  {
   "cell_type": "code",
   "execution_count": 33,
   "id": "c337601e",
   "metadata": {},
   "outputs": [
    {
     "data": {
      "text/plain": [
       "<AxesSubplot: >"
      ]
     },
     "execution_count": 33,
     "metadata": {},
     "output_type": "execute_result"
    },
    {
     "data": {
      "image/png": "[encoded data removed]",
      "text/plain": [
       "<Figure size 640x480 with 1 Axes>"
      ]
     },
     "metadata": {},
     "output_type": "display_data"
    }
   ],
   "source": [
    "recipe_grp[\"yrs_since_today\"].hist()"
   ]
  },
  {
   "cell_type": "code",
   "execution_count": 34,
   "id": "dee302de",
   "metadata": {},
   "outputs": [
    {
     "data": {
      "text/plain": [
       "0.1     8.271233\n",
       "0.2     9.810959\n",
       "0.3    11.043836\n",
       "0.4    12.024658\n",
       "0.5    12.810959\n",
       "0.6    13.482192\n",
       "0.7    14.169863\n",
       "0.8    15.021918\n",
       "0.9    16.342466\n",
       "1.0    22.060274\n",
       "Name: yrs_since_today, dtype: float64"
      ]
     },
     "execution_count": 34,
     "metadata": {},
     "output_type": "execute_result"
    }
   ],
   "source": [
    "recipe_grp[\"yrs_since_today\"].quantile([0.1,0.2,0.3,0.4,0.5,0.6,0.7,0.8,0.9,1])"
   ]
  },
  {
   "cell_type": "code",
   "execution_count": 45,
   "id": "edfad845",
   "metadata": {},
   "outputs": [
    {
     "name": "stdout",
     "output_type": "stream",
     "text": [
      "recipes remianing= 87319,%recipees remaining = 37.696%\n"
     ]
    },
    {
     "data": {
      "text/plain": [
       "user_id      57304\n",
       "recipe_id    87319\n",
       "dtype: int64"
      ]
     },
     "execution_count": 45,
     "metadata": {},
     "output_type": "execute_result"
    }
   ],
   "source": [
    "active_recipes = recipe_grp[\"yrs_since_today\"] <= 12\n",
    "n_active_recipes = sum(active_recipes)\n",
    "print (f\"recipes remianing= {n_active_recipes},%recipees remaining = {n_active_recipes/N_Recipes:.3%}\")\n",
    "\n",
    "recipe_grp_active = recipe_grp[active_recipes][[\"yrs_since_today\"]]\n",
    "recipe_grp_active.columns = [\"yrs_since_today\"]\n",
    "\n",
    "active_user_recipe_interactions = recipe_grp_active.merge(active_user_interactions,\\\n",
    "                                                  left_index = True, right_on = \"recipe_id\")\n",
    "active_user_recipe_interactions[[\"user_id\",\"recipe_id\"]].nunique()"
   ]
  },
  {
   "cell_type": "code",
   "execution_count": 47,
   "id": "8b2b39fb",
   "metadata": {},
   "outputs": [
    {
     "name": "stdout",
     "output_type": "stream",
     "text": [
      "%User coverage = 25.292%\n"
     ]
    }
   ],
   "source": [
    "n_users1 = 57304\n",
    "print (f\"%User coverage = {n_users1/N_users:.3%}\")"
   ]
  },
  {
   "cell_type": "markdown",
   "id": "f3114df3",
   "metadata": {},
   "source": [
    "### Build User Rating Matrix on the active user list"
   ]
  },
  {
   "cell_type": "code",
   "execution_count": 49,
   "id": "90024d1c",
   "metadata": {},
   "outputs": [],
   "source": [
    "# rating_matrix = pd.pivot_table(active_user_recipe_interactions,index=[\"user_id\"],\\\n",
    "#                               columns=[\"recipe_id\"],values=[\"rating\"])"
   ]
  },
  {
   "cell_type": "code",
   "execution_count": null,
   "id": "eb2588a2",
   "metadata": {},
   "outputs": [],
   "source": []
  },
  {
   "cell_type": "code",
   "execution_count": null,
   "id": "affb5af8",
   "metadata": {},
   "outputs": [],
   "source": []
  },
  {
   "cell_type": "code",
   "execution_count": null,
   "id": "ac264b6c",
   "metadata": {},
   "outputs": [],
   "source": []
  },
  {
   "cell_type": "code",
   "execution_count": null,
   "id": "13281897",
   "metadata": {},
   "outputs": [],
   "source": []
  },
  {
   "cell_type": "code",
   "execution_count": null,
   "id": "f5437f93",
   "metadata": {},
   "outputs": [],
   "source": []
  },
  {
   "cell_type": "code",
   "execution_count": 8,
   "id": "9296dd88",
   "metadata": {},
   "outputs": [],
   "source": []
  }
 ],
 "metadata": {
  "kernelspec": {
   "display_name": "ml_project_env",
   "language": "python",
   "name": "ml_project_env"
  },
  "language_info": {
   "codemirror_mode": {
    "name": "ipython",
    "version": 3
   },
   "file_extension": ".py",
   "mimetype": "text/x-python",
   "name": "python",
   "nbconvert_exporter": "python",
   "pygments_lexer": "ipython3",
   "version": "3.9.13"
  }
 },
 "nbformat": 4,
 "nbformat_minor": 5
}
